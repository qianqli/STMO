{
 "cells": [
  {
   "cell_type": "markdown",
   "metadata": {},
   "source": [
    "# Getting started with Julia\n",
    "### Michiel Stock, Bram De Jaegher, Daan Van Hauwermeiren\n",
    "### 2019-2020\n",
    "# Basic computing\n",
    "Let's get started with the basics. Some mathematical operations,"
   ]
  },
  {
   "cell_type": "code",
   "execution_count": 1,
   "metadata": {},
   "outputs": [
    {
     "data": {
      "text/plain": [
       "3"
      ]
     },
     "execution_count": 1,
     "metadata": {},
     "output_type": "execute_result"
    }
   ],
   "source": [
    "1 + 2       # adding integers, sum of twoo interger"
   ]
  },
  {
   "cell_type": "code",
   "execution_count": 2,
   "metadata": {},
   "outputs": [
    {
     "data": {
      "text/plain": [
       "3.0"
      ]
     },
     "execution_count": 2,
     "metadata": {},
     "output_type": "execute_result"
    }
   ],
   "source": [
    "1.0 + 2.0   # adding floats, sum of two float"
   ]
  },
  {
   "cell_type": "code",
   "execution_count": 3,
   "metadata": {},
   "outputs": [
    {
     "data": {
      "text/plain": [
       "0.5"
      ]
     },
     "execution_count": 3,
     "metadata": {},
     "output_type": "execute_result"
    }
   ],
   "source": [
    "2 / 4       # standard division,  the result is float"
   ]
  },
  {
   "cell_type": "code",
   "execution_count": 4,
   "metadata": {},
   "outputs": [
    {
     "data": {
      "text/plain": [
       "0"
      ]
     },
     "execution_count": 4,
     "metadata": {},
     "output_type": "execute_result"
    }
   ],
   "source": [
    "div(2, 4)   # Computes 2/4 truncated to an integer, the result is interger\n",
    "2 ÷ 4"
   ]
  },
  {
   "cell_type": "code",
   "execution_count": 5,
   "metadata": {},
   "outputs": [
    {
     "data": {
      "text/plain": [
       "2"
      ]
     },
     "execution_count": 5,
     "metadata": {},
     "output_type": "execute_result"
    }
   ],
   "source": [
    "div(4, 2)   # similar with above, just to check"
   ]
  },
  {
   "cell_type": "code",
   "execution_count": 6,
   "metadata": {},
   "outputs": [
    {
     "data": {
      "text/plain": [
       "1"
      ]
     },
     "execution_count": 6,
     "metadata": {},
     "output_type": "execute_result"
    }
   ],
   "source": [
    "7 % 3       # get the remainder of the integer division, module"
   ]
  },
  {
   "cell_type": "code",
   "execution_count": 7,
   "metadata": {},
   "outputs": [
    {
     "data": {
      "text/plain": [
       "0.2"
      ]
     },
     "execution_count": 7,
     "metadata": {},
     "output_type": "execute_result"
    }
   ],
   "source": [
    "35 \\ 7      # inverse division"
   ]
  },
  {
   "cell_type": "code",
   "execution_count": 8,
   "metadata": {},
   "outputs": [
    {
     "data": {
      "text/plain": [
       "1//3"
      ]
     },
     "execution_count": 8,
     "metadata": {},
     "output_type": "execute_result"
    }
   ],
   "source": [
    "1 // 3      # fractions"
   ]
  },
  {
   "cell_type": "code",
   "execution_count": 9,
   "metadata": {},
   "outputs": [
    {
     "data": {
      "text/plain": [
       "3//4"
      ]
     },
     "execution_count": 9,
     "metadata": {},
     "output_type": "execute_result"
    }
   ],
   "source": [
    "1//2 + 1//4 # sum of fractions"
   ]
  },
  {
   "cell_type": "code",
   "execution_count": 24,
   "metadata": {},
   "outputs": [
    {
     "data": {
      "text/plain": [
       "Char"
      ]
     },
     "execution_count": 24,
     "metadata": {},
     "output_type": "execute_result"
    }
   ],
   "source": [
    "'c'        # characters (unicode)\n",
    "typeof('c')"
   ]
  },
  {
   "cell_type": "code",
   "execution_count": 22,
   "metadata": {},
   "outputs": [
    {
     "data": {
      "text/plain": [
       "String"
      ]
     },
     "execution_count": 22,
     "metadata": {},
     "output_type": "execute_result"
    }
   ],
   "source": [
    "typeof(\"c\")      # string"
   ]
  },
  {
   "cell_type": "code",
   "execution_count": 25,
   "metadata": {},
   "outputs": [
    {
     "data": {
      "text/plain": [
       ":symbol"
      ]
     },
     "execution_count": 25,
     "metadata": {},
     "output_type": "execute_result"
    }
   ],
   "source": [
    ":symbol    # symbols, mostly used for macros"
   ]
  },
  {
   "cell_type": "markdown",
   "metadata": {},
   "source": [
    "variable assignment - using \"=\""
   ]
  },
  {
   "cell_type": "code",
   "execution_count": 26,
   "metadata": {},
   "outputs": [
    {
     "data": {
      "text/plain": [
       "2"
      ]
     },
     "execution_count": 26,
     "metadata": {},
     "output_type": "execute_result"
    }
   ],
   "source": [
    "x = 2"
   ]
  },
  {
   "cell_type": "code",
   "execution_count": 27,
   "metadata": {},
   "outputs": [
    {
     "data": {
      "text/plain": [
       "0.02702702702702703"
      ]
     },
     "execution_count": 27,
     "metadata": {},
     "output_type": "execute_result"
    }
   ],
   "source": [
    "τ = 1 / 37  # unicode variable names are allowed"
   ]
  },
  {
   "cell_type": "markdown",
   "metadata": {},
   "source": [
    "unicode! In most Julia editing environments, unicode math symbols can be typed when starting with a '\\\\' and hitting [TAB]."
   ]
  },
  {
   "cell_type": "code",
   "execution_count": null,
   "metadata": {},
   "outputs": [],
   "source": [
    "# type \\alpha  and <TAB>, how to get some unicode in Julia\n",
    "α"
   ]
  },
  {
   "cell_type": "markdown",
   "metadata": {},
   "source": [
    "Operators are overrated."
   ]
  },
  {
   "cell_type": "code",
   "execution_count": 28,
   "metadata": {},
   "outputs": [
    {
     "data": {
      "text/plain": [
       "10"
      ]
     },
     "execution_count": 28,
     "metadata": {},
     "output_type": "execute_result"
    }
   ],
   "source": [
    "5x         # This works"
   ]
  },
  {
   "cell_type": "markdown",
   "metadata": {},
   "source": [
    "But strings are quite essential,"
   ]
  },
  {
   "cell_type": "code",
   "execution_count": 29,
   "metadata": {},
   "outputs": [
    {
     "data": {
      "text/plain": [
       "\"life, the universe and everything\""
      ]
     },
     "execution_count": 29,
     "metadata": {},
     "output_type": "execute_result"
    }
   ],
   "source": [
    "mystery = \"life, the universe and everything\""
   ]
  },
  {
   "cell_type": "markdown",
   "metadata": {},
   "source": [
    "and string interpolation is performed with `$`."
   ]
  },
  {
   "cell_type": "code",
   "execution_count": 30,
   "metadata": {},
   "outputs": [
    {
     "name": "stdout",
     "output_type": "stream",
     "text": [
      "The answer to life, the universe and everything is 42\n"
     ]
    }
   ],
   "source": [
    "println(\"The answer to $mystery is $(3*2*7)\")   # get the value of a variable using $"
   ]
  },
  {
   "cell_type": "markdown",
   "metadata": {},
   "source": [
    "repetitions of strings can be done using the operators `*` and `^`.\n",
    "This use of `*` and `^` makes sense by analogy with multiplication and exponentiation. Just as `4^3` is equivalent to `4*4*4`, we expect `\"Spam\"^3` to be the same as `\"Spam\"*\"Spam\"*\"Spam\"`, and it is."
   ]
  },
  {
   "cell_type": "code",
   "execution_count": 31,
   "metadata": {},
   "outputs": [
    {
     "name": "stdout",
     "output_type": "stream",
     "text": [
      "eggsSPAM\n",
      "eggsSPAMSPAMSPAMeggs\n"
     ]
    }
   ],
   "source": [
    "breakfast = \"eggs\"    # for string operators, * and ^ works, while '+' does not work.\n",
    "abetterbreakfast = \"SPAM\"\n",
    "println(breakfast * abetterbreakfast)\n",
    "println(breakfast * abetterbreakfast^3 * breakfast)"
   ]
  },
  {
   "cell_type": "code",
   "execution_count": 33,
   "metadata": {},
   "outputs": [
    {
     "ename": "MethodError",
     "evalue": "MethodError: no method matching +(::String, ::String)\nClosest candidates are:\n  +(::Any, ::Any, !Matched::Any, !Matched::Any...) at operators.jl:538",
     "output_type": "error",
     "traceback": [
      "MethodError: no method matching +(::String, ::String)\nClosest candidates are:\n  +(::Any, ::Any, !Matched::Any, !Matched::Any...) at operators.jl:538",
      "",
      "Stacktrace:",
      " [1] top-level scope at In[33]:1"
     ]
    }
   ],
   "source": [
    "breakfast + abetterbreakfast   # '+' does not work"
   ]
  },
  {
   "cell_type": "markdown",
   "metadata": {},
   "source": [
    "Lots of handy ´String`-operations are available in the standard library of Julia:"
   ]
  },
  {
   "cell_type": "code",
   "execution_count": 34,
   "metadata": {},
   "outputs": [
    {
     "data": {
      "text/plain": [
       "\"THIS FEELS LIKE SHOUTING.\""
      ]
     },
     "execution_count": 34,
     "metadata": {},
     "output_type": "execute_result"
    }
   ],
   "source": [
    "uppercase(\"This feels like shouting.\")   # uppercase all the character of the string"
   ]
  },
  {
   "cell_type": "code",
   "execution_count": 35,
   "metadata": {},
   "outputs": [
    {
     "data": {
      "text/plain": [
       "2:2"
      ]
     },
     "execution_count": 35,
     "metadata": {},
     "output_type": "execute_result"
    }
   ],
   "source": [
    "findfirst(\"a\", \"banana\")   # find the first occurence of the character "
   ]
  },
  {
   "cell_type": "code",
   "execution_count": 36,
   "metadata": {},
   "outputs": [
    {
     "data": {
      "text/plain": [
       "3:4"
      ]
     },
     "execution_count": 36,
     "metadata": {},
     "output_type": "execute_result"
    }
   ],
   "source": [
    "findfirst(\"na\", \"banana\")"
   ]
  },
  {
   "cell_type": "code",
   "execution_count": 37,
   "metadata": {},
   "outputs": [
    {
     "data": {
      "text/plain": [
       "5:6"
      ]
     },
     "execution_count": 37,
     "metadata": {},
     "output_type": "execute_result"
    }
   ],
   "source": [
    "findnext(\"na\", \"banana\", 4)  # find the occurence start from the given position"
   ]
  },
  {
   "cell_type": "markdown",
   "metadata": {},
   "source": [
    "Unlike `Strings´, a  `Char` value represents a single character and is surrounded by single quotes."
   ]
  },
  {
   "cell_type": "code",
   "execution_count": 38,
   "metadata": {},
   "outputs": [
    {
     "data": {
      "text/plain": [
       "'x': ASCII/Unicode U+0078 (category Ll: Letter, lowercase)"
      ]
     },
     "execution_count": 38,
     "metadata": {},
     "output_type": "execute_result"
    }
   ],
   "source": [
    "'x'"
   ]
  },
  {
   "cell_type": "markdown",
   "metadata": {},
   "source": [
    "The operator `∈` (\\in TAB) is a boolean operator that takes a character and a string and returns true if the first appears in the second:"
   ]
  },
  {
   "cell_type": "code",
   "execution_count": 39,
   "metadata": {},
   "outputs": [
    {
     "data": {
      "text/plain": [
       "true"
      ]
     },
     "execution_count": 39,
     "metadata": {},
     "output_type": "execute_result"
    }
   ],
   "source": [
    "'a' ∈ \"banana\""
   ]
  },
  {
   "cell_type": "code",
   "execution_count": 40,
   "metadata": {},
   "outputs": [
    {
     "name": "stdout",
     "output_type": "stream",
     "text": [
      "\"\u001b[36m∈\u001b[39m\" can be typed by \u001b[36m\\in<tab>\u001b[39m\n",
      "\n",
      "search: \u001b[0m\u001b[1m∈\u001b[22m\n",
      "\n"
     ]
    },
    {
     "data": {
      "text/latex": [
       "\\begin{verbatim}\n",
       "in(x)\n",
       "\\end{verbatim}\n",
       "Create a function that checks whether its argument is \\href{@ref}{\\texttt{in}} \\texttt{x}, i.e. a function equivalent to \\texttt{y -> y in x}.\n",
       "\n",
       "The returned function is of type \\texttt{Base.Fix2\\{typeof(in)\\}}, which can be used to implement specialized methods.\n",
       "\n",
       "\\rule{\\textwidth}{1pt}\n",
       "\\begin{verbatim}\n",
       "in(item, collection) -> Bool\n",
       "∈(item, collection) -> Bool\n",
       "∋(collection, item) -> Bool\n",
       "\\end{verbatim}\n",
       "Determine whether an item is in the given collection, in the sense that it is \\href{@ref}{\\texttt{==}} to one of the values generated by iterating over the collection. Returns a \\texttt{Bool} value, except if \\texttt{item} is \\href{@ref}{\\texttt{missing}} or \\texttt{collection} contains \\texttt{missing} but not \\texttt{item}, in which case \\texttt{missing} is returned (\\href{https://en.wikipedia.org/wiki/Three-valued_logic}{three-valued logic}, matching the behavior of \\href{@ref}{\\texttt{any}} and \\href{@ref}{\\texttt{==}}).\n",
       "\n",
       "Some collections follow a slightly different definition. For example, \\href{@ref}{\\texttt{Set}}s check whether the item \\href{@ref}{\\texttt{isequal}} to one of the elements. \\href{@ref}{\\texttt{Dict}}s look for \\texttt{key=>value} pairs, and the key is compared using \\href{@ref}{\\texttt{isequal}}. To test for the presence of a key in a dictionary, use \\href{@ref}{\\texttt{haskey}} or \\texttt{k in keys(dict)}. For these collections, the result is always a \\texttt{Bool} and never \\texttt{missing}.\n",
       "\n",
       "To determine whether an item is not in a given collection, see \\href{@ref}{\\texttt{:∉}}. You may also negate the \\texttt{in} by doing \\texttt{!(a in b)} which is logically similar to \"not in\".\n",
       "\n",
       "When broadcasting with \\texttt{in.(items, collection)} or \\texttt{items .∈ collection}, both \\texttt{item} and \\texttt{collection} are broadcasted over, which is often not what is intended. For example, if both arguments are vectors (and the dimensions match), the result is a vector indicating whether each value in collection \\texttt{items} is \\texttt{in} the value at the corresponding position in \\texttt{collection}. To get a vector indicating whether each value in \\texttt{items} is in \\texttt{collection}, wrap \\texttt{collection} in a tuple or a \\texttt{Ref} like this: \\texttt{in.(items, Ref(collection))} or \\texttt{items .∈ Ref(collection)}.\n",
       "\n",
       "\\section{Examples}\n",
       "\\begin{verbatim}\n",
       "julia> a = 1:3:20\n",
       "1:3:19\n",
       "\n",
       "julia> 4 in a\n",
       "true\n",
       "\n",
       "julia> 5 in a\n",
       "false\n",
       "\n",
       "julia> missing in [1, 2]\n",
       "missing\n",
       "\n",
       "julia> 1 in [2, missing]\n",
       "missing\n",
       "\n",
       "julia> 1 in [1, missing]\n",
       "true\n",
       "\n",
       "julia> missing in Set([1, 2])\n",
       "false\n",
       "\n",
       "julia> !(21 in a)\n",
       "true\n",
       "\n",
       "julia> !(19 in a)\n",
       "false\n",
       "\n",
       "julia> [1, 2] .∈ [2, 3]\n",
       "2-element BitArray{1}:\n",
       " 0\n",
       " 0\n",
       "\n",
       "julia> [1, 2] .∈ ([2, 3],)\n",
       "2-element BitArray{1}:\n",
       " 0\n",
       " 1\n",
       "\\end{verbatim}\n"
      ],
      "text/markdown": [
       "```\n",
       "in(x)\n",
       "```\n",
       "\n",
       "Create a function that checks whether its argument is [`in`](@ref) `x`, i.e. a function equivalent to `y -> y in x`.\n",
       "\n",
       "The returned function is of type `Base.Fix2{typeof(in)}`, which can be used to implement specialized methods.\n",
       "\n",
       "---\n",
       "\n",
       "```\n",
       "in(item, collection) -> Bool\n",
       "∈(item, collection) -> Bool\n",
       "∋(collection, item) -> Bool\n",
       "```\n",
       "\n",
       "Determine whether an item is in the given collection, in the sense that it is [`==`](@ref) to one of the values generated by iterating over the collection. Returns a `Bool` value, except if `item` is [`missing`](@ref) or `collection` contains `missing` but not `item`, in which case `missing` is returned ([three-valued logic](https://en.wikipedia.org/wiki/Three-valued_logic), matching the behavior of [`any`](@ref) and [`==`](@ref)).\n",
       "\n",
       "Some collections follow a slightly different definition. For example, [`Set`](@ref)s check whether the item [`isequal`](@ref) to one of the elements. [`Dict`](@ref)s look for `key=>value` pairs, and the key is compared using [`isequal`](@ref). To test for the presence of a key in a dictionary, use [`haskey`](@ref) or `k in keys(dict)`. For these collections, the result is always a `Bool` and never `missing`.\n",
       "\n",
       "To determine whether an item is not in a given collection, see [`:∉`](@ref). You may also negate the `in` by doing `!(a in b)` which is logically similar to \"not in\".\n",
       "\n",
       "When broadcasting with `in.(items, collection)` or `items .∈ collection`, both `item` and `collection` are broadcasted over, which is often not what is intended. For example, if both arguments are vectors (and the dimensions match), the result is a vector indicating whether each value in collection `items` is `in` the value at the corresponding position in `collection`. To get a vector indicating whether each value in `items` is in `collection`, wrap `collection` in a tuple or a `Ref` like this: `in.(items, Ref(collection))` or `items .∈ Ref(collection)`.\n",
       "\n",
       "# Examples\n",
       "\n",
       "```jldoctest\n",
       "julia> a = 1:3:20\n",
       "1:3:19\n",
       "\n",
       "julia> 4 in a\n",
       "true\n",
       "\n",
       "julia> 5 in a\n",
       "false\n",
       "\n",
       "julia> missing in [1, 2]\n",
       "missing\n",
       "\n",
       "julia> 1 in [2, missing]\n",
       "missing\n",
       "\n",
       "julia> 1 in [1, missing]\n",
       "true\n",
       "\n",
       "julia> missing in Set([1, 2])\n",
       "false\n",
       "\n",
       "julia> !(21 in a)\n",
       "true\n",
       "\n",
       "julia> !(19 in a)\n",
       "false\n",
       "\n",
       "julia> [1, 2] .∈ [2, 3]\n",
       "2-element BitArray{1}:\n",
       " 0\n",
       " 0\n",
       "\n",
       "julia> [1, 2] .∈ ([2, 3],)\n",
       "2-element BitArray{1}:\n",
       " 0\n",
       " 1\n",
       "```\n"
      ],
      "text/plain": [
       "\u001b[36m  in(x)\u001b[39m\n",
       "\n",
       "  Create a function that checks whether its argument is \u001b[36min\u001b[39m \u001b[36mx\u001b[39m, i.e. a function\n",
       "  equivalent to \u001b[36my -> y in x\u001b[39m.\n",
       "\n",
       "  The returned function is of type \u001b[36mBase.Fix2{typeof(in)}\u001b[39m, which can be used to\n",
       "  implement specialized methods.\n",
       "\n",
       "  ────────────────────────────────────────────────────────────────────────────\n",
       "\n",
       "\u001b[36m  in(item, collection) -> Bool\u001b[39m\n",
       "\u001b[36m  ∈(item, collection) -> Bool\u001b[39m\n",
       "\u001b[36m  ∋(collection, item) -> Bool\u001b[39m\n",
       "\n",
       "  Determine whether an item is in the given collection, in the sense that it\n",
       "  is \u001b[36m==\u001b[39m to one of the values generated by iterating over the collection.\n",
       "  Returns a \u001b[36mBool\u001b[39m value, except if \u001b[36mitem\u001b[39m is \u001b[36mmissing\u001b[39m or \u001b[36mcollection\u001b[39m contains\n",
       "  \u001b[36mmissing\u001b[39m but not \u001b[36mitem\u001b[39m, in which case \u001b[36mmissing\u001b[39m is returned (three-valued logic\n",
       "  (https://en.wikipedia.org/wiki/Three-valued_logic), matching the behavior of\n",
       "  \u001b[36many\u001b[39m and \u001b[36m==\u001b[39m).\n",
       "\n",
       "  Some collections follow a slightly different definition. For example, \u001b[36mSet\u001b[39ms\n",
       "  check whether the item \u001b[36misequal\u001b[39m to one of the elements. \u001b[36mDict\u001b[39ms look for\n",
       "  \u001b[36mkey=>value\u001b[39m pairs, and the key is compared using \u001b[36misequal\u001b[39m. To test for the\n",
       "  presence of a key in a dictionary, use \u001b[36mhaskey\u001b[39m or \u001b[36mk in keys(dict)\u001b[39m. For these\n",
       "  collections, the result is always a \u001b[36mBool\u001b[39m and never \u001b[36mmissing\u001b[39m.\n",
       "\n",
       "  To determine whether an item is not in a given collection, see \u001b[36m:∉\u001b[39m. You may\n",
       "  also negate the \u001b[36min\u001b[39m by doing \u001b[36m!(a in b)\u001b[39m which is logically similar to \"not\n",
       "  in\".\n",
       "\n",
       "  When broadcasting with \u001b[36min.(items, collection)\u001b[39m or \u001b[36mitems .∈ collection\u001b[39m, both\n",
       "  \u001b[36mitem\u001b[39m and \u001b[36mcollection\u001b[39m are broadcasted over, which is often not what is\n",
       "  intended. For example, if both arguments are vectors (and the dimensions\n",
       "  match), the result is a vector indicating whether each value in collection\n",
       "  \u001b[36mitems\u001b[39m is \u001b[36min\u001b[39m the value at the corresponding position in \u001b[36mcollection\u001b[39m. To get a\n",
       "  vector indicating whether each value in \u001b[36mitems\u001b[39m is in \u001b[36mcollection\u001b[39m, wrap\n",
       "  \u001b[36mcollection\u001b[39m in a tuple or a \u001b[36mRef\u001b[39m like this: \u001b[36min.(items, Ref(collection))\u001b[39m or\n",
       "  \u001b[36mitems .∈ Ref(collection)\u001b[39m.\n",
       "\n",
       "\u001b[1m  Examples\u001b[22m\n",
       "\u001b[1m  ≡≡≡≡≡≡≡≡≡≡\u001b[22m\n",
       "\n",
       "\u001b[36m  julia> a = 1:3:20\u001b[39m\n",
       "\u001b[36m  1:3:19\u001b[39m\n",
       "\u001b[36m  \u001b[39m\n",
       "\u001b[36m  julia> 4 in a\u001b[39m\n",
       "\u001b[36m  true\u001b[39m\n",
       "\u001b[36m  \u001b[39m\n",
       "\u001b[36m  julia> 5 in a\u001b[39m\n",
       "\u001b[36m  false\u001b[39m\n",
       "\u001b[36m  \u001b[39m\n",
       "\u001b[36m  julia> missing in [1, 2]\u001b[39m\n",
       "\u001b[36m  missing\u001b[39m\n",
       "\u001b[36m  \u001b[39m\n",
       "\u001b[36m  julia> 1 in [2, missing]\u001b[39m\n",
       "\u001b[36m  missing\u001b[39m\n",
       "\u001b[36m  \u001b[39m\n",
       "\u001b[36m  julia> 1 in [1, missing]\u001b[39m\n",
       "\u001b[36m  true\u001b[39m\n",
       "\u001b[36m  \u001b[39m\n",
       "\u001b[36m  julia> missing in Set([1, 2])\u001b[39m\n",
       "\u001b[36m  false\u001b[39m\n",
       "\u001b[36m  \u001b[39m\n",
       "\u001b[36m  julia> !(21 in a)\u001b[39m\n",
       "\u001b[36m  true\u001b[39m\n",
       "\u001b[36m  \u001b[39m\n",
       "\u001b[36m  julia> !(19 in a)\u001b[39m\n",
       "\u001b[36m  false\u001b[39m\n",
       "\u001b[36m  \u001b[39m\n",
       "\u001b[36m  julia> [1, 2] .∈ [2, 3]\u001b[39m\n",
       "\u001b[36m  2-element BitArray{1}:\u001b[39m\n",
       "\u001b[36m   0\u001b[39m\n",
       "\u001b[36m   0\u001b[39m\n",
       "\u001b[36m  \u001b[39m\n",
       "\u001b[36m  julia> [1, 2] .∈ ([2, 3],)\u001b[39m\n",
       "\u001b[36m  2-element BitArray{1}:\u001b[39m\n",
       "\u001b[36m   0\u001b[39m\n",
       "\u001b[36m   1\u001b[39m"
      ]
     },
     "execution_count": 40,
     "metadata": {},
     "output_type": "execute_result"
    }
   ],
   "source": [
    "?∈    # how to get help to find the unicode symbol"
   ]
  },
  {
   "cell_type": "markdown",
   "metadata": {},
   "source": [
    "> **Question**: Check the behaviour of the relational operators on strings."
   ]
  },
  {
   "cell_type": "code",
   "execution_count": 41,
   "metadata": {},
   "outputs": [
    {
     "data": {
      "text/plain": [
       "false"
      ]
     },
     "execution_count": 41,
     "metadata": {},
     "output_type": "execute_result"
    }
   ],
   "source": [
    "\"apples\" == \"pears\""
   ]
  },
  {
   "cell_type": "code",
   "execution_count": 42,
   "metadata": {},
   "outputs": [
    {
     "data": {
      "text/plain": [
       "true"
      ]
     },
     "execution_count": 42,
     "metadata": {},
     "output_type": "execute_result"
    }
   ],
   "source": [
    "\"apples\" < \"pears\"  # compare strings"
   ]
  },
  {
   "cell_type": "code",
   "execution_count": 43,
   "metadata": {},
   "outputs": [
    {
     "data": {
      "text/plain": [
       "false"
      ]
     },
     "execution_count": 43,
     "metadata": {},
     "output_type": "execute_result"
    }
   ],
   "source": [
    "\"apples\" < \"Pears\"  "
   ]
  },
  {
   "cell_type": "markdown",
   "metadata": {},
   "source": [
    "All binary arithmetic and bitwise operators have an updating version that assigns the result of the operation back into the left operand. The updating version of the binary operator is formed by placing a, `=`, immediately after the operator."
   ]
  },
  {
   "cell_type": "code",
   "execution_count": 44,
   "metadata": {},
   "outputs": [
    {
     "data": {
      "text/plain": [
       "6"
      ]
     },
     "execution_count": 44,
     "metadata": {},
     "output_type": "execute_result"
    }
   ],
   "source": [
    "x += 2  # inplace update of x\n",
    "x += 2  # inplace update of x"
   ]
  },
  {
   "cell_type": "markdown",
   "metadata": {},
   "source": [
    "Similarly to Matlab, when using the REPL, Julia will print the result of every statement by default. To suppress this behavious, just end the statement with a semicolon."
   ]
  },
  {
   "cell_type": "code",
   "execution_count": 45,
   "metadata": {},
   "outputs": [],
   "source": [
    "a = 10;  # not printed, as there is \";\""
   ]
  },
  {
   "cell_type": "code",
   "execution_count": 46,
   "metadata": {},
   "outputs": [
    {
     "data": {
      "text/plain": [
       "20"
      ]
     },
     "execution_count": 46,
     "metadata": {},
     "output_type": "execute_result"
    }
   ],
   "source": [
    "a = 20"
   ]
  },
  {
   "cell_type": "markdown",
   "metadata": {},
   "source": [
    "# Boolean operators\n",
    "From zero to one."
   ]
  },
  {
   "cell_type": "code",
   "execution_count": 47,
   "metadata": {},
   "outputs": [
    {
     "data": {
      "text/plain": [
       "false"
      ]
     },
     "execution_count": 47,
     "metadata": {},
     "output_type": "execute_result"
    }
   ],
   "source": [
    "# Boolean operators, here \"!\" is not. \n",
    "!true"
   ]
  },
  {
   "cell_type": "code",
   "execution_count": 48,
   "metadata": {},
   "outputs": [
    {
     "data": {
      "text/plain": [
       "true"
      ]
     },
     "execution_count": 48,
     "metadata": {},
     "output_type": "execute_result"
    }
   ],
   "source": [
    "!false"
   ]
  },
  {
   "cell_type": "code",
   "execution_count": 49,
   "metadata": {},
   "outputs": [
    {
     "data": {
      "text/plain": [
       "true"
      ]
     },
     "execution_count": 49,
     "metadata": {},
     "output_type": "execute_result"
    }
   ],
   "source": [
    "1 == 1"
   ]
  },
  {
   "cell_type": "code",
   "execution_count": 50,
   "metadata": {},
   "outputs": [
    {
     "data": {
      "text/plain": [
       "false"
      ]
     },
     "execution_count": 50,
     "metadata": {},
     "output_type": "execute_result"
    }
   ],
   "source": [
    "2 == 1"
   ]
  },
  {
   "cell_type": "code",
   "execution_count": 51,
   "metadata": {},
   "outputs": [
    {
     "data": {
      "text/plain": [
       "false"
      ]
     },
     "execution_count": 51,
     "metadata": {},
     "output_type": "execute_result"
    }
   ],
   "source": [
    "1 != 1"
   ]
  },
  {
   "cell_type": "code",
   "execution_count": 52,
   "metadata": {},
   "outputs": [
    {
     "data": {
      "text/plain": [
       "true"
      ]
     },
     "execution_count": 52,
     "metadata": {},
     "output_type": "execute_result"
    }
   ],
   "source": [
    "2 != 1"
   ]
  },
  {
   "cell_type": "code",
   "execution_count": 53,
   "metadata": {},
   "outputs": [
    {
     "data": {
      "text/plain": [
       "true"
      ]
     },
     "execution_count": 53,
     "metadata": {},
     "output_type": "execute_result"
    }
   ],
   "source": [
    "1 < 10"
   ]
  },
  {
   "cell_type": "code",
   "execution_count": 54,
   "metadata": {},
   "outputs": [
    {
     "data": {
      "text/plain": [
       "false"
      ]
     },
     "execution_count": 54,
     "metadata": {},
     "output_type": "execute_result"
    }
   ],
   "source": [
    "1 > 10"
   ]
  },
  {
   "cell_type": "code",
   "execution_count": 55,
   "metadata": {},
   "outputs": [
    {
     "data": {
      "text/plain": [
       "true"
      ]
     },
     "execution_count": 55,
     "metadata": {},
     "output_type": "execute_result"
    }
   ],
   "source": [
    "2 <= 2"
   ]
  },
  {
   "cell_type": "code",
   "execution_count": 56,
   "metadata": {},
   "outputs": [
    {
     "data": {
      "text/plain": [
       "true"
      ]
     },
     "execution_count": 56,
     "metadata": {},
     "output_type": "execute_result"
    }
   ],
   "source": [
    "2 >= 2"
   ]
  },
  {
   "cell_type": "code",
   "execution_count": 57,
   "metadata": {},
   "outputs": [
    {
     "data": {
      "text/plain": [
       "true"
      ]
     },
     "execution_count": 57,
     "metadata": {},
     "output_type": "execute_result"
    }
   ],
   "source": [
    "# Comparisons can be chained\n",
    "1 < 2 < 3"
   ]
  },
  {
   "cell_type": "code",
   "execution_count": 58,
   "metadata": {},
   "outputs": [
    {
     "data": {
      "text/plain": [
       "false"
      ]
     },
     "execution_count": 58,
     "metadata": {},
     "output_type": "execute_result"
    }
   ],
   "source": [
    "2 < 3 < 2  # the sequence to compare"
   ]
  },
  {
   "cell_type": "code",
   "execution_count": 59,
   "metadata": {},
   "outputs": [
    {
     "data": {
      "text/plain": [
       "true"
      ]
     },
     "execution_count": 59,
     "metadata": {},
     "output_type": "execute_result"
    }
   ],
   "source": [
    "# Logical operators\n",
    "true && true      # and \n",
    "true || false     # or"
   ]
  },
  {
   "cell_type": "markdown",
   "metadata": {},
   "source": [
    "Likewise, we have the Boolean logic operators `&&` (AND), `||` (OR) and `⊻` (XOR, exclusive or)."
   ]
  },
  {
   "cell_type": "code",
   "execution_count": 60,
   "metadata": {},
   "outputs": [
    {
     "data": {
      "text/plain": [
       "true"
      ]
     },
     "execution_count": 60,
     "metadata": {},
     "output_type": "execute_result"
    }
   ],
   "source": [
    "true && true"
   ]
  },
  {
   "cell_type": "code",
   "execution_count": 61,
   "metadata": {},
   "outputs": [
    {
     "data": {
      "text/plain": [
       "false"
      ]
     },
     "execution_count": 61,
     "metadata": {},
     "output_type": "execute_result"
    }
   ],
   "source": [
    "true && false"
   ]
  },
  {
   "cell_type": "code",
   "execution_count": 62,
   "metadata": {},
   "outputs": [
    {
     "data": {
      "text/plain": [
       "true"
      ]
     },
     "execution_count": 62,
     "metadata": {},
     "output_type": "execute_result"
    }
   ],
   "source": [
    "true || false"
   ]
  },
  {
   "cell_type": "code",
   "execution_count": 63,
   "metadata": {},
   "outputs": [
    {
     "data": {
      "text/plain": [
       "false"
      ]
     },
     "execution_count": 63,
     "metadata": {},
     "output_type": "execute_result"
    }
   ],
   "source": [
    "false || false"
   ]
  },
  {
   "cell_type": "code",
   "execution_count": 66,
   "metadata": {},
   "outputs": [
    {
     "data": {
      "text/plain": [
       "true"
      ]
     },
     "execution_count": 66,
     "metadata": {},
     "output_type": "execute_result"
    }
   ],
   "source": [
    "true ⊻ false   ---- ???"
   ]
  },
  {
   "cell_type": "code",
   "execution_count": 67,
   "metadata": {},
   "outputs": [
    {
     "data": {
      "text/plain": [
       "false"
      ]
     },
     "execution_count": 67,
     "metadata": {},
     "output_type": "execute_result"
    }
   ],
   "source": [
    "true ⊻ true    ----- ??? "
   ]
  },
  {
   "cell_type": "markdown",
   "metadata": {},
   "source": [
    "> **Question**: predict the outcomes of the following statements."
   ]
  },
  {
   "cell_type": "code",
   "execution_count": 70,
   "metadata": {},
   "outputs": [
    {
     "data": {
      "text/plain": [
       "true"
      ]
     },
     "execution_count": 70,
     "metadata": {},
     "output_type": "execute_result"
    }
   ],
   "source": [
    "x, y = true, false   # assignment more than one variable at once\n",
    "\n",
    "(x || y) && !(y || y)"
   ]
  },
  {
   "cell_type": "code",
   "execution_count": 71,
   "metadata": {},
   "outputs": [
    {
     "data": {
      "text/plain": [
       "true"
      ]
     },
     "execution_count": 71,
     "metadata": {},
     "output_type": "execute_result"
    }
   ],
   "source": [
    "(x ⊻ y) && (!x ⊻ !y)"
   ]
  },
  {
   "cell_type": "code",
   "execution_count": 72,
   "metadata": {},
   "outputs": [
    {
     "data": {
      "text/plain": [
       "true"
      ]
     },
     "execution_count": 72,
     "metadata": {},
     "output_type": "execute_result"
    }
   ],
   "source": [
    "(x || y) ⊻ (x && y)"
   ]
  },
  {
   "cell_type": "markdown",
   "metadata": {},
   "source": [
    "# Control flow\n",
    "The `if`, `else`, `elseif`-statement is instrumental to any programming language,"
   ]
  },
  {
   "cell_type": "code",
   "execution_count": 73,
   "metadata": {},
   "outputs": [
    {
     "name": "stdout",
     "output_type": "stream",
     "text": [
      "A\n"
     ]
    }
   ],
   "source": [
    "if 4 > 3            # no : after if, and the end for one for loop file\n",
    "  println(\"A\")\n",
    "elseif 3 > 4\n",
    "  println(\"B\")\n",
    "else\n",
    "  println(\"C\")\n",
    "    end            # end here"
   ]
  },
  {
   "cell_type": "markdown",
   "metadata": {},
   "source": [
    "Julia allows for some very condense control flow structures."
   ]
  },
  {
   "cell_type": "code",
   "execution_count": 74,
   "metadata": {},
   "outputs": [
    {
     "ename": "UndefVarError",
     "evalue": "UndefVarError: condition not defined",
     "output_type": "error",
     "traceback": [
      "UndefVarError: condition not defined",
      "",
      "Stacktrace:",
      " [1] top-level scope at In[74]:1"
     ]
    }
   ],
   "source": [
    "# this is one application\n",
    "y = condition ? valueiftrue : valueiffalse"
   ]
  },
  {
   "cell_type": "markdown",
   "metadata": {},
   "source": [
    "> **Assignment** Complete the clip function: $\\max(0, \\min(1, x))$ for a given $x$, without making use of the functions `min` and `max`."
   ]
  },
  {
   "cell_type": "code",
   "execution_count": 91,
   "metadata": {},
   "outputs": [
    {
     "data": {
      "text/plain": [
       "clip (generic function with 1 method)"
      ]
     },
     "execution_count": 91,
     "metadata": {},
     "output_type": "execute_result"
    }
   ],
   "source": [
    "x = 2.0   # this function can be chained\n",
    "clip(x) = (1 > x ? x : 1) > 0 ? (1 > x ? x : 1) : 0"
   ]
  },
  {
   "cell_type": "code",
   "execution_count": 92,
   "metadata": {},
   "outputs": [
    {
     "data": {
      "text/plain": [
       "1"
      ]
     },
     "execution_count": 92,
     "metadata": {},
     "output_type": "execute_result"
    }
   ],
   "source": [
    "clip(x)"
   ]
  },
  {
   "cell_type": "markdown",
   "metadata": {},
   "source": [
    "# Looping"
   ]
  },
  {
   "cell_type": "code",
   "execution_count": 93,
   "metadata": {},
   "outputs": [
    {
     "name": "stdout",
     "output_type": "stream",
     "text": [
      "Character Harry\n",
      "Character Ron\n",
      "Character Hermione\n",
      "1. Harry\n",
      "2. Ron\n",
      "3. Hermione\n",
      "Harry has Hedwig as a pet\n",
      "Ron has Pig as a pet\n",
      "Hermione has Crookhanks as a pet\n"
     ]
    }
   ],
   "source": [
    "characters = [\"Harry\", \"Ron\", \"Hermione\"]\n",
    "\n",
    "for char in characters                       # in can be used here\n",
    "  println(\"Character $char\")\n",
    "end\n",
    "\n",
    "for (i, char) in enumerate(characters)       # using enumrate to get the index and charater\n",
    "  println(\"$i. $char\")\n",
    "end\n",
    "\n",
    "pets = [\"Hedwig\", \"Pig\", \"Crookhanks\"]\n",
    "\n",
    "for (char, pet) in zip(characters, pets)     # using zip to get a tuple of two elements in zipped list\n",
    "  println(\"$char has $pet as a pet\")\n",
    "end"
   ]
  },
  {
   "cell_type": "markdown",
   "metadata": {},
   "source": [
    "Strings can also be looped"
   ]
  },
  {
   "cell_type": "code",
   "execution_count": 94,
   "metadata": {},
   "outputs": [
    {
     "name": "stdout",
     "output_type": "stream",
     "text": [
      "a\n",
      " \n",
      "s\n",
      "h\n",
      "r\n",
      "u\n",
      "b\n",
      "b\n",
      "e\n",
      "r\n",
      "y\n"
     ]
    }
   ],
   "source": [
    "getme = \"a shrubbery\"\n",
    "\n",
    "for letter ∈ getme\n",
    "  println(\"$letter\")\n",
    "end"
   ]
  },
  {
   "cell_type": "code",
   "execution_count": 95,
   "metadata": {},
   "outputs": [
    {
     "name": "stdout",
     "output_type": "stream",
     "text": [
      "\"\u001b[36m∈\u001b[39m\" can be typed by \u001b[36m\\in<tab>\u001b[39m\n",
      "\n",
      "search: \u001b[0m\u001b[1m∈\u001b[22m\n",
      "\n"
     ]
    },
    {
     "data": {
      "text/latex": [
       "\\begin{verbatim}\n",
       "in(x)\n",
       "\\end{verbatim}\n",
       "Create a function that checks whether its argument is \\href{@ref}{\\texttt{in}} \\texttt{x}, i.e. a function equivalent to \\texttt{y -> y in x}.\n",
       "\n",
       "The returned function is of type \\texttt{Base.Fix2\\{typeof(in)\\}}, which can be used to implement specialized methods.\n",
       "\n",
       "\\rule{\\textwidth}{1pt}\n",
       "\\begin{verbatim}\n",
       "in(item, collection) -> Bool\n",
       "∈(item, collection) -> Bool\n",
       "∋(collection, item) -> Bool\n",
       "\\end{verbatim}\n",
       "Determine whether an item is in the given collection, in the sense that it is \\href{@ref}{\\texttt{==}} to one of the values generated by iterating over the collection. Returns a \\texttt{Bool} value, except if \\texttt{item} is \\href{@ref}{\\texttt{missing}} or \\texttt{collection} contains \\texttt{missing} but not \\texttt{item}, in which case \\texttt{missing} is returned (\\href{https://en.wikipedia.org/wiki/Three-valued_logic}{three-valued logic}, matching the behavior of \\href{@ref}{\\texttt{any}} and \\href{@ref}{\\texttt{==}}).\n",
       "\n",
       "Some collections follow a slightly different definition. For example, \\href{@ref}{\\texttt{Set}}s check whether the item \\href{@ref}{\\texttt{isequal}} to one of the elements. \\href{@ref}{\\texttt{Dict}}s look for \\texttt{key=>value} pairs, and the key is compared using \\href{@ref}{\\texttt{isequal}}. To test for the presence of a key in a dictionary, use \\href{@ref}{\\texttt{haskey}} or \\texttt{k in keys(dict)}. For these collections, the result is always a \\texttt{Bool} and never \\texttt{missing}.\n",
       "\n",
       "To determine whether an item is not in a given collection, see \\href{@ref}{\\texttt{:∉}}. You may also negate the \\texttt{in} by doing \\texttt{!(a in b)} which is logically similar to \"not in\".\n",
       "\n",
       "When broadcasting with \\texttt{in.(items, collection)} or \\texttt{items .∈ collection}, both \\texttt{item} and \\texttt{collection} are broadcasted over, which is often not what is intended. For example, if both arguments are vectors (and the dimensions match), the result is a vector indicating whether each value in collection \\texttt{items} is \\texttt{in} the value at the corresponding position in \\texttt{collection}. To get a vector indicating whether each value in \\texttt{items} is in \\texttt{collection}, wrap \\texttt{collection} in a tuple or a \\texttt{Ref} like this: \\texttt{in.(items, Ref(collection))} or \\texttt{items .∈ Ref(collection)}.\n",
       "\n",
       "\\section{Examples}\n",
       "\\begin{verbatim}\n",
       "julia> a = 1:3:20\n",
       "1:3:19\n",
       "\n",
       "julia> 4 in a\n",
       "true\n",
       "\n",
       "julia> 5 in a\n",
       "false\n",
       "\n",
       "julia> missing in [1, 2]\n",
       "missing\n",
       "\n",
       "julia> 1 in [2, missing]\n",
       "missing\n",
       "\n",
       "julia> 1 in [1, missing]\n",
       "true\n",
       "\n",
       "julia> missing in Set([1, 2])\n",
       "false\n",
       "\n",
       "julia> !(21 in a)\n",
       "true\n",
       "\n",
       "julia> !(19 in a)\n",
       "false\n",
       "\n",
       "julia> [1, 2] .∈ [2, 3]\n",
       "2-element BitArray{1}:\n",
       " 0\n",
       " 0\n",
       "\n",
       "julia> [1, 2] .∈ ([2, 3],)\n",
       "2-element BitArray{1}:\n",
       " 0\n",
       " 1\n",
       "\\end{verbatim}\n"
      ],
      "text/markdown": [
       "```\n",
       "in(x)\n",
       "```\n",
       "\n",
       "Create a function that checks whether its argument is [`in`](@ref) `x`, i.e. a function equivalent to `y -> y in x`.\n",
       "\n",
       "The returned function is of type `Base.Fix2{typeof(in)}`, which can be used to implement specialized methods.\n",
       "\n",
       "---\n",
       "\n",
       "```\n",
       "in(item, collection) -> Bool\n",
       "∈(item, collection) -> Bool\n",
       "∋(collection, item) -> Bool\n",
       "```\n",
       "\n",
       "Determine whether an item is in the given collection, in the sense that it is [`==`](@ref) to one of the values generated by iterating over the collection. Returns a `Bool` value, except if `item` is [`missing`](@ref) or `collection` contains `missing` but not `item`, in which case `missing` is returned ([three-valued logic](https://en.wikipedia.org/wiki/Three-valued_logic), matching the behavior of [`any`](@ref) and [`==`](@ref)).\n",
       "\n",
       "Some collections follow a slightly different definition. For example, [`Set`](@ref)s check whether the item [`isequal`](@ref) to one of the elements. [`Dict`](@ref)s look for `key=>value` pairs, and the key is compared using [`isequal`](@ref). To test for the presence of a key in a dictionary, use [`haskey`](@ref) or `k in keys(dict)`. For these collections, the result is always a `Bool` and never `missing`.\n",
       "\n",
       "To determine whether an item is not in a given collection, see [`:∉`](@ref). You may also negate the `in` by doing `!(a in b)` which is logically similar to \"not in\".\n",
       "\n",
       "When broadcasting with `in.(items, collection)` or `items .∈ collection`, both `item` and `collection` are broadcasted over, which is often not what is intended. For example, if both arguments are vectors (and the dimensions match), the result is a vector indicating whether each value in collection `items` is `in` the value at the corresponding position in `collection`. To get a vector indicating whether each value in `items` is in `collection`, wrap `collection` in a tuple or a `Ref` like this: `in.(items, Ref(collection))` or `items .∈ Ref(collection)`.\n",
       "\n",
       "# Examples\n",
       "\n",
       "```jldoctest\n",
       "julia> a = 1:3:20\n",
       "1:3:19\n",
       "\n",
       "julia> 4 in a\n",
       "true\n",
       "\n",
       "julia> 5 in a\n",
       "false\n",
       "\n",
       "julia> missing in [1, 2]\n",
       "missing\n",
       "\n",
       "julia> 1 in [2, missing]\n",
       "missing\n",
       "\n",
       "julia> 1 in [1, missing]\n",
       "true\n",
       "\n",
       "julia> missing in Set([1, 2])\n",
       "false\n",
       "\n",
       "julia> !(21 in a)\n",
       "true\n",
       "\n",
       "julia> !(19 in a)\n",
       "false\n",
       "\n",
       "julia> [1, 2] .∈ [2, 3]\n",
       "2-element BitArray{1}:\n",
       " 0\n",
       " 0\n",
       "\n",
       "julia> [1, 2] .∈ ([2, 3],)\n",
       "2-element BitArray{1}:\n",
       " 0\n",
       " 1\n",
       "```\n"
      ],
      "text/plain": [
       "\u001b[36m  in(x)\u001b[39m\n",
       "\n",
       "  Create a function that checks whether its argument is \u001b[36min\u001b[39m \u001b[36mx\u001b[39m, i.e. a function\n",
       "  equivalent to \u001b[36my -> y in x\u001b[39m.\n",
       "\n",
       "  The returned function is of type \u001b[36mBase.Fix2{typeof(in)}\u001b[39m, which can be used to\n",
       "  implement specialized methods.\n",
       "\n",
       "  ────────────────────────────────────────────────────────────────────────────\n",
       "\n",
       "\u001b[36m  in(item, collection) -> Bool\u001b[39m\n",
       "\u001b[36m  ∈(item, collection) -> Bool\u001b[39m\n",
       "\u001b[36m  ∋(collection, item) -> Bool\u001b[39m\n",
       "\n",
       "  Determine whether an item is in the given collection, in the sense that it\n",
       "  is \u001b[36m==\u001b[39m to one of the values generated by iterating over the collection.\n",
       "  Returns a \u001b[36mBool\u001b[39m value, except if \u001b[36mitem\u001b[39m is \u001b[36mmissing\u001b[39m or \u001b[36mcollection\u001b[39m contains\n",
       "  \u001b[36mmissing\u001b[39m but not \u001b[36mitem\u001b[39m, in which case \u001b[36mmissing\u001b[39m is returned (three-valued logic\n",
       "  (https://en.wikipedia.org/wiki/Three-valued_logic), matching the behavior of\n",
       "  \u001b[36many\u001b[39m and \u001b[36m==\u001b[39m).\n",
       "\n",
       "  Some collections follow a slightly different definition. For example, \u001b[36mSet\u001b[39ms\n",
       "  check whether the item \u001b[36misequal\u001b[39m to one of the elements. \u001b[36mDict\u001b[39ms look for\n",
       "  \u001b[36mkey=>value\u001b[39m pairs, and the key is compared using \u001b[36misequal\u001b[39m. To test for the\n",
       "  presence of a key in a dictionary, use \u001b[36mhaskey\u001b[39m or \u001b[36mk in keys(dict)\u001b[39m. For these\n",
       "  collections, the result is always a \u001b[36mBool\u001b[39m and never \u001b[36mmissing\u001b[39m.\n",
       "\n",
       "  To determine whether an item is not in a given collection, see \u001b[36m:∉\u001b[39m. You may\n",
       "  also negate the \u001b[36min\u001b[39m by doing \u001b[36m!(a in b)\u001b[39m which is logically similar to \"not\n",
       "  in\".\n",
       "\n",
       "  When broadcasting with \u001b[36min.(items, collection)\u001b[39m or \u001b[36mitems .∈ collection\u001b[39m, both\n",
       "  \u001b[36mitem\u001b[39m and \u001b[36mcollection\u001b[39m are broadcasted over, which is often not what is\n",
       "  intended. For example, if both arguments are vectors (and the dimensions\n",
       "  match), the result is a vector indicating whether each value in collection\n",
       "  \u001b[36mitems\u001b[39m is \u001b[36min\u001b[39m the value at the corresponding position in \u001b[36mcollection\u001b[39m. To get a\n",
       "  vector indicating whether each value in \u001b[36mitems\u001b[39m is in \u001b[36mcollection\u001b[39m, wrap\n",
       "  \u001b[36mcollection\u001b[39m in a tuple or a \u001b[36mRef\u001b[39m like this: \u001b[36min.(items, Ref(collection))\u001b[39m or\n",
       "  \u001b[36mitems .∈ Ref(collection)\u001b[39m.\n",
       "\n",
       "\u001b[1m  Examples\u001b[22m\n",
       "\u001b[1m  ≡≡≡≡≡≡≡≡≡≡\u001b[22m\n",
       "\n",
       "\u001b[36m  julia> a = 1:3:20\u001b[39m\n",
       "\u001b[36m  1:3:19\u001b[39m\n",
       "\u001b[36m  \u001b[39m\n",
       "\u001b[36m  julia> 4 in a\u001b[39m\n",
       "\u001b[36m  true\u001b[39m\n",
       "\u001b[36m  \u001b[39m\n",
       "\u001b[36m  julia> 5 in a\u001b[39m\n",
       "\u001b[36m  false\u001b[39m\n",
       "\u001b[36m  \u001b[39m\n",
       "\u001b[36m  julia> missing in [1, 2]\u001b[39m\n",
       "\u001b[36m  missing\u001b[39m\n",
       "\u001b[36m  \u001b[39m\n",
       "\u001b[36m  julia> 1 in [2, missing]\u001b[39m\n",
       "\u001b[36m  missing\u001b[39m\n",
       "\u001b[36m  \u001b[39m\n",
       "\u001b[36m  julia> 1 in [1, missing]\u001b[39m\n",
       "\u001b[36m  true\u001b[39m\n",
       "\u001b[36m  \u001b[39m\n",
       "\u001b[36m  julia> missing in Set([1, 2])\u001b[39m\n",
       "\u001b[36m  false\u001b[39m\n",
       "\u001b[36m  \u001b[39m\n",
       "\u001b[36m  julia> !(21 in a)\u001b[39m\n",
       "\u001b[36m  true\u001b[39m\n",
       "\u001b[36m  \u001b[39m\n",
       "\u001b[36m  julia> !(19 in a)\u001b[39m\n",
       "\u001b[36m  false\u001b[39m\n",
       "\u001b[36m  \u001b[39m\n",
       "\u001b[36m  julia> [1, 2] .∈ [2, 3]\u001b[39m\n",
       "\u001b[36m  2-element BitArray{1}:\u001b[39m\n",
       "\u001b[36m   0\u001b[39m\n",
       "\u001b[36m   0\u001b[39m\n",
       "\u001b[36m  \u001b[39m\n",
       "\u001b[36m  julia> [1, 2] .∈ ([2, 3],)\u001b[39m\n",
       "\u001b[36m  2-element BitArray{1}:\u001b[39m\n",
       "\u001b[36m   0\u001b[39m\n",
       "\u001b[36m   1\u001b[39m"
      ]
     },
     "execution_count": 95,
     "metadata": {},
     "output_type": "execute_result"
    }
   ],
   "source": [
    "?∈\n",
    "∈"
   ]
  },
  {
   "cell_type": "code",
   "execution_count": null,
   "metadata": {},
   "outputs": [],
   "source": [
    "n = 1675767616;\n",
    "\n",
    "while n > 1     # global\n",
    "  println(n)\n",
    "  if n % 2 == 0\n",
    "    global n = div(n, 2)\n",
    "  else\n",
    "    global n = 3n + 1\n",
    "  end\n",
    "end"
   ]
  },
  {
   "cell_type": "code",
   "execution_count": 97,
   "metadata": {},
   "outputs": [
    {
     "name": "stdout",
     "output_type": "stream",
     "text": [
      "search: \u001b[0m\u001b[1mg\u001b[22m\u001b[0m\u001b[1ml\u001b[22m\u001b[0m\u001b[1mo\u001b[22m\u001b[0m\u001b[1mb\u001b[22m\u001b[0m\u001b[1ma\u001b[22m\u001b[0m\u001b[1ml\u001b[22m \u001b[0m\u001b[1mG\u001b[22m\u001b[0m\u001b[1ml\u001b[22m\u001b[0m\u001b[1mo\u001b[22m\u001b[0m\u001b[1mb\u001b[22m\u001b[0m\u001b[1ma\u001b[22m\u001b[0m\u001b[1ml\u001b[22mRef c\u001b[0m\u001b[1mg\u001b[22m\u001b[0m\u001b[1ml\u001b[22m\u001b[0m\u001b[1mo\u001b[22m\u001b[0m\u001b[1mb\u001b[22m\u001b[0m\u001b[1ma\u001b[22m\u001b[0m\u001b[1ml\u001b[22m\n",
      "\n"
     ]
    },
    {
     "data": {
      "text/latex": [
       "\\begin{verbatim}\n",
       "global\n",
       "\\end{verbatim}\n",
       "\\texttt{global x} makes \\texttt{x} in the current scope and its inner scopes refer to the global variable of that name. See the \\href{@ref scope-of-variables}{manual section on variable scoping} for more information.\n",
       "\n",
       "\\section{Examples}\n",
       "\\begin{verbatim}\n",
       "julia> z = 3\n",
       "3\n",
       "\n",
       "julia> function foo()\n",
       "           global z = 6 # use the z variable defined outside foo\n",
       "       end\n",
       "foo (generic function with 1 method)\n",
       "\n",
       "julia> foo()\n",
       "6\n",
       "\n",
       "julia> z\n",
       "6\n",
       "\\end{verbatim}\n"
      ],
      "text/markdown": [
       "```\n",
       "global\n",
       "```\n",
       "\n",
       "`global x` makes `x` in the current scope and its inner scopes refer to the global variable of that name. See the [manual section on variable scoping](@ref scope-of-variables) for more information.\n",
       "\n",
       "# Examples\n",
       "\n",
       "```jldoctest\n",
       "julia> z = 3\n",
       "3\n",
       "\n",
       "julia> function foo()\n",
       "           global z = 6 # use the z variable defined outside foo\n",
       "       end\n",
       "foo (generic function with 1 method)\n",
       "\n",
       "julia> foo()\n",
       "6\n",
       "\n",
       "julia> z\n",
       "6\n",
       "```\n"
      ],
      "text/plain": [
       "\u001b[36m  global\u001b[39m\n",
       "\n",
       "  \u001b[36mglobal x\u001b[39m makes \u001b[36mx\u001b[39m in the current scope and its inner scopes refer to the\n",
       "  global variable of that name. See the manual section on variable scoping for\n",
       "  more information.\n",
       "\n",
       "\u001b[1m  Examples\u001b[22m\n",
       "\u001b[1m  ≡≡≡≡≡≡≡≡≡≡\u001b[22m\n",
       "\n",
       "\u001b[36m  julia> z = 3\u001b[39m\n",
       "\u001b[36m  3\u001b[39m\n",
       "\u001b[36m  \u001b[39m\n",
       "\u001b[36m  julia> function foo()\u001b[39m\n",
       "\u001b[36m             global z = 6 # use the z variable defined outside foo\u001b[39m\n",
       "\u001b[36m         end\u001b[39m\n",
       "\u001b[36m  foo (generic function with 1 method)\u001b[39m\n",
       "\u001b[36m  \u001b[39m\n",
       "\u001b[36m  julia> foo()\u001b[39m\n",
       "\u001b[36m  6\u001b[39m\n",
       "\u001b[36m  \u001b[39m\n",
       "\u001b[36m  julia> z\u001b[39m\n",
       "\u001b[36m  6\u001b[39m"
      ]
     },
     "execution_count": 97,
     "metadata": {},
     "output_type": "execute_result"
    }
   ],
   "source": [
    "?global "
   ]
  },
  {
   "cell_type": "markdown",
   "metadata": {},
   "source": [
    "(Note: [they got closer to cracking this one](https://www.quantamagazine.org/mathematician-terence-tao-and-the-collatz-conjecture-20191211/?mc_cid=a3adbffb9f&mc_eid=41ed2fca13).)\n",
    "\n",
    "# Functions\n",
    "Julia puts the fun in functions. User-defined functions can be declared as follows,"
   ]
  },
  {
   "cell_type": "code",
   "execution_count": 103,
   "metadata": {},
   "outputs": [
    {
     "data": {
      "text/plain": [
       "square (generic function with 1 method)"
      ]
     },
     "execution_count": 103,
     "metadata": {},
     "output_type": "execute_result"
    }
   ],
   "source": [
    "function square(x)    # two method to define a function. one is using the keyword function\n",
    "  result = x * x\n",
    "  return result\n",
    "end"
   ]
  },
  {
   "cell_type": "code",
   "execution_count": 104,
   "metadata": {},
   "outputs": [
    {
     "data": {
      "text/plain": [
       "4"
      ]
     },
     "execution_count": 104,
     "metadata": {},
     "output_type": "execute_result"
    }
   ],
   "source": [
    "square(2)"
   ]
  },
  {
   "cell_type": "code",
   "execution_count": 105,
   "metadata": {},
   "outputs": [
    {
     "data": {
      "text/plain": [
       "4.0"
      ]
     },
     "execution_count": 105,
     "metadata": {},
     "output_type": "execute_result"
    }
   ],
   "source": [
    "square(2.0)"
   ]
  },
  {
   "cell_type": "code",
   "execution_count": 106,
   "metadata": {},
   "outputs": [
    {
     "data": {
      "text/plain": [
       "\"nini\""
      ]
     },
     "execution_count": 106,
     "metadata": {},
     "output_type": "execute_result"
    }
   ],
   "source": [
    "square(\"ni\")   # the multiplication of strings is defined as a concatenation"
   ]
  },
  {
   "cell_type": "markdown",
   "metadata": {},
   "source": [
    "A more condensed version of of `square(x)`."
   ]
  },
  {
   "cell_type": "code",
   "execution_count": 107,
   "metadata": {},
   "outputs": [
    {
     "data": {
      "text/plain": [
       "s (generic function with 1 method)"
      ]
     },
     "execution_count": 107,
     "metadata": {},
     "output_type": "execute_result"
    }
   ],
   "source": [
    "s(x) = x * x   #  one way to define the function"
   ]
  },
  {
   "cell_type": "markdown",
   "metadata": {},
   "source": [
    "Passing an array to a function that takes a single element as argument takes a special syntax. By putting a `.` before the brackets, the function is executed on all the elements of the Array. More on this in **Part2: collections**."
   ]
  },
  {
   "cell_type": "code",
   "execution_count": 6,
   "metadata": {},
   "outputs": [
    {
     "ename": "MethodError",
     "evalue": "MethodError: no method matching *(::Array{Int64,1}, ::Array{Int64,1})\nClosest candidates are:\n  *(::Any, ::Any, !Matched::Any, !Matched::Any...) at operators.jl:529\n  *(!Matched::LinearAlgebra.Adjoint{#s664,#s663} where #s663<:Union{DenseArray{T,2}, Base.ReinterpretArray{T,2,S,A} where S where A<:Union{SubArray{T,N,A,I,true} where I<:Union{Tuple{Vararg{Real,N} where N}, Tuple{AbstractUnitRange,Vararg{Any,N} where N}} where A<:DenseArray where N where T, DenseArray}, Base.ReshapedArray{T,2,A,MI} where MI<:Tuple{Vararg{Base.MultiplicativeInverses.SignedMultiplicativeInverse{Int64},N} where N} where A<:Union{Base.ReinterpretArray{T,N,S,A} where S where A<:Union{SubArray{T,N,A,I,true} where I<:Union{Tuple{Vararg{Real,N} where N}, Tuple{AbstractUnitRange,Vararg{Any,N} where N}} where A<:DenseArray where N where T, DenseArray} where N where T, SubArray{T,N,A,I,true} where I<:Union{Tuple{Vararg{Real,N} where N}, Tuple{AbstractUnitRange,Vararg{Any,N} where N}} where A<:DenseArray where N where T, DenseArray}, SubArray{T,2,A,I,L} where L where I<:Tuple{Vararg{Union{Int64, AbstractRange{Int64}, Base.AbstractCartesianIndex},N} where N} where A<:Union{Base.ReinterpretArray{T,N,S,A} where S where A<:Union{SubArray{T,N,A,I,true} where I<:Union{Tuple{Vararg{Real,N} where N}, Tuple{AbstractUnitRange,Vararg{Any,N} where N}} where A<:DenseArray where N where T, DenseArray} where N where T, Base.ReshapedArray{T,N,A,MI} where MI<:Tuple{Vararg{Base.MultiplicativeInverses.SignedMultiplicativeInverse{Int64},N} where N} where A<:Union{Base.ReinterpretArray{T,N,S,A} where S where A<:Union{SubArray{T,N,A,I,true} where I<:Union{Tuple{Vararg{Real,N} where N}, Tuple{AbstractUnitRange,Vararg{Any,N} where N}} where A<:DenseArray where N where T, DenseArray} where N where T, SubArray{T,N,A,I,true} where I<:Union{Tuple{Vararg{Real,N} where N}, Tuple{AbstractUnitRange,Vararg{Any,N} where N}} where A<:DenseArray where N where T, DenseArray} where N where T, DenseArray}} where #s664, ::Union{DenseArray{S,1}, Base.ReinterpretArray{S,1,S1,A} where S1 where A<:Union{SubArray{T,N,A,I,true} where I<:Union{Tuple{Vararg{Real,N} where N}, Tuple{AbstractUnitRange,Vararg{Any,N} where N}} where A<:DenseArray where N where T, DenseArray}, Base.ReshapedArray{S,1,A,MI} where MI<:Tuple{Vararg{Base.MultiplicativeInverses.SignedMultiplicativeInverse{Int64},N} where N} where A<:Union{Base.ReinterpretArray{T,N,S,A} where S where A<:Union{SubArray{T,N,A,I,true} where I<:Union{Tuple{Vararg{Real,N} where N}, Tuple{AbstractUnitRange,Vararg{Any,N} where N}} where A<:DenseArray where N where T, DenseArray} where N where T, SubArray{T,N,A,I,true} where I<:Union{Tuple{Vararg{Real,N} where N}, Tuple{AbstractUnitRange,Vararg{Any,N} where N}} where A<:DenseArray where N where T, DenseArray}, SubArray{S,1,A,I,L} where L where I<:Tuple{Vararg{Union{Int64, AbstractRange{Int64}, Base.AbstractCartesianIndex},N} where N} where A<:Union{Base.ReinterpretArray{T,N,S,A} where S where A<:Union{SubArray{T,N,A,I,true} where I<:Union{Tuple{Vararg{Real,N} where N}, Tuple{AbstractUnitRange,Vararg{Any,N} where N}} where A<:DenseArray where N where T, DenseArray} where N where T, Base.ReshapedArray{T,N,A,MI} where MI<:Tuple{Vararg{Base.MultiplicativeInverses.SignedMultiplicativeInverse{Int64},N} where N} where A<:Union{Base.ReinterpretArray{T,N,S,A} where S where A<:Union{SubArray{T,N,A,I,true} where I<:Union{Tuple{Vararg{Real,N} where N}, Tuple{AbstractUnitRange,Vararg{Any,N} where N}} where A<:DenseArray where N where T, DenseArray} where N where T, SubArray{T,N,A,I,true} where I<:Union{Tuple{Vararg{Real,N} where N}, Tuple{AbstractUnitRange,Vararg{Any,N} where N}} where A<:DenseArray where N where T, DenseArray} where N where T, DenseArray}}) where {T<:Union{Complex{Float32}, Complex{Float64}, Float32, Float64}, S} at /Users/julia/buildbot/worker/package_macos64/build/usr/share/julia/stdlib/v1.4/LinearAlgebra/src/matmul.jl:106\n  *(!Matched::LinearAlgebra.Adjoint{#s664,#s663} where #s663<:LinearAlgebra.AbstractTriangular where #s664, ::AbstractArray{T,1} where T) at /Users/julia/buildbot/worker/package_macos64/build/usr/share/julia/stdlib/v1.4/LinearAlgebra/src/triangular.jl:1971\n  ...",
     "output_type": "error",
     "traceback": [
      "MethodError: no method matching *(::Array{Int64,1}, ::Array{Int64,1})\nClosest candidates are:\n  *(::Any, ::Any, !Matched::Any, !Matched::Any...) at operators.jl:529\n  *(!Matched::LinearAlgebra.Adjoint{#s664,#s663} where #s663<:Union{DenseArray{T,2}, Base.ReinterpretArray{T,2,S,A} where S where A<:Union{SubArray{T,N,A,I,true} where I<:Union{Tuple{Vararg{Real,N} where N}, Tuple{AbstractUnitRange,Vararg{Any,N} where N}} where A<:DenseArray where N where T, DenseArray}, Base.ReshapedArray{T,2,A,MI} where MI<:Tuple{Vararg{Base.MultiplicativeInverses.SignedMultiplicativeInverse{Int64},N} where N} where A<:Union{Base.ReinterpretArray{T,N,S,A} where S where A<:Union{SubArray{T,N,A,I,true} where I<:Union{Tuple{Vararg{Real,N} where N}, Tuple{AbstractUnitRange,Vararg{Any,N} where N}} where A<:DenseArray where N where T, DenseArray} where N where T, SubArray{T,N,A,I,true} where I<:Union{Tuple{Vararg{Real,N} where N}, Tuple{AbstractUnitRange,Vararg{Any,N} where N}} where A<:DenseArray where N where T, DenseArray}, SubArray{T,2,A,I,L} where L where I<:Tuple{Vararg{Union{Int64, AbstractRange{Int64}, Base.AbstractCartesianIndex},N} where N} where A<:Union{Base.ReinterpretArray{T,N,S,A} where S where A<:Union{SubArray{T,N,A,I,true} where I<:Union{Tuple{Vararg{Real,N} where N}, Tuple{AbstractUnitRange,Vararg{Any,N} where N}} where A<:DenseArray where N where T, DenseArray} where N where T, Base.ReshapedArray{T,N,A,MI} where MI<:Tuple{Vararg{Base.MultiplicativeInverses.SignedMultiplicativeInverse{Int64},N} where N} where A<:Union{Base.ReinterpretArray{T,N,S,A} where S where A<:Union{SubArray{T,N,A,I,true} where I<:Union{Tuple{Vararg{Real,N} where N}, Tuple{AbstractUnitRange,Vararg{Any,N} where N}} where A<:DenseArray where N where T, DenseArray} where N where T, SubArray{T,N,A,I,true} where I<:Union{Tuple{Vararg{Real,N} where N}, Tuple{AbstractUnitRange,Vararg{Any,N} where N}} where A<:DenseArray where N where T, DenseArray} where N where T, DenseArray}} where #s664, ::Union{DenseArray{S,1}, Base.ReinterpretArray{S,1,S1,A} where S1 where A<:Union{SubArray{T,N,A,I,true} where I<:Union{Tuple{Vararg{Real,N} where N}, Tuple{AbstractUnitRange,Vararg{Any,N} where N}} where A<:DenseArray where N where T, DenseArray}, Base.ReshapedArray{S,1,A,MI} where MI<:Tuple{Vararg{Base.MultiplicativeInverses.SignedMultiplicativeInverse{Int64},N} where N} where A<:Union{Base.ReinterpretArray{T,N,S,A} where S where A<:Union{SubArray{T,N,A,I,true} where I<:Union{Tuple{Vararg{Real,N} where N}, Tuple{AbstractUnitRange,Vararg{Any,N} where N}} where A<:DenseArray where N where T, DenseArray} where N where T, SubArray{T,N,A,I,true} where I<:Union{Tuple{Vararg{Real,N} where N}, Tuple{AbstractUnitRange,Vararg{Any,N} where N}} where A<:DenseArray where N where T, DenseArray}, SubArray{S,1,A,I,L} where L where I<:Tuple{Vararg{Union{Int64, AbstractRange{Int64}, Base.AbstractCartesianIndex},N} where N} where A<:Union{Base.ReinterpretArray{T,N,S,A} where S where A<:Union{SubArray{T,N,A,I,true} where I<:Union{Tuple{Vararg{Real,N} where N}, Tuple{AbstractUnitRange,Vararg{Any,N} where N}} where A<:DenseArray where N where T, DenseArray} where N where T, Base.ReshapedArray{T,N,A,MI} where MI<:Tuple{Vararg{Base.MultiplicativeInverses.SignedMultiplicativeInverse{Int64},N} where N} where A<:Union{Base.ReinterpretArray{T,N,S,A} where S where A<:Union{SubArray{T,N,A,I,true} where I<:Union{Tuple{Vararg{Real,N} where N}, Tuple{AbstractUnitRange,Vararg{Any,N} where N}} where A<:DenseArray where N where T, DenseArray} where N where T, SubArray{T,N,A,I,true} where I<:Union{Tuple{Vararg{Real,N} where N}, Tuple{AbstractUnitRange,Vararg{Any,N} where N}} where A<:DenseArray where N where T, DenseArray} where N where T, DenseArray}}) where {T<:Union{Complex{Float32}, Complex{Float64}, Float32, Float64}, S} at /Users/julia/buildbot/worker/package_macos64/build/usr/share/julia/stdlib/v1.4/LinearAlgebra/src/matmul.jl:106\n  *(!Matched::LinearAlgebra.Adjoint{#s664,#s663} where #s663<:LinearAlgebra.AbstractTriangular where #s664, ::AbstractArray{T,1} where T) at /Users/julia/buildbot/worker/package_macos64/build/usr/share/julia/stdlib/v1.4/LinearAlgebra/src/triangular.jl:1971\n  ...",
      "",
      "Stacktrace:",
      " [1] s(::Array{Int64,1}) at ./In[5]:1",
      " [2] top-level scope at In[6]:1"
     ]
    }
   ],
   "source": [
    "s([1, 2, 3, 4, 5])   # Multiplication is not defined for Arrays"
   ]
  },
  {
   "cell_type": "code",
   "execution_count": 108,
   "metadata": {},
   "outputs": [
    {
     "data": {
      "text/plain": [
       "5-element Array{Int64,1}:\n",
       "  1\n",
       "  4\n",
       "  9\n",
       " 16\n",
       " 25"
      ]
     },
     "execution_count": 108,
     "metadata": {},
     "output_type": "execute_result"
    }
   ],
   "source": [
    "s.([1, 2, 3, 4, 5])  # This is an elements-wise execution of s(), .*"
   ]
  },
  {
   "cell_type": "markdown",
   "metadata": {},
   "source": [
    "Keyword arguments are defined using a semicolon in the back signature and a default value can be assigned. \"Keywords\" assigned before the semicolon are default values but their keywords are not ignored."
   ]
  },
  {
   "cell_type": "code",
   "execution_count": 113,
   "metadata": {},
   "outputs": [
    {
     "data": {
      "text/plain": [
       "safelog (generic function with 2 methods)"
      ]
     },
     "execution_count": 113,
     "metadata": {},
     "output_type": "execute_result"
    }
   ],
   "source": [
    "safelog(x, offset=0.1; base=10) = log(x + offset) / log(base)  # the part before ; is varaible that value can given , keywords"
   ]
  },
  {
   "cell_type": "code",
   "execution_count": 114,
   "metadata": {},
   "outputs": [
    {
     "data": {
      "text/plain": [
       "-0.9999999999999998"
      ]
     },
     "execution_count": 114,
     "metadata": {},
     "output_type": "execute_result"
    }
   ],
   "source": [
    "safelog(0)"
   ]
  },
  {
   "cell_type": "code",
   "execution_count": 115,
   "metadata": {},
   "outputs": [
    {
     "data": {
      "text/plain": [
       "-1.9999999999999996"
      ]
     },
     "execution_count": 115,
     "metadata": {},
     "output_type": "execute_result"
    }
   ],
   "source": [
    "safelog(0, 0.01)"
   ]
  },
  {
   "cell_type": "code",
   "execution_count": 116,
   "metadata": {},
   "outputs": [
    {
     "data": {
      "text/plain": [
       "-6.643856189774724"
      ]
     },
     "execution_count": 116,
     "metadata": {},
     "output_type": "execute_result"
    }
   ],
   "source": [
    "safelog(0, 0.01, base=2)"
   ]
  },
  {
   "cell_type": "markdown",
   "metadata": {},
   "source": [
    "When functions have a variable number of arguments, one can use the *slurping* `...` operator to denote a variable number of arguments. The argument will be treated as a collection. For example"
   ]
  },
  {
   "cell_type": "code",
   "execution_count": 117,
   "metadata": {},
   "outputs": [
    {
     "data": {
      "text/plain": [
       "3.0"
      ]
     },
     "execution_count": 117,
     "metadata": {},
     "output_type": "execute_result"
    }
   ],
   "source": [
    "function mymean(X...)  # the number of the variable is changeable\n",
    "  m = zero(first(X))  # ensures to be the same type as x, define an initial value\n",
    "  # m = 0.0  # alternative that is less tidy\n",
    "  for x in X\n",
    "    m += x\n",
    "  end\n",
    "  return m / length(X)\n",
    "end\n",
    "\n",
    "mymean(1, 3, 5)"
   ]
  },
  {
   "cell_type": "code",
   "execution_count": 118,
   "metadata": {},
   "outputs": [
    {
     "data": {
      "text/plain": [
       "4.0"
      ]
     },
     "execution_count": 118,
     "metadata": {},
     "output_type": "execute_result"
    }
   ],
   "source": [
    "mymean(1, 3, 5, 7)"
   ]
  },
  {
   "cell_type": "markdown",
   "metadata": {},
   "source": [
    "Similarly, the *splatting* operator can be used to split a collection into its individual elements."
   ]
  },
  {
   "cell_type": "code",
   "execution_count": 119,
   "metadata": {},
   "outputs": [
    {
     "data": {
      "text/plain": [
       "3.0"
      ]
     },
     "execution_count": 119,
     "metadata": {},
     "output_type": "execute_result"
    }
   ],
   "source": [
    "c = [1.0, 3.0, 5.0];    # here c is a list, mymean can work on it\n",
    "\n",
    "mymean(c...)"
   ]
  },
  {
   "cell_type": "markdown",
   "metadata": {},
   "source": [
    "When unsure of what a function does, the documentation can be viewed by adding a \"?\" in front of the function."
   ]
  },
  {
   "cell_type": "code",
   "execution_count": 124,
   "metadata": {},
   "outputs": [
    {
     "ename": "LoadError",
     "evalue": "syntax: invalid identifier name \"?\"",
     "output_type": "error",
     "traceback": [
      "syntax: invalid identifier name \"?\"",
      ""
     ]
    }
   ],
   "source": [
    "# type ?sort and hit <ENTER>\n",
    "?sort     "
   ]
  },
  {
   "cell_type": "markdown",
   "metadata": {},
   "source": [
    "For a lot of standard Julia functions a in-place version is defined. In-place means that the function changes one of the input arguments of the function. As an example, `sort()` sorts and returns the array passed as argument, it does not change the original array. In contrast, `sort!()` is the inplace version of sort and directly sorts the array passed as argument."
   ]
  },
  {
   "cell_type": "code",
   "execution_count": 125,
   "metadata": {},
   "outputs": [
    {
     "data": {
      "text/plain": [
       "6-element Array{Int64,1}:\n",
       " 1\n",
       " 4\n",
       " 5\n",
       " 7\n",
       " 9\n",
       " 9"
      ]
     },
     "execution_count": 125,
     "metadata": {},
     "output_type": "execute_result"
    }
   ],
   "source": [
    "my_unsorted_list = [4, 5, 9, 7, 1, 9]\n",
    "\n",
    "sort(my_unsorted_list)"
   ]
  },
  {
   "cell_type": "code",
   "execution_count": 126,
   "metadata": {},
   "outputs": [
    {
     "data": {
      "text/plain": [
       "6-element Array{Int64,1}:\n",
       " 4\n",
       " 5\n",
       " 9\n",
       " 7\n",
       " 1\n",
       " 9"
      ]
     },
     "execution_count": 126,
     "metadata": {},
     "output_type": "execute_result"
    }
   ],
   "source": [
    "my_unsorted_list    # not change in place"
   ]
  },
  {
   "cell_type": "code",
   "execution_count": 127,
   "metadata": {},
   "outputs": [
    {
     "data": {
      "text/plain": [
       "6-element Array{Int64,1}:\n",
       " 1\n",
       " 4\n",
       " 5\n",
       " 7\n",
       " 9\n",
       " 9"
      ]
     },
     "execution_count": 127,
     "metadata": {},
     "output_type": "execute_result"
    }
   ],
   "source": [
    "sort!(my_unsorted_list)   # change in place\n",
    "\n",
    "my_unsorted_list"
   ]
  },
  {
   "cell_type": "markdown",
   "metadata": {},
   "source": [
    "Specific functions can be generated if you have more information on the input type.\n",
    "This is called multiple dispatch.\n",
    "\n",
    "The `::` operator attaches type annotations to expressions and variables.\n",
    "\n",
    "How does the documentation for the function square look like after you executed the cell below?"
   ]
  },
  {
   "cell_type": "code",
   "execution_count": 170,
   "metadata": {},
   "outputs": [
    {
     "name": "stdout",
     "output_type": "stream",
     "text": [
      "25\n"
     ]
    }
   ],
   "source": [
    "function square(x::Float64)             # here give more information of the input, this is float\n",
    "  println(\"using function with floats\")\n",
    "  result = x * x\n",
    "  return result\n",
    "end\n",
    "\n",
    "#println(square(4.))\n",
    "#println(square(5.))\n",
    "#println(square(5))   # only the right data type given, then the function works\n",
    "#println(square('a'))"
   ]
  },
  {
   "cell_type": "markdown",
   "metadata": {},
   "source": [
    "More about types in the next section !\n",
    "\n",
    "# Macros\n",
    "Macros provide a method to include generated code in the final body of a program. It is a way of generating a new output expression, given an unevaluated input expression. When your Julia program runs, it first parses and evaluates the macro, and the processed code produced by the macro is eventually evaluated like an ordinary expression.\n",
    "\n",
    "Some nifty basic macros are `@time` and `@show`. `@time` prints the cpu time and memory allocations of an expression."
   ]
  },
  {
   "cell_type": "code",
   "execution_count": 171,
   "metadata": {},
   "outputs": [
    {
     "name": "stdout",
     "output_type": "stream",
     "text": [
      "  0.000000 seconds\n"
     ]
    },
    {
     "data": {
      "text/plain": [
       "100"
      ]
     },
     "execution_count": 171,
     "metadata": {},
     "output_type": "execute_result"
    }
   ],
   "source": [
    "@time square(10)  # show the time of the calculation"
   ]
  },
  {
   "cell_type": "markdown",
   "metadata": {},
   "source": [
    "The `@show` macro is often useful for debugging purposes. It displays both the expression to be evaluated and its result, finally returning the value of the result."
   ]
  },
  {
   "cell_type": "code",
   "execution_count": 172,
   "metadata": {},
   "outputs": [
    {
     "name": "stdout",
     "output_type": "stream",
     "text": [
      "1 + 1 = 2\n"
     ]
    },
    {
     "data": {
      "text/plain": [
       "2"
      ]
     },
     "execution_count": 172,
     "metadata": {},
     "output_type": "execute_result"
    }
   ],
   "source": [
    "@show 1 + 1   # show the process of the calculation-- using it and print to debug"
   ]
  },
  {
   "cell_type": "markdown",
   "metadata": {},
   "source": [
    "# Plotting\n",
    "Quite essential for scientific programming is the visualisation of the results. `Plots` is the Julia package that handles a lot of the visualisation. `rand(10)`, returns an array of 10 random floats between 0 and 1."
   ]
  },
  {
   "cell_type": "code",
   "execution_count": 175,
   "metadata": {},
   "outputs": [
    {
     "name": "stderr",
     "output_type": "stream",
     "text": [
      "\u001b[32m\u001b[1m   Building\u001b[22m\u001b[39m GR → `~/.julia/packages/GR/cRdXQ/deps/build.log`\n"
     ]
    }
   ],
   "source": [
    "import Pkg\n",
    "ENV[\"GRDIR\"]=\"\"\n",
    "Pkg.build(\"GR\")"
   ]
  },
  {
   "cell_type": "code",
   "execution_count": 176,
   "metadata": {},
   "outputs": [
    {
     "data": {
      "image/svg+xml": [
       "<?xml version=\"1.0\" encoding=\"utf-8\"?>\n",
       "<svg xmlns=\"http://www.w3.org/2000/svg\" xmlns:xlink=\"http://www.w3.org/1999/xlink\" width=\"600\" height=\"400\" viewBox=\"0 0 2400 1600\">\n",
       "<defs>\n",
       "  <clipPath id=\"clip750\">\n",
       "    <rect x=\"0\" y=\"0\" width=\"2400\" height=\"1600\"/>\n",
       "  </clipPath>\n",
       "</defs>\n",
       "<path clip-path=\"url(#clip750)\" d=\"\n",
       "M0 1600 L2400 1600 L2400 0 L0 0  Z\n",
       "  \" fill=\"#ffffff\" fill-rule=\"evenodd\" fill-opacity=\"1\"/>\n",
       "<defs>\n",
       "  <clipPath id=\"clip751\">\n",
       "    <rect x=\"480\" y=\"0\" width=\"1681\" height=\"1600\"/>\n",
       "  </clipPath>\n",
       "</defs>\n",
       "<path clip-path=\"url(#clip750)\" d=\"\n",
       "M188.524 1423.18 L2352.76 1423.18 L2352.76 123.472 L188.524 123.472  Z\n",
       "  \" fill=\"#ffffff\" fill-rule=\"evenodd\" fill-opacity=\"1\"/>\n",
       "<defs>\n",
       "  <clipPath id=\"clip752\">\n",
       "    <rect x=\"188\" y=\"123\" width=\"2165\" height=\"1301\"/>\n",
       "  </clipPath>\n",
       "</defs>\n",
       "<polyline clip-path=\"url(#clip752)\" style=\"stroke:#000000; stroke-width:2; stroke-opacity:0.1; fill:none\" points=\"\n",
       "  476.634,1423.18 476.634,123.472 \n",
       "  \"/>\n",
       "<polyline clip-path=\"url(#clip752)\" style=\"stroke:#000000; stroke-width:2; stroke-opacity:0.1; fill:none\" points=\"\n",
       "  930.352,1423.18 930.352,123.472 \n",
       "  \"/>\n",
       "<polyline clip-path=\"url(#clip752)\" style=\"stroke:#000000; stroke-width:2; stroke-opacity:0.1; fill:none\" points=\"\n",
       "  1384.07,1423.18 1384.07,123.472 \n",
       "  \"/>\n",
       "<polyline clip-path=\"url(#clip752)\" style=\"stroke:#000000; stroke-width:2; stroke-opacity:0.1; fill:none\" points=\"\n",
       "  1837.79,1423.18 1837.79,123.472 \n",
       "  \"/>\n",
       "<polyline clip-path=\"url(#clip752)\" style=\"stroke:#000000; stroke-width:2; stroke-opacity:0.1; fill:none\" points=\"\n",
       "  2291.5,1423.18 2291.5,123.472 \n",
       "  \"/>\n",
       "<polyline clip-path=\"url(#clip752)\" style=\"stroke:#000000; stroke-width:2; stroke-opacity:0.1; fill:none\" points=\"\n",
       "  188.524,1337.76 2352.76,1337.76 \n",
       "  \"/>\n",
       "<polyline clip-path=\"url(#clip752)\" style=\"stroke:#000000; stroke-width:2; stroke-opacity:0.1; fill:none\" points=\"\n",
       "  188.524,1029.84 2352.76,1029.84 \n",
       "  \"/>\n",
       "<polyline clip-path=\"url(#clip752)\" style=\"stroke:#000000; stroke-width:2; stroke-opacity:0.1; fill:none\" points=\"\n",
       "  188.524,721.912 2352.76,721.912 \n",
       "  \"/>\n",
       "<polyline clip-path=\"url(#clip752)\" style=\"stroke:#000000; stroke-width:2; stroke-opacity:0.1; fill:none\" points=\"\n",
       "  188.524,413.986 2352.76,413.986 \n",
       "  \"/>\n",
       "<polyline clip-path=\"url(#clip750)\" style=\"stroke:#000000; stroke-width:4; stroke-opacity:1; fill:none\" points=\"\n",
       "  188.524,1423.18 2352.76,1423.18 \n",
       "  \"/>\n",
       "<polyline clip-path=\"url(#clip750)\" style=\"stroke:#000000; stroke-width:4; stroke-opacity:1; fill:none\" points=\"\n",
       "  188.524,1423.18 188.524,123.472 \n",
       "  \"/>\n",
       "<polyline clip-path=\"url(#clip750)\" style=\"stroke:#000000; stroke-width:4; stroke-opacity:1; fill:none\" points=\"\n",
       "  476.634,1423.18 476.634,1407.58 \n",
       "  \"/>\n",
       "<polyline clip-path=\"url(#clip750)\" style=\"stroke:#000000; stroke-width:4; stroke-opacity:1; fill:none\" points=\"\n",
       "  930.352,1423.18 930.352,1407.58 \n",
       "  \"/>\n",
       "<polyline clip-path=\"url(#clip750)\" style=\"stroke:#000000; stroke-width:4; stroke-opacity:1; fill:none\" points=\"\n",
       "  1384.07,1423.18 1384.07,1407.58 \n",
       "  \"/>\n",
       "<polyline clip-path=\"url(#clip750)\" style=\"stroke:#000000; stroke-width:4; stroke-opacity:1; fill:none\" points=\"\n",
       "  1837.79,1423.18 1837.79,1407.58 \n",
       "  \"/>\n",
       "<polyline clip-path=\"url(#clip750)\" style=\"stroke:#000000; stroke-width:4; stroke-opacity:1; fill:none\" points=\"\n",
       "  2291.5,1423.18 2291.5,1407.58 \n",
       "  \"/>\n",
       "<polyline clip-path=\"url(#clip750)\" style=\"stroke:#000000; stroke-width:4; stroke-opacity:1; fill:none\" points=\"\n",
       "  188.524,1337.76 214.495,1337.76 \n",
       "  \"/>\n",
       "<polyline clip-path=\"url(#clip750)\" style=\"stroke:#000000; stroke-width:4; stroke-opacity:1; fill:none\" points=\"\n",
       "  188.524,1029.84 214.495,1029.84 \n",
       "  \"/>\n",
       "<polyline clip-path=\"url(#clip750)\" style=\"stroke:#000000; stroke-width:4; stroke-opacity:1; fill:none\" points=\"\n",
       "  188.524,721.912 214.495,721.912 \n",
       "  \"/>\n",
       "<polyline clip-path=\"url(#clip750)\" style=\"stroke:#000000; stroke-width:4; stroke-opacity:1; fill:none\" points=\"\n",
       "  188.524,413.986 214.495,413.986 \n",
       "  \"/>\n",
       "<path clip-path=\"url(#clip750)\" d=\"M 0 0 M471.287 1472.72 L487.607 1472.72 L487.607 1476.65 L465.662 1476.65 L465.662 1472.72 Q468.324 1469.96 472.908 1465.33 Q477.514 1460.68 478.695 1459.34 Q480.94 1456.81 481.82 1455.08 Q482.722 1453.32 482.722 1451.63 Q482.722 1448.87 480.778 1447.14 Q478.857 1445.4 475.755 1445.4 Q473.556 1445.4 471.102 1446.17 Q468.671 1446.93 465.894 1448.48 L465.894 1443.76 Q468.718 1442.62 471.171 1442.05 Q473.625 1441.47 475.662 1441.47 Q481.033 1441.47 484.227 1444.15 Q487.421 1446.84 487.421 1451.33 Q487.421 1453.46 486.611 1455.38 Q485.824 1457.28 483.718 1459.87 Q483.139 1460.54 480.037 1463.76 Q476.935 1466.95 471.287 1472.72 Z\" fill=\"#000000\" fill-rule=\"evenodd\" fill-opacity=\"1\" /><path clip-path=\"url(#clip750)\" d=\"M 0 0 M933.361 1446.17 L921.556 1464.61 L933.361 1464.61 L933.361 1446.17 M932.134 1442.09 L938.014 1442.09 L938.014 1464.61 L942.944 1464.61 L942.944 1468.5 L938.014 1468.5 L938.014 1476.65 L933.361 1476.65 L933.361 1468.5 L917.759 1468.5 L917.759 1463.99 L932.134 1442.09 Z\" fill=\"#000000\" fill-rule=\"evenodd\" fill-opacity=\"1\" /><path clip-path=\"url(#clip750)\" d=\"M 0 0 M1384.47 1457.51 Q1381.33 1457.51 1379.47 1459.66 Q1377.65 1461.81 1377.65 1465.56 Q1377.65 1469.29 1379.47 1471.47 Q1381.33 1473.62 1384.47 1473.62 Q1387.62 1473.62 1389.45 1471.47 Q1391.3 1469.29 1391.3 1465.56 Q1391.3 1461.81 1389.45 1459.66 Q1387.62 1457.51 1384.47 1457.51 M1393.76 1442.86 L1393.76 1447.11 Q1392 1446.28 1390.19 1445.84 Q1388.41 1445.4 1386.65 1445.4 Q1382.02 1445.4 1379.57 1448.53 Q1377.14 1451.65 1376.79 1457.97 Q1378.15 1455.96 1380.22 1454.89 Q1382.28 1453.8 1384.75 1453.8 Q1389.96 1453.8 1392.97 1456.98 Q1396 1460.12 1396 1465.56 Q1396 1470.89 1392.85 1474.11 Q1389.71 1477.32 1384.47 1477.32 Q1378.48 1477.32 1375.31 1472.74 Q1372.14 1468.13 1372.14 1459.41 Q1372.14 1451.21 1376.03 1446.35 Q1379.91 1441.47 1386.47 1441.47 Q1388.22 1441.47 1390.01 1441.81 Q1391.81 1442.16 1393.76 1442.86 Z\" fill=\"#000000\" fill-rule=\"evenodd\" fill-opacity=\"1\" /><path clip-path=\"url(#clip750)\" d=\"M 0 0 M1837.79 1460.24 Q1834.45 1460.24 1832.53 1462.02 Q1830.63 1463.8 1830.63 1466.93 Q1830.63 1470.05 1832.53 1471.84 Q1834.45 1473.62 1837.79 1473.62 Q1841.12 1473.62 1843.04 1471.84 Q1844.96 1470.03 1844.96 1466.93 Q1844.96 1463.8 1843.04 1462.02 Q1841.14 1460.24 1837.79 1460.24 M1833.11 1458.25 Q1830.1 1457.51 1828.41 1455.45 Q1826.75 1453.39 1826.75 1450.43 Q1826.75 1446.28 1829.68 1443.87 Q1832.65 1441.47 1837.79 1441.47 Q1842.95 1441.47 1845.89 1443.87 Q1848.83 1446.28 1848.83 1450.43 Q1848.83 1453.39 1847.14 1455.45 Q1845.47 1457.51 1842.49 1458.25 Q1845.87 1459.04 1847.74 1461.33 Q1849.64 1463.62 1849.64 1466.93 Q1849.64 1471.95 1846.56 1474.64 Q1843.5 1477.32 1837.79 1477.32 Q1832.07 1477.32 1828.99 1474.64 Q1825.93 1471.95 1825.93 1466.93 Q1825.93 1463.62 1827.83 1461.33 Q1829.73 1459.04 1833.11 1458.25 M1831.4 1450.86 Q1831.4 1453.55 1833.06 1455.05 Q1834.75 1456.56 1837.79 1456.56 Q1840.8 1456.56 1842.49 1455.05 Q1844.2 1453.55 1844.2 1450.86 Q1844.2 1448.18 1842.49 1446.68 Q1840.8 1445.17 1837.79 1445.17 Q1834.75 1445.17 1833.06 1446.68 Q1831.4 1448.18 1831.4 1450.86 Z\" fill=\"#000000\" fill-rule=\"evenodd\" fill-opacity=\"1\" /><path clip-path=\"url(#clip750)\" d=\"M 0 0 M2268.38 1472.72 L2276.02 1472.72 L2276.02 1446.35 L2267.71 1448.02 L2267.71 1443.76 L2275.97 1442.09 L2280.65 1442.09 L2280.65 1472.72 L2288.29 1472.72 L2288.29 1476.65 L2268.38 1476.65 L2268.38 1472.72 Z\" fill=\"#000000\" fill-rule=\"evenodd\" fill-opacity=\"1\" /><path clip-path=\"url(#clip750)\" d=\"M 0 0 M2303.36 1445.17 Q2299.74 1445.17 2297.92 1448.74 Q2296.11 1452.28 2296.11 1459.41 Q2296.11 1466.51 2297.92 1470.08 Q2299.74 1473.62 2303.36 1473.62 Q2306.99 1473.62 2308.8 1470.08 Q2310.62 1466.51 2310.62 1459.41 Q2310.62 1452.28 2308.8 1448.74 Q2306.99 1445.17 2303.36 1445.17 M2303.36 1441.47 Q2309.17 1441.47 2312.22 1446.07 Q2315.3 1450.66 2315.3 1459.41 Q2315.3 1468.13 2312.22 1472.74 Q2309.17 1477.32 2303.36 1477.32 Q2297.55 1477.32 2294.47 1472.74 Q2291.41 1468.13 2291.41 1459.41 Q2291.41 1450.66 2294.47 1446.07 Q2297.55 1441.47 2303.36 1441.47 Z\" fill=\"#000000\" fill-rule=\"evenodd\" fill-opacity=\"1\" /><path clip-path=\"url(#clip750)\" d=\"M 0 0 M126.26 1340.16 L138.737 1340.16 L138.737 1343.96 L126.26 1343.96 L126.26 1340.16 Z\" fill=\"#000000\" fill-rule=\"evenodd\" fill-opacity=\"1\" /><path clip-path=\"url(#clip750)\" d=\"M 0 0 M144.617 1351.11 L152.255 1351.11 L152.255 1324.74 L143.945 1326.41 L143.945 1322.15 L152.209 1320.48 L156.885 1320.48 L156.885 1351.11 L164.524 1351.11 L164.524 1355.04 L144.617 1355.04 L144.617 1351.11 Z\" fill=\"#000000\" fill-rule=\"evenodd\" fill-opacity=\"1\" /><path clip-path=\"url(#clip750)\" d=\"M 0 0 M152.579 1015.64 Q148.968 1015.64 147.14 1019.2 Q145.334 1022.74 145.334 1029.87 Q145.334 1036.98 147.14 1040.54 Q148.968 1044.09 152.579 1044.09 Q156.214 1044.09 158.019 1040.54 Q159.848 1036.98 159.848 1029.87 Q159.848 1022.74 158.019 1019.2 Q156.214 1015.64 152.579 1015.64 M152.579 1011.93 Q158.39 1011.93 161.445 1016.54 Q164.524 1021.12 164.524 1029.87 Q164.524 1038.6 161.445 1043.21 Q158.39 1047.79 152.579 1047.79 Q146.769 1047.79 143.691 1043.21 Q140.635 1038.6 140.635 1029.87 Q140.635 1021.12 143.691 1016.54 Q146.769 1011.93 152.579 1011.93 Z\" fill=\"#000000\" fill-rule=\"evenodd\" fill-opacity=\"1\" /><path clip-path=\"url(#clip750)\" d=\"M 0 0 M144.617 735.257 L152.255 735.257 L152.255 708.891 L143.945 710.558 L143.945 706.299 L152.209 704.632 L156.885 704.632 L156.885 735.257 L164.524 735.257 L164.524 739.192 L144.617 739.192 L144.617 735.257 Z\" fill=\"#000000\" fill-rule=\"evenodd\" fill-opacity=\"1\" /><path clip-path=\"url(#clip750)\" d=\"M 0 0 M148.204 427.331 L164.524 427.331 L164.524 431.266 L142.58 431.266 L142.58 427.331 Q145.242 424.577 149.825 419.947 Q154.431 415.294 155.612 413.952 Q157.857 411.429 158.737 409.693 Q159.64 407.933 159.64 406.243 Q159.64 403.489 157.695 401.753 Q155.774 400.017 152.672 400.017 Q150.473 400.017 148.019 400.781 Q145.589 401.544 142.811 403.095 L142.811 398.373 Q145.635 397.239 148.089 396.66 Q150.542 396.081 152.579 396.081 Q157.95 396.081 161.144 398.767 Q164.339 401.452 164.339 405.943 Q164.339 408.072 163.528 409.993 Q162.741 411.892 160.635 414.484 Q160.056 415.155 156.954 418.373 Q153.853 421.567 148.204 427.331 Z\" fill=\"#000000\" fill-rule=\"evenodd\" fill-opacity=\"1\" /><path clip-path=\"url(#clip750)\" d=\"M 0 0 M925.037 12.096 L937.23 12.096 L952.664 53.2532 L968.179 12.096 L980.372 12.096 L980.372 72.576 L972.392 72.576 L972.392 19.4686 L956.796 60.9499 L948.573 60.9499 L932.977 19.4686 L932.977 72.576 L925.037 72.576 L925.037 12.096 Z\" fill=\"#000000\" fill-rule=\"evenodd\" fill-opacity=\"1\" /><path clip-path=\"url(#clip750)\" d=\"M 0 0 M1007.07 76.7889 Q1003.91 84.8907 1000.91 87.3618 Q997.913 89.8329 992.89 89.8329 L986.935 89.8329 L986.935 83.5945 L991.31 83.5945 Q994.388 83.5945 996.09 82.1361 Q997.791 80.6778 999.857 75.2496 L1001.19 71.8468 L982.843 27.2059 L990.743 27.2059 L1004.92 62.6918 L1019.1 27.2059 L1027 27.2059 L1007.07 76.7889 Z\" fill=\"#000000\" fill-rule=\"evenodd\" fill-opacity=\"1\" /><path clip-path=\"url(#clip750)\" d=\"M 0 0 M1068.4 65.7705 L1068.4 89.8329 L1060.9 89.8329 L1060.9 27.2059 L1068.4 27.2059 L1068.4 34.0924 Q1070.75 30.0415 1074.31 28.0971 Q1077.92 26.1121 1082.9 26.1121 Q1091.16 26.1121 1096.31 32.6746 Q1101.49 39.2371 1101.49 49.9314 Q1101.49 60.6258 1096.31 67.1883 Q1091.16 73.7508 1082.9 73.7508 Q1077.92 73.7508 1074.31 71.8063 Q1070.75 69.8214 1068.4 65.7705 M1093.76 49.9314 Q1093.76 41.7081 1090.35 37.0496 Q1086.99 32.3505 1081.08 32.3505 Q1075.16 32.3505 1071.76 37.0496 Q1068.4 41.7081 1068.4 49.9314 Q1068.4 58.1548 1071.76 62.8538 Q1075.16 67.5124 1081.08 67.5124 Q1086.99 67.5124 1090.35 62.8538 Q1093.76 58.1548 1093.76 49.9314 Z\" fill=\"#000000\" fill-rule=\"evenodd\" fill-opacity=\"1\" /><path clip-path=\"url(#clip750)\" d=\"M 0 0 M1135.6 34.1734 Q1134.35 33.4443 1132.85 33.1202 Q1131.39 32.7556 1129.61 32.7556 Q1123.29 32.7556 1119.89 36.8875 Q1116.52 40.9789 1116.52 48.6757 L1116.52 72.576 L1109.03 72.576 L1109.03 27.2059 L1116.52 27.2059 L1116.52 34.2544 Q1118.87 30.1225 1122.64 28.1376 Q1126.41 26.1121 1131.8 26.1121 Q1132.56 26.1121 1133.5 26.2337 Q1134.43 26.3147 1135.56 26.5172 L1135.6 34.1734 Z\" fill=\"#000000\" fill-rule=\"evenodd\" fill-opacity=\"1\" /><path clip-path=\"url(#clip750)\" d=\"M 0 0 M1180.41 48.0275 L1180.41 51.6733 L1146.14 51.6733 Q1146.62 59.3701 1150.75 63.421 Q1154.93 67.4314 1162.34 67.4314 Q1166.63 67.4314 1170.64 66.3781 Q1174.69 65.3249 1178.66 63.2184 L1178.66 70.267 Q1174.65 71.9684 1170.44 72.8596 Q1166.23 73.7508 1161.89 73.7508 Q1151.04 73.7508 1144.68 67.4314 Q1138.36 61.1119 1138.36 50.3365 Q1138.36 39.1965 1144.35 32.6746 Q1150.39 26.1121 1160.6 26.1121 Q1169.75 26.1121 1175.06 32.0264 Q1180.41 37.9003 1180.41 48.0275 M1172.95 45.84 Q1172.87 39.7232 1169.51 36.0774 Q1166.19 32.4315 1160.68 32.4315 Q1154.44 32.4315 1150.67 35.9558 Q1146.95 39.4801 1146.38 45.8805 L1172.95 45.84 Z\" fill=\"#000000\" fill-rule=\"evenodd\" fill-opacity=\"1\" /><path clip-path=\"url(#clip750)\" d=\"M 0 0 M1195.6 14.324 L1195.6 27.2059 L1210.95 27.2059 L1210.95 32.9987 L1195.6 32.9987 L1195.6 57.6282 Q1195.6 63.1779 1197.1 64.7578 Q1198.64 66.3376 1203.29 66.3376 L1210.95 66.3376 L1210.95 72.576 L1203.29 72.576 Q1194.67 72.576 1191.38 69.3758 Q1188.1 66.1351 1188.1 57.6282 L1188.1 32.9987 L1182.63 32.9987 L1182.63 27.2059 L1188.1 27.2059 L1188.1 14.324 L1195.6 14.324 Z\" fill=\"#000000\" fill-rule=\"evenodd\" fill-opacity=\"1\" /><path clip-path=\"url(#clip750)\" d=\"M 0 0 M1226.14 14.324 L1226.14 27.2059 L1241.49 27.2059 L1241.49 32.9987 L1226.14 32.9987 L1226.14 57.6282 Q1226.14 63.1779 1227.64 64.7578 Q1229.18 66.3376 1233.84 66.3376 L1241.49 66.3376 L1241.49 72.576 L1233.84 72.576 Q1225.21 72.576 1221.93 69.3758 Q1218.65 66.1351 1218.65 57.6282 L1218.65 32.9987 L1213.18 32.9987 L1213.18 27.2059 L1218.65 27.2059 L1218.65 14.324 L1226.14 14.324 Z\" fill=\"#000000\" fill-rule=\"evenodd\" fill-opacity=\"1\" /><path clip-path=\"url(#clip750)\" d=\"M 0 0 M1268.19 76.7889 Q1265.03 84.8907 1262.03 87.3618 Q1259.03 89.8329 1254.01 89.8329 L1248.06 89.8329 L1248.06 83.5945 L1252.43 83.5945 Q1255.51 83.5945 1257.21 82.1361 Q1258.91 80.6778 1260.98 75.2496 L1262.32 71.8468 L1243.96 27.2059 L1251.86 27.2059 L1266.04 62.6918 L1280.22 27.2059 L1288.12 27.2059 L1268.19 76.7889 Z\" fill=\"#000000\" fill-rule=\"evenodd\" fill-opacity=\"1\" /><path clip-path=\"url(#clip750)\" d=\"M 0 0 M1322.63 12.096 L1330.82 12.096 L1330.82 68.3631 Q1330.82 79.3005 1326.64 84.2426 Q1322.51 89.1847 1313.32 89.1847 L1310.2 89.1847 L1310.2 82.2982 L1312.75 82.2982 Q1318.18 82.2982 1320.41 79.26 Q1322.63 76.2218 1322.63 68.3631 L1322.63 12.096 Z\" fill=\"#000000\" fill-rule=\"evenodd\" fill-opacity=\"1\" /><path clip-path=\"url(#clip750)\" d=\"M 0 0 M1337.86 54.671 L1337.86 27.2059 L1345.32 27.2059 L1345.32 54.3874 Q1345.32 60.8284 1347.83 64.0691 Q1350.34 67.2693 1355.36 67.2693 Q1361.4 67.2693 1364.88 63.421 Q1368.41 59.5726 1368.41 52.9291 L1368.41 27.2059 L1375.86 27.2059 L1375.86 72.576 L1368.41 72.576 L1368.41 65.6084 Q1365.69 69.7404 1362.09 71.7658 Q1358.52 73.7508 1353.78 73.7508 Q1345.97 73.7508 1341.92 68.8897 Q1337.86 64.0286 1337.86 54.671 M1356.62 26.1121 L1356.62 26.1121 Z\" fill=\"#000000\" fill-rule=\"evenodd\" fill-opacity=\"1\" /><path clip-path=\"url(#clip750)\" d=\"M 0 0 M1383.68 9.54393 L1391.13 9.54393 L1391.13 72.576 L1383.68 72.576 L1383.68 9.54393 Z\" fill=\"#000000\" fill-rule=\"evenodd\" fill-opacity=\"1\" /><path clip-path=\"url(#clip750)\" d=\"M 0 0 M1398.95 27.2059 L1406.41 27.2059 L1406.41 72.576 L1398.95 72.576 L1398.95 27.2059 M1398.95 9.54393 L1406.41 9.54393 L1406.41 18.9825 L1398.95 18.9825 L1398.95 9.54393 Z\" fill=\"#000000\" fill-rule=\"evenodd\" fill-opacity=\"1\" /><path clip-path=\"url(#clip750)\" d=\"M 0 0 M1434.84 49.7694 Q1425.81 49.7694 1422.33 51.8354 Q1418.84 53.9013 1418.84 58.8839 Q1418.84 62.8538 1421.43 65.2034 Q1424.07 67.5124 1428.56 67.5124 Q1434.76 67.5124 1438.49 63.1374 Q1442.26 58.7219 1442.26 51.4303 L1442.26 49.7694 L1434.84 49.7694 M1449.71 46.6907 L1449.71 72.576 L1442.26 72.576 L1442.26 65.6895 Q1439.7 69.8214 1435.9 71.8063 Q1432.09 73.7508 1426.58 73.7508 Q1419.61 73.7508 1415.48 69.8619 Q1411.39 65.9325 1411.39 59.3701 Q1411.39 51.7138 1416.49 47.825 Q1421.64 43.9361 1431.81 43.9361 L1442.26 43.9361 L1442.26 43.2069 Q1442.26 38.0623 1438.85 35.2672 Q1435.49 32.4315 1429.37 32.4315 Q1425.49 32.4315 1421.8 33.3632 Q1418.11 34.295 1414.71 36.1584 L1414.71 29.2718 Q1418.8 27.692 1422.65 26.9223 Q1426.5 26.1121 1430.14 26.1121 Q1439.99 26.1121 1444.85 31.2163 Q1449.71 36.3204 1449.71 46.6907 Z\" fill=\"#000000\" fill-rule=\"evenodd\" fill-opacity=\"1\" /><path clip-path=\"url(#clip750)\" d=\"M 0 0 M1491.11 65.7705 L1491.11 89.8329 L1483.62 89.8329 L1483.62 27.2059 L1491.11 27.2059 L1491.11 34.0924 Q1493.46 30.0415 1497.02 28.0971 Q1500.63 26.1121 1505.61 26.1121 Q1513.88 26.1121 1519.02 32.6746 Q1524.21 39.2371 1524.21 49.9314 Q1524.21 60.6258 1519.02 67.1883 Q1513.88 73.7508 1505.61 73.7508 Q1500.63 73.7508 1497.02 71.8063 Q1493.46 69.8214 1491.11 65.7705 M1516.47 49.9314 Q1516.47 41.7081 1513.07 37.0496 Q1509.7 32.3505 1503.79 32.3505 Q1497.88 32.3505 1494.47 37.0496 Q1491.11 41.7081 1491.11 49.9314 Q1491.11 58.1548 1494.47 62.8538 Q1497.88 67.5124 1503.79 67.5124 Q1509.7 67.5124 1513.07 62.8538 Q1516.47 58.1548 1516.47 49.9314 Z\" fill=\"#000000\" fill-rule=\"evenodd\" fill-opacity=\"1\" /><path clip-path=\"url(#clip750)\" d=\"M 0 0 M1532.02 9.54393 L1539.48 9.54393 L1539.48 72.576 L1532.02 72.576 L1532.02 9.54393 Z\" fill=\"#000000\" fill-rule=\"evenodd\" fill-opacity=\"1\" /><path clip-path=\"url(#clip750)\" d=\"M 0 0 M1564.88 32.4315 Q1558.88 32.4315 1555.4 37.1306 Q1551.91 41.7891 1551.91 49.9314 Q1551.91 58.0738 1555.36 62.7728 Q1558.84 67.4314 1564.88 67.4314 Q1570.83 67.4314 1574.32 62.7323 Q1577.8 58.0333 1577.8 49.9314 Q1577.8 41.8701 1574.32 37.1711 Q1570.83 32.4315 1564.88 32.4315 M1564.88 26.1121 Q1574.6 26.1121 1580.15 32.4315 Q1585.7 38.7509 1585.7 49.9314 Q1585.7 61.0714 1580.15 67.4314 Q1574.6 73.7508 1564.88 73.7508 Q1555.11 73.7508 1549.56 67.4314 Q1544.06 61.0714 1544.06 49.9314 Q1544.06 38.7509 1549.56 32.4315 Q1555.11 26.1121 1564.88 26.1121 Z\" fill=\"#000000\" fill-rule=\"evenodd\" fill-opacity=\"1\" /><path clip-path=\"url(#clip750)\" d=\"M 0 0 M1600.89 14.324 L1600.89 27.2059 L1616.24 27.2059 L1616.24 32.9987 L1600.89 32.9987 L1600.89 57.6282 Q1600.89 63.1779 1602.39 64.7578 Q1603.93 66.3376 1608.59 66.3376 L1616.24 66.3376 L1616.24 72.576 L1608.59 72.576 Q1599.96 72.576 1596.68 69.3758 Q1593.4 66.1351 1593.4 57.6282 L1593.4 32.9987 L1587.93 32.9987 L1587.93 27.2059 L1593.4 27.2059 L1593.4 14.324 L1600.89 14.324 Z\" fill=\"#000000\" fill-rule=\"evenodd\" fill-opacity=\"1\" /><path clip-path=\"url(#clip750)\" d=\"M 0 0 M1287.25 1520.4 L1274.36 1537.74 L1287.92 1556.04 L1281.02 1556.04 L1270.64 1542.04 L1260.26 1556.04 L1253.36 1556.04 L1267.2 1537.39 L1254.53 1520.4 L1261.44 1520.4 L1270.89 1533.1 L1280.35 1520.4 L1287.25 1520.4 Z\" fill=\"#000000\" fill-rule=\"evenodd\" fill-opacity=\"1\" /><path clip-path=\"url(#clip750)\" d=\"M 0 0 M38.479 800.221 L43.3487 800.221 L43.3487 805.823 Q43.3487 808.974 44.6219 810.215 Q45.895 811.425 49.2052 811.425 L52.3562 811.425 L52.3562 801.781 L56.9077 801.781 L56.9077 811.425 L88.0042 811.425 L88.0042 817.313 L56.9077 817.313 L56.9077 822.915 L52.3562 822.915 L52.3562 817.313 L49.8736 817.313 Q43.9216 817.313 41.2162 814.544 Q38.479 811.775 38.479 805.759 L38.479 800.221 Z\" fill=\"#000000\" fill-rule=\"evenodd\" fill-opacity=\"1\" /><path clip-path=\"url(#clip750)\" d=\"M 0 0 M38.5426 780.01 Q45.8632 784.275 53.0246 786.344 Q60.186 788.413 67.5384 788.413 Q74.8908 788.413 82.1159 786.344 Q89.3091 784.243 96.5979 780.01 L96.5979 785.103 Q89.1182 789.877 81.8931 792.264 Q74.668 794.619 67.5384 794.619 Q60.4406 794.619 53.2474 792.264 Q46.0542 789.909 38.5426 785.103 L38.5426 780.01 Z\" fill=\"#000000\" fill-rule=\"evenodd\" fill-opacity=\"1\" /><path clip-path=\"url(#clip750)\" d=\"M 0 0 M52.3562 744.235 L69.7028 757.125 L88.0042 743.566 L88.0042 750.473 L73.9996 760.849 L88.0042 771.225 L88.0042 778.132 L69.3526 764.287 L52.3562 776.954 L52.3562 770.048 L65.0558 760.595 L52.3562 751.141 L52.3562 744.235 Z\" fill=\"#000000\" fill-rule=\"evenodd\" fill-opacity=\"1\" /><path clip-path=\"url(#clip750)\" d=\"M 0 0 M38.5426 738.346 L38.5426 733.254 Q46.0542 728.48 53.2474 726.124 Q60.4406 723.737 67.5384 723.737 Q74.668 723.737 81.8931 726.124 Q89.1182 728.48 96.5979 733.254 L96.5979 738.346 Q89.3091 734.113 82.1159 732.044 Q74.8908 729.944 67.5384 729.944 Q60.186 729.944 53.0246 732.044 Q45.8632 734.113 38.5426 738.346 Z\" fill=\"#000000\" fill-rule=\"evenodd\" fill-opacity=\"1\" /><polyline clip-path=\"url(#clip752)\" style=\"stroke:#009af9; stroke-width:4; stroke-opacity:1; fill:none\" points=\"\n",
       "  249.776,758.007 476.634,933.933 703.493,812.686 930.352,993.906 1157.21,982.641 1384.07,937.447 1610.93,770.738 1837.79,845.288 2064.65,962.208 2291.5,731.194 \n",
       "  \n",
       "  \"/>\n",
       "<polyline clip-path=\"url(#clip752)\" style=\"stroke:#e26f46; stroke-width:4; stroke-opacity:1; fill:none\" points=\"\n",
       "  249.776,1019.25 476.634,970.086 703.493,1023.27 930.352,932.695 1157.21,881.698 1384.07,875.391 1610.93,934.795 1837.79,926.555 2064.65,725.266 2291.5,959.387 \n",
       "  \n",
       "  \"/>\n",
       "<circle clip-path=\"url(#clip752)\" cx=\"249.776\" cy=\"160.256\" r=\"14\" fill=\"#3da44d\" fill-rule=\"evenodd\" fill-opacity=\"1\" stroke=\"#000000\" stroke-opacity=\"1\" stroke-width=\"3.2\"/>\n",
       "<circle clip-path=\"url(#clip752)\" cx=\"476.634\" cy=\"1386.4\" r=\"14\" fill=\"#3da44d\" fill-rule=\"evenodd\" fill-opacity=\"1\" stroke=\"#000000\" stroke-opacity=\"1\" stroke-width=\"3.2\"/>\n",
       "<circle clip-path=\"url(#clip752)\" cx=\"703.493\" cy=\"634.21\" r=\"14\" fill=\"#3da44d\" fill-rule=\"evenodd\" fill-opacity=\"1\" stroke=\"#000000\" stroke-opacity=\"1\" stroke-width=\"3.2\"/>\n",
       "<circle clip-path=\"url(#clip752)\" cx=\"930.352\" cy=\"850.052\" r=\"14\" fill=\"#3da44d\" fill-rule=\"evenodd\" fill-opacity=\"1\" stroke=\"#000000\" stroke-opacity=\"1\" stroke-width=\"3.2\"/>\n",
       "<circle clip-path=\"url(#clip752)\" cx=\"1157.21\" cy=\"1315.19\" r=\"14\" fill=\"#3da44d\" fill-rule=\"evenodd\" fill-opacity=\"1\" stroke=\"#000000\" stroke-opacity=\"1\" stroke-width=\"3.2\"/>\n",
       "<circle clip-path=\"url(#clip752)\" cx=\"1384.07\" cy=\"1211.88\" r=\"14\" fill=\"#3da44d\" fill-rule=\"evenodd\" fill-opacity=\"1\" stroke=\"#000000\" stroke-opacity=\"1\" stroke-width=\"3.2\"/>\n",
       "<circle clip-path=\"url(#clip752)\" cx=\"1610.93\" cy=\"953.619\" r=\"14\" fill=\"#3da44d\" fill-rule=\"evenodd\" fill-opacity=\"1\" stroke=\"#000000\" stroke-opacity=\"1\" stroke-width=\"3.2\"/>\n",
       "<circle clip-path=\"url(#clip752)\" cx=\"1837.79\" cy=\"1240.39\" r=\"14\" fill=\"#3da44d\" fill-rule=\"evenodd\" fill-opacity=\"1\" stroke=\"#000000\" stroke-opacity=\"1\" stroke-width=\"3.2\"/>\n",
       "<circle clip-path=\"url(#clip752)\" cx=\"2064.65\" cy=\"804.764\" r=\"14\" fill=\"#3da44d\" fill-rule=\"evenodd\" fill-opacity=\"1\" stroke=\"#000000\" stroke-opacity=\"1\" stroke-width=\"3.2\"/>\n",
       "<circle clip-path=\"url(#clip752)\" cx=\"2291.5\" cy=\"942.83\" r=\"14\" fill=\"#3da44d\" fill-rule=\"evenodd\" fill-opacity=\"1\" stroke=\"#000000\" stroke-opacity=\"1\" stroke-width=\"3.2\"/>\n",
       "<path clip-path=\"url(#clip750)\" d=\"\n",
       "M1892.03 448.912 L2280.76 448.912 L2280.76 206.992 L1892.03 206.992  Z\n",
       "  \" fill=\"#ffffff\" fill-rule=\"evenodd\" fill-opacity=\"1\"/>\n",
       "<polyline clip-path=\"url(#clip750)\" style=\"stroke:#000000; stroke-width:4; stroke-opacity:1; fill:none\" points=\"\n",
       "  1892.03,448.912 2280.76,448.912 2280.76,206.992 1892.03,206.992 1892.03,448.912 \n",
       "  \"/>\n",
       "<polyline clip-path=\"url(#clip750)\" style=\"stroke:#009af9; stroke-width:4; stroke-opacity:1; fill:none\" points=\"\n",
       "  1916.03,267.472 2060.03,267.472 \n",
       "  \"/>\n",
       "<path clip-path=\"url(#clip750)\" d=\"M 0 0 M2100.53 248.734 L2100.53 252.275 L2096.46 252.275 Q2094.17 252.275 2093.27 253.201 Q2092.39 254.127 2092.39 256.535 L2092.39 258.826 L2099.4 258.826 L2099.4 262.137 L2092.39 262.137 L2092.39 284.752 L2088.1 284.752 L2088.1 262.137 L2084.03 262.137 L2084.03 258.826 L2088.1 258.826 L2088.1 257.021 Q2088.1 252.692 2090.12 250.725 Q2092.13 248.734 2096.51 248.734 L2100.53 248.734 Z\" fill=\"#000000\" fill-rule=\"evenodd\" fill-opacity=\"1\" /><path clip-path=\"url(#clip750)\" d=\"M 0 0 M2105 258.826 L2109.26 258.826 L2109.26 284.752 L2105 284.752 L2105 258.826 M2105 248.734 L2109.26 248.734 L2109.26 254.127 L2105 254.127 L2105 248.734 Z\" fill=\"#000000\" fill-rule=\"evenodd\" fill-opacity=\"1\" /><path clip-path=\"url(#clip750)\" d=\"M 0 0 M2128.75 262.808 Q2128.03 262.391 2127.18 262.206 Q2126.34 261.998 2125.33 261.998 Q2121.71 261.998 2119.77 264.359 Q2117.85 266.697 2117.85 271.095 L2117.85 284.752 L2113.57 284.752 L2113.57 258.826 L2117.85 258.826 L2117.85 262.854 Q2119.19 260.493 2121.34 259.359 Q2123.5 258.201 2126.58 258.201 Q2127.02 258.201 2127.55 258.271 Q2128.08 258.317 2128.73 258.433 L2128.75 262.808 Z\" fill=\"#000000\" fill-rule=\"evenodd\" fill-opacity=\"1\" /><path clip-path=\"url(#clip750)\" d=\"M 0 0 M2149.75 259.59 L2149.75 263.618 Q2147.94 262.692 2146 262.229 Q2144.05 261.766 2141.97 261.766 Q2138.8 261.766 2137.2 262.738 Q2135.63 263.711 2135.63 265.655 Q2135.63 267.136 2136.76 267.993 Q2137.9 268.826 2141.32 269.59 L2142.78 269.914 Q2147.32 270.886 2149.21 272.669 Q2151.14 274.428 2151.14 277.599 Q2151.14 281.21 2148.27 283.317 Q2145.42 285.423 2140.42 285.423 Q2138.34 285.423 2136.07 285.007 Q2133.82 284.613 2131.32 283.803 L2131.32 279.405 Q2133.68 280.632 2135.97 281.257 Q2138.27 281.859 2140.51 281.859 Q2143.52 281.859 2145.14 280.84 Q2146.76 279.798 2146.76 277.923 Q2146.76 276.187 2145.58 275.261 Q2144.42 274.336 2140.46 273.479 L2138.98 273.132 Q2135.02 272.298 2133.27 270.586 Q2131.51 268.849 2131.51 265.84 Q2131.51 262.183 2134.1 260.192 Q2136.69 258.201 2141.46 258.201 Q2143.82 258.201 2145.9 258.549 Q2147.99 258.896 2149.75 259.59 Z\" fill=\"#000000\" fill-rule=\"evenodd\" fill-opacity=\"1\" /><path clip-path=\"url(#clip750)\" d=\"M 0 0 M2159.82 251.465 L2159.82 258.826 L2168.59 258.826 L2168.59 262.137 L2159.82 262.137 L2159.82 276.211 Q2159.82 279.382 2160.67 280.285 Q2161.55 281.187 2164.21 281.187 L2168.59 281.187 L2168.59 284.752 L2164.21 284.752 Q2159.28 284.752 2157.41 282.923 Q2155.53 281.072 2155.53 276.211 L2155.53 262.137 L2152.41 262.137 L2152.41 258.826 L2155.53 258.826 L2155.53 251.465 L2159.82 251.465 Z\" fill=\"#000000\" fill-rule=\"evenodd\" fill-opacity=\"1\" /><polyline clip-path=\"url(#clip750)\" style=\"stroke:#e26f46; stroke-width:4; stroke-opacity:1; fill:none\" points=\"\n",
       "  1916.03,327.952 2060.03,327.952 \n",
       "  \"/>\n",
       "<path clip-path=\"url(#clip750)\" d=\"M 0 0 M2102.46 320.07 L2102.46 324.098 Q2100.65 323.172 2098.71 322.709 Q2096.76 322.246 2094.68 322.246 Q2091.51 322.246 2089.91 323.218 Q2088.34 324.191 2088.34 326.135 Q2088.34 327.616 2089.47 328.473 Q2090.6 329.306 2094.03 330.07 L2095.49 330.394 Q2100.03 331.366 2101.92 333.149 Q2103.84 334.908 2103.84 338.079 Q2103.84 341.69 2100.97 343.797 Q2098.13 345.903 2093.13 345.903 Q2091.04 345.903 2088.78 345.487 Q2086.53 345.093 2084.03 344.283 L2084.03 339.885 Q2086.39 341.112 2088.68 341.737 Q2090.97 342.339 2093.22 342.339 Q2096.23 342.339 2097.85 341.32 Q2099.47 340.278 2099.47 338.403 Q2099.47 336.667 2098.29 335.741 Q2097.13 334.816 2093.17 333.959 L2091.69 333.612 Q2087.73 332.778 2085.97 331.066 Q2084.22 329.329 2084.22 326.32 Q2084.22 322.663 2086.81 320.672 Q2089.4 318.681 2094.17 318.681 Q2096.53 318.681 2098.61 319.029 Q2100.7 319.376 2102.46 320.07 Z\" fill=\"#000000\" fill-rule=\"evenodd\" fill-opacity=\"1\" /><path clip-path=\"url(#clip750)\" d=\"M 0 0 M2130.49 331.204 L2130.49 333.288 L2110.9 333.288 Q2111.18 337.686 2113.54 340.001 Q2115.93 342.292 2120.16 342.292 Q2122.62 342.292 2124.91 341.69 Q2127.22 341.089 2129.49 339.885 L2129.49 343.913 Q2127.2 344.885 2124.79 345.394 Q2122.39 345.903 2119.91 345.903 Q2113.71 345.903 2110.07 342.292 Q2106.46 338.681 2106.46 332.524 Q2106.46 326.158 2109.89 322.431 Q2113.34 318.681 2119.17 318.681 Q2124.4 318.681 2127.43 322.061 Q2130.49 325.417 2130.49 331.204 M2126.23 329.954 Q2126.18 326.459 2124.26 324.376 Q2122.36 322.292 2119.21 322.292 Q2115.65 322.292 2113.5 324.306 Q2111.37 326.32 2111.04 329.978 L2126.23 329.954 Z\" fill=\"#000000\" fill-rule=\"evenodd\" fill-opacity=\"1\" /><path clip-path=\"url(#clip750)\" d=\"M 0 0 M2153.61 320.302 L2153.61 324.283 Q2151.81 323.288 2149.98 322.802 Q2148.17 322.292 2146.32 322.292 Q2142.18 322.292 2139.89 324.931 Q2137.59 327.547 2137.59 332.292 Q2137.59 337.038 2139.89 339.677 Q2142.18 342.292 2146.32 342.292 Q2148.17 342.292 2149.98 341.806 Q2151.81 341.297 2153.61 340.302 L2153.61 344.237 Q2151.83 345.07 2149.91 345.487 Q2148.01 345.903 2145.86 345.903 Q2140 345.903 2136.55 342.223 Q2133.1 338.542 2133.1 332.292 Q2133.1 325.95 2136.58 322.316 Q2140.07 318.681 2146.14 318.681 Q2148.1 318.681 2149.98 319.098 Q2151.85 319.492 2153.61 320.302 Z\" fill=\"#000000\" fill-rule=\"evenodd\" fill-opacity=\"1\" /><path clip-path=\"url(#clip750)\" d=\"M 0 0 M2168.13 322.292 Q2164.7 322.292 2162.71 324.978 Q2160.72 327.64 2160.72 332.292 Q2160.72 336.945 2162.69 339.63 Q2164.68 342.292 2168.13 342.292 Q2171.53 342.292 2173.52 339.607 Q2175.51 336.922 2175.51 332.292 Q2175.51 327.686 2173.52 325.001 Q2171.53 322.292 2168.13 322.292 M2168.13 318.681 Q2173.68 318.681 2176.85 322.292 Q2180.02 325.904 2180.02 332.292 Q2180.02 338.658 2176.85 342.292 Q2173.68 345.903 2168.13 345.903 Q2162.55 345.903 2159.38 342.292 Q2156.23 338.658 2156.23 332.292 Q2156.23 325.904 2159.38 322.292 Q2162.55 318.681 2168.13 318.681 Z\" fill=\"#000000\" fill-rule=\"evenodd\" fill-opacity=\"1\" /><path clip-path=\"url(#clip750)\" d=\"M 0 0 M2206.04 329.584 L2206.04 345.232 L2201.78 345.232 L2201.78 329.723 Q2201.78 326.042 2200.35 324.214 Q2198.91 322.385 2196.04 322.385 Q2192.59 322.385 2190.6 324.584 Q2188.61 326.783 2188.61 330.579 L2188.61 345.232 L2184.33 345.232 L2184.33 319.306 L2188.61 319.306 L2188.61 323.334 Q2190.14 320.996 2192.2 319.839 Q2194.28 318.681 2196.99 318.681 Q2201.46 318.681 2203.75 321.459 Q2206.04 324.214 2206.04 329.584 Z\" fill=\"#000000\" fill-rule=\"evenodd\" fill-opacity=\"1\" /><path clip-path=\"url(#clip750)\" d=\"M 0 0 M2227.57 323.242 L2227.57 309.214 L2231.83 309.214 L2231.83 345.232 L2227.57 345.232 L2227.57 341.343 Q2226.23 343.658 2224.17 344.792 Q2222.13 345.903 2219.26 345.903 Q2214.56 345.903 2211.6 342.153 Q2208.66 338.403 2208.66 332.292 Q2208.66 326.181 2211.6 322.431 Q2214.56 318.681 2219.26 318.681 Q2222.13 318.681 2224.17 319.816 Q2226.23 320.927 2227.57 323.242 M2213.06 332.292 Q2213.06 336.991 2214.98 339.677 Q2216.92 342.339 2220.3 342.339 Q2223.68 342.339 2225.63 339.677 Q2227.57 336.991 2227.57 332.292 Q2227.57 327.593 2225.63 324.931 Q2223.68 322.246 2220.3 322.246 Q2216.92 322.246 2214.98 324.931 Q2213.06 327.593 2213.06 332.292 Z\" fill=\"#000000\" fill-rule=\"evenodd\" fill-opacity=\"1\" /><circle clip-path=\"url(#clip750)\" cx=\"2000.03\" cy=\"388.432\" r=\"23\" fill=\"#3da44d\" fill-rule=\"evenodd\" fill-opacity=\"1\" stroke=\"#000000\" stroke-opacity=\"1\" stroke-width=\"5.12\"/>\n",
       "<path clip-path=\"url(#clip750)\" d=\"M 0 0 M2102.46 380.55 L2102.46 384.578 Q2100.65 383.652 2098.71 383.189 Q2096.76 382.726 2094.68 382.726 Q2091.51 382.726 2089.91 383.698 Q2088.34 384.671 2088.34 386.615 Q2088.34 388.096 2089.47 388.953 Q2090.6 389.786 2094.03 390.55 L2095.49 390.874 Q2100.03 391.846 2101.92 393.629 Q2103.84 395.388 2103.84 398.559 Q2103.84 402.17 2100.97 404.277 Q2098.13 406.383 2093.13 406.383 Q2091.04 406.383 2088.78 405.967 Q2086.53 405.573 2084.03 404.763 L2084.03 400.365 Q2086.39 401.592 2088.68 402.217 Q2090.97 402.819 2093.22 402.819 Q2096.23 402.819 2097.85 401.8 Q2099.47 400.758 2099.47 398.883 Q2099.47 397.147 2098.29 396.221 Q2097.13 395.296 2093.17 394.439 L2091.69 394.092 Q2087.73 393.258 2085.97 391.546 Q2084.22 389.809 2084.22 386.8 Q2084.22 383.143 2086.81 381.152 Q2089.4 379.161 2094.17 379.161 Q2096.53 379.161 2098.61 379.509 Q2100.7 379.856 2102.46 380.55 Z\" fill=\"#000000\" fill-rule=\"evenodd\" fill-opacity=\"1\" /><path clip-path=\"url(#clip750)\" d=\"M 0 0 M2126.97 380.782 L2126.97 384.763 Q2125.16 383.768 2123.34 383.282 Q2121.53 382.772 2119.68 382.772 Q2115.53 382.772 2113.24 385.411 Q2110.95 388.027 2110.95 392.772 Q2110.95 397.518 2113.24 400.157 Q2115.53 402.772 2119.68 402.772 Q2121.53 402.772 2123.34 402.286 Q2125.16 401.777 2126.97 400.782 L2126.97 404.717 Q2125.19 405.55 2123.27 405.967 Q2121.37 406.383 2119.21 406.383 Q2113.36 406.383 2109.91 402.703 Q2106.46 399.022 2106.46 392.772 Q2106.46 386.43 2109.93 382.796 Q2113.43 379.161 2119.49 379.161 Q2121.46 379.161 2123.34 379.578 Q2125.21 379.972 2126.97 380.782 Z\" fill=\"#000000\" fill-rule=\"evenodd\" fill-opacity=\"1\" /><path clip-path=\"url(#clip750)\" d=\"M 0 0 M2143.22 392.68 Q2138.06 392.68 2136.07 393.86 Q2134.08 395.041 2134.08 397.888 Q2134.08 400.157 2135.56 401.499 Q2137.06 402.819 2139.63 402.819 Q2143.17 402.819 2145.3 400.319 Q2147.46 397.796 2147.46 393.629 L2147.46 392.68 L2143.22 392.68 M2151.71 390.921 L2151.71 405.712 L2147.46 405.712 L2147.46 401.777 Q2146 404.138 2143.82 405.272 Q2141.65 406.383 2138.5 406.383 Q2134.52 406.383 2132.15 404.161 Q2129.82 401.916 2129.82 398.166 Q2129.82 393.791 2132.73 391.569 Q2135.67 389.346 2141.48 389.346 L2147.46 389.346 L2147.46 388.93 Q2147.46 385.99 2145.51 384.393 Q2143.59 382.772 2140.09 382.772 Q2137.87 382.772 2135.77 383.305 Q2133.66 383.837 2131.71 384.902 L2131.71 380.967 Q2134.05 380.064 2136.25 379.624 Q2138.45 379.161 2140.53 379.161 Q2146.16 379.161 2148.94 382.078 Q2151.71 384.995 2151.71 390.921 Z\" fill=\"#000000\" fill-rule=\"evenodd\" fill-opacity=\"1\" /><path clip-path=\"url(#clip750)\" d=\"M 0 0 M2160.4 372.425 L2160.4 379.786 L2169.17 379.786 L2169.17 383.097 L2160.4 383.097 L2160.4 397.171 Q2160.4 400.342 2161.25 401.245 Q2162.13 402.147 2164.79 402.147 L2169.17 402.147 L2169.17 405.712 L2164.79 405.712 Q2159.86 405.712 2157.99 403.883 Q2156.11 402.032 2156.11 397.171 L2156.11 383.097 L2152.99 383.097 L2152.99 379.786 L2156.11 379.786 L2156.11 372.425 L2160.4 372.425 Z\" fill=\"#000000\" fill-rule=\"evenodd\" fill-opacity=\"1\" /><path clip-path=\"url(#clip750)\" d=\"M 0 0 M2177.85 372.425 L2177.85 379.786 L2186.62 379.786 L2186.62 383.097 L2177.85 383.097 L2177.85 397.171 Q2177.85 400.342 2178.71 401.245 Q2179.58 402.147 2182.25 402.147 L2186.62 402.147 L2186.62 405.712 L2182.25 405.712 Q2177.32 405.712 2175.44 403.883 Q2173.57 402.032 2173.57 397.171 L2173.57 383.097 L2170.44 383.097 L2170.44 379.786 L2173.57 379.786 L2173.57 372.425 L2177.85 372.425 Z\" fill=\"#000000\" fill-rule=\"evenodd\" fill-opacity=\"1\" /><path clip-path=\"url(#clip750)\" d=\"M 0 0 M2213.27 391.684 L2213.27 393.768 L2193.68 393.768 Q2193.96 398.166 2196.32 400.481 Q2198.71 402.772 2202.94 402.772 Q2205.39 402.772 2207.69 402.17 Q2210 401.569 2212.27 400.365 L2212.27 404.393 Q2209.98 405.365 2207.57 405.874 Q2205.16 406.383 2202.69 406.383 Q2196.48 406.383 2192.85 402.772 Q2189.24 399.161 2189.24 393.004 Q2189.24 386.638 2192.66 382.911 Q2196.11 379.161 2201.95 379.161 Q2207.18 379.161 2210.21 382.541 Q2213.27 385.897 2213.27 391.684 M2209.01 390.434 Q2208.96 386.939 2207.04 384.856 Q2205.14 382.772 2201.99 382.772 Q2198.43 382.772 2196.27 384.786 Q2194.15 386.8 2193.82 390.458 L2209.01 390.434 Z\" fill=\"#000000\" fill-rule=\"evenodd\" fill-opacity=\"1\" /><path clip-path=\"url(#clip750)\" d=\"M 0 0 M2232.76 383.768 Q2232.04 383.351 2231.18 383.166 Q2230.35 382.958 2229.33 382.958 Q2225.72 382.958 2223.77 385.319 Q2221.85 387.657 2221.85 392.055 L2221.85 405.712 L2217.57 405.712 L2217.57 379.786 L2221.85 379.786 L2221.85 383.814 Q2223.2 381.453 2225.35 380.319 Q2227.5 379.161 2230.58 379.161 Q2231.02 379.161 2231.55 379.231 Q2232.08 379.277 2232.73 379.393 L2232.76 383.768 Z\" fill=\"#000000\" fill-rule=\"evenodd\" fill-opacity=\"1\" /></svg>\n"
      ]
     },
     "execution_count": 176,
     "metadata": {},
     "output_type": "execute_result"
    }
   ],
   "source": [
    "using Plots    # first add, load and using the package\n",
    "\n",
    "plot(1:10, rand(10), label=\"first\")\n",
    "plot!(1:10, rand(10), label=\"second\")  # adding to current figure using plot!\n",
    "\n",
    "scatter!([1:10], randn(10), label=\"scatter\")   # add scatter\n",
    "\n",
    "xlabel!(\"x\")\n",
    "ylabel!(\"f(x)\")\n",
    "title!(\"My pretty Julia plot\") \n"
   ]
  },
  {
   "cell_type": "code",
   "execution_count": 177,
   "metadata": {},
   "outputs": [
    {
     "data": {
      "image/svg+xml": [
       "<?xml version=\"1.0\" encoding=\"utf-8\"?>\n",
       "<svg xmlns=\"http://www.w3.org/2000/svg\" xmlns:xlink=\"http://www.w3.org/1999/xlink\" width=\"600\" height=\"400\" viewBox=\"0 0 2400 1600\">\n",
       "<defs>\n",
       "  <clipPath id=\"clip790\">\n",
       "    <rect x=\"0\" y=\"0\" width=\"2400\" height=\"1600\"/>\n",
       "  </clipPath>\n",
       "</defs>\n",
       "<path clip-path=\"url(#clip790)\" d=\"\n",
       "M0 1600 L2400 1600 L2400 0 L0 0  Z\n",
       "  \" fill=\"#ffffff\" fill-rule=\"evenodd\" fill-opacity=\"1\"/>\n",
       "<defs>\n",
       "  <clipPath id=\"clip791\">\n",
       "    <rect x=\"480\" y=\"0\" width=\"1681\" height=\"1600\"/>\n",
       "  </clipPath>\n",
       "</defs>\n",
       "<path clip-path=\"url(#clip790)\" d=\"\n",
       "M211.278 1423.18 L2352.76 1423.18 L2352.76 47.2441 L211.278 47.2441  Z\n",
       "  \" fill=\"#ffffff\" fill-rule=\"evenodd\" fill-opacity=\"1\"/>\n",
       "<defs>\n",
       "  <clipPath id=\"clip792\">\n",
       "    <rect x=\"211\" y=\"47\" width=\"2142\" height=\"1377\"/>\n",
       "  </clipPath>\n",
       "</defs>\n",
       "<polyline clip-path=\"url(#clip792)\" style=\"stroke:#000000; stroke-width:2; stroke-opacity:0.1; fill:none\" points=\"\n",
       "  271.886,1423.18 271.886,47.2441 \n",
       "  \"/>\n",
       "<polyline clip-path=\"url(#clip792)\" style=\"stroke:#000000; stroke-width:2; stroke-opacity:0.1; fill:none\" points=\"\n",
       "  776.952,1423.18 776.952,47.2441 \n",
       "  \"/>\n",
       "<polyline clip-path=\"url(#clip792)\" style=\"stroke:#000000; stroke-width:2; stroke-opacity:0.1; fill:none\" points=\"\n",
       "  1282.02,1423.18 1282.02,47.2441 \n",
       "  \"/>\n",
       "<polyline clip-path=\"url(#clip792)\" style=\"stroke:#000000; stroke-width:2; stroke-opacity:0.1; fill:none\" points=\"\n",
       "  1787.08,1423.18 1787.08,47.2441 \n",
       "  \"/>\n",
       "<polyline clip-path=\"url(#clip792)\" style=\"stroke:#000000; stroke-width:2; stroke-opacity:0.1; fill:none\" points=\"\n",
       "  2292.15,1423.18 2292.15,47.2441 \n",
       "  \"/>\n",
       "<polyline clip-path=\"url(#clip792)\" style=\"stroke:#000000; stroke-width:2; stroke-opacity:0.1; fill:none\" points=\"\n",
       "  211.278,1152.27 2352.76,1152.27 \n",
       "  \"/>\n",
       "<polyline clip-path=\"url(#clip792)\" style=\"stroke:#000000; stroke-width:2; stroke-opacity:0.1; fill:none\" points=\"\n",
       "  211.278,831.91 2352.76,831.91 \n",
       "  \"/>\n",
       "<polyline clip-path=\"url(#clip792)\" style=\"stroke:#000000; stroke-width:2; stroke-opacity:0.1; fill:none\" points=\"\n",
       "  211.278,511.551 2352.76,511.551 \n",
       "  \"/>\n",
       "<polyline clip-path=\"url(#clip792)\" style=\"stroke:#000000; stroke-width:2; stroke-opacity:0.1; fill:none\" points=\"\n",
       "  211.278,191.193 2352.76,191.193 \n",
       "  \"/>\n",
       "<polyline clip-path=\"url(#clip790)\" style=\"stroke:#000000; stroke-width:4; stroke-opacity:1; fill:none\" points=\"\n",
       "  211.278,1423.18 2352.76,1423.18 \n",
       "  \"/>\n",
       "<polyline clip-path=\"url(#clip790)\" style=\"stroke:#000000; stroke-width:4; stroke-opacity:1; fill:none\" points=\"\n",
       "  211.278,1423.18 211.278,47.2441 \n",
       "  \"/>\n",
       "<polyline clip-path=\"url(#clip790)\" style=\"stroke:#000000; stroke-width:4; stroke-opacity:1; fill:none\" points=\"\n",
       "  271.886,1423.18 271.886,1406.67 \n",
       "  \"/>\n",
       "<polyline clip-path=\"url(#clip790)\" style=\"stroke:#000000; stroke-width:4; stroke-opacity:1; fill:none\" points=\"\n",
       "  776.952,1423.18 776.952,1406.67 \n",
       "  \"/>\n",
       "<polyline clip-path=\"url(#clip790)\" style=\"stroke:#000000; stroke-width:4; stroke-opacity:1; fill:none\" points=\"\n",
       "  1282.02,1423.18 1282.02,1406.67 \n",
       "  \"/>\n",
       "<polyline clip-path=\"url(#clip790)\" style=\"stroke:#000000; stroke-width:4; stroke-opacity:1; fill:none\" points=\"\n",
       "  1787.08,1423.18 1787.08,1406.67 \n",
       "  \"/>\n",
       "<polyline clip-path=\"url(#clip790)\" style=\"stroke:#000000; stroke-width:4; stroke-opacity:1; fill:none\" points=\"\n",
       "  2292.15,1423.18 2292.15,1406.67 \n",
       "  \"/>\n",
       "<polyline clip-path=\"url(#clip790)\" style=\"stroke:#000000; stroke-width:4; stroke-opacity:1; fill:none\" points=\"\n",
       "  211.278,1152.27 236.976,1152.27 \n",
       "  \"/>\n",
       "<polyline clip-path=\"url(#clip790)\" style=\"stroke:#000000; stroke-width:4; stroke-opacity:1; fill:none\" points=\"\n",
       "  211.278,831.91 236.976,831.91 \n",
       "  \"/>\n",
       "<polyline clip-path=\"url(#clip790)\" style=\"stroke:#000000; stroke-width:4; stroke-opacity:1; fill:none\" points=\"\n",
       "  211.278,511.551 236.976,511.551 \n",
       "  \"/>\n",
       "<polyline clip-path=\"url(#clip790)\" style=\"stroke:#000000; stroke-width:4; stroke-opacity:1; fill:none\" points=\"\n",
       "  211.278,191.193 236.976,191.193 \n",
       "  \"/>\n",
       "<path clip-path=\"url(#clip790)\" d=\"M 0 0 M253.403 1445.17 Q249.791 1445.17 247.963 1448.74 Q246.157 1452.28 246.157 1459.41 Q246.157 1466.51 247.963 1470.08 Q249.791 1473.62 253.403 1473.62 Q257.037 1473.62 258.842 1470.08 Q260.671 1466.51 260.671 1459.41 Q260.671 1452.28 258.842 1448.74 Q257.037 1445.17 253.403 1445.17 M253.403 1441.47 Q259.213 1441.47 262.268 1446.07 Q265.347 1450.66 265.347 1459.41 Q265.347 1468.13 262.268 1472.74 Q259.213 1477.32 253.403 1477.32 Q247.592 1477.32 244.514 1472.74 Q241.458 1468.13 241.458 1459.41 Q241.458 1450.66 244.514 1446.07 Q247.592 1441.47 253.403 1441.47 Z\" fill=\"#000000\" fill-rule=\"evenodd\" fill-opacity=\"1\" /><path clip-path=\"url(#clip790)\" d=\"M 0 0 M270.416 1470.77 L275.301 1470.77 L275.301 1476.65 L270.416 1476.65 L270.416 1470.77 Z\" fill=\"#000000\" fill-rule=\"evenodd\" fill-opacity=\"1\" /><path clip-path=\"url(#clip790)\" d=\"M 0 0 M290.37 1445.17 Q286.759 1445.17 284.93 1448.74 Q283.125 1452.28 283.125 1459.41 Q283.125 1466.51 284.93 1470.08 Q286.759 1473.62 290.37 1473.62 Q294.004 1473.62 295.81 1470.08 Q297.638 1466.51 297.638 1459.41 Q297.638 1452.28 295.81 1448.74 Q294.004 1445.17 290.37 1445.17 M290.37 1441.47 Q296.18 1441.47 299.236 1446.07 Q302.314 1450.66 302.314 1459.41 Q302.314 1468.13 299.236 1472.74 Q296.18 1477.32 290.37 1477.32 Q284.56 1477.32 281.481 1472.74 Q278.426 1468.13 278.426 1459.41 Q278.426 1450.66 281.481 1446.07 Q284.56 1441.47 290.37 1441.47 Z\" fill=\"#000000\" fill-rule=\"evenodd\" fill-opacity=\"1\" /><path clip-path=\"url(#clip790)\" d=\"M 0 0 M753.618 1472.72 L769.938 1472.72 L769.938 1476.65 L747.993 1476.65 L747.993 1472.72 Q750.656 1469.96 755.239 1465.33 Q759.845 1460.68 761.026 1459.34 Q763.271 1456.81 764.151 1455.08 Q765.054 1453.32 765.054 1451.63 Q765.054 1448.87 763.109 1447.14 Q761.188 1445.4 758.086 1445.4 Q755.887 1445.4 753.433 1446.17 Q751.003 1446.93 748.225 1448.48 L748.225 1443.76 Q751.049 1442.62 753.503 1442.05 Q755.956 1441.47 757.993 1441.47 Q763.364 1441.47 766.558 1444.15 Q769.753 1446.84 769.753 1451.33 Q769.753 1453.46 768.942 1455.38 Q768.155 1457.28 766.049 1459.87 Q765.47 1460.54 762.368 1463.76 Q759.267 1466.95 753.618 1472.72 Z\" fill=\"#000000\" fill-rule=\"evenodd\" fill-opacity=\"1\" /><path clip-path=\"url(#clip790)\" d=\"M 0 0 M775.007 1470.77 L779.891 1470.77 L779.891 1476.65 L775.007 1476.65 L775.007 1470.77 Z\" fill=\"#000000\" fill-rule=\"evenodd\" fill-opacity=\"1\" /><path clip-path=\"url(#clip790)\" d=\"M 0 0 M785.007 1442.09 L803.364 1442.09 L803.364 1446.03 L789.29 1446.03 L789.29 1454.5 Q790.308 1454.15 791.327 1453.99 Q792.345 1453.8 793.364 1453.8 Q799.151 1453.8 802.53 1456.98 Q805.91 1460.15 805.91 1465.56 Q805.91 1471.14 802.438 1474.24 Q798.965 1477.32 792.646 1477.32 Q790.47 1477.32 788.202 1476.95 Q785.956 1476.58 783.549 1475.84 L783.549 1471.14 Q785.632 1472.28 787.854 1472.83 Q790.077 1473.39 792.553 1473.39 Q796.558 1473.39 798.896 1471.28 Q801.234 1469.18 801.234 1465.56 Q801.234 1461.95 798.896 1459.85 Q796.558 1457.74 792.553 1457.74 Q790.678 1457.74 788.803 1458.16 Q786.952 1458.57 785.007 1459.45 L785.007 1442.09 Z\" fill=\"#000000\" fill-rule=\"evenodd\" fill-opacity=\"1\" /><path clip-path=\"url(#clip790)\" d=\"M 0 0 M1253.81 1442.09 L1272.17 1442.09 L1272.17 1446.03 L1258.09 1446.03 L1258.09 1454.5 Q1259.11 1454.15 1260.13 1453.99 Q1261.15 1453.8 1262.17 1453.8 Q1267.95 1453.8 1271.33 1456.98 Q1274.71 1460.15 1274.71 1465.56 Q1274.71 1471.14 1271.24 1474.24 Q1267.77 1477.32 1261.45 1477.32 Q1259.27 1477.32 1257.01 1476.95 Q1254.76 1476.58 1252.35 1475.84 L1252.35 1471.14 Q1254.44 1472.28 1256.66 1472.83 Q1258.88 1473.39 1261.36 1473.39 Q1265.36 1473.39 1267.7 1471.28 Q1270.04 1469.18 1270.04 1465.56 Q1270.04 1461.95 1267.7 1459.85 Q1265.36 1457.74 1261.36 1457.74 Q1259.48 1457.74 1257.61 1458.16 Q1255.76 1458.57 1253.81 1459.45 L1253.81 1442.09 Z\" fill=\"#000000\" fill-rule=\"evenodd\" fill-opacity=\"1\" /><path clip-path=\"url(#clip790)\" d=\"M 0 0 M1279.78 1470.77 L1284.67 1470.77 L1284.67 1476.65 L1279.78 1476.65 L1279.78 1470.77 Z\" fill=\"#000000\" fill-rule=\"evenodd\" fill-opacity=\"1\" /><path clip-path=\"url(#clip790)\" d=\"M 0 0 M1299.74 1445.17 Q1296.13 1445.17 1294.3 1448.74 Q1292.49 1452.28 1292.49 1459.41 Q1292.49 1466.51 1294.3 1470.08 Q1296.13 1473.62 1299.74 1473.62 Q1303.37 1473.62 1305.18 1470.08 Q1307.01 1466.51 1307.01 1459.41 Q1307.01 1452.28 1305.18 1448.74 Q1303.37 1445.17 1299.74 1445.17 M1299.74 1441.47 Q1305.55 1441.47 1308.6 1446.07 Q1311.68 1450.66 1311.68 1459.41 Q1311.68 1468.13 1308.6 1472.74 Q1305.55 1477.32 1299.74 1477.32 Q1293.93 1477.32 1290.85 1472.74 Q1287.79 1468.13 1287.79 1459.41 Q1287.79 1450.66 1290.85 1446.07 Q1293.93 1441.47 1299.74 1441.47 Z\" fill=\"#000000\" fill-rule=\"evenodd\" fill-opacity=\"1\" /><path clip-path=\"url(#clip790)\" d=\"M 0 0 M1757.99 1442.09 L1780.21 1442.09 L1780.21 1444.08 L1767.66 1476.65 L1762.78 1476.65 L1774.58 1446.03 L1757.99 1446.03 L1757.99 1442.09 Z\" fill=\"#000000\" fill-rule=\"evenodd\" fill-opacity=\"1\" /><path clip-path=\"url(#clip790)\" d=\"M 0 0 M1785.28 1470.77 L1790.16 1470.77 L1790.16 1476.65 L1785.28 1476.65 L1785.28 1470.77 Z\" fill=\"#000000\" fill-rule=\"evenodd\" fill-opacity=\"1\" /><path clip-path=\"url(#clip790)\" d=\"M 0 0 M1795.28 1442.09 L1813.63 1442.09 L1813.63 1446.03 L1799.56 1446.03 L1799.56 1454.5 Q1800.58 1454.15 1801.6 1453.99 Q1802.61 1453.8 1803.63 1453.8 Q1809.42 1453.8 1812.8 1456.98 Q1816.18 1460.15 1816.18 1465.56 Q1816.18 1471.14 1812.71 1474.24 Q1809.24 1477.32 1802.92 1477.32 Q1800.74 1477.32 1798.47 1476.95 Q1796.23 1476.58 1793.82 1475.84 L1793.82 1471.14 Q1795.9 1472.28 1798.12 1472.83 Q1800.35 1473.39 1802.82 1473.39 Q1806.83 1473.39 1809.17 1471.28 Q1811.5 1469.18 1811.5 1465.56 Q1811.5 1461.95 1809.17 1459.85 Q1806.83 1457.74 1802.82 1457.74 Q1800.95 1457.74 1799.07 1458.16 Q1797.22 1458.57 1795.28 1459.45 L1795.28 1442.09 Z\" fill=\"#000000\" fill-rule=\"evenodd\" fill-opacity=\"1\" /><path clip-path=\"url(#clip790)\" d=\"M 0 0 M2250.54 1472.72 L2258.18 1472.72 L2258.18 1446.35 L2249.87 1448.02 L2249.87 1443.76 L2258.13 1442.09 L2262.81 1442.09 L2262.81 1472.72 L2270.45 1472.72 L2270.45 1476.65 L2250.54 1476.65 L2250.54 1472.72 Z\" fill=\"#000000\" fill-rule=\"evenodd\" fill-opacity=\"1\" /><path clip-path=\"url(#clip790)\" d=\"M 0 0 M2285.52 1445.17 Q2281.91 1445.17 2280.08 1448.74 Q2278.27 1452.28 2278.27 1459.41 Q2278.27 1466.51 2280.08 1470.08 Q2281.91 1473.62 2285.52 1473.62 Q2289.15 1473.62 2290.96 1470.08 Q2292.78 1466.51 2292.78 1459.41 Q2292.78 1452.28 2290.96 1448.74 Q2289.15 1445.17 2285.52 1445.17 M2285.52 1441.47 Q2291.33 1441.47 2294.38 1446.07 Q2297.46 1450.66 2297.46 1459.41 Q2297.46 1468.13 2294.38 1472.74 Q2291.33 1477.32 2285.52 1477.32 Q2279.71 1477.32 2276.63 1472.74 Q2273.57 1468.13 2273.57 1459.41 Q2273.57 1450.66 2276.63 1446.07 Q2279.71 1441.47 2285.52 1441.47 Z\" fill=\"#000000\" fill-rule=\"evenodd\" fill-opacity=\"1\" /><path clip-path=\"url(#clip790)\" d=\"M 0 0 M2302.53 1470.77 L2307.41 1470.77 L2307.41 1476.65 L2302.53 1476.65 L2302.53 1470.77 Z\" fill=\"#000000\" fill-rule=\"evenodd\" fill-opacity=\"1\" /><path clip-path=\"url(#clip790)\" d=\"M 0 0 M2322.48 1445.17 Q2318.87 1445.17 2317.04 1448.74 Q2315.24 1452.28 2315.24 1459.41 Q2315.24 1466.51 2317.04 1470.08 Q2318.87 1473.62 2322.48 1473.62 Q2326.12 1473.62 2327.92 1470.08 Q2329.75 1466.51 2329.75 1459.41 Q2329.75 1452.28 2327.92 1448.74 Q2326.12 1445.17 2322.48 1445.17 M2322.48 1441.47 Q2328.29 1441.47 2331.35 1446.07 Q2334.43 1450.66 2334.43 1459.41 Q2334.43 1468.13 2331.35 1472.74 Q2328.29 1477.32 2322.48 1477.32 Q2316.67 1477.32 2313.59 1472.74 Q2310.54 1468.13 2310.54 1459.41 Q2310.54 1450.66 2313.59 1446.07 Q2316.67 1441.47 2322.48 1441.47 Z\" fill=\"#000000\" fill-rule=\"evenodd\" fill-opacity=\"1\" /><path clip-path=\"url(#clip790)\" d=\"M 0 0 M138.367 1138.07 Q134.755 1138.07 132.927 1141.63 Q131.121 1145.17 131.121 1152.3 Q131.121 1159.41 132.927 1162.97 Q134.755 1166.52 138.367 1166.52 Q142.001 1166.52 143.806 1162.97 Q145.635 1159.41 145.635 1152.3 Q145.635 1145.17 143.806 1141.63 Q142.001 1138.07 138.367 1138.07 M138.367 1134.36 Q144.177 1134.36 147.232 1138.97 Q150.311 1143.55 150.311 1152.3 Q150.311 1161.03 147.232 1165.64 Q144.177 1170.22 138.367 1170.22 Q132.556 1170.22 129.478 1165.64 Q126.422 1161.03 126.422 1152.3 Q126.422 1143.55 129.478 1138.97 Q132.556 1134.36 138.367 1134.36 Z\" fill=\"#000000\" fill-rule=\"evenodd\" fill-opacity=\"1\" /><path clip-path=\"url(#clip790)\" d=\"M 0 0 M155.38 1163.67 L160.265 1163.67 L160.265 1169.55 L155.38 1169.55 L155.38 1163.67 Z\" fill=\"#000000\" fill-rule=\"evenodd\" fill-opacity=\"1\" /><path clip-path=\"url(#clip790)\" d=\"M 0 0 M175.334 1138.07 Q171.723 1138.07 169.894 1141.63 Q168.089 1145.17 168.089 1152.3 Q168.089 1159.41 169.894 1162.97 Q171.723 1166.52 175.334 1166.52 Q178.968 1166.52 180.774 1162.97 Q182.602 1159.41 182.602 1152.3 Q182.602 1145.17 180.774 1141.63 Q178.968 1138.07 175.334 1138.07 M175.334 1134.36 Q181.144 1134.36 184.2 1138.97 Q187.278 1143.55 187.278 1152.3 Q187.278 1161.03 184.2 1165.64 Q181.144 1170.22 175.334 1170.22 Q169.524 1170.22 166.445 1165.64 Q163.39 1161.03 163.39 1152.3 Q163.39 1143.55 166.445 1138.97 Q169.524 1134.36 175.334 1134.36 Z\" fill=\"#000000\" fill-rule=\"evenodd\" fill-opacity=\"1\" /><path clip-path=\"url(#clip790)\" d=\"M 0 0 M139.015 817.708 Q135.404 817.708 133.575 821.273 Q131.769 824.815 131.769 831.944 Q131.769 839.051 133.575 842.616 Q135.404 846.157 139.015 846.157 Q142.649 846.157 144.455 842.616 Q146.283 839.051 146.283 831.944 Q146.283 824.815 144.455 821.273 Q142.649 817.708 139.015 817.708 M139.015 814.005 Q144.825 814.005 147.88 818.611 Q150.959 823.194 150.959 831.944 Q150.959 840.671 147.88 845.278 Q144.825 849.861 139.015 849.861 Q133.205 849.861 130.126 845.278 Q127.07 840.671 127.07 831.944 Q127.07 823.194 130.126 818.611 Q133.205 814.005 139.015 814.005 Z\" fill=\"#000000\" fill-rule=\"evenodd\" fill-opacity=\"1\" /><path clip-path=\"url(#clip790)\" d=\"M 0 0 M156.029 843.31 L160.913 843.31 L160.913 849.19 L156.029 849.19 L156.029 843.31 Z\" fill=\"#000000\" fill-rule=\"evenodd\" fill-opacity=\"1\" /><path clip-path=\"url(#clip790)\" d=\"M 0 0 M180.149 830.555 Q183.505 831.273 185.38 833.542 Q187.278 835.81 187.278 839.143 Q187.278 844.259 183.76 847.06 Q180.241 849.861 173.76 849.861 Q171.584 849.861 169.269 849.421 Q166.978 849.004 164.524 848.148 L164.524 843.634 Q166.468 844.768 168.783 845.347 Q171.098 845.926 173.621 845.926 Q178.019 845.926 180.311 844.19 Q182.626 842.454 182.626 839.143 Q182.626 836.088 180.473 834.375 Q178.343 832.639 174.524 832.639 L170.496 832.639 L170.496 828.796 L174.709 828.796 Q178.158 828.796 179.987 827.43 Q181.815 826.042 181.815 823.449 Q181.815 820.787 179.917 819.375 Q178.042 817.94 174.524 817.94 Q172.603 817.94 170.403 818.356 Q168.204 818.773 165.566 819.653 L165.566 815.486 Q168.228 814.745 170.542 814.375 Q172.88 814.005 174.94 814.005 Q180.264 814.005 183.366 816.435 Q186.468 818.843 186.468 822.963 Q186.468 825.833 184.825 827.824 Q183.181 829.792 180.149 830.555 Z\" fill=\"#000000\" fill-rule=\"evenodd\" fill-opacity=\"1\" /><path clip-path=\"url(#clip790)\" d=\"M 0 0 M138.205 497.35 Q134.593 497.35 132.765 500.915 Q130.959 504.456 130.959 511.586 Q130.959 518.692 132.765 522.257 Q134.593 525.799 138.205 525.799 Q141.839 525.799 143.644 522.257 Q145.473 518.692 145.473 511.586 Q145.473 504.456 143.644 500.915 Q141.839 497.35 138.205 497.35 M138.205 493.646 Q144.015 493.646 147.07 498.253 Q150.149 502.836 150.149 511.586 Q150.149 520.313 147.07 524.919 Q144.015 529.503 138.205 529.503 Q132.394 529.503 129.316 524.919 Q126.26 520.313 126.26 511.586 Q126.26 502.836 129.316 498.253 Q132.394 493.646 138.205 493.646 Z\" fill=\"#000000\" fill-rule=\"evenodd\" fill-opacity=\"1\" /><path clip-path=\"url(#clip790)\" d=\"M 0 0 M155.218 522.952 L160.103 522.952 L160.103 528.831 L155.218 528.831 L155.218 522.952 Z\" fill=\"#000000\" fill-rule=\"evenodd\" fill-opacity=\"1\" /><path clip-path=\"url(#clip790)\" d=\"M 0 0 M175.751 509.688 Q172.603 509.688 170.751 511.841 Q168.922 513.993 168.922 517.743 Q168.922 521.47 170.751 523.646 Q172.603 525.799 175.751 525.799 Q178.899 525.799 180.727 523.646 Q182.579 521.47 182.579 517.743 Q182.579 513.993 180.727 511.841 Q178.899 509.688 175.751 509.688 M185.033 495.035 L185.033 499.294 Q183.274 498.461 181.468 498.021 Q179.686 497.581 177.927 497.581 Q173.297 497.581 170.843 500.706 Q168.413 503.831 168.065 510.151 Q169.431 508.137 171.491 507.072 Q173.552 505.984 176.028 505.984 Q181.237 505.984 184.246 509.155 Q187.278 512.304 187.278 517.743 Q187.278 523.067 184.13 526.285 Q180.982 529.503 175.751 529.503 Q169.755 529.503 166.584 524.919 Q163.413 520.313 163.413 511.586 Q163.413 503.392 167.302 498.53 Q171.19 493.646 177.741 493.646 Q179.501 493.646 181.283 493.993 Q183.089 494.341 185.033 495.035 Z\" fill=\"#000000\" fill-rule=\"evenodd\" fill-opacity=\"1\" /><path clip-path=\"url(#clip790)\" d=\"M 0 0 M138.552 176.992 Q134.941 176.992 133.112 180.556 Q131.306 184.098 131.306 191.228 Q131.306 198.334 133.112 201.899 Q134.941 205.441 138.552 205.441 Q142.186 205.441 143.992 201.899 Q145.82 198.334 145.82 191.228 Q145.82 184.098 143.992 180.556 Q142.186 176.992 138.552 176.992 M138.552 173.288 Q144.362 173.288 147.417 177.894 Q150.496 182.478 150.496 191.228 Q150.496 199.954 147.417 204.561 Q144.362 209.144 138.552 209.144 Q132.742 209.144 129.663 204.561 Q126.607 199.954 126.607 191.228 Q126.607 182.478 129.663 177.894 Q132.742 173.288 138.552 173.288 Z\" fill=\"#000000\" fill-rule=\"evenodd\" fill-opacity=\"1\" /><path clip-path=\"url(#clip790)\" d=\"M 0 0 M155.566 202.593 L160.45 202.593 L160.45 208.473 L155.566 208.473 L155.566 202.593 Z\" fill=\"#000000\" fill-rule=\"evenodd\" fill-opacity=\"1\" /><path clip-path=\"url(#clip790)\" d=\"M 0 0 M165.658 207.755 L165.658 203.496 Q167.417 204.329 169.223 204.769 Q171.028 205.209 172.765 205.209 Q177.394 205.209 179.825 202.107 Q182.278 198.982 182.626 192.64 Q181.283 194.63 179.223 195.695 Q177.163 196.76 174.663 196.76 Q169.478 196.76 166.445 193.635 Q163.436 190.487 163.436 185.047 Q163.436 179.723 166.584 176.505 Q169.732 173.288 174.964 173.288 Q180.959 173.288 184.107 177.894 Q187.278 182.478 187.278 191.228 Q187.278 199.399 183.389 204.283 Q179.524 209.144 172.973 209.144 Q171.214 209.144 169.408 208.797 Q167.603 208.45 165.658 207.755 M174.964 193.103 Q178.112 193.103 179.94 190.95 Q181.792 188.797 181.792 185.047 Q181.792 181.32 179.94 179.168 Q178.112 176.992 174.964 176.992 Q171.815 176.992 169.964 179.168 Q168.135 181.32 168.135 185.047 Q168.135 188.797 169.964 190.95 Q171.815 193.103 174.964 193.103 Z\" fill=\"#000000\" fill-rule=\"evenodd\" fill-opacity=\"1\" /><path clip-path=\"url(#clip790)\" d=\"M 0 0 M1298.63 1520.4 L1285.74 1537.74 L1299.3 1556.04 L1292.39 1556.04 L1282.02 1542.04 L1271.64 1556.04 L1264.73 1556.04 L1278.58 1537.39 L1265.91 1520.4 L1272.82 1520.4 L1282.27 1533.1 L1291.72 1520.4 L1298.63 1520.4 Z\" fill=\"#000000\" fill-rule=\"evenodd\" fill-opacity=\"1\" /><path clip-path=\"url(#clip790)\" d=\"M 0 0 M53.4065 814.831 L58.9447 814.831 Q57.6716 817.314 57.035 819.987 Q56.3984 822.661 56.3984 825.525 Q56.3984 829.886 57.7352 832.082 Q59.072 834.246 61.7456 834.246 Q63.7826 834.246 64.9603 832.687 Q66.1061 831.127 67.1565 826.417 L67.6021 824.411 Q68.9389 818.173 71.3897 815.563 Q73.8086 812.921 78.1691 812.921 Q83.1344 812.921 86.0308 816.868 Q88.9272 820.783 88.9272 827.658 Q88.9272 830.523 88.3543 833.642 Q87.8132 836.729 86.6992 840.167 L80.6518 840.167 Q82.3387 836.92 83.198 833.769 Q84.0256 830.618 84.0256 827.531 Q84.0256 823.393 82.6251 821.165 Q81.1929 818.937 78.6147 818.937 Q76.2276 818.937 74.9545 820.56 Q73.6813 822.152 72.5037 827.594 L72.0262 829.631 Q70.8804 835.074 68.5251 837.493 Q66.138 839.912 62.0002 839.912 Q56.9713 839.912 54.2341 836.347 Q51.4968 832.782 51.4968 826.226 Q51.4968 822.979 51.9743 820.115 Q52.4517 817.25 53.4065 814.831 Z\" fill=\"#000000\" fill-rule=\"evenodd\" fill-opacity=\"1\" /><path clip-path=\"url(#clip790)\" d=\"M 0 0 M52.3562 806.778 L52.3562 800.922 L88.0042 800.922 L88.0042 806.778 L52.3562 806.778 M38.479 806.778 L38.479 800.922 L45.895 800.922 L45.895 806.778 L38.479 806.778 Z\" fill=\"#000000\" fill-rule=\"evenodd\" fill-opacity=\"1\" /><path clip-path=\"url(#clip790)\" d=\"M 0 0 M66.4881 765.147 L88.0042 765.147 L88.0042 771.003 L66.679 771.003 Q61.6183 771.003 59.1038 772.977 Q56.5894 774.95 56.5894 778.897 Q56.5894 783.639 59.6131 786.376 Q62.6368 789.114 67.8567 789.114 L88.0042 789.114 L88.0042 795.002 L52.3562 795.002 L52.3562 789.114 L57.8944 789.114 Q54.6797 787.013 53.0883 784.18 Q51.4968 781.316 51.4968 777.592 Q51.4968 771.449 55.3163 768.298 Q59.1038 765.147 66.4881 765.147 Z\" fill=\"#000000\" fill-rule=\"evenodd\" fill-opacity=\"1\" /><path clip-path=\"url(#clip790)\" d=\"M 0 0 M38.5426 744.936 Q45.8632 749.201 53.0246 751.269 Q60.186 753.338 67.5384 753.338 Q74.8908 753.338 82.1159 751.269 Q89.3091 749.169 96.5979 744.936 L96.5979 750.028 Q89.1182 754.802 81.8931 757.19 Q74.668 759.545 67.5384 759.545 Q60.4406 759.545 53.2474 757.19 Q46.0542 754.834 38.5426 750.028 L38.5426 744.936 Z\" fill=\"#000000\" fill-rule=\"evenodd\" fill-opacity=\"1\" /><path clip-path=\"url(#clip790)\" d=\"M 0 0 M52.3562 709.16 L69.7028 722.051 L88.0042 708.492 L88.0042 715.399 L73.9996 725.775 L88.0042 736.151 L88.0042 743.058 L69.3526 729.212 L52.3562 741.88 L52.3562 734.973 L65.0558 725.52 L52.3562 716.067 L52.3562 709.16 Z\" fill=\"#000000\" fill-rule=\"evenodd\" fill-opacity=\"1\" /><path clip-path=\"url(#clip790)\" d=\"M 0 0 M38.5426 703.272 L38.5426 698.179 Q46.0542 693.405 53.2474 691.05 Q60.4406 688.663 67.5384 688.663 Q74.668 688.663 81.8931 691.05 Q89.1182 693.405 96.5979 698.179 L96.5979 703.272 Q89.3091 699.039 82.1159 696.97 Q74.8908 694.869 67.5384 694.869 Q60.186 694.869 53.0246 696.97 Q45.8632 699.039 38.5426 703.272 Z\" fill=\"#000000\" fill-rule=\"evenodd\" fill-opacity=\"1\" /><path clip-path=\"url(#clip790)\" d=\"M 0 0 M40.4842 672.112 L40.4842 666.701 L94.0516 683.252 L94.0516 688.663 L40.4842 672.112 Z\" fill=\"#000000\" fill-rule=\"evenodd\" fill-opacity=\"1\" /><path clip-path=\"url(#clip790)\" d=\"M 0 0 M52.3562 630.926 L69.7028 643.816 L88.0042 630.257 L88.0042 637.164 L73.9996 647.54 L88.0042 657.916 L88.0042 664.823 L69.3526 650.978 L52.3562 663.646 L52.3562 656.739 L65.0558 647.286 L52.3562 637.833 L52.3562 630.926 Z\" fill=\"#000000\" fill-rule=\"evenodd\" fill-opacity=\"1\" /><polyline clip-path=\"url(#clip792)\" style=\"stroke:#ff0000; stroke-width:4; stroke-opacity:1; fill:none\" points=\"\n",
       "  292.089,86.1857 312.291,91.5116 332.494,100.353 352.697,112.656 372.899,128.348 393.102,147.335 413.305,169.504 433.507,194.722 453.71,222.841 473.912,253.694 \n",
       "  494.115,287.099 514.318,322.861 534.52,360.771 554.723,400.608 574.925,442.144 595.128,485.139 615.331,529.35 635.533,574.527 655.736,620.417 675.939,666.766 \n",
       "  696.141,713.321 716.344,759.831 736.546,806.046 756.749,851.726 776.952,896.634 797.154,940.543 817.357,983.237 837.56,1024.51 857.762,1064.17 877.965,1102.04 \n",
       "  898.167,1137.94 918.37,1171.75 938.573,1203.31 958.775,1232.53 978.978,1259.29 999.18,1283.53 1019.38,1305.18 1039.59,1324.21 1059.79,1340.59 1079.99,1354.31 \n",
       "  1100.19,1365.39 1120.4,1373.87 1140.6,1379.79 1160.8,1383.22 1181,1384.24 1201.21,1382.95 1221.41,1379.46 1241.61,1373.89 1261.81,1366.37 1282.02,1357.07 \n",
       "  1302.22,1346.12 1322.42,1333.69 1342.62,1319.96 1362.83,1305.08 1383.03,1289.25 1403.23,1272.64 1423.44,1255.44 1443.64,1237.81 1463.84,1219.94 1484.04,1202 \n",
       "  1504.25,1184.16 1524.45,1166.58 1544.65,1149.42 1564.85,1132.82 1585.06,1116.93 1605.26,1101.86 1625.46,1087.74 1645.66,1074.67 1665.87,1062.75 1686.07,1052.04 \n",
       "  1706.27,1042.63 1726.47,1034.56 1746.68,1027.86 1766.88,1022.58 1787.08,1018.71 1807.29,1016.27 1827.49,1015.23 1847.69,1015.56 1867.89,1017.24 1888.1,1020.21 \n",
       "  1908.3,1024.4 1928.5,1029.76 1948.7,1036.2 1968.91,1043.63 1989.11,1051.95 2009.31,1061.08 2029.51,1070.89 2049.72,1081.29 2069.92,1092.15 2090.12,1103.37 \n",
       "  2110.32,1114.82 2130.53,1126.4 2150.73,1137.98 2170.93,1149.45 2191.13,1160.72 2211.34,1171.66 2231.54,1182.19 2251.74,1192.2 2271.95,1201.62 2292.15,1210.36 \n",
       "  \n",
       "  \"/>\n",
       "<path clip-path=\"url(#clip792)\" d=\"M276.089 70.1857 L276.089 102.186 L308.089 102.186 L308.089 70.1857 L276.089 70.1857 Z\" fill=\"#ff0000\" fill-rule=\"evenodd\" fill-opacity=\"1\" stroke=\"#000000\" stroke-opacity=\"1\" stroke-width=\"3.2\"/>\n",
       "<path clip-path=\"url(#clip792)\" d=\"M296.291 75.5116 L296.291 107.512 L328.291 107.512 L328.291 75.5116 L296.291 75.5116 Z\" fill=\"#ff0000\" fill-rule=\"evenodd\" fill-opacity=\"1\" stroke=\"#000000\" stroke-opacity=\"1\" stroke-width=\"3.2\"/>\n",
       "<path clip-path=\"url(#clip792)\" d=\"M316.494 84.3528 L316.494 116.353 L348.494 116.353 L348.494 84.3528 L316.494 84.3528 Z\" fill=\"#ff0000\" fill-rule=\"evenodd\" fill-opacity=\"1\" stroke=\"#000000\" stroke-opacity=\"1\" stroke-width=\"3.2\"/>\n",
       "<path clip-path=\"url(#clip792)\" d=\"M336.697 96.6561 L336.697 128.656 L368.697 128.656 L368.697 96.6561 L336.697 96.6561 Z\" fill=\"#ff0000\" fill-rule=\"evenodd\" fill-opacity=\"1\" stroke=\"#000000\" stroke-opacity=\"1\" stroke-width=\"3.2\"/>\n",
       "<path clip-path=\"url(#clip792)\" d=\"M356.899 112.348 L356.899 144.348 L388.899 144.348 L388.899 112.348 L356.899 112.348 Z\" fill=\"#ff0000\" fill-rule=\"evenodd\" fill-opacity=\"1\" stroke=\"#000000\" stroke-opacity=\"1\" stroke-width=\"3.2\"/>\n",
       "<path clip-path=\"url(#clip792)\" d=\"M377.102 131.335 L377.102 163.335 L409.102 163.335 L409.102 131.335 L377.102 131.335 Z\" fill=\"#ff0000\" fill-rule=\"evenodd\" fill-opacity=\"1\" stroke=\"#000000\" stroke-opacity=\"1\" stroke-width=\"3.2\"/>\n",
       "<path clip-path=\"url(#clip792)\" d=\"M397.305 153.504 L397.305 185.504 L429.305 185.504 L429.305 153.504 L397.305 153.504 Z\" fill=\"#ff0000\" fill-rule=\"evenodd\" fill-opacity=\"1\" stroke=\"#000000\" stroke-opacity=\"1\" stroke-width=\"3.2\"/>\n",
       "<path clip-path=\"url(#clip792)\" d=\"M417.507 178.722 L417.507 210.722 L449.507 210.722 L449.507 178.722 L417.507 178.722 Z\" fill=\"#ff0000\" fill-rule=\"evenodd\" fill-opacity=\"1\" stroke=\"#000000\" stroke-opacity=\"1\" stroke-width=\"3.2\"/>\n",
       "<path clip-path=\"url(#clip792)\" d=\"M437.71 206.841 L437.71 238.841 L469.71 238.841 L469.71 206.841 L437.71 206.841 Z\" fill=\"#ff0000\" fill-rule=\"evenodd\" fill-opacity=\"1\" stroke=\"#000000\" stroke-opacity=\"1\" stroke-width=\"3.2\"/>\n",
       "<path clip-path=\"url(#clip792)\" d=\"M457.912 237.694 L457.912 269.694 L489.912 269.694 L489.912 237.694 L457.912 237.694 Z\" fill=\"#ff0000\" fill-rule=\"evenodd\" fill-opacity=\"1\" stroke=\"#000000\" stroke-opacity=\"1\" stroke-width=\"3.2\"/>\n",
       "<path clip-path=\"url(#clip792)\" d=\"M478.115 271.099 L478.115 303.099 L510.115 303.099 L510.115 271.099 L478.115 271.099 Z\" fill=\"#ff0000\" fill-rule=\"evenodd\" fill-opacity=\"1\" stroke=\"#000000\" stroke-opacity=\"1\" stroke-width=\"3.2\"/>\n",
       "<path clip-path=\"url(#clip792)\" d=\"M498.318 306.861 L498.318 338.861 L530.318 338.861 L530.318 306.861 L498.318 306.861 Z\" fill=\"#ff0000\" fill-rule=\"evenodd\" fill-opacity=\"1\" stroke=\"#000000\" stroke-opacity=\"1\" stroke-width=\"3.2\"/>\n",
       "<path clip-path=\"url(#clip792)\" d=\"M518.52 344.771 L518.52 376.771 L550.52 376.771 L550.52 344.771 L518.52 344.771 Z\" fill=\"#ff0000\" fill-rule=\"evenodd\" fill-opacity=\"1\" stroke=\"#000000\" stroke-opacity=\"1\" stroke-width=\"3.2\"/>\n",
       "<path clip-path=\"url(#clip792)\" d=\"M538.723 384.608 L538.723 416.608 L570.723 416.608 L570.723 384.608 L538.723 384.608 Z\" fill=\"#ff0000\" fill-rule=\"evenodd\" fill-opacity=\"1\" stroke=\"#000000\" stroke-opacity=\"1\" stroke-width=\"3.2\"/>\n",
       "<path clip-path=\"url(#clip792)\" d=\"M558.925 426.144 L558.925 458.144 L590.925 458.144 L590.925 426.144 L558.925 426.144 Z\" fill=\"#ff0000\" fill-rule=\"evenodd\" fill-opacity=\"1\" stroke=\"#000000\" stroke-opacity=\"1\" stroke-width=\"3.2\"/>\n",
       "<path clip-path=\"url(#clip792)\" d=\"M579.128 469.139 L579.128 501.139 L611.128 501.139 L611.128 469.139 L579.128 469.139 Z\" fill=\"#ff0000\" fill-rule=\"evenodd\" fill-opacity=\"1\" stroke=\"#000000\" stroke-opacity=\"1\" stroke-width=\"3.2\"/>\n",
       "<path clip-path=\"url(#clip792)\" d=\"M599.331 513.35 L599.331 545.35 L631.331 545.35 L631.331 513.35 L599.331 513.35 Z\" fill=\"#ff0000\" fill-rule=\"evenodd\" fill-opacity=\"1\" stroke=\"#000000\" stroke-opacity=\"1\" stroke-width=\"3.2\"/>\n",
       "<path clip-path=\"url(#clip792)\" d=\"M619.533 558.527 L619.533 590.527 L651.533 590.527 L651.533 558.527 L619.533 558.527 Z\" fill=\"#ff0000\" fill-rule=\"evenodd\" fill-opacity=\"1\" stroke=\"#000000\" stroke-opacity=\"1\" stroke-width=\"3.2\"/>\n",
       "<path clip-path=\"url(#clip792)\" d=\"M639.736 604.417 L639.736 636.417 L671.736 636.417 L671.736 604.417 L639.736 604.417 Z\" fill=\"#ff0000\" fill-rule=\"evenodd\" fill-opacity=\"1\" stroke=\"#000000\" stroke-opacity=\"1\" stroke-width=\"3.2\"/>\n",
       "<path clip-path=\"url(#clip792)\" d=\"M659.939 650.766 L659.939 682.766 L691.939 682.766 L691.939 650.766 L659.939 650.766 Z\" fill=\"#ff0000\" fill-rule=\"evenodd\" fill-opacity=\"1\" stroke=\"#000000\" stroke-opacity=\"1\" stroke-width=\"3.2\"/>\n",
       "<path clip-path=\"url(#clip792)\" d=\"M680.141 697.321 L680.141 729.321 L712.141 729.321 L712.141 697.321 L680.141 697.321 Z\" fill=\"#ff0000\" fill-rule=\"evenodd\" fill-opacity=\"1\" stroke=\"#000000\" stroke-opacity=\"1\" stroke-width=\"3.2\"/>\n",
       "<path clip-path=\"url(#clip792)\" d=\"M700.344 743.831 L700.344 775.831 L732.344 775.831 L732.344 743.831 L700.344 743.831 Z\" fill=\"#ff0000\" fill-rule=\"evenodd\" fill-opacity=\"1\" stroke=\"#000000\" stroke-opacity=\"1\" stroke-width=\"3.2\"/>\n",
       "<path clip-path=\"url(#clip792)\" d=\"M720.546 790.046 L720.546 822.046 L752.546 822.046 L752.546 790.046 L720.546 790.046 Z\" fill=\"#ff0000\" fill-rule=\"evenodd\" fill-opacity=\"1\" stroke=\"#000000\" stroke-opacity=\"1\" stroke-width=\"3.2\"/>\n",
       "<path clip-path=\"url(#clip792)\" d=\"M740.749 835.726 L740.749 867.726 L772.749 867.726 L772.749 835.726 L740.749 835.726 Z\" fill=\"#ff0000\" fill-rule=\"evenodd\" fill-opacity=\"1\" stroke=\"#000000\" stroke-opacity=\"1\" stroke-width=\"3.2\"/>\n",
       "<path clip-path=\"url(#clip792)\" d=\"M760.952 880.634 L760.952 912.634 L792.952 912.634 L792.952 880.634 L760.952 880.634 Z\" fill=\"#ff0000\" fill-rule=\"evenodd\" fill-opacity=\"1\" stroke=\"#000000\" stroke-opacity=\"1\" stroke-width=\"3.2\"/>\n",
       "<path clip-path=\"url(#clip792)\" d=\"M781.154 924.543 L781.154 956.543 L813.154 956.543 L813.154 924.543 L781.154 924.543 Z\" fill=\"#ff0000\" fill-rule=\"evenodd\" fill-opacity=\"1\" stroke=\"#000000\" stroke-opacity=\"1\" stroke-width=\"3.2\"/>\n",
       "<path clip-path=\"url(#clip792)\" d=\"M801.357 967.237 L801.357 999.237 L833.357 999.237 L833.357 967.237 L801.357 967.237 Z\" fill=\"#ff0000\" fill-rule=\"evenodd\" fill-opacity=\"1\" stroke=\"#000000\" stroke-opacity=\"1\" stroke-width=\"3.2\"/>\n",
       "<path clip-path=\"url(#clip792)\" d=\"M821.56 1008.51 L821.56 1040.51 L853.56 1040.51 L853.56 1008.51 L821.56 1008.51 Z\" fill=\"#ff0000\" fill-rule=\"evenodd\" fill-opacity=\"1\" stroke=\"#000000\" stroke-opacity=\"1\" stroke-width=\"3.2\"/>\n",
       "<path clip-path=\"url(#clip792)\" d=\"M841.762 1048.17 L841.762 1080.17 L873.762 1080.17 L873.762 1048.17 L841.762 1048.17 Z\" fill=\"#ff0000\" fill-rule=\"evenodd\" fill-opacity=\"1\" stroke=\"#000000\" stroke-opacity=\"1\" stroke-width=\"3.2\"/>\n",
       "<path clip-path=\"url(#clip792)\" d=\"M861.965 1086.04 L861.965 1118.04 L893.965 1118.04 L893.965 1086.04 L861.965 1086.04 Z\" fill=\"#ff0000\" fill-rule=\"evenodd\" fill-opacity=\"1\" stroke=\"#000000\" stroke-opacity=\"1\" stroke-width=\"3.2\"/>\n",
       "<path clip-path=\"url(#clip792)\" d=\"M882.167 1121.94 L882.167 1153.94 L914.167 1153.94 L914.167 1121.94 L882.167 1121.94 Z\" fill=\"#ff0000\" fill-rule=\"evenodd\" fill-opacity=\"1\" stroke=\"#000000\" stroke-opacity=\"1\" stroke-width=\"3.2\"/>\n",
       "<path clip-path=\"url(#clip792)\" d=\"M902.37 1155.75 L902.37 1187.75 L934.37 1187.75 L934.37 1155.75 L902.37 1155.75 Z\" fill=\"#ff0000\" fill-rule=\"evenodd\" fill-opacity=\"1\" stroke=\"#000000\" stroke-opacity=\"1\" stroke-width=\"3.2\"/>\n",
       "<path clip-path=\"url(#clip792)\" d=\"M922.573 1187.31 L922.573 1219.31 L954.573 1219.31 L954.573 1187.31 L922.573 1187.31 Z\" fill=\"#ff0000\" fill-rule=\"evenodd\" fill-opacity=\"1\" stroke=\"#000000\" stroke-opacity=\"1\" stroke-width=\"3.2\"/>\n",
       "<path clip-path=\"url(#clip792)\" d=\"M942.775 1216.53 L942.775 1248.53 L974.775 1248.53 L974.775 1216.53 L942.775 1216.53 Z\" fill=\"#ff0000\" fill-rule=\"evenodd\" fill-opacity=\"1\" stroke=\"#000000\" stroke-opacity=\"1\" stroke-width=\"3.2\"/>\n",
       "<path clip-path=\"url(#clip792)\" d=\"M962.978 1243.29 L962.978 1275.29 L994.978 1275.29 L994.978 1243.29 L962.978 1243.29 Z\" fill=\"#ff0000\" fill-rule=\"evenodd\" fill-opacity=\"1\" stroke=\"#000000\" stroke-opacity=\"1\" stroke-width=\"3.2\"/>\n",
       "<path clip-path=\"url(#clip792)\" d=\"M983.18 1267.53 L983.18 1299.53 L1015.18 1299.53 L1015.18 1267.53 L983.18 1267.53 Z\" fill=\"#ff0000\" fill-rule=\"evenodd\" fill-opacity=\"1\" stroke=\"#000000\" stroke-opacity=\"1\" stroke-width=\"3.2\"/>\n",
       "<path clip-path=\"url(#clip792)\" d=\"M1003.38 1289.18 L1003.38 1321.18 L1035.38 1321.18 L1035.38 1289.18 L1003.38 1289.18 Z\" fill=\"#ff0000\" fill-rule=\"evenodd\" fill-opacity=\"1\" stroke=\"#000000\" stroke-opacity=\"1\" stroke-width=\"3.2\"/>\n",
       "<path clip-path=\"url(#clip792)\" d=\"M1023.59 1308.21 L1023.59 1340.21 L1055.59 1340.21 L1055.59 1308.21 L1023.59 1308.21 Z\" fill=\"#ff0000\" fill-rule=\"evenodd\" fill-opacity=\"1\" stroke=\"#000000\" stroke-opacity=\"1\" stroke-width=\"3.2\"/>\n",
       "<path clip-path=\"url(#clip792)\" d=\"M1043.79 1324.59 L1043.79 1356.59 L1075.79 1356.59 L1075.79 1324.59 L1043.79 1324.59 Z\" fill=\"#ff0000\" fill-rule=\"evenodd\" fill-opacity=\"1\" stroke=\"#000000\" stroke-opacity=\"1\" stroke-width=\"3.2\"/>\n",
       "<path clip-path=\"url(#clip792)\" d=\"M1063.99 1338.31 L1063.99 1370.31 L1095.99 1370.31 L1095.99 1338.31 L1063.99 1338.31 Z\" fill=\"#ff0000\" fill-rule=\"evenodd\" fill-opacity=\"1\" stroke=\"#000000\" stroke-opacity=\"1\" stroke-width=\"3.2\"/>\n",
       "<path clip-path=\"url(#clip792)\" d=\"M1084.19 1349.39 L1084.19 1381.39 L1116.19 1381.39 L1116.19 1349.39 L1084.19 1349.39 Z\" fill=\"#ff0000\" fill-rule=\"evenodd\" fill-opacity=\"1\" stroke=\"#000000\" stroke-opacity=\"1\" stroke-width=\"3.2\"/>\n",
       "<path clip-path=\"url(#clip792)\" d=\"M1104.4 1357.87 L1104.4 1389.87 L1136.4 1389.87 L1136.4 1357.87 L1104.4 1357.87 Z\" fill=\"#ff0000\" fill-rule=\"evenodd\" fill-opacity=\"1\" stroke=\"#000000\" stroke-opacity=\"1\" stroke-width=\"3.2\"/>\n",
       "<path clip-path=\"url(#clip792)\" d=\"M1124.6 1363.79 L1124.6 1395.79 L1156.6 1395.79 L1156.6 1363.79 L1124.6 1363.79 Z\" fill=\"#ff0000\" fill-rule=\"evenodd\" fill-opacity=\"1\" stroke=\"#000000\" stroke-opacity=\"1\" stroke-width=\"3.2\"/>\n",
       "<path clip-path=\"url(#clip792)\" d=\"M1144.8 1367.22 L1144.8 1399.22 L1176.8 1399.22 L1176.8 1367.22 L1144.8 1367.22 Z\" fill=\"#ff0000\" fill-rule=\"evenodd\" fill-opacity=\"1\" stroke=\"#000000\" stroke-opacity=\"1\" stroke-width=\"3.2\"/>\n",
       "<path clip-path=\"url(#clip792)\" d=\"M1165 1368.24 L1165 1400.24 L1197 1400.24 L1197 1368.24 L1165 1368.24 Z\" fill=\"#ff0000\" fill-rule=\"evenodd\" fill-opacity=\"1\" stroke=\"#000000\" stroke-opacity=\"1\" stroke-width=\"3.2\"/>\n",
       "<path clip-path=\"url(#clip792)\" d=\"M1185.21 1366.95 L1185.21 1398.95 L1217.21 1398.95 L1217.21 1366.95 L1185.21 1366.95 Z\" fill=\"#ff0000\" fill-rule=\"evenodd\" fill-opacity=\"1\" stroke=\"#000000\" stroke-opacity=\"1\" stroke-width=\"3.2\"/>\n",
       "<path clip-path=\"url(#clip792)\" d=\"M1205.41 1363.46 L1205.41 1395.46 L1237.41 1395.46 L1237.41 1363.46 L1205.41 1363.46 Z\" fill=\"#ff0000\" fill-rule=\"evenodd\" fill-opacity=\"1\" stroke=\"#000000\" stroke-opacity=\"1\" stroke-width=\"3.2\"/>\n",
       "<path clip-path=\"url(#clip792)\" d=\"M1225.61 1357.89 L1225.61 1389.89 L1257.61 1389.89 L1257.61 1357.89 L1225.61 1357.89 Z\" fill=\"#ff0000\" fill-rule=\"evenodd\" fill-opacity=\"1\" stroke=\"#000000\" stroke-opacity=\"1\" stroke-width=\"3.2\"/>\n",
       "<path clip-path=\"url(#clip792)\" d=\"M1245.81 1350.37 L1245.81 1382.37 L1277.81 1382.37 L1277.81 1350.37 L1245.81 1350.37 Z\" fill=\"#ff0000\" fill-rule=\"evenodd\" fill-opacity=\"1\" stroke=\"#000000\" stroke-opacity=\"1\" stroke-width=\"3.2\"/>\n",
       "<path clip-path=\"url(#clip792)\" d=\"M1266.02 1341.07 L1266.02 1373.07 L1298.02 1373.07 L1298.02 1341.07 L1266.02 1341.07 Z\" fill=\"#ff0000\" fill-rule=\"evenodd\" fill-opacity=\"1\" stroke=\"#000000\" stroke-opacity=\"1\" stroke-width=\"3.2\"/>\n",
       "<path clip-path=\"url(#clip792)\" d=\"M1286.22 1330.12 L1286.22 1362.12 L1318.22 1362.12 L1318.22 1330.12 L1286.22 1330.12 Z\" fill=\"#ff0000\" fill-rule=\"evenodd\" fill-opacity=\"1\" stroke=\"#000000\" stroke-opacity=\"1\" stroke-width=\"3.2\"/>\n",
       "<path clip-path=\"url(#clip792)\" d=\"M1306.42 1317.69 L1306.42 1349.69 L1338.42 1349.69 L1338.42 1317.69 L1306.42 1317.69 Z\" fill=\"#ff0000\" fill-rule=\"evenodd\" fill-opacity=\"1\" stroke=\"#000000\" stroke-opacity=\"1\" stroke-width=\"3.2\"/>\n",
       "<path clip-path=\"url(#clip792)\" d=\"M1326.62 1303.96 L1326.62 1335.96 L1358.62 1335.96 L1358.62 1303.96 L1326.62 1303.96 Z\" fill=\"#ff0000\" fill-rule=\"evenodd\" fill-opacity=\"1\" stroke=\"#000000\" stroke-opacity=\"1\" stroke-width=\"3.2\"/>\n",
       "<path clip-path=\"url(#clip792)\" d=\"M1346.83 1289.08 L1346.83 1321.08 L1378.83 1321.08 L1378.83 1289.08 L1346.83 1289.08 Z\" fill=\"#ff0000\" fill-rule=\"evenodd\" fill-opacity=\"1\" stroke=\"#000000\" stroke-opacity=\"1\" stroke-width=\"3.2\"/>\n",
       "<path clip-path=\"url(#clip792)\" d=\"M1367.03 1273.25 L1367.03 1305.25 L1399.03 1305.25 L1399.03 1273.25 L1367.03 1273.25 Z\" fill=\"#ff0000\" fill-rule=\"evenodd\" fill-opacity=\"1\" stroke=\"#000000\" stroke-opacity=\"1\" stroke-width=\"3.2\"/>\n",
       "<path clip-path=\"url(#clip792)\" d=\"M1387.23 1256.64 L1387.23 1288.64 L1419.23 1288.64 L1419.23 1256.64 L1387.23 1256.64 Z\" fill=\"#ff0000\" fill-rule=\"evenodd\" fill-opacity=\"1\" stroke=\"#000000\" stroke-opacity=\"1\" stroke-width=\"3.2\"/>\n",
       "<path clip-path=\"url(#clip792)\" d=\"M1407.44 1239.44 L1407.44 1271.44 L1439.44 1271.44 L1439.44 1239.44 L1407.44 1239.44 Z\" fill=\"#ff0000\" fill-rule=\"evenodd\" fill-opacity=\"1\" stroke=\"#000000\" stroke-opacity=\"1\" stroke-width=\"3.2\"/>\n",
       "<path clip-path=\"url(#clip792)\" d=\"M1427.64 1221.81 L1427.64 1253.81 L1459.64 1253.81 L1459.64 1221.81 L1427.64 1221.81 Z\" fill=\"#ff0000\" fill-rule=\"evenodd\" fill-opacity=\"1\" stroke=\"#000000\" stroke-opacity=\"1\" stroke-width=\"3.2\"/>\n",
       "<path clip-path=\"url(#clip792)\" d=\"M1447.84 1203.94 L1447.84 1235.94 L1479.84 1235.94 L1479.84 1203.94 L1447.84 1203.94 Z\" fill=\"#ff0000\" fill-rule=\"evenodd\" fill-opacity=\"1\" stroke=\"#000000\" stroke-opacity=\"1\" stroke-width=\"3.2\"/>\n",
       "<path clip-path=\"url(#clip792)\" d=\"M1468.04 1186 L1468.04 1218 L1500.04 1218 L1500.04 1186 L1468.04 1186 Z\" fill=\"#ff0000\" fill-rule=\"evenodd\" fill-opacity=\"1\" stroke=\"#000000\" stroke-opacity=\"1\" stroke-width=\"3.2\"/>\n",
       "<path clip-path=\"url(#clip792)\" d=\"M1488.25 1168.16 L1488.25 1200.16 L1520.25 1200.16 L1520.25 1168.16 L1488.25 1168.16 Z\" fill=\"#ff0000\" fill-rule=\"evenodd\" fill-opacity=\"1\" stroke=\"#000000\" stroke-opacity=\"1\" stroke-width=\"3.2\"/>\n",
       "<path clip-path=\"url(#clip792)\" d=\"M1508.45 1150.58 L1508.45 1182.58 L1540.45 1182.58 L1540.45 1150.58 L1508.45 1150.58 Z\" fill=\"#ff0000\" fill-rule=\"evenodd\" fill-opacity=\"1\" stroke=\"#000000\" stroke-opacity=\"1\" stroke-width=\"3.2\"/>\n",
       "<path clip-path=\"url(#clip792)\" d=\"M1528.65 1133.42 L1528.65 1165.42 L1560.65 1165.42 L1560.65 1133.42 L1528.65 1133.42 Z\" fill=\"#ff0000\" fill-rule=\"evenodd\" fill-opacity=\"1\" stroke=\"#000000\" stroke-opacity=\"1\" stroke-width=\"3.2\"/>\n",
       "<path clip-path=\"url(#clip792)\" d=\"M1548.85 1116.82 L1548.85 1148.82 L1580.85 1148.82 L1580.85 1116.82 L1548.85 1116.82 Z\" fill=\"#ff0000\" fill-rule=\"evenodd\" fill-opacity=\"1\" stroke=\"#000000\" stroke-opacity=\"1\" stroke-width=\"3.2\"/>\n",
       "<path clip-path=\"url(#clip792)\" d=\"M1569.06 1100.93 L1569.06 1132.93 L1601.06 1132.93 L1601.06 1100.93 L1569.06 1100.93 Z\" fill=\"#ff0000\" fill-rule=\"evenodd\" fill-opacity=\"1\" stroke=\"#000000\" stroke-opacity=\"1\" stroke-width=\"3.2\"/>\n",
       "<path clip-path=\"url(#clip792)\" d=\"M1589.26 1085.86 L1589.26 1117.86 L1621.26 1117.86 L1621.26 1085.86 L1589.26 1085.86 Z\" fill=\"#ff0000\" fill-rule=\"evenodd\" fill-opacity=\"1\" stroke=\"#000000\" stroke-opacity=\"1\" stroke-width=\"3.2\"/>\n",
       "<path clip-path=\"url(#clip792)\" d=\"M1609.46 1071.74 L1609.46 1103.74 L1641.46 1103.74 L1641.46 1071.74 L1609.46 1071.74 Z\" fill=\"#ff0000\" fill-rule=\"evenodd\" fill-opacity=\"1\" stroke=\"#000000\" stroke-opacity=\"1\" stroke-width=\"3.2\"/>\n",
       "<path clip-path=\"url(#clip792)\" d=\"M1629.66 1058.67 L1629.66 1090.67 L1661.66 1090.67 L1661.66 1058.67 L1629.66 1058.67 Z\" fill=\"#ff0000\" fill-rule=\"evenodd\" fill-opacity=\"1\" stroke=\"#000000\" stroke-opacity=\"1\" stroke-width=\"3.2\"/>\n",
       "<path clip-path=\"url(#clip792)\" d=\"M1649.87 1046.75 L1649.87 1078.75 L1681.87 1078.75 L1681.87 1046.75 L1649.87 1046.75 Z\" fill=\"#ff0000\" fill-rule=\"evenodd\" fill-opacity=\"1\" stroke=\"#000000\" stroke-opacity=\"1\" stroke-width=\"3.2\"/>\n",
       "<path clip-path=\"url(#clip792)\" d=\"M1670.07 1036.04 L1670.07 1068.04 L1702.07 1068.04 L1702.07 1036.04 L1670.07 1036.04 Z\" fill=\"#ff0000\" fill-rule=\"evenodd\" fill-opacity=\"1\" stroke=\"#000000\" stroke-opacity=\"1\" stroke-width=\"3.2\"/>\n",
       "<path clip-path=\"url(#clip792)\" d=\"M1690.27 1026.63 L1690.27 1058.63 L1722.27 1058.63 L1722.27 1026.63 L1690.27 1026.63 Z\" fill=\"#ff0000\" fill-rule=\"evenodd\" fill-opacity=\"1\" stroke=\"#000000\" stroke-opacity=\"1\" stroke-width=\"3.2\"/>\n",
       "<path clip-path=\"url(#clip792)\" d=\"M1710.47 1018.56 L1710.47 1050.56 L1742.47 1050.56 L1742.47 1018.56 L1710.47 1018.56 Z\" fill=\"#ff0000\" fill-rule=\"evenodd\" fill-opacity=\"1\" stroke=\"#000000\" stroke-opacity=\"1\" stroke-width=\"3.2\"/>\n",
       "<path clip-path=\"url(#clip792)\" d=\"M1730.68 1011.86 L1730.68 1043.86 L1762.68 1043.86 L1762.68 1011.86 L1730.68 1011.86 Z\" fill=\"#ff0000\" fill-rule=\"evenodd\" fill-opacity=\"1\" stroke=\"#000000\" stroke-opacity=\"1\" stroke-width=\"3.2\"/>\n",
       "<path clip-path=\"url(#clip792)\" d=\"M1750.88 1006.58 L1750.88 1038.58 L1782.88 1038.58 L1782.88 1006.58 L1750.88 1006.58 Z\" fill=\"#ff0000\" fill-rule=\"evenodd\" fill-opacity=\"1\" stroke=\"#000000\" stroke-opacity=\"1\" stroke-width=\"3.2\"/>\n",
       "<path clip-path=\"url(#clip792)\" d=\"M1771.08 1002.71 L1771.08 1034.71 L1803.08 1034.71 L1803.08 1002.71 L1771.08 1002.71 Z\" fill=\"#ff0000\" fill-rule=\"evenodd\" fill-opacity=\"1\" stroke=\"#000000\" stroke-opacity=\"1\" stroke-width=\"3.2\"/>\n",
       "<path clip-path=\"url(#clip792)\" d=\"M1791.29 1000.27 L1791.29 1032.27 L1823.29 1032.27 L1823.29 1000.27 L1791.29 1000.27 Z\" fill=\"#ff0000\" fill-rule=\"evenodd\" fill-opacity=\"1\" stroke=\"#000000\" stroke-opacity=\"1\" stroke-width=\"3.2\"/>\n",
       "<path clip-path=\"url(#clip792)\" d=\"M1811.49 999.226 L1811.49 1031.23 L1843.49 1031.23 L1843.49 999.226 L1811.49 999.226 Z\" fill=\"#ff0000\" fill-rule=\"evenodd\" fill-opacity=\"1\" stroke=\"#000000\" stroke-opacity=\"1\" stroke-width=\"3.2\"/>\n",
       "<path clip-path=\"url(#clip792)\" d=\"M1831.69 999.562 L1831.69 1031.56 L1863.69 1031.56 L1863.69 999.562 L1831.69 999.562 Z\" fill=\"#ff0000\" fill-rule=\"evenodd\" fill-opacity=\"1\" stroke=\"#000000\" stroke-opacity=\"1\" stroke-width=\"3.2\"/>\n",
       "<path clip-path=\"url(#clip792)\" d=\"M1851.89 1001.24 L1851.89 1033.24 L1883.89 1033.24 L1883.89 1001.24 L1851.89 1001.24 Z\" fill=\"#ff0000\" fill-rule=\"evenodd\" fill-opacity=\"1\" stroke=\"#000000\" stroke-opacity=\"1\" stroke-width=\"3.2\"/>\n",
       "<path clip-path=\"url(#clip792)\" d=\"M1872.1 1004.21 L1872.1 1036.21 L1904.1 1036.21 L1904.1 1004.21 L1872.1 1004.21 Z\" fill=\"#ff0000\" fill-rule=\"evenodd\" fill-opacity=\"1\" stroke=\"#000000\" stroke-opacity=\"1\" stroke-width=\"3.2\"/>\n",
       "<path clip-path=\"url(#clip792)\" d=\"M1892.3 1008.4 L1892.3 1040.4 L1924.3 1040.4 L1924.3 1008.4 L1892.3 1008.4 Z\" fill=\"#ff0000\" fill-rule=\"evenodd\" fill-opacity=\"1\" stroke=\"#000000\" stroke-opacity=\"1\" stroke-width=\"3.2\"/>\n",
       "<path clip-path=\"url(#clip792)\" d=\"M1912.5 1013.76 L1912.5 1045.76 L1944.5 1045.76 L1944.5 1013.76 L1912.5 1013.76 Z\" fill=\"#ff0000\" fill-rule=\"evenodd\" fill-opacity=\"1\" stroke=\"#000000\" stroke-opacity=\"1\" stroke-width=\"3.2\"/>\n",
       "<path clip-path=\"url(#clip792)\" d=\"M1932.7 1020.2 L1932.7 1052.2 L1964.7 1052.2 L1964.7 1020.2 L1932.7 1020.2 Z\" fill=\"#ff0000\" fill-rule=\"evenodd\" fill-opacity=\"1\" stroke=\"#000000\" stroke-opacity=\"1\" stroke-width=\"3.2\"/>\n",
       "<path clip-path=\"url(#clip792)\" d=\"M1952.91 1027.63 L1952.91 1059.63 L1984.91 1059.63 L1984.91 1027.63 L1952.91 1027.63 Z\" fill=\"#ff0000\" fill-rule=\"evenodd\" fill-opacity=\"1\" stroke=\"#000000\" stroke-opacity=\"1\" stroke-width=\"3.2\"/>\n",
       "<path clip-path=\"url(#clip792)\" d=\"M1973.11 1035.95 L1973.11 1067.95 L2005.11 1067.95 L2005.11 1035.95 L1973.11 1035.95 Z\" fill=\"#ff0000\" fill-rule=\"evenodd\" fill-opacity=\"1\" stroke=\"#000000\" stroke-opacity=\"1\" stroke-width=\"3.2\"/>\n",
       "<path clip-path=\"url(#clip792)\" d=\"M1993.31 1045.08 L1993.31 1077.08 L2025.31 1077.08 L2025.31 1045.08 L1993.31 1045.08 Z\" fill=\"#ff0000\" fill-rule=\"evenodd\" fill-opacity=\"1\" stroke=\"#000000\" stroke-opacity=\"1\" stroke-width=\"3.2\"/>\n",
       "<path clip-path=\"url(#clip792)\" d=\"M2013.51 1054.89 L2013.51 1086.89 L2045.51 1086.89 L2045.51 1054.89 L2013.51 1054.89 Z\" fill=\"#ff0000\" fill-rule=\"evenodd\" fill-opacity=\"1\" stroke=\"#000000\" stroke-opacity=\"1\" stroke-width=\"3.2\"/>\n",
       "<path clip-path=\"url(#clip792)\" d=\"M2033.72 1065.29 L2033.72 1097.29 L2065.72 1097.29 L2065.72 1065.29 L2033.72 1065.29 Z\" fill=\"#ff0000\" fill-rule=\"evenodd\" fill-opacity=\"1\" stroke=\"#000000\" stroke-opacity=\"1\" stroke-width=\"3.2\"/>\n",
       "<path clip-path=\"url(#clip792)\" d=\"M2053.92 1076.15 L2053.92 1108.15 L2085.92 1108.15 L2085.92 1076.15 L2053.92 1076.15 Z\" fill=\"#ff0000\" fill-rule=\"evenodd\" fill-opacity=\"1\" stroke=\"#000000\" stroke-opacity=\"1\" stroke-width=\"3.2\"/>\n",
       "<path clip-path=\"url(#clip792)\" d=\"M2074.12 1087.37 L2074.12 1119.37 L2106.12 1119.37 L2106.12 1087.37 L2074.12 1087.37 Z\" fill=\"#ff0000\" fill-rule=\"evenodd\" fill-opacity=\"1\" stroke=\"#000000\" stroke-opacity=\"1\" stroke-width=\"3.2\"/>\n",
       "<path clip-path=\"url(#clip792)\" d=\"M2094.32 1098.82 L2094.32 1130.82 L2126.32 1130.82 L2126.32 1098.82 L2094.32 1098.82 Z\" fill=\"#ff0000\" fill-rule=\"evenodd\" fill-opacity=\"1\" stroke=\"#000000\" stroke-opacity=\"1\" stroke-width=\"3.2\"/>\n",
       "<path clip-path=\"url(#clip792)\" d=\"M2114.53 1110.4 L2114.53 1142.4 L2146.53 1142.4 L2146.53 1110.4 L2114.53 1110.4 Z\" fill=\"#ff0000\" fill-rule=\"evenodd\" fill-opacity=\"1\" stroke=\"#000000\" stroke-opacity=\"1\" stroke-width=\"3.2\"/>\n",
       "<path clip-path=\"url(#clip792)\" d=\"M2134.73 1121.98 L2134.73 1153.98 L2166.73 1153.98 L2166.73 1121.98 L2134.73 1121.98 Z\" fill=\"#ff0000\" fill-rule=\"evenodd\" fill-opacity=\"1\" stroke=\"#000000\" stroke-opacity=\"1\" stroke-width=\"3.2\"/>\n",
       "<path clip-path=\"url(#clip792)\" d=\"M2154.93 1133.45 L2154.93 1165.45 L2186.93 1165.45 L2186.93 1133.45 L2154.93 1133.45 Z\" fill=\"#ff0000\" fill-rule=\"evenodd\" fill-opacity=\"1\" stroke=\"#000000\" stroke-opacity=\"1\" stroke-width=\"3.2\"/>\n",
       "<path clip-path=\"url(#clip792)\" d=\"M2175.13 1144.72 L2175.13 1176.72 L2207.13 1176.72 L2207.13 1144.72 L2175.13 1144.72 Z\" fill=\"#ff0000\" fill-rule=\"evenodd\" fill-opacity=\"1\" stroke=\"#000000\" stroke-opacity=\"1\" stroke-width=\"3.2\"/>\n",
       "<path clip-path=\"url(#clip792)\" d=\"M2195.34 1155.66 L2195.34 1187.66 L2227.34 1187.66 L2227.34 1155.66 L2195.34 1155.66 Z\" fill=\"#ff0000\" fill-rule=\"evenodd\" fill-opacity=\"1\" stroke=\"#000000\" stroke-opacity=\"1\" stroke-width=\"3.2\"/>\n",
       "<path clip-path=\"url(#clip792)\" d=\"M2215.54 1166.19 L2215.54 1198.19 L2247.54 1198.19 L2247.54 1166.19 L2215.54 1166.19 Z\" fill=\"#ff0000\" fill-rule=\"evenodd\" fill-opacity=\"1\" stroke=\"#000000\" stroke-opacity=\"1\" stroke-width=\"3.2\"/>\n",
       "<path clip-path=\"url(#clip792)\" d=\"M2235.74 1176.2 L2235.74 1208.2 L2267.74 1208.2 L2267.74 1176.2 L2235.74 1176.2 Z\" fill=\"#ff0000\" fill-rule=\"evenodd\" fill-opacity=\"1\" stroke=\"#000000\" stroke-opacity=\"1\" stroke-width=\"3.2\"/>\n",
       "<path clip-path=\"url(#clip792)\" d=\"M2255.95 1185.62 L2255.95 1217.62 L2287.95 1217.62 L2287.95 1185.62 L2255.95 1185.62 Z\" fill=\"#ff0000\" fill-rule=\"evenodd\" fill-opacity=\"1\" stroke=\"#000000\" stroke-opacity=\"1\" stroke-width=\"3.2\"/>\n",
       "<path clip-path=\"url(#clip792)\" d=\"M2276.15 1194.36 L2276.15 1226.36 L2308.15 1226.36 L2308.15 1194.36 L2276.15 1194.36 Z\" fill=\"#ff0000\" fill-rule=\"evenodd\" fill-opacity=\"1\" stroke=\"#000000\" stroke-opacity=\"1\" stroke-width=\"3.2\"/>\n",
       "</svg>\n"
      ]
     },
     "execution_count": 177,
     "metadata": {},
     "output_type": "execute_result"
    }
   ],
   "source": [
    "# notice the use of a symbol as an argument !, notice the range(0:0.1:10)--the steps and the range\n",
    "plot(0:0.1:10, x -> sin(x) / x, xlabel=\"x\", ylabel=\"sin(x)/x\", color=:red, marker=:square, legend=:none)"
   ]
  },
  {
   "cell_type": "code",
   "execution_count": 178,
   "metadata": {},
   "outputs": [
    {
     "data": {
      "image/svg+xml": [
       "<?xml version=\"1.0\" encoding=\"utf-8\"?>\n",
       "<svg xmlns=\"http://www.w3.org/2000/svg\" xmlns:xlink=\"http://www.w3.org/1999/xlink\" width=\"600\" height=\"400\" viewBox=\"0 0 2400 1600\">\n",
       "<defs>\n",
       "  <clipPath id=\"clip830\">\n",
       "    <rect x=\"0\" y=\"0\" width=\"2400\" height=\"1600\"/>\n",
       "  </clipPath>\n",
       "</defs>\n",
       "<path clip-path=\"url(#clip830)\" d=\"\n",
       "M0 1600 L2400 1600 L2400 0 L0 0  Z\n",
       "  \" fill=\"#ffffff\" fill-rule=\"evenodd\" fill-opacity=\"1\"/>\n",
       "<defs>\n",
       "  <clipPath id=\"clip831\">\n",
       "    <rect x=\"480\" y=\"0\" width=\"1681\" height=\"1600\"/>\n",
       "  </clipPath>\n",
       "</defs>\n",
       "<path clip-path=\"url(#clip830)\" d=\"\n",
       "M152.27 1486.45 L2112.76 1486.45 L2112.76 47.2441 L152.27 47.2441  Z\n",
       "  \" fill=\"#ffffff\" fill-rule=\"evenodd\" fill-opacity=\"1\"/>\n",
       "<defs>\n",
       "  <clipPath id=\"clip832\">\n",
       "    <rect x=\"152\" y=\"47\" width=\"1961\" height=\"1440\"/>\n",
       "  </clipPath>\n",
       "</defs>\n",
       "<polyline clip-path=\"url(#clip832)\" style=\"stroke:#000000; stroke-width:2; stroke-opacity:0.1; fill:none\" points=\"\n",
       "  152.27,1486.45 152.27,47.2441 \n",
       "  \"/>\n",
       "<polyline clip-path=\"url(#clip832)\" style=\"stroke:#000000; stroke-width:2; stroke-opacity:0.1; fill:none\" points=\"\n",
       "  642.391,1486.45 642.391,47.2441 \n",
       "  \"/>\n",
       "<polyline clip-path=\"url(#clip832)\" style=\"stroke:#000000; stroke-width:2; stroke-opacity:0.1; fill:none\" points=\"\n",
       "  1132.51,1486.45 1132.51,47.2441 \n",
       "  \"/>\n",
       "<polyline clip-path=\"url(#clip832)\" style=\"stroke:#000000; stroke-width:2; stroke-opacity:0.1; fill:none\" points=\"\n",
       "  1622.63,1486.45 1622.63,47.2441 \n",
       "  \"/>\n",
       "<polyline clip-path=\"url(#clip832)\" style=\"stroke:#000000; stroke-width:2; stroke-opacity:0.1; fill:none\" points=\"\n",
       "  2112.76,1486.45 2112.76,47.2441 \n",
       "  \"/>\n",
       "<polyline clip-path=\"url(#clip832)\" style=\"stroke:#000000; stroke-width:2; stroke-opacity:0.1; fill:none\" points=\"\n",
       "  152.27,1486.45 2112.76,1486.45 \n",
       "  \"/>\n",
       "<polyline clip-path=\"url(#clip832)\" style=\"stroke:#000000; stroke-width:2; stroke-opacity:0.1; fill:none\" points=\"\n",
       "  152.27,1126.65 2112.76,1126.65 \n",
       "  \"/>\n",
       "<polyline clip-path=\"url(#clip832)\" style=\"stroke:#000000; stroke-width:2; stroke-opacity:0.1; fill:none\" points=\"\n",
       "  152.27,766.846 2112.76,766.846 \n",
       "  \"/>\n",
       "<polyline clip-path=\"url(#clip832)\" style=\"stroke:#000000; stroke-width:2; stroke-opacity:0.1; fill:none\" points=\"\n",
       "  152.27,407.045 2112.76,407.045 \n",
       "  \"/>\n",
       "<polyline clip-path=\"url(#clip832)\" style=\"stroke:#000000; stroke-width:2; stroke-opacity:0.1; fill:none\" points=\"\n",
       "  152.27,47.2441 2112.76,47.2441 \n",
       "  \"/>\n",
       "<polyline clip-path=\"url(#clip830)\" style=\"stroke:#000000; stroke-width:4; stroke-opacity:1; fill:none\" points=\"\n",
       "  152.27,1486.45 2112.76,1486.45 \n",
       "  \"/>\n",
       "<polyline clip-path=\"url(#clip830)\" style=\"stroke:#000000; stroke-width:4; stroke-opacity:1; fill:none\" points=\"\n",
       "  152.27,1486.45 152.27,47.2441 \n",
       "  \"/>\n",
       "<polyline clip-path=\"url(#clip830)\" style=\"stroke:#000000; stroke-width:4; stroke-opacity:1; fill:none\" points=\"\n",
       "  152.27,1486.45 152.27,1469.18 \n",
       "  \"/>\n",
       "<polyline clip-path=\"url(#clip830)\" style=\"stroke:#000000; stroke-width:4; stroke-opacity:1; fill:none\" points=\"\n",
       "  642.391,1486.45 642.391,1469.18 \n",
       "  \"/>\n",
       "<polyline clip-path=\"url(#clip830)\" style=\"stroke:#000000; stroke-width:4; stroke-opacity:1; fill:none\" points=\"\n",
       "  1132.51,1486.45 1132.51,1469.18 \n",
       "  \"/>\n",
       "<polyline clip-path=\"url(#clip830)\" style=\"stroke:#000000; stroke-width:4; stroke-opacity:1; fill:none\" points=\"\n",
       "  1622.63,1486.45 1622.63,1469.18 \n",
       "  \"/>\n",
       "<polyline clip-path=\"url(#clip830)\" style=\"stroke:#000000; stroke-width:4; stroke-opacity:1; fill:none\" points=\"\n",
       "  2112.76,1486.45 2112.76,1469.18 \n",
       "  \"/>\n",
       "<polyline clip-path=\"url(#clip830)\" style=\"stroke:#000000; stroke-width:4; stroke-opacity:1; fill:none\" points=\"\n",
       "  152.27,1486.45 175.795,1486.45 \n",
       "  \"/>\n",
       "<polyline clip-path=\"url(#clip830)\" style=\"stroke:#000000; stroke-width:4; stroke-opacity:1; fill:none\" points=\"\n",
       "  152.27,1126.65 175.795,1126.65 \n",
       "  \"/>\n",
       "<polyline clip-path=\"url(#clip830)\" style=\"stroke:#000000; stroke-width:4; stroke-opacity:1; fill:none\" points=\"\n",
       "  152.27,766.846 175.795,766.846 \n",
       "  \"/>\n",
       "<polyline clip-path=\"url(#clip830)\" style=\"stroke:#000000; stroke-width:4; stroke-opacity:1; fill:none\" points=\"\n",
       "  152.27,407.045 175.795,407.045 \n",
       "  \"/>\n",
       "<polyline clip-path=\"url(#clip830)\" style=\"stroke:#000000; stroke-width:4; stroke-opacity:1; fill:none\" points=\"\n",
       "  152.27,47.2441 175.795,47.2441 \n",
       "  \"/>\n",
       "<path clip-path=\"url(#clip830)\" d=\"M 0 0 M114.538 1525.04 L127.015 1525.04 L127.015 1528.83 L114.538 1528.83 L114.538 1525.04 Z\" fill=\"#000000\" fill-rule=\"evenodd\" fill-opacity=\"1\" /><path clip-path=\"url(#clip830)\" d=\"M 0 0 M132.131 1505.36 L150.487 1505.36 L150.487 1509.3 L136.413 1509.3 L136.413 1517.77 Q137.432 1517.42 138.45 1517.26 Q139.469 1517.07 140.487 1517.07 Q146.274 1517.07 149.654 1520.24 Q153.033 1523.42 153.033 1528.83 Q153.033 1534.41 149.561 1537.51 Q146.089 1540.59 139.77 1540.59 Q137.594 1540.59 135.325 1540.22 Q133.08 1539.85 130.672 1539.11 L130.672 1534.41 Q132.756 1535.54 134.978 1536.1 Q137.2 1536.66 139.677 1536.66 Q143.682 1536.66 146.02 1534.55 Q148.358 1532.44 148.358 1528.83 Q148.358 1525.22 146.02 1523.11 Q143.682 1521.01 139.677 1521.01 Q137.802 1521.01 135.927 1521.42 Q134.075 1521.84 132.131 1522.72 L132.131 1505.36 Z\" fill=\"#000000\" fill-rule=\"evenodd\" fill-opacity=\"1\" /><path clip-path=\"url(#clip830)\" d=\"M 0 0 M158.103 1534.04 L162.987 1534.04 L162.987 1539.92 L158.103 1539.92 L158.103 1534.04 Z\" fill=\"#000000\" fill-rule=\"evenodd\" fill-opacity=\"1\" /><path clip-path=\"url(#clip830)\" d=\"M 0 0 M178.056 1508.44 Q174.445 1508.44 172.617 1512 Q170.811 1515.55 170.811 1522.67 Q170.811 1529.78 172.617 1533.35 Q174.445 1536.89 178.056 1536.89 Q181.691 1536.89 183.496 1533.35 Q185.325 1529.78 185.325 1522.67 Q185.325 1515.55 183.496 1512 Q181.691 1508.44 178.056 1508.44 M178.056 1504.73 Q183.867 1504.73 186.922 1509.34 Q190.001 1513.92 190.001 1522.67 Q190.001 1531.4 186.922 1536.01 Q183.867 1540.59 178.056 1540.59 Q172.246 1540.59 169.168 1536.01 Q166.112 1531.4 166.112 1522.67 Q166.112 1513.92 169.168 1509.34 Q172.246 1504.73 178.056 1504.73 Z\" fill=\"#000000\" fill-rule=\"evenodd\" fill-opacity=\"1\" /><path clip-path=\"url(#clip830)\" d=\"M 0 0 M605.458 1525.04 L617.935 1525.04 L617.935 1528.83 L605.458 1528.83 L605.458 1525.04 Z\" fill=\"#000000\" fill-rule=\"evenodd\" fill-opacity=\"1\" /><path clip-path=\"url(#clip830)\" d=\"M 0 0 M627.032 1535.98 L643.352 1535.98 L643.352 1539.92 L621.407 1539.92 L621.407 1535.98 Q624.069 1533.23 628.653 1528.6 Q633.259 1523.95 634.44 1522.61 Q636.685 1520.08 637.565 1518.35 Q638.468 1516.59 638.468 1514.9 Q638.468 1512.14 636.523 1510.41 Q634.602 1508.67 631.5 1508.67 Q629.301 1508.67 626.847 1509.43 Q624.417 1510.2 621.639 1511.75 L621.639 1507.03 Q624.463 1505.89 626.917 1505.31 Q629.37 1504.73 631.407 1504.73 Q636.778 1504.73 639.972 1507.42 Q643.167 1510.11 643.167 1514.6 Q643.167 1516.73 642.356 1518.65 Q641.569 1520.54 639.463 1523.14 Q638.884 1523.81 635.782 1527.03 Q632.681 1530.22 627.032 1535.98 Z\" fill=\"#000000\" fill-rule=\"evenodd\" fill-opacity=\"1\" /><path clip-path=\"url(#clip830)\" d=\"M 0 0 M648.421 1534.04 L653.305 1534.04 L653.305 1539.92 L648.421 1539.92 L648.421 1534.04 Z\" fill=\"#000000\" fill-rule=\"evenodd\" fill-opacity=\"1\" /><path clip-path=\"url(#clip830)\" d=\"M 0 0 M658.421 1505.36 L676.778 1505.36 L676.778 1509.3 L662.704 1509.3 L662.704 1517.77 Q663.722 1517.42 664.741 1517.26 Q665.759 1517.07 666.778 1517.07 Q672.565 1517.07 675.944 1520.24 Q679.324 1523.42 679.324 1528.83 Q679.324 1534.41 675.852 1537.51 Q672.379 1540.59 666.06 1540.59 Q663.884 1540.59 661.616 1540.22 Q659.37 1539.85 656.963 1539.11 L656.963 1534.41 Q659.046 1535.54 661.268 1536.1 Q663.491 1536.66 665.967 1536.66 Q669.972 1536.66 672.31 1534.55 Q674.648 1532.44 674.648 1528.83 Q674.648 1525.22 672.31 1523.11 Q669.972 1521.01 665.967 1521.01 Q664.092 1521.01 662.217 1521.42 Q660.366 1521.84 658.421 1522.72 L658.421 1505.36 Z\" fill=\"#000000\" fill-rule=\"evenodd\" fill-opacity=\"1\" /><path clip-path=\"url(#clip830)\" d=\"M 0 0 M1114.03 1508.44 Q1110.42 1508.44 1108.59 1512 Q1106.78 1515.55 1106.78 1522.67 Q1106.78 1529.78 1108.59 1533.35 Q1110.42 1536.89 1114.03 1536.89 Q1117.66 1536.89 1119.47 1533.35 Q1121.3 1529.78 1121.3 1522.67 Q1121.3 1515.55 1119.47 1512 Q1117.66 1508.44 1114.03 1508.44 M1114.03 1504.73 Q1119.84 1504.73 1122.89 1509.34 Q1125.97 1513.92 1125.97 1522.67 Q1125.97 1531.4 1122.89 1536.01 Q1119.84 1540.59 1114.03 1540.59 Q1108.22 1540.59 1105.14 1536.01 Q1102.08 1531.4 1102.08 1522.67 Q1102.08 1513.92 1105.14 1509.34 Q1108.22 1504.73 1114.03 1504.73 Z\" fill=\"#000000\" fill-rule=\"evenodd\" fill-opacity=\"1\" /><path clip-path=\"url(#clip830)\" d=\"M 0 0 M1131.04 1534.04 L1135.93 1534.04 L1135.93 1539.92 L1131.04 1539.92 L1131.04 1534.04 Z\" fill=\"#000000\" fill-rule=\"evenodd\" fill-opacity=\"1\" /><path clip-path=\"url(#clip830)\" d=\"M 0 0 M1151 1508.44 Q1147.39 1508.44 1145.56 1512 Q1143.75 1515.55 1143.75 1522.67 Q1143.75 1529.78 1145.56 1533.35 Q1147.39 1536.89 1151 1536.89 Q1154.63 1536.89 1156.44 1533.35 Q1158.26 1529.78 1158.26 1522.67 Q1158.26 1515.55 1156.44 1512 Q1154.63 1508.44 1151 1508.44 M1151 1504.73 Q1156.81 1504.73 1159.86 1509.34 Q1162.94 1513.92 1162.94 1522.67 Q1162.94 1531.4 1159.86 1536.01 Q1156.81 1540.59 1151 1540.59 Q1145.19 1540.59 1142.11 1536.01 Q1139.05 1531.4 1139.05 1522.67 Q1139.05 1513.92 1142.11 1509.34 Q1145.19 1504.73 1151 1504.73 Z\" fill=\"#000000\" fill-rule=\"evenodd\" fill-opacity=\"1\" /><path clip-path=\"url(#clip830)\" d=\"M 0 0 M1599.3 1535.98 L1615.62 1535.98 L1615.62 1539.92 L1593.68 1539.92 L1593.68 1535.98 Q1596.34 1533.23 1600.92 1528.6 Q1605.53 1523.95 1606.71 1522.61 Q1608.95 1520.08 1609.83 1518.35 Q1610.74 1516.59 1610.74 1514.9 Q1610.74 1512.14 1608.79 1510.41 Q1606.87 1508.67 1603.77 1508.67 Q1601.57 1508.67 1599.12 1509.43 Q1596.69 1510.2 1593.91 1511.75 L1593.91 1507.03 Q1596.73 1505.89 1599.19 1505.31 Q1601.64 1504.73 1603.68 1504.73 Q1609.05 1504.73 1612.24 1507.42 Q1615.44 1510.11 1615.44 1514.6 Q1615.44 1516.73 1614.63 1518.65 Q1613.84 1520.54 1611.73 1523.14 Q1611.15 1523.81 1608.05 1527.03 Q1604.95 1530.22 1599.3 1535.98 Z\" fill=\"#000000\" fill-rule=\"evenodd\" fill-opacity=\"1\" /><path clip-path=\"url(#clip830)\" d=\"M 0 0 M1620.69 1534.04 L1625.57 1534.04 L1625.57 1539.92 L1620.69 1539.92 L1620.69 1534.04 Z\" fill=\"#000000\" fill-rule=\"evenodd\" fill-opacity=\"1\" /><path clip-path=\"url(#clip830)\" d=\"M 0 0 M1630.69 1505.36 L1649.05 1505.36 L1649.05 1509.3 L1634.97 1509.3 L1634.97 1517.77 Q1635.99 1517.42 1637.01 1517.26 Q1638.03 1517.07 1639.05 1517.07 Q1644.83 1517.07 1648.21 1520.24 Q1651.59 1523.42 1651.59 1528.83 Q1651.59 1534.41 1648.12 1537.51 Q1644.65 1540.59 1638.33 1540.59 Q1636.15 1540.59 1633.88 1540.22 Q1631.64 1539.85 1629.23 1539.11 L1629.23 1534.41 Q1631.31 1535.54 1633.54 1536.1 Q1635.76 1536.66 1638.24 1536.66 Q1642.24 1536.66 1644.58 1534.55 Q1646.92 1532.44 1646.92 1528.83 Q1646.92 1525.22 1644.58 1523.11 Q1642.24 1521.01 1638.24 1521.01 Q1636.36 1521.01 1634.49 1521.42 Q1632.63 1521.84 1630.69 1522.72 L1630.69 1505.36 Z\" fill=\"#000000\" fill-rule=\"evenodd\" fill-opacity=\"1\" /><path clip-path=\"url(#clip830)\" d=\"M 0 0 M2084.55 1505.36 L2102.91 1505.36 L2102.91 1509.3 L2088.83 1509.3 L2088.83 1517.77 Q2089.85 1517.42 2090.87 1517.26 Q2091.89 1517.07 2092.91 1517.07 Q2098.69 1517.07 2102.07 1520.24 Q2105.45 1523.42 2105.45 1528.83 Q2105.45 1534.41 2101.98 1537.51 Q2098.51 1540.59 2092.19 1540.59 Q2090.01 1540.59 2087.74 1540.22 Q2085.5 1539.85 2083.09 1539.11 L2083.09 1534.41 Q2085.18 1535.54 2087.4 1536.1 Q2089.62 1536.66 2092.1 1536.66 Q2096.1 1536.66 2098.44 1534.55 Q2100.78 1532.44 2100.78 1528.83 Q2100.78 1525.22 2098.44 1523.11 Q2096.1 1521.01 2092.1 1521.01 Q2090.22 1521.01 2088.35 1521.42 Q2086.49 1521.84 2084.55 1522.72 L2084.55 1505.36 Z\" fill=\"#000000\" fill-rule=\"evenodd\" fill-opacity=\"1\" /><path clip-path=\"url(#clip830)\" d=\"M 0 0 M2110.52 1534.04 L2115.41 1534.04 L2115.41 1539.92 L2110.52 1539.92 L2110.52 1534.04 Z\" fill=\"#000000\" fill-rule=\"evenodd\" fill-opacity=\"1\" /><path clip-path=\"url(#clip830)\" d=\"M 0 0 M2130.48 1508.44 Q2126.86 1508.44 2125.04 1512 Q2123.23 1515.55 2123.23 1522.67 Q2123.23 1529.78 2125.04 1533.35 Q2126.86 1536.89 2130.48 1536.89 Q2134.11 1536.89 2135.92 1533.35 Q2137.74 1529.78 2137.74 1522.67 Q2137.74 1515.55 2135.92 1512 Q2134.11 1508.44 2130.48 1508.44 M2130.48 1504.73 Q2136.29 1504.73 2139.34 1509.34 Q2142.42 1513.92 2142.42 1522.67 Q2142.42 1531.4 2139.34 1536.01 Q2136.29 1540.59 2130.48 1540.59 Q2124.67 1540.59 2121.59 1536.01 Q2118.53 1531.4 2118.53 1522.67 Q2118.53 1513.92 2121.59 1509.34 Q2124.67 1504.73 2130.48 1504.73 Z\" fill=\"#000000\" fill-rule=\"evenodd\" fill-opacity=\"1\" /><path clip-path=\"url(#clip830)\" d=\"M 0 0 M62.9921 1488.84 L75.4689 1488.84 L75.4689 1492.64 L62.9921 1492.64 L62.9921 1488.84 Z\" fill=\"#000000\" fill-rule=\"evenodd\" fill-opacity=\"1\" /><path clip-path=\"url(#clip830)\" d=\"M 0 0 M81.3485 1499.79 L88.9874 1499.79 L88.9874 1473.43 L80.6772 1475.09 L80.6772 1470.83 L88.9411 1469.17 L93.617 1469.17 L93.617 1499.79 L101.256 1499.79 L101.256 1503.73 L81.3485 1503.73 L81.3485 1499.79 Z\" fill=\"#000000\" fill-rule=\"evenodd\" fill-opacity=\"1\" /><path clip-path=\"url(#clip830)\" d=\"M 0 0 M116.325 1472.25 Q112.714 1472.25 110.885 1475.81 Q109.08 1479.35 109.08 1486.48 Q109.08 1493.59 110.885 1497.15 Q112.714 1500.7 116.325 1500.7 Q119.959 1500.7 121.765 1497.15 Q123.594 1493.59 123.594 1486.48 Q123.594 1479.35 121.765 1475.81 Q119.959 1472.25 116.325 1472.25 M116.325 1468.54 Q122.135 1468.54 125.191 1473.15 Q128.27 1477.73 128.27 1486.48 Q128.27 1495.21 125.191 1499.82 Q122.135 1504.4 116.325 1504.4 Q110.515 1504.4 107.436 1499.82 Q104.381 1495.21 104.381 1486.48 Q104.381 1477.73 107.436 1473.15 Q110.515 1468.54 116.325 1468.54 Z\" fill=\"#000000\" fill-rule=\"evenodd\" fill-opacity=\"1\" /><path clip-path=\"url(#clip830)\" d=\"M 0 0 M89.7744 1129.04 L102.251 1129.04 L102.251 1132.84 L89.7744 1132.84 L89.7744 1129.04 Z\" fill=\"#000000\" fill-rule=\"evenodd\" fill-opacity=\"1\" /><path clip-path=\"url(#clip830)\" d=\"M 0 0 M107.367 1109.37 L125.723 1109.37 L125.723 1113.3 L111.649 1113.3 L111.649 1121.77 Q112.668 1121.43 113.686 1121.27 Q114.705 1121.08 115.723 1121.08 Q121.51 1121.08 124.89 1124.25 Q128.27 1127.42 128.27 1132.84 Q128.27 1138.42 124.797 1141.52 Q121.325 1144.6 115.006 1144.6 Q112.83 1144.6 110.561 1144.23 Q108.316 1143.86 105.909 1143.12 L105.909 1138.42 Q107.992 1139.55 110.214 1140.11 Q112.436 1140.66 114.913 1140.66 Q118.918 1140.66 121.256 1138.56 Q123.594 1136.45 123.594 1132.84 Q123.594 1129.23 121.256 1127.12 Q118.918 1125.01 114.913 1125.01 Q113.038 1125.01 111.163 1125.43 Q109.311 1125.85 107.367 1126.73 L107.367 1109.37 Z\" fill=\"#000000\" fill-rule=\"evenodd\" fill-opacity=\"1\" /><path clip-path=\"url(#clip830)\" d=\"M 0 0 M116.325 752.645 Q112.714 752.645 110.885 756.209 Q109.08 759.751 109.08 766.881 Q109.08 773.987 110.885 777.552 Q112.714 781.094 116.325 781.094 Q119.959 781.094 121.765 777.552 Q123.594 773.987 123.594 766.881 Q123.594 759.751 121.765 756.209 Q119.959 752.645 116.325 752.645 M116.325 748.941 Q122.135 748.941 125.191 753.547 Q128.27 758.131 128.27 766.881 Q128.27 775.608 125.191 780.214 Q122.135 784.797 116.325 784.797 Q110.515 784.797 107.436 780.214 Q104.381 775.608 104.381 766.881 Q104.381 758.131 107.436 753.547 Q110.515 748.941 116.325 748.941 Z\" fill=\"#000000\" fill-rule=\"evenodd\" fill-opacity=\"1\" /><path clip-path=\"url(#clip830)\" d=\"M 0 0 M107.367 389.765 L125.723 389.765 L125.723 393.7 L111.649 393.7 L111.649 402.172 Q112.668 401.825 113.686 401.663 Q114.705 401.478 115.723 401.478 Q121.51 401.478 124.89 404.649 Q128.27 407.82 128.27 413.237 Q128.27 418.816 124.797 421.918 Q121.325 424.996 115.006 424.996 Q112.83 424.996 110.561 424.626 Q108.316 424.256 105.909 423.515 L105.909 418.816 Q107.992 419.95 110.214 420.506 Q112.436 421.061 114.913 421.061 Q118.918 421.061 121.256 418.955 Q123.594 416.848 123.594 413.237 Q123.594 409.626 121.256 407.52 Q118.918 405.413 114.913 405.413 Q113.038 405.413 111.163 405.83 Q109.311 406.246 107.367 407.126 L107.367 389.765 Z\" fill=\"#000000\" fill-rule=\"evenodd\" fill-opacity=\"1\" /><path clip-path=\"url(#clip830)\" d=\"M 0 0 M81.3485 60.5889 L88.9874 60.5889 L88.9874 34.2233 L80.6772 35.89 L80.6772 31.6308 L88.9411 29.9641 L93.617 29.9641 L93.617 60.5889 L101.256 60.5889 L101.256 64.5241 L81.3485 64.5241 L81.3485 60.5889 Z\" fill=\"#000000\" fill-rule=\"evenodd\" fill-opacity=\"1\" /><path clip-path=\"url(#clip830)\" d=\"M 0 0 M116.325 33.0428 Q112.714 33.0428 110.885 36.6076 Q109.08 40.1492 109.08 47.2788 Q109.08 54.3853 110.885 57.9501 Q112.714 61.4917 116.325 61.4917 Q119.959 61.4917 121.765 57.9501 Q123.594 54.3853 123.594 47.2788 Q123.594 40.1492 121.765 36.6076 Q119.959 33.0428 116.325 33.0428 M116.325 29.3391 Q122.135 29.3391 125.191 33.9456 Q128.27 38.5289 128.27 47.2788 Q128.27 56.0056 125.191 60.6121 Q122.135 65.1954 116.325 65.1954 Q110.515 65.1954 107.436 60.6121 Q104.381 56.0056 104.381 47.2788 Q104.381 38.5289 107.436 33.9456 Q110.515 29.3391 116.325 29.3391 Z\" fill=\"#000000\" fill-rule=\"evenodd\" fill-opacity=\"1\" /><polyline clip-path=\"url(#clip832)\" style=\"stroke:#3b0964; stroke-width:4; stroke-opacity:1; fill:none\" points=\"\n",
       "  152.27,1481.38 166.817,1479.25 171.874,1478.51 191.479,1475.67 211.084,1472.89 217.078,1472.06 230.689,1470.15 250.294,1467.45 269.55,1464.86 269.899,1464.81 \n",
       "  289.504,1462.2 309.108,1459.65 324.765,1457.66 328.713,1457.16 348.318,1454.7 367.923,1452.29 383.183,1450.47 387.528,1449.94 407.133,1447.63 426.738,1445.38 \n",
       "  445.567,1443.27 446.343,1443.18 465.947,1441.03 485.552,1438.93 505.157,1436.89 513.174,1436.08 524.762,1434.89 544.367,1432.95 563.972,1431.07 583.577,1429.24 \n",
       "  587.594,1428.88 603.181,1427.46 622.786,1425.74 642.391,1424.07 661.996,1422.47 671.992,1421.68 681.601,1420.92 701.206,1419.42 720.811,1417.98 740.415,1416.6 \n",
       "  760.02,1415.28 772.41,1414.49 779.625,1414.02 799.23,1412.81 818.835,1411.66 838.44,1410.57 858.045,1409.54 877.65,1408.58 897.254,1407.67 906.053,1407.29 \n",
       "  916.859,1406.82 936.464,1406.03 956.069,1405.3 975.674,1404.63 995.279,1404.02 1014.88,1403.47 1034.49,1402.99 1054.09,1402.56 1073.7,1402.2 1093.3,1401.9 \n",
       "  1112.91,1401.65 1132.51,1401.47 1152.12,1401.36 1171.72,1401.3 1191.33,1401.3 1210.93,1401.36 1230.54,1401.49 1250.14,1401.68 1269.75,1401.92 1289.35,1402.23 \n",
       "  1308.96,1402.6 1328.56,1403.03 1348.17,1403.51 1367.77,1404.06 1387.38,1404.68 1406.98,1405.35 1426.59,1406.08 1446.19,1406.87 1455.91,1407.29 1465.8,1407.72 \n",
       "  1485.4,1408.62 1505.01,1409.58 1524.61,1410.6 1544.21,1411.68 1563.82,1412.82 1583.42,1414.02 1590.64,1414.49 1603.03,1415.27 1622.63,1416.58 1642.24,1417.94 \n",
       "  1661.84,1419.36 1681.45,1420.84 1692.15,1421.68 1701.05,1422.38 1720.66,1423.96 1740.26,1425.59 1759.87,1427.29 1777.66,1428.88 1779.47,1429.04 1799.08,1430.83 \n",
       "  1818.68,1432.68 1838.29,1434.59 1853.16,1436.08 1857.89,1436.54 1877.5,1438.54 1897.1,1440.6 1916.71,1442.71 1921.8,1443.27 1936.31,1444.86 1955.92,1447.06 \n",
       "  1975.52,1449.32 1985.29,1450.47 1995.13,1451.61 2014.73,1453.96 2034.34,1456.35 2044.8,1457.66 2053.94,1458.8 2073.55,1461.28 2093.15,1463.81 2101.08,1464.86 \n",
       "  2112.76,1466.39 \n",
       "  \"/>\n",
       "<polyline clip-path=\"url(#clip832)\" style=\"stroke:#1f0c47; stroke-width:4; stroke-opacity:1; fill:none\" points=\"\n",
       "  2059.37,1486.45 2053.94,1485.78 2034.34,1483.43 2014.73,1481.14 1998.25,1479.25 1995.13,1478.89 1975.52,1476.68 1955.92,1474.52 1936.31,1472.41 1932.9,1472.06 \n",
       "  1916.71,1470.34 1897.1,1468.32 1877.5,1466.36 1862.13,1464.86 1857.89,1464.44 1838.29,1462.57 1818.68,1460.75 1799.08,1458.98 1784.02,1457.66 1779.47,1457.26 \n",
       "  1759.87,1455.59 1740.26,1453.97 1720.66,1452.41 1701.05,1450.9 1695.25,1450.47 1681.45,1449.43 1661.84,1448.02 1642.24,1446.67 1622.63,1445.37 1603.03,1444.12 \n",
       "  1588.94,1443.27 1583.42,1442.93 1563.82,1441.79 1544.21,1440.71 1524.61,1439.68 1505.01,1438.71 1485.4,1437.79 1465.8,1436.93 1446.19,1436.13 1444.65,1436.08 \n",
       "  1426.59,1435.38 1406.98,1434.69 1387.38,1434.05 1367.77,1433.48 1348.17,1432.96 1328.56,1432.5 1308.96,1432.09 1289.35,1431.75 1269.75,1431.46 1250.14,1431.23 \n",
       "  1230.54,1431.06 1210.93,1430.95 1191.33,1430.89 1171.72,1430.9 1152.12,1430.96 1132.51,1431.08 1112.91,1431.26 1093.3,1431.49 1073.7,1431.79 1054.09,1432.14 \n",
       "  1034.49,1432.56 1014.88,1433.03 995.279,1433.56 975.674,1434.15 956.069,1434.8 936.464,1435.5 921.75,1436.08 916.859,1436.26 897.254,1437.08 877.65,1437.95 \n",
       "  858.045,1438.88 838.44,1439.87 818.835,1440.92 799.23,1442.03 779.625,1443.2 778.4,1443.27 760.02,1444.41 740.415,1445.68 720.811,1447 701.206,1448.39 \n",
       "  681.601,1449.83 673.257,1450.47 661.996,1451.32 642.391,1452.86 622.786,1454.46 603.181,1456.12 585.535,1457.66 583.577,1457.83 563.972,1459.59 544.367,1461.4 \n",
       "  524.762,1463.27 508.541,1464.86 505.157,1465.19 485.552,1467.15 465.947,1469.17 446.343,1471.24 438.884,1472.06 426.738,1473.36 407.133,1475.53 387.528,1477.75 \n",
       "  374.623,1479.25 367.923,1480.02 348.318,1482.33 328.713,1484.7 314.575,1486.45 \n",
       "  \"/>\n",
       "<polyline clip-path=\"url(#clip832)\" style=\"stroke:#6e186e; stroke-width:4; stroke-opacity:1; fill:none\" points=\"\n",
       "  152.27,1424.72 171.427,1421.68 171.874,1421.61 191.479,1418.54 211.084,1415.52 217.933,1414.49 230.689,1412.54 250.294,1409.62 266.238,1407.29 269.899,1406.75 \n",
       "  289.504,1403.92 309.108,1401.15 316.745,1400.1 328.713,1398.42 348.318,1395.75 367.923,1393.14 369.776,1392.9 387.528,1390.57 407.133,1388.05 425.957,1385.7 \n",
       "  426.738,1385.6 446.343,1383.19 465.947,1380.85 485.552,1378.56 486.04,1378.51 505.157,1376.32 524.762,1374.14 544.367,1372.03 551.214,1371.31 563.972,1369.96 \n",
       "  583.577,1367.96 603.181,1366.02 622.786,1364.14 623.065,1364.12 642.391,1362.31 661.996,1360.55 681.601,1358.85 701.206,1357.22 704.968,1356.92 720.811,1355.64 \n",
       "  740.415,1354.12 760.02,1352.68 779.625,1351.29 799.23,1349.98 803.274,1349.72 818.835,1348.72 838.44,1347.53 858.045,1346.4 877.65,1345.34 897.254,1344.35 \n",
       "  916.859,1343.43 936.464,1342.57 937.591,1342.53 956.069,1341.78 975.674,1341.05 995.279,1340.39 1014.88,1339.79 1034.49,1339.27 1054.09,1338.81 1073.7,1338.43 \n",
       "  1093.3,1338.11 1112.91,1337.85 1132.51,1337.67 1152.12,1337.55 1171.72,1337.51 1191.33,1337.53 1210.93,1337.62 1230.54,1337.77 1250.14,1337.99 1269.75,1338.29 \n",
       "  1289.35,1338.64 1308.96,1339.07 1328.56,1339.56 1348.17,1340.12 1367.77,1340.75 1387.38,1341.45 1406.98,1342.21 1414.42,1342.53 1426.59,1343.04 1446.19,1343.92 \n",
       "  1465.8,1344.88 1485.4,1345.89 1505.01,1346.98 1524.61,1348.13 1544.21,1349.35 1549.95,1349.72 1563.82,1350.62 1583.42,1351.95 1603.03,1353.35 1622.63,1354.81 \n",
       "  1642.24,1356.34 1649.34,1356.92 1661.84,1357.92 1681.45,1359.56 1701.05,1361.26 1720.66,1363.03 1732.28,1364.12 1740.26,1364.85 1759.87,1366.72 1779.47,1368.66 \n",
       "  1799.08,1370.66 1805.3,1371.31 1818.68,1372.7 1838.29,1374.8 1857.89,1376.96 1871.51,1378.51 1877.5,1379.18 1897.1,1381.44 1916.71,1383.76 1932.71,1385.7 \n",
       "  1936.31,1386.14 1955.92,1388.55 1975.52,1391.03 1989.98,1392.9 1995.13,1393.56 2014.73,1396.13 2034.34,1398.75 2044.12,1400.1 2053.94,1401.43 2073.55,1404.14 \n",
       "  2093.15,1406.92 2095.73,1407.29 2112.76,1409.73 \n",
       "  \"/>\n",
       "<polyline clip-path=\"url(#clip832)\" style=\"stroke:#88216a; stroke-width:4; stroke-opacity:1; fill:none\" points=\"\n",
       "  2112.76,1379.46 2106.38,1378.51 2093.15,1376.5 2073.55,1373.59 2057.9,1371.31 2053.94,1370.73 2034.34,1367.91 2014.73,1365.15 2007.24,1364.12 1995.13,1362.43 \n",
       "  1975.52,1359.76 1955.92,1357.16 1954.06,1356.92 1936.31,1354.59 1916.71,1352.09 1897.74,1349.72 1897.1,1349.64 1877.5,1347.24 1857.89,1344.9 1838.29,1342.62 \n",
       "  1837.48,1342.53 1818.68,1340.38 1799.08,1338.21 1779.47,1336.1 1772.06,1335.33 1759.87,1334.05 1740.26,1332.05 1720.66,1330.12 1701.05,1328.25 1699.78,1328.14 \n",
       "  1681.45,1326.43 1661.84,1324.68 1642.24,1323 1622.63,1321.38 1617.02,1320.94 1603.03,1319.82 1583.42,1318.32 1563.82,1316.89 1544.21,1315.54 1524.61,1314.25 \n",
       "  1516.55,1313.74 1505.01,1313.02 1485.4,1311.85 1465.8,1310.75 1446.19,1309.73 1426.59,1308.78 1406.98,1307.89 1387.38,1307.08 1373.34,1306.55 1367.77,1306.33 \n",
       "  1348.17,1305.65 1328.56,1305.05 1308.96,1304.51 1289.35,1304.04 1269.75,1303.65 1250.14,1303.33 1230.54,1303.08 1210.93,1302.91 1191.33,1302.8 1171.72,1302.77 \n",
       "  1152.12,1302.81 1132.51,1302.93 1112.91,1303.11 1093.3,1303.37 1073.7,1303.7 1054.09,1304.11 1034.49,1304.59 1014.88,1305.14 995.279,1305.76 975.674,1306.45 \n",
       "  973.281,1306.55 956.069,1307.21 936.464,1308.04 916.859,1308.95 897.254,1309.92 877.65,1310.97 858.045,1312.09 838.44,1313.28 831.25,1313.74 818.835,1314.53 \n",
       "  799.23,1315.85 779.625,1317.24 760.02,1318.71 740.415,1320.24 731.888,1320.94 720.811,1321.84 701.206,1323.49 681.601,1325.22 661.996,1327.02 650.264,1328.14 \n",
       "  642.391,1328.88 622.786,1330.79 603.181,1332.78 583.577,1334.83 578.99,1335.33 563.972,1336.94 544.367,1339.11 524.762,1341.35 514.742,1342.53 505.157,1343.64 \n",
       "  485.552,1345.99 465.947,1348.41 455.567,1349.72 446.343,1350.88 426.738,1353.4 407.133,1355.99 400.308,1356.92 387.528,1358.63 367.923,1361.33 348.318,1364.09 \n",
       "  348.134,1364.12 328.713,1366.88 309.108,1369.75 298.632,1371.31 289.504,1372.66 269.899,1375.62 251.183,1378.51 250.294,1378.64 230.689,1381.7 211.084,1384.82 \n",
       "  205.643,1385.7 191.479,1387.98 171.874,1391.19 161.663,1392.9 152.27,1394.45 \n",
       "  \"/>\n",
       "<polyline clip-path=\"url(#clip832)\" style=\"stroke:#a12b61; stroke-width:4; stroke-opacity:1; fill:none\" points=\"\n",
       "  152.27,1362.63 171.874,1359.2 185.16,1356.92 191.479,1355.82 211.084,1352.49 227.659,1349.72 230.689,1349.21 250.294,1345.97 269.899,1342.8 271.647,1342.53 \n",
       "  289.504,1339.67 309.108,1336.6 317.393,1335.33 328.713,1333.58 348.318,1330.61 365.084,1328.14 367.923,1327.71 387.528,1324.85 407.133,1322.06 415.219,1320.94 \n",
       "  426.738,1319.32 446.343,1316.64 465.947,1314.03 468.192,1313.74 485.552,1311.47 505.157,1308.97 524.762,1306.55 524.791,1306.55 544.367,1304.17 563.972,1301.86 \n",
       "  583.577,1299.63 586.133,1299.35 603.181,1297.45 622.786,1295.34 642.391,1293.3 653.841,1292.16 661.996,1291.33 681.601,1289.42 701.206,1287.58 720.811,1285.82 \n",
       "  730.801,1284.96 740.415,1284.12 760.02,1282.49 779.625,1280.94 799.23,1279.46 818.835,1278.06 823.16,1277.76 838.44,1276.72 858.045,1275.45 877.65,1274.26 \n",
       "  897.254,1273.15 916.859,1272.12 936.464,1271.16 949.728,1270.57 956.069,1270.28 975.674,1269.47 995.279,1268.73 1014.88,1268.08 1034.49,1267.5 1054.09,1267 \n",
       "  1073.7,1266.57 1093.3,1266.23 1112.91,1265.96 1132.51,1265.78 1152.12,1265.67 1171.72,1265.63 1191.33,1265.68 1210.93,1265.8 1230.54,1266 1250.14,1266.28 \n",
       "  1269.75,1266.63 1289.35,1267.06 1308.96,1267.57 1328.56,1268.16 1348.17,1268.82 1367.77,1269.56 1387.38,1270.38 1391.58,1270.57 1406.98,1271.26 1426.59,1272.22 \n",
       "  1446.19,1273.25 1465.8,1274.36 1485.4,1275.54 1505.01,1276.8 1519.18,1277.76 1524.61,1278.13 1544.21,1279.52 1563.82,1280.98 1583.42,1282.52 1603.03,1284.13 \n",
       "  1612.64,1284.96 1622.63,1285.81 1642.24,1287.54 1661.84,1289.35 1681.45,1291.23 1690.69,1292.16 1701.05,1293.17 1720.66,1295.17 1740.26,1297.25 1759.52,1299.35 \n",
       "  1759.87,1299.39 1779.47,1301.57 1799.08,1303.83 1818.68,1306.16 1821.88,1306.55 1838.29,1308.53 1857.89,1310.96 1877.5,1313.47 1879.61,1313.74 1897.1,1316.01 \n",
       "  1916.71,1318.62 1933.7,1320.94 1936.31,1321.29 1955.92,1324 1975.52,1326.78 1984.87,1328.14 1995.13,1329.61 2014.73,1332.48 2033.72,1335.33 2034.34,1335.42 \n",
       "  2053.94,1338.39 2073.55,1341.43 2080.48,1342.53 2093.15,1344.51 2112.76,1347.64 \n",
       "  \"/>\n",
       "<polyline clip-path=\"url(#clip832)\" style=\"stroke:#ba3655; stroke-width:4; stroke-opacity:1; fill:none\" points=\"\n",
       "  2112.76,1314 2111.24,1313.74 2093.15,1310.66 2073.55,1307.39 2068.41,1306.55 2053.94,1304.15 2034.34,1300.97 2024.11,1299.35 2014.73,1297.84 1995.13,1294.77 \n",
       "  1978.11,1292.16 1975.52,1291.75 1955.92,1288.78 1936.31,1285.87 1930,1284.96 1916.71,1283.01 1897.1,1280.21 1879.5,1277.76 1877.5,1277.48 1857.89,1274.79 \n",
       "  1838.29,1272.17 1825.89,1270.57 1818.68,1269.62 1799.08,1267.12 1779.47,1264.69 1768.49,1263.37 1759.87,1262.32 1740.26,1260.01 1720.66,1257.78 1706.06,1256.18 \n",
       "  1701.05,1255.62 1681.45,1253.51 1661.84,1251.47 1642.24,1249.52 1636.57,1248.98 1622.63,1247.63 1603.03,1245.8 1583.42,1244.06 1563.82,1242.39 1556.29,1241.78 \n",
       "  1544.21,1240.79 1524.61,1239.26 1505.01,1237.82 1485.4,1236.45 1465.8,1235.16 1456.42,1234.59 1446.19,1233.95 1426.59,1232.81 1406.98,1231.75 1387.38,1230.78 \n",
       "  1367.77,1229.88 1348.17,1229.07 1328.56,1228.35 1308.96,1227.7 1298.1,1227.39 1289.35,1227.14 1269.75,1226.65 1250.14,1226.25 1230.54,1225.93 1210.93,1225.7 \n",
       "  1191.33,1225.56 1171.72,1225.49 1152.12,1225.52 1132.51,1225.63 1112.91,1225.82 1093.3,1226.1 1073.7,1226.46 1054.09,1226.91 1036.4,1227.39 1034.49,1227.44 \n",
       "  1014.88,1228.05 995.279,1228.75 975.674,1229.53 956.069,1230.39 936.464,1231.34 916.859,1232.37 897.254,1233.49 879.286,1234.59 877.65,1234.69 858.045,1235.95 \n",
       "  838.44,1237.3 818.835,1238.74 799.23,1240.26 780.527,1241.78 779.625,1241.86 760.02,1243.52 740.415,1245.26 720.811,1247.08 701.346,1248.98 701.206,1248.99 \n",
       "  681.601,1250.95 661.996,1253 642.391,1255.12 633.046,1256.18 622.786,1257.31 603.181,1259.57 583.577,1261.91 571.688,1263.37 563.972,1264.31 544.367,1266.77 \n",
       "  524.762,1269.31 515.383,1270.57 505.157,1271.92 485.552,1274.58 465.947,1277.32 462.872,1277.76 446.343,1280.11 426.738,1282.97 413.441,1284.96 407.133,1285.89 \n",
       "  387.528,1288.86 367.923,1291.91 366.415,1292.16 348.318,1295 328.713,1298.16 321.512,1299.35 309.108,1301.37 289.504,1304.64 278.309,1306.55 269.899,1307.96 \n",
       "  250.294,1311.33 236.591,1313.74 230.689,1314.77 211.084,1318.24 196.175,1320.94 191.479,1321.78 171.874,1325.35 156.907,1328.14 152.27,1328.99 \n",
       "  \"/>\n",
       "<polyline clip-path=\"url(#clip832)\" style=\"stroke:#d04544; stroke-width:4; stroke-opacity:1; fill:none\" points=\"\n",
       "  152.27,1293.16 157.419,1292.16 171.874,1289.29 191.479,1285.47 194.177,1284.96 211.084,1281.69 230.689,1277.98 231.873,1277.76 250.294,1274.3 269.899,1270.7 \n",
       "  270.633,1270.57 289.504,1267.13 309.108,1263.63 310.604,1263.37 328.713,1260.17 348.318,1256.79 351.966,1256.18 367.923,1253.45 387.528,1250.18 394.933,1248.98 \n",
       "  407.133,1246.97 426.738,1243.82 439.767,1241.78 446.343,1240.74 465.947,1237.71 485.552,1234.77 486.826,1234.59 505.157,1231.88 524.762,1229.06 536.762,1227.39 \n",
       "  544.367,1226.32 563.972,1223.63 583.577,1221.04 590.153,1220.2 603.181,1218.5 622.786,1216.04 642.391,1213.67 648.149,1213 661.996,1211.36 681.601,1209.13 \n",
       "  701.206,1206.99 712.552,1205.8 720.811,1204.93 740.415,1202.93 760.02,1201.03 779.625,1199.22 786.593,1198.61 799.23,1197.48 818.835,1195.82 838.44,1194.26 \n",
       "  858.045,1192.79 877.587,1191.41 877.65,1191.41 897.254,1190.1 916.859,1188.88 936.464,1187.76 956.069,1186.73 975.674,1185.79 995.279,1184.95 1014.43,1184.22 \n",
       "  1014.88,1184.2 1034.49,1183.53 1054.09,1182.95 1073.7,1182.47 1093.3,1182.09 1112.91,1181.8 1132.51,1181.6 1152.12,1181.5 1171.72,1181.49 1191.33,1181.57 \n",
       "  1210.93,1181.75 1230.54,1182.02 1250.14,1182.39 1269.75,1182.85 1289.35,1183.4 1308.96,1184.04 1313.56,1184.22 1328.56,1184.77 1348.17,1185.59 1367.77,1186.49 \n",
       "  1387.38,1187.49 1406.98,1188.58 1426.59,1189.77 1446.19,1191.04 1451.57,1191.41 1465.8,1192.38 1485.4,1193.81 1505.01,1195.33 1524.61,1196.94 1543.89,1198.61 \n",
       "  1544.21,1198.63 1563.82,1200.39 1583.42,1202.23 1603.03,1204.16 1618.95,1205.8 1622.63,1206.18 1642.24,1208.25 1661.84,1210.4 1681.45,1212.64 1684.43,1213 \n",
       "  1701.05,1214.94 1720.66,1217.31 1740.26,1219.77 1743.52,1220.2 1759.87,1222.28 1779.47,1224.87 1798.03,1227.39 1799.08,1227.53 1818.68,1230.24 1838.29,1233.03 \n",
       "  1848.94,1234.59 1857.89,1235.88 1877.5,1238.78 1897.1,1241.77 1897.2,1241.78 1916.71,1244.79 1936.31,1247.88 1943.07,1248.98 1955.92,1251.03 1975.52,1254.24 \n",
       "  1987.1,1256.18 1995.13,1257.5 2014.73,1260.81 2029.55,1263.37 2034.34,1264.19 2053.94,1267.6 2070.61,1270.57 2073.55,1271.08 2093.15,1274.59 2110.47,1277.76 \n",
       "  2112.76,1278.18 \n",
       "  \"/>\n",
       "<polyline clip-path=\"url(#clip832)\" style=\"stroke:#e35832; stroke-width:4; stroke-opacity:1; fill:none\" points=\"\n",
       "  2112.76,1239.68 2093.15,1235.81 2086.81,1234.59 2073.55,1231.98 2053.94,1228.22 2049.55,1227.39 2034.34,1224.49 2014.73,1220.82 2011.3,1220.2 1995.13,1217.19 \n",
       "  1975.52,1213.64 1971.91,1213 1955.92,1210.12 1936.31,1206.68 1931.21,1205.8 1916.71,1203.28 1897.1,1199.95 1888.99,1198.61 1877.5,1196.67 1857.89,1193.46 \n",
       "  1845,1191.41 1838.29,1190.32 1818.68,1187.24 1799.08,1184.24 1798.9,1184.22 1779.47,1181.28 1759.87,1178.42 1749.99,1177.02 1740.26,1175.62 1720.66,1172.88 \n",
       "  1701.05,1170.24 1697.81,1169.82 1681.45,1167.66 1661.84,1165.16 1642.24,1162.76 1641.14,1162.63 1622.63,1160.41 1603.03,1158.15 1583.42,1155.99 1578.07,1155.43 \n",
       "  1563.82,1153.9 1544.21,1151.9 1524.61,1150 1505.44,1148.23 1505.01,1148.19 1485.4,1146.46 1465.8,1144.82 1446.19,1143.28 1426.59,1141.85 1414.72,1141.04 \n",
       "  1406.98,1140.5 1387.38,1139.25 1367.77,1138.09 1348.17,1137.04 1328.56,1136.09 1308.96,1135.25 1289.35,1134.51 1269.75,1133.88 1268.51,1133.84 1250.14,1133.34 \n",
       "  1230.54,1132.9 1210.93,1132.57 1191.33,1132.35 1171.72,1132.23 1152.12,1132.22 1132.51,1132.32 1112.91,1132.52 1093.3,1132.83 1073.7,1133.25 1054.09,1133.78 \n",
       "  1052.11,1133.84 1034.49,1134.4 1014.88,1135.13 995.279,1135.96 975.674,1136.9 956.069,1137.94 936.464,1139.09 916.859,1140.35 906.952,1141.04 897.254,1141.7 \n",
       "  877.65,1143.14 858.045,1144.69 838.44,1146.34 818.835,1148.09 817.335,1148.23 799.23,1149.92 779.625,1151.85 760.02,1153.88 745.77,1155.43 740.415,1156 \n",
       "  720.811,1158.2 701.206,1160.5 683.811,1162.63 681.601,1162.89 661.996,1165.35 642.391,1167.9 628.231,1169.82 622.786,1170.55 603.181,1173.25 583.577,1176.06 \n",
       "  577.105,1177.02 563.972,1178.93 544.367,1181.88 529.349,1184.22 524.762,1184.92 505.157,1188.01 485.552,1191.19 484.243,1191.41 465.947,1194.42 446.343,1197.74 \n",
       "  441.368,1198.61 426.738,1201.11 407.133,1204.56 400.262,1205.8 387.528,1208.07 367.923,1211.64 360.664,1213 348.318,1215.27 328.713,1218.97 322.361,1220.2 \n",
       "  309.108,1222.71 289.504,1226.53 285.18,1227.39 269.899,1230.39 250.294,1234.32 248.976,1234.59 230.689,1238.28 213.681,1241.78 211.084,1242.31 191.479,1246.38 \n",
       "  179.179,1248.98 171.874,1250.5 152.27,1254.67 \n",
       "  \"/>\n",
       "<polyline clip-path=\"url(#clip832)\" style=\"stroke:#f0701e; stroke-width:4; stroke-opacity:1; fill:none\" points=\"\n",
       "  152.27,1212.83 171.874,1208.26 182.623,1205.8 191.479,1203.75 211.084,1199.29 214.134,1198.61 230.689,1194.86 246.236,1191.41 250.294,1190.5 269.899,1186.17 \n",
       "  278.974,1184.22 289.504,1181.9 309.108,1177.7 312.366,1177.02 328.713,1173.53 346.554,1169.82 348.318,1169.45 367.923,1165.4 381.674,1162.63 387.528,1161.43 \n",
       "  407.133,1157.51 417.791,1155.43 426.738,1153.66 446.343,1149.87 455.074,1148.23 465.947,1146.16 485.552,1142.51 493.73,1141.04 505.157,1138.94 524.762,1135.44 \n",
       "  534.023,1133.84 544.367,1132.02 563.972,1128.68 576.284,1126.65 583.577,1125.42 603.181,1122.23 620.944,1119.45 622.786,1119.16 642.391,1116.13 661.996,1113.23 \n",
       "  668.832,1112.25 681.601,1110.4 701.206,1107.66 720.733,1105.06 720.811,1105.05 740.415,1102.49 760.02,1100.06 778.627,1097.86 779.625,1097.74 799.23,1095.5 \n",
       "  818.835,1093.37 838.44,1091.37 845.796,1090.67 858.045,1089.47 877.65,1087.67 897.254,1085.99 916.859,1084.44 930.134,1083.47 936.464,1083 956.069,1081.66 \n",
       "  975.674,1080.45 995.279,1079.37 1014.88,1078.41 1034.49,1077.58 1054.09,1076.87 1073.7,1076.28 1074.1,1076.27 1093.3,1075.81 1112.91,1075.47 1132.51,1075.26 \n",
       "  1152.12,1075.17 1171.72,1075.21 1191.33,1075.38 1210.93,1075.67 1230.54,1076.09 1237.27,1076.27 1250.14,1076.62 1269.75,1077.28 1289.35,1078.06 1308.96,1078.96 \n",
       "  1328.56,1079.99 1348.17,1081.13 1367.77,1082.4 1382.85,1083.47 1387.38,1083.78 1406.98,1085.26 1426.59,1086.86 1446.19,1088.58 1465.8,1090.42 1468.32,1090.67 \n",
       "  1485.4,1092.33 1505.01,1094.36 1524.61,1096.5 1536.4,1097.86 1544.21,1098.74 1563.82,1101.07 1583.42,1103.5 1595.38,1105.06 1603.03,1106.03 1622.63,1108.64 \n",
       "  1642.24,1111.36 1648.48,1112.25 1661.84,1114.14 1681.45,1117.02 1697.43,1119.45 1701.05,1119.99 1720.66,1123.02 1740.26,1126.16 1743.23,1126.65 1759.87,1129.34 \n",
       "  1779.47,1132.62 1786.56,1133.84 1799.08,1135.96 1818.68,1139.38 1827.93,1141.04 1838.29,1142.86 1857.89,1146.41 1867.68,1148.23 1877.5,1150.03 1897.1,1153.71 \n",
       "  1906.05,1155.43 1916.71,1157.45 1936.31,1161.25 1943.25,1162.63 1955.92,1165.1 1975.52,1169.02 1979.45,1169.82 1995.13,1172.98 2014.73,1177.01 2014.77,1177.02 \n",
       "  2034.34,1181.07 2049.24,1184.22 2053.94,1185.19 2073.55,1189.35 2083.03,1191.41 2093.15,1193.57 2112.76,1197.83 \n",
       "  \"/>\n",
       "<polyline clip-path=\"url(#clip832)\" style=\"stroke:#f98c09; stroke-width:4; stroke-opacity:1; fill:none\" points=\"\n",
       "  2112.76,1151.53 2099.16,1148.23 2093.15,1146.75 2073.55,1142.01 2069.47,1141.04 2053.94,1137.29 2039.37,1133.84 2034.34,1132.63 2014.73,1128 2008.86,1126.65 \n",
       "  1995.13,1123.41 1977.9,1119.45 1975.52,1118.89 1955.92,1114.4 1946.36,1112.25 1936.31,1109.96 1916.71,1105.58 1914.3,1105.06 1897.1,1101.24 1881.52,1097.86 \n",
       "  1877.5,1096.97 1857.89,1092.75 1847.97,1090.67 1838.29,1088.59 1818.68,1084.5 1813.59,1083.47 1799.08,1080.46 1779.47,1076.52 1778.22,1076.27 1759.87,1072.61 \n",
       "  1741.61,1069.08 1740.26,1068.81 1720.66,1065.05 1703.55,1061.88 1701.05,1061.41 1681.45,1057.81 1663.76,1054.69 1661.84,1054.34 1642.24,1050.92 1622.63,1047.63 \n",
       "  1621.8,1047.49 1603.03,1044.39 1583.42,1041.28 1576.9,1040.29 1563.82,1038.26 1544.21,1035.35 1528.27,1033.1 1524.61,1032.57 1505.01,1029.86 1485.4,1027.31 \n",
       "  1474.01,1025.9 1465.8,1024.86 1446.19,1022.53 1426.59,1020.34 1410.89,1018.71 1406.98,1018.29 1387.38,1016.34 1367.77,1014.55 1348.17,1012.91 1329.64,1011.51 \n",
       "  1328.56,1011.43 1308.96,1010.06 1289.35,1008.84 1269.75,1007.79 1250.14,1006.9 1230.54,1006.16 1210.93,1005.59 1191.33,1005.17 1171.72,1004.92 1152.12,1004.82 \n",
       "  1132.51,1004.89 1112.91,1005.12 1093.3,1005.51 1073.7,1006.06 1054.09,1006.78 1034.49,1007.65 1014.88,1008.69 995.279,1009.9 975.674,1011.26 972.502,1011.51 \n",
       "  956.069,1012.76 936.464,1014.4 916.859,1016.2 897.254,1018.17 892.282,1018.71 877.65,1020.25 858.045,1022.47 838.44,1024.84 830.222,1025.9 818.835,1027.33 \n",
       "  799.23,1029.95 779.625,1032.71 777.032,1033.1 760.02,1035.56 740.415,1038.55 729.527,1040.29 720.811,1041.65 701.206,1044.85 685.757,1047.49 681.601,1048.18 \n",
       "  661.996,1051.58 644.836,1054.69 642.391,1055.12 622.786,1058.71 606.137,1061.88 603.181,1062.43 583.577,1066.21 569.203,1069.08 563.972,1070.1 544.367,1074.05 \n",
       "  533.697,1076.27 524.762,1078.09 505.157,1082.21 499.36,1083.47 485.552,1086.4 465.994,1090.67 465.947,1090.68 446.343,1094.99 433.623,1097.86 426.738,1099.39 \n",
       "  407.133,1103.85 401.94,1105.06 387.528,1108.36 370.917,1112.25 367.923,1112.94 348.318,1117.57 340.526,1119.45 328.713,1122.25 310.594,1126.65 309.108,1127 \n",
       "  289.504,1131.78 281.211,1133.84 269.899,1136.61 252.178,1141.04 250.294,1141.5 230.689,1146.42 223.594,1148.23 211.084,1151.38 195.314,1155.43 191.479,1156.4 \n",
       "  171.874,1161.44 167.371,1162.63 152.27,1166.52 \n",
       "  \"/>\n",
       "<polyline clip-path=\"url(#clip832)\" style=\"stroke:#fbaa0e; stroke-width:4; stroke-opacity:1; fill:none\" points=\"\n",
       "  152.27,1113.98 158.122,1112.25 171.874,1108.11 182.232,1105.06 191.479,1102.27 206.42,1097.86 211.084,1096.46 230.689,1090.67 230.692,1090.67 250.294,1084.88 \n",
       "  255.156,1083.47 269.899,1079.11 279.722,1076.27 289.504,1073.38 304.397,1069.08 309.108,1067.68 328.713,1062.02 329.201,1061.88 348.318,1056.36 354.249,1054.69 \n",
       "  367.923,1050.74 379.442,1047.49 387.528,1045.15 404.792,1040.29 407.133,1039.62 426.738,1034.1 430.409,1033.1 446.343,1028.62 456.287,1025.9 465.947,1023.19 \n",
       "  482.381,1018.71 485.552,1017.82 505.157,1012.48 508.82,1011.51 524.762,1007.18 535.635,1004.31 544.367,1001.95 562.758,997.119 563.972,996.79 583.577,991.66 \n",
       "  590.456,989.923 603.181,986.604 618.607,982.727 622.786,981.641 642.391,976.737 647.411,975.531 661.996,971.902 676.941,968.335 681.601,967.182 701.206,962.537 \n",
       "  707.38,961.138 720.811,957.982 738.831,953.942 740.415,953.573 760.02,949.226 771.802,946.746 779.625,945.033 799.23,940.968 806.471,939.55 818.835,937.028 \n",
       "  838.44,933.268 843.521,932.354 858.045,929.629 877.65,926.199 884.056,925.158 897.254,922.917 916.859,919.846 929.991,917.962 936.464,916.989 956.069,914.311 \n",
       "  975.674,911.904 986.102,910.766 995.279,909.715 1014.88,907.751 1034.49,906.069 1054.09,904.669 1073.33,903.57 1073.7,903.548 1093.3,902.663 1112.91,902.072 \n",
       "  1132.51,901.773 1152.12,901.767 1171.72,902.052 1191.33,902.627 1210.93,903.492 1212.27,903.57 1230.54,904.589 1250.14,905.956 1269.75,907.594 1289.35,909.503 \n",
       "  1300.71,910.766 1308.96,911.638 1328.56,913.968 1348.17,916.554 1357.88,917.962 1367.77,919.329 1387.38,922.282 1405.03,925.158 1406.98,925.463 1426.59,928.748 \n",
       "  1446.19,932.264 1446.66,932.354 1465.8,935.857 1484.81,939.55 1485.4,939.66 1505.01,943.526 1520.49,946.746 1524.61,947.569 1544.21,951.69 1554.43,953.942 \n",
       "  1563.82,955.935 1583.42,960.29 1587.08,961.138 1603.03,964.706 1618.59,968.335 1622.63,969.245 1642.24,973.839 1649.19,975.531 1661.84,978.509 1679.12,982.727 \n",
       "  1681.45,983.278 1701.05,988.078 1708.33,989.923 1720.66,992.948 1737.1,997.119 1740.26,997.898 1759.87,1002.88 1765.35,1004.31 1779.47,1007.91 1793.22,1011.51 \n",
       "  1799.08,1013 1818.68,1018.14 1820.78,1018.71 1838.29,1023.3 1847.95,1025.9 1857.89,1028.51 1874.93,1033.1 1877.5,1033.77 1897.1,1039.05 1901.6,1040.29 \n",
       "  1916.71,1044.36 1928.06,1047.49 1936.31,1049.71 1954.38,1054.69 1955.92,1055.1 1975.52,1060.5 1980.44,1061.88 1995.13,1065.92 2006.36,1069.08 2014.73,1071.38 \n",
       "  2032.17,1076.27 2034.34,1076.87 2053.94,1082.37 2057.8,1083.47 2073.55,1087.88 2083.29,1090.67 2093.15,1093.42 2108.71,1097.86 2112.76,1098.99 \n",
       "  \"/>\n",
       "<polyline clip-path=\"url(#clip832)\" style=\"stroke:#f8c931; stroke-width:4; stroke-opacity:1; fill:none\" points=\"\n",
       "  2112.76,1036.65 2102.49,1033.1 2093.15,1029.78 2082.04,1025.9 2073.55,1022.86 2061.71,1018.71 2053.94,1015.9 2041.51,1011.51 2034.34,1008.9 2021.47,1004.31 \n",
       "  2014.73,1001.84 2001.58,997.119 1995.13,994.73 1981.85,989.923 1975.52,987.557 1962.3,982.727 1955.92,980.316 1942.94,975.531 1936.31,973 1923.79,968.335 \n",
       "  1916.71,965.602 1904.85,961.138 1897.1,958.111 1886.15,953.942 1877.5,950.518 1867.71,946.746 1857.89,942.81 1849.54,939.55 1838.29,934.973 1831.67,932.354 \n",
       "  1818.68,926.988 1814.13,925.158 1799.08,918.837 1796.94,917.962 1780.11,910.766 1779.47,910.48 1763.62,903.57 1759.87,901.846 1747.58,896.374 1740.26,892.933 \n",
       "  1732.02,889.178 1720.66,883.694 1716.99,881.982 1702.5,874.786 1701.05,874.017 1688.51,867.59 1681.45,863.71 1675.2,860.394 1662.62,853.198 1661.84,852.72 \n",
       "  1650.61,846.002 1642.24,840.537 1639.49,838.806 1629.09,831.61 1622.63,826.633 1619.64,824.414 1611.02,817.218 1603.49,810.022 1603.03,809.51 1596.79,802.826 \n",
       "  1591.21,795.63 1586.76,788.434 1583.44,781.238 1583.42,781.2 1581.13,774.042 1580,766.846 1580.03,759.65 1581.22,752.454 1583.42,745.666 1583.55,745.258 \n",
       "  1586.9,738.062 1591.34,730.866 1596.87,723.67 1603.03,716.986 1603.48,716.474 1610.88,709.278 1619.32,702.082 1622.63,699.569 1628.56,694.886 1638.66,687.69 \n",
       "  1642.24,685.371 1649.47,680.494 1661.1,673.298 1661.84,672.875 1673.26,666.102 1681.45,661.583 1686.13,658.906 1699.6,651.71 1701.05,650.979 1713.51,644.514 \n",
       "  1720.66,641.018 1727.98,637.318 1740.26,631.444 1742.94,630.122 1758.31,622.926 1759.87,622.234 1774.03,615.73 1779.47,613.349 1790.15,608.534 1799.08,604.684 \n",
       "  1806.62,601.338 1818.68,596.212 1823.42,594.142 1838.29,587.908 1840.52,586.946 1857.89,579.753 1857.9,579.749 1875.48,572.553 1877.5,571.759 1893.31,565.357 \n",
       "  1897.1,563.877 1911.36,558.161 1916.71,556.093 1929.63,550.965 1936.31,548.399 1948.08,543.769 1955.92,540.786 1966.72,536.573 1975.52,533.246 1985.52,529.377 \n",
       "  1995.13,525.772 2004.48,522.181 2014.73,518.36 2023.58,514.985 2034.34,511.003 2042.83,507.789 2053.94,503.697 2062.2,500.593 2073.55,496.439 2081.68,493.397 \n",
       "  2093.15,489.223 2101.28,486.201 2112.76,482.048 \n",
       "  \"/>\n",
       "<polyline clip-path=\"url(#clip832)\" style=\"stroke:#fbaa0e; stroke-width:4; stroke-opacity:1; fill:none\" points=\"\n",
       "  2112.76,419.712 2106.9,421.437 2093.15,425.578 2082.79,428.633 2073.55,431.42 2058.61,435.829 2053.94,437.236 2034.34,443.024 2034.33,443.025 2014.73,448.816 \n",
       "  2009.87,450.221 1995.13,454.579 1985.3,457.417 1975.52,460.31 1960.63,464.613 1955.92,466.007 1936.31,471.672 1935.82,471.809 1916.71,477.334 1910.78,479.005 \n",
       "  1897.1,482.957 1885.58,486.201 1877.5,488.538 1860.23,493.397 1857.89,494.074 1838.29,499.589 1834.62,500.593 1818.68,505.072 1808.74,507.789 1799.08,510.503 \n",
       "  1782.64,514.985 1779.47,515.875 1759.87,521.214 1756.21,522.181 1740.26,526.515 1729.39,529.377 1720.66,531.747 1702.27,536.573 1701.05,536.902 1681.45,542.032 \n",
       "  1674.57,543.769 1661.84,547.088 1646.42,550.965 1642.24,552.051 1622.63,556.955 1617.61,558.161 1603.03,561.79 1588.08,565.357 1583.42,566.51 1563.82,571.155 \n",
       "  1557.65,572.553 1544.21,575.71 1526.19,579.749 1524.61,580.119 1505.01,584.466 1493.22,586.946 1485.4,588.659 1465.8,592.724 1458.55,594.142 1446.19,596.664 \n",
       "  1426.59,600.424 1421.5,601.338 1406.98,604.063 1387.38,607.493 1380.97,608.534 1367.77,610.775 1348.17,613.846 1335.03,615.73 1328.56,616.703 1308.96,619.381 \n",
       "  1289.35,621.788 1278.92,622.926 1269.75,623.977 1250.14,625.941 1230.54,627.623 1210.93,629.023 1191.7,630.122 1191.33,630.144 1171.72,631.029 1152.12,631.62 \n",
       "  1132.51,631.919 1112.91,631.925 1093.3,631.64 1073.7,631.065 1054.09,630.2 1052.76,630.122 1034.49,629.103 1014.88,627.736 995.279,626.098 975.674,624.189 \n",
       "  964.312,622.926 956.069,622.054 936.464,619.724 916.859,617.138 907.144,615.73 897.254,614.363 877.65,611.41 859.999,608.534 858.045,608.229 838.44,604.944 \n",
       "  818.835,601.428 818.363,601.338 799.23,597.835 780.216,594.142 779.625,594.032 760.02,590.166 744.535,586.946 740.415,586.123 720.811,582.002 710.595,579.749 \n",
       "  701.206,577.757 681.601,573.402 677.944,572.553 661.996,568.986 646.437,565.357 642.391,564.447 622.786,559.853 615.84,558.161 603.181,555.183 585.91,550.965 \n",
       "  583.577,550.414 563.972,545.614 556.694,543.769 544.367,540.744 527.93,536.573 524.762,535.794 505.157,530.814 499.678,529.377 485.552,525.785 471.806,522.181 \n",
       "  465.947,520.69 446.343,515.55 444.249,514.985 426.738,510.394 417.077,507.789 407.133,505.182 390.1,500.593 387.528,499.919 367.923,494.641 363.422,493.397 \n",
       "  348.318,489.333 336.965,486.201 328.713,483.982 310.649,479.005 309.108,478.591 289.504,473.195 284.583,471.809 269.899,467.772 258.667,464.613 250.294,462.314 \n",
       "  232.855,457.417 230.689,456.823 211.084,451.326 207.227,450.221 191.479,445.812 181.732,443.025 171.874,440.269 156.315,435.829 152.27,434.699 \n",
       "  \"/>\n",
       "<polyline clip-path=\"url(#clip832)\" style=\"stroke:#f98c09; stroke-width:4; stroke-opacity:1; fill:none\" points=\"\n",
       "  152.27,382.161 165.865,385.457 171.874,386.942 191.479,391.686 195.559,392.653 211.084,396.404 225.652,399.849 230.689,401.064 250.294,405.69 256.168,407.045 \n",
       "  269.899,410.277 287.126,414.241 289.504,414.8 309.108,419.296 318.667,421.437 328.713,423.734 348.318,428.109 350.728,428.633 367.923,432.454 383.505,435.829 \n",
       "  387.528,436.72 407.133,440.945 417.051,443.025 426.738,445.102 446.343,449.19 451.432,450.221 465.947,453.229 485.552,457.173 486.805,457.417 505.157,461.081 \n",
       "  523.415,464.613 524.762,464.88 544.367,468.638 561.475,471.809 563.972,472.283 583.577,475.878 601.262,479.005 603.181,479.353 622.786,482.775 642.391,486.066 \n",
       "  643.228,486.201 661.996,489.303 681.601,492.409 688.127,493.397 701.206,495.431 720.811,498.341 736.752,500.593 740.415,501.125 760.02,503.828 779.625,506.387 \n",
       "  791.012,507.789 799.23,508.83 818.835,511.166 838.44,513.353 854.14,514.985 858.045,515.403 877.65,517.348 897.254,519.14 916.859,520.778 935.381,522.181 \n",
       "  936.464,522.266 956.069,523.637 975.674,524.849 995.279,525.902 1014.88,526.796 1034.49,527.53 1054.09,528.105 1073.7,528.52 1093.3,528.774 1112.91,528.868 \n",
       "  1132.51,528.8 1152.12,528.571 1171.72,528.181 1191.33,527.629 1210.93,526.914 1230.54,526.037 1250.14,524.998 1269.75,523.795 1289.35,522.429 1292.52,522.181 \n",
       "  1308.96,520.936 1328.56,519.292 1348.17,517.488 1367.77,515.524 1372.74,514.985 1387.38,513.445 1406.98,511.226 1426.59,508.85 1434.8,507.789 1446.19,506.359 \n",
       "  1465.8,503.745 1485.4,500.979 1487.99,500.593 1505.01,498.129 1524.61,495.14 1535.5,493.397 1544.21,492.038 1563.82,488.838 1579.27,486.201 1583.42,485.51 \n",
       "  1603.03,482.107 1620.19,479.005 1622.63,478.574 1642.24,474.98 1658.89,471.809 1661.84,471.26 1681.45,467.482 1695.82,464.613 1701.05,463.593 1720.66,459.64 \n",
       "  1731.33,457.417 1740.26,455.598 1759.87,451.478 1765.67,450.221 1779.47,447.296 1799.03,443.025 1799.08,443.015 1818.68,438.706 1831.4,435.829 1838.29,434.305 \n",
       "  1857.89,429.846 1863.09,428.633 1877.5,425.337 1894.11,421.437 1897.1,420.749 1916.71,416.125 1924.5,414.241 1936.31,411.443 1954.43,407.045 1955.92,406.692 \n",
       "  1975.52,401.916 1983.81,399.849 1995.13,397.084 2012.85,392.653 2014.73,392.191 2034.34,387.275 2041.43,385.457 2053.94,382.311 2069.71,378.261 2073.55,377.294 \n",
       "  2093.15,372.248 2097.65,371.065 2112.76,367.17 \n",
       "  \"/>\n",
       "<polyline clip-path=\"url(#clip832)\" style=\"stroke:#f0701e; stroke-width:4; stroke-opacity:1; fill:none\" points=\"\n",
       "  2112.76,320.862 2093.15,325.433 2082.4,327.889 2073.55,329.945 2053.94,334.405 2050.89,335.085 2034.34,338.835 2018.79,342.281 2014.73,343.196 1995.13,347.52 \n",
       "  1986.05,349.477 1975.52,351.787 1955.92,355.991 1952.66,356.673 1936.31,360.157 1918.47,363.869 1916.71,364.243 1897.1,368.294 1883.35,371.065 1877.5,372.266 \n",
       "  1857.89,376.186 1847.23,378.261 1838.29,380.035 1818.68,383.818 1809.95,385.457 1799.08,387.536 1779.47,391.178 1771.3,392.653 1759.87,394.754 1740.26,398.249 \n",
       "  1731,399.849 1720.66,401.671 1701.05,405.015 1688.74,407.045 1681.45,408.272 1661.84,411.457 1644.08,414.241 1642.24,414.536 1622.63,417.557 1603.03,420.463 \n",
       "  1596.19,421.437 1583.42,423.293 1563.82,426.027 1544.29,428.633 1544.21,428.644 1524.61,431.197 1505.01,433.632 1486.4,435.829 1485.4,435.95 1465.8,438.194 \n",
       "  1446.19,440.317 1426.59,442.319 1419.23,443.025 1406.98,444.226 1387.38,446.026 1367.77,447.701 1348.17,449.253 1334.89,450.221 1328.56,450.693 1308.96,452.029 \n",
       "  1289.35,453.239 1269.75,454.323 1250.14,455.282 1230.54,456.116 1210.93,456.824 1191.33,457.408 1190.92,457.417 1171.72,457.877 1152.12,458.219 1132.51,458.434 \n",
       "  1112.91,458.522 1093.3,458.482 1073.7,458.316 1054.09,458.024 1034.49,457.605 1027.75,457.417 1014.88,457.068 995.279,456.412 975.674,455.633 956.069,454.731 \n",
       "  936.464,453.707 916.859,452.56 897.254,451.291 882.176,450.221 877.65,449.907 858.045,448.428 838.44,446.83 818.835,445.113 799.23,443.277 796.708,443.025 \n",
       "  779.625,441.359 760.02,439.332 740.415,437.188 728.623,435.829 720.811,434.948 701.206,432.625 681.601,430.188 669.645,428.633 661.996,427.659 642.391,425.053 \n",
       "  622.786,422.337 616.549,421.437 603.181,419.549 583.577,416.673 567.599,414.241 563.972,413.7 544.367,410.671 524.762,407.536 521.791,407.045 505.157,404.35 \n",
       "  485.552,401.071 478.47,399.849 465.947,397.731 446.343,394.313 437.096,392.653 426.738,390.829 407.133,387.279 397.349,385.457 387.528,383.663 367.923,379.984 \n",
       "  358.977,378.261 348.318,376.246 328.713,372.444 321.775,371.065 309.108,368.592 289.504,364.672 285.579,363.869 269.899,360.715 250.294,356.681 250.254,356.673 \n",
       "  230.689,352.627 215.788,349.477 211.084,348.5 191.479,344.338 181.994,342.281 171.874,340.124 152.27,335.858 \n",
       "  \"/>\n",
       "<polyline clip-path=\"url(#clip832)\" style=\"stroke:#e35832; stroke-width:4; stroke-opacity:1; fill:none\" points=\"\n",
       "  152.27,294.012 171.874,297.88 178.213,299.105 191.479,301.708 211.084,305.475 215.474,306.301 230.689,309.207 250.294,312.87 253.727,313.497 269.899,316.498 \n",
       "  289.504,320.053 293.116,320.693 309.108,323.571 328.713,327.015 333.815,327.889 348.318,330.415 367.923,333.744 376.033,335.085 387.528,337.018 407.133,340.228 \n",
       "  420.028,342.281 426.738,343.368 446.343,346.453 465.947,349.45 466.127,349.477 485.552,352.408 505.157,355.275 515.032,356.673 524.762,358.075 544.367,360.808 \n",
       "  563.972,363.448 567.216,363.869 583.577,366.033 603.181,368.531 622.786,370.935 623.888,371.065 642.391,373.284 661.996,375.539 681.601,377.698 686.956,378.261 \n",
       "  701.206,379.788 720.811,381.789 740.415,383.693 759.582,385.457 760.02,385.498 779.625,387.236 799.23,388.873 818.835,390.41 838.44,391.845 850.307,392.653 \n",
       "  858.045,393.19 877.65,394.447 897.254,395.601 916.859,396.651 936.464,397.598 956.069,398.441 975.674,399.18 995.279,399.816 996.511,399.849 1014.88,400.357 \n",
       "  1034.49,400.793 1054.09,401.122 1073.7,401.345 1093.3,401.461 1112.91,401.471 1132.51,401.373 1152.12,401.169 1171.72,400.858 1191.33,400.439 1210.93,399.913 \n",
       "  1212.91,399.849 1230.54,399.29 1250.14,398.564 1269.75,397.731 1289.35,396.793 1308.96,395.748 1328.56,394.598 1348.17,393.342 1358.07,392.653 1367.77,391.992 \n",
       "  1387.38,390.55 1406.98,389.005 1426.59,387.354 1446.19,385.599 1447.69,385.457 1465.8,383.772 1485.4,381.843 1505.01,379.812 1519.25,378.261 1524.61,377.689 \n",
       "  1544.21,375.492 1563.82,373.194 1581.21,371.065 1583.42,370.799 1603.03,368.343 1622.63,365.787 1636.79,363.869 1642.24,363.144 1661.84,360.437 1681.45,357.631 \n",
       "  1687.92,356.673 1701.05,354.761 1720.66,351.811 1735.68,349.477 1740.26,348.776 1759.87,345.686 1779.47,342.5 1780.78,342.281 1799.08,339.271 1818.68,335.951 \n",
       "  1823.66,335.085 1838.29,332.58 1857.89,329.13 1864.76,327.889 1877.5,325.626 1897.1,322.05 1904.36,320.693 1916.71,318.421 1936.31,314.724 1942.66,313.497 \n",
       "  1955.92,310.977 1975.52,307.162 1979.85,306.301 1995.13,303.305 2014.73,299.375 2016.05,299.105 2034.34,295.415 2051.34,291.909 2053.94,291.381 2073.55,287.316 \n",
       "  2085.85,284.713 2093.15,283.189 2112.76,279.018 \n",
       "  \"/>\n",
       "<polyline clip-path=\"url(#clip832)\" style=\"stroke:#d04544; stroke-width:4; stroke-opacity:1; fill:none\" points=\"\n",
       "  2112.76,240.528 2107.61,241.537 2093.15,244.405 2073.55,248.218 2070.85,248.733 2053.94,252 2034.34,255.709 2033.15,255.929 2014.73,259.389 1995.13,262.993 \n",
       "  1994.39,263.125 1975.52,266.566 1955.92,270.06 1954.42,270.321 1936.31,273.52 1916.71,276.902 1913.06,277.517 1897.1,280.243 1877.5,283.51 1870.09,284.713 \n",
       "  1857.89,286.724 1838.29,289.872 1825.26,291.909 1818.68,292.952 1799.08,295.978 1779.47,298.919 1778.2,299.105 1759.87,301.817 1740.26,304.631 1728.26,306.301 \n",
       "  1720.66,307.376 1701.05,310.059 1681.45,312.655 1674.87,313.497 1661.84,315.191 1642.24,317.651 1622.63,320.022 1616.88,320.693 1603.03,322.331 1583.42,324.562 \n",
       "  1563.82,326.702 1552.47,327.889 1544.21,328.767 1524.61,330.76 1505.01,332.662 1485.4,334.473 1478.43,335.085 1465.8,336.212 1446.19,337.869 1426.59,339.433 \n",
       "  1406.98,340.905 1387.44,342.281 1387.38,342.285 1367.77,343.595 1348.17,344.812 1328.56,345.935 1308.96,346.964 1289.35,347.901 1269.75,348.744 1250.6,349.477 \n",
       "  1250.14,349.495 1230.54,350.163 1210.93,350.737 1191.33,351.217 1171.72,351.603 1152.12,351.894 1132.51,352.091 1112.91,352.195 1093.3,352.204 1073.7,352.12 \n",
       "  1054.09,351.942 1034.49,351.67 1014.88,351.305 995.279,350.847 975.674,350.295 956.069,349.65 951.461,349.477 936.464,348.922 916.859,348.105 897.254,347.198 \n",
       "  877.65,346.198 858.045,345.108 838.44,343.927 818.835,342.655 813.457,342.281 799.23,341.308 779.625,339.879 760.02,338.361 740.415,336.753 721.136,335.085 \n",
       "  720.811,335.057 701.206,333.301 681.601,331.458 661.996,329.527 646.075,327.889 642.391,327.516 622.786,325.445 603.181,323.289 583.577,321.047 580.592,320.693 \n",
       "  563.972,318.751 544.367,316.377 524.762,313.919 521.508,313.497 505.157,311.41 485.552,308.825 466.999,306.301 465.947,306.16 446.343,303.453 426.738,300.664 \n",
       "  416.084,299.105 407.133,297.815 387.528,294.909 367.923,291.924 367.825,291.909 348.318,288.905 328.713,285.807 321.957,284.713 309.108,282.662 289.504,279.456 \n",
       "  277.925,277.517 269.899,276.192 250.294,272.881 235.478,270.321 230.689,269.505 211.084,266.091 194.411,263.125 191.479,262.61 171.874,259.097 154.553,255.929 \n",
       "  152.27,255.517 \n",
       "  \"/>\n",
       "<polyline clip-path=\"url(#clip832)\" style=\"stroke:#ba3655; stroke-width:4; stroke-opacity:1; fill:none\" points=\"\n",
       "  152.27,219.693 153.786,219.949 171.874,223.032 191.479,226.306 196.611,227.145 211.084,229.542 230.689,232.719 240.918,234.341 250.294,235.847 269.899,238.926 \n",
       "  286.917,241.537 289.504,241.939 309.108,244.916 328.713,247.821 335.022,248.733 348.318,250.681 367.923,253.48 385.53,255.929 387.528,256.21 407.133,258.901 \n",
       "  426.738,261.517 439.137,263.125 446.343,264.072 465.947,266.575 485.552,269.003 496.539,270.321 505.157,271.37 524.762,273.679 544.367,275.912 558.962,277.517 \n",
       "  563.972,278.076 583.577,280.185 603.181,282.217 622.786,284.171 628.453,284.713 642.391,286.066 661.996,287.89 681.601,289.635 701.206,291.3 708.738,291.909 \n",
       "  720.811,292.9 740.415,294.429 760.02,295.876 779.625,297.243 799.23,298.529 808.606,299.105 818.835,299.743 838.44,300.884 858.045,301.942 877.65,302.917 \n",
       "  897.254,303.809 916.859,304.619 936.464,305.346 956.069,305.99 966.925,306.301 975.674,306.555 995.279,307.04 1014.88,307.441 1034.49,307.757 1054.09,307.989 \n",
       "  1073.7,308.136 1093.3,308.198 1112.91,308.175 1132.51,308.067 1152.12,307.874 1171.72,307.595 1191.33,307.232 1210.93,306.783 1228.63,306.301 1230.54,306.25 \n",
       "  1250.14,305.639 1269.75,304.945 1289.35,304.166 1308.96,303.303 1328.56,302.355 1348.17,301.323 1367.77,300.206 1385.74,299.105 1387.38,299.006 1406.98,297.739 \n",
       "  1426.59,296.389 1446.19,294.955 1465.8,293.437 1484.5,291.909 1485.4,291.836 1505.01,290.176 1524.61,288.433 1544.21,286.608 1563.68,284.713 1563.82,284.699 \n",
       "  1583.42,282.738 1603.03,280.694 1622.63,278.569 1631.98,277.517 1642.24,276.378 1661.84,274.123 1681.45,271.786 1693.34,270.321 1701.05,269.383 1720.66,266.921 \n",
       "  1740.26,264.379 1749.64,263.125 1759.87,261.776 1779.47,259.113 1799.08,256.371 1802.15,255.929 1818.68,253.584 1838.29,250.724 1851.58,248.733 1857.89,247.8 \n",
       "  1877.5,244.827 1897.1,241.777 1898.61,241.537 1916.71,238.69 1936.31,235.529 1943.51,234.341 1955.92,232.321 1975.52,229.053 1986.72,227.145 1995.13,225.729 \n",
       "  2014.73,222.357 2028.43,219.949 2034.34,218.925 2053.94,215.45 2068.85,212.753 2073.55,211.914 2093.15,208.34 2108.12,205.557 2112.76,204.705 \n",
       "  \"/>\n",
       "<polyline clip-path=\"url(#clip832)\" style=\"stroke:#a12b61; stroke-width:4; stroke-opacity:1; fill:none\" points=\"\n",
       "  2112.76,171.062 2093.15,174.493 2079.87,176.772 2073.55,177.87 2053.94,181.206 2037.37,183.968 2034.34,184.48 2014.73,187.719 1995.13,190.888 1993.38,191.164 \n",
       "  1975.52,194.024 1955.92,197.093 1947.63,198.36 1936.31,200.114 1916.71,203.08 1899.94,205.557 1897.1,205.981 1877.5,208.842 1857.89,211.632 1849.81,212.753 \n",
       "  1838.29,214.37 1818.68,217.05 1799.08,219.658 1796.83,219.949 1779.47,222.223 1759.87,224.719 1740.26,227.141 1740.23,227.145 1720.66,229.521 1701.05,231.827 \n",
       "  1681.45,234.059 1678.89,234.341 1661.84,236.242 1642.24,238.354 1622.63,240.391 1611.18,241.537 1603.03,242.364 1583.42,244.276 1563.82,246.113 1544.21,247.874 \n",
       "  1534.22,248.733 1524.61,249.57 1505.01,251.202 1485.4,252.757 1465.8,254.235 1446.19,255.636 1441.87,255.929 1426.59,256.976 1406.98,258.242 1387.38,259.43 \n",
       "  1367.77,260.541 1348.17,261.574 1328.56,262.53 1315.3,263.125 1308.96,263.413 1289.35,264.226 1269.75,264.96 1250.14,265.617 1230.54,266.195 1210.93,266.695 \n",
       "  1191.33,267.117 1171.72,267.461 1152.12,267.728 1132.51,267.916 1112.91,268.027 1093.3,268.06 1073.7,268.015 1054.09,267.893 1034.49,267.694 1014.88,267.417 \n",
       "  995.279,267.062 975.674,266.631 956.069,266.122 936.464,265.536 916.859,264.873 897.254,264.133 877.65,263.316 873.443,263.125 858.045,262.433 838.44,261.476 \n",
       "  818.835,260.444 799.23,259.336 779.625,258.152 760.02,256.893 745.845,255.929 740.415,255.564 720.811,254.174 701.206,252.71 681.601,251.172 661.996,249.56 \n",
       "  652.381,248.733 642.391,247.885 622.786,246.149 603.181,244.34 583.577,242.458 574.335,241.537 563.972,240.517 544.367,238.518 524.762,236.446 505.504,234.341 \n",
       "  505.157,234.303 485.552,232.118 465.947,229.862 446.343,227.536 443.144,227.145 426.738,225.165 407.133,222.73 387.528,220.226 385.414,219.949 367.923,217.682 \n",
       "  348.318,215.073 331.322,212.753 328.713,212.401 309.108,209.691 289.504,206.913 280.159,205.557 269.899,204.086 250.294,201.211 231.302,198.36 230.689,198.27 \n",
       "  211.084,195.299 191.479,192.262 184.545,191.164 171.874,189.184 152.27,186.056 \n",
       "  \"/>\n",
       "<polyline clip-path=\"url(#clip832)\" style=\"stroke:#88216a; stroke-width:4; stroke-opacity:1; fill:none\" points=\"\n",
       "  152.27,154.229 158.641,155.184 171.874,157.192 191.479,160.105 207.123,162.38 211.084,162.963 230.689,165.786 250.294,168.546 257.786,169.576 269.899,171.263 \n",
       "  289.504,173.929 309.108,176.532 310.962,176.772 328.713,179.1 348.318,181.606 367.287,183.968 367.923,184.049 387.528,186.455 407.133,188.797 426.738,191.073 \n",
       "  427.548,191.164 446.343,193.311 465.947,195.483 485.552,197.589 492.965,198.36 505.157,199.645 524.762,201.644 544.367,203.576 563.972,205.44 565.244,205.557 \n",
       "  583.577,207.259 603.181,209.01 622.786,210.694 642.391,212.31 648.005,212.753 661.996,213.871 681.601,215.369 701.206,216.798 720.811,218.157 740.415,219.447 \n",
       "  748.48,219.949 760.02,220.676 779.625,221.842 799.23,222.938 818.835,223.963 838.44,224.917 858.045,225.801 877.65,226.613 891.687,227.145 897.254,227.358 \n",
       "  916.859,228.038 936.464,228.647 956.069,229.183 975.674,229.647 995.279,230.04 1014.88,230.36 1034.49,230.608 1054.09,230.784 1073.7,230.887 1093.3,230.919 \n",
       "  1112.91,230.877 1132.51,230.764 1152.12,230.578 1171.72,230.319 1191.33,229.987 1210.93,229.583 1230.54,229.106 1250.14,228.557 1269.75,227.934 1289.35,227.238 \n",
       "  1291.74,227.145 1308.96,226.479 1328.56,225.648 1348.17,224.746 1367.77,223.771 1387.38,222.724 1406.98,221.604 1426.59,220.412 1433.78,219.949 1446.19,219.158 \n",
       "  1465.8,217.839 1485.4,216.448 1505.01,214.985 1524.61,213.451 1533.14,212.753 1544.21,211.857 1563.82,210.2 1583.42,208.473 1603.03,206.675 1614.76,205.557 \n",
       "  1622.63,204.815 1642.24,202.9 1661.84,200.914 1681.45,198.858 1686.04,198.36 1701.05,196.752 1720.66,194.583 1740.26,192.344 1750.28,191.164 1759.87,190.05 \n",
       "  1779.47,187.702 1799.08,185.285 1809.46,183.968 1818.68,182.813 1838.29,180.29 1857.89,177.698 1864.72,176.772 1877.5,175.06 1897.1,172.365 1916.71,169.603 \n",
       "  1916.89,169.576 1936.31,166.807 1955.92,163.945 1966.39,162.38 1975.52,161.033 1995.13,158.073 2013.84,155.184 2014.73,155.049 2034.34,151.993 2053.94,148.873 \n",
       "  2059.38,147.988 2073.55,145.713 2093.15,142.5 2103.36,140.792 2112.76,139.24 \n",
       "  \"/>\n",
       "<polyline clip-path=\"url(#clip832)\" style=\"stroke:#6e186e; stroke-width:4; stroke-opacity:1; fill:none\" points=\"\n",
       "  2112.76,108.975 2093.6,112.008 2093.15,112.08 2073.55,115.157 2053.94,118.172 2047.09,119.204 2034.34,121.148 2014.73,124.072 1998.79,126.4 1995.13,126.941 \n",
       "  1975.52,129.773 1955.92,132.542 1948.28,133.596 1936.31,135.267 1916.71,137.941 1897.1,140.552 1895.25,140.792 1877.5,143.125 1857.89,145.638 1839.07,147.988 \n",
       "  1838.29,148.087 1818.68,150.499 1799.08,152.847 1779.47,155.129 1778.99,155.184 1759.87,157.373 1740.26,159.552 1720.66,161.665 1713.81,162.38 1701.05,163.729 \n",
       "  1681.45,165.736 1661.84,167.676 1642.24,169.551 1641.96,169.576 1622.63,171.381 1603.03,173.145 1583.42,174.842 1563.82,176.472 1560.06,176.772 1544.21,178.052 \n",
       "  1524.61,179.568 1505.01,181.016 1485.4,182.397 1465.8,183.711 1461.75,183.968 1446.19,184.97 1426.59,186.165 1406.98,187.291 1387.38,188.35 1367.77,189.341 \n",
       "  1348.17,190.264 1328.56,191.119 1327.43,191.164 1308.96,191.916 1289.35,192.646 1269.75,193.306 1250.14,193.899 1230.54,194.423 1210.93,194.879 1191.33,195.267 \n",
       "  1171.72,195.587 1152.12,195.838 1132.51,196.022 1112.91,196.137 1093.3,196.185 1073.7,196.165 1054.09,196.077 1034.49,195.921 1014.88,195.698 995.279,195.407 \n",
       "  975.674,195.048 956.069,194.622 936.464,194.128 916.859,193.567 897.254,192.939 877.65,192.243 858.045,191.48 850.604,191.164 838.44,190.656 818.835,189.769 \n",
       "  799.23,188.817 779.625,187.798 760.02,186.713 740.415,185.561 720.811,184.344 715.075,183.968 701.206,183.072 681.601,181.739 661.996,180.341 642.391,178.878 \n",
       "  622.786,177.349 615.687,176.772 603.181,175.768 583.577,174.13 563.972,172.428 544.367,170.662 532.744,169.576 524.762,168.84 505.157,166.968 485.552,165.033 \n",
       "  465.947,163.035 459.721,162.38 446.343,160.99 426.738,158.891 407.133,156.729 393.514,155.184 387.528,154.513 367.923,152.254 348.318,149.933 332.318,147.988 \n",
       "  328.713,147.555 309.108,145.14 289.504,142.663 275.045,140.792 269.899,140.134 250.294,137.566 230.689,134.938 220.902,133.596 211.084,132.266 191.479,129.549 \n",
       "  171.874,126.773 169.295,126.4 152.27,123.966 \n",
       "  \"/>\n",
       "<polyline clip-path=\"url(#clip832)\" style=\"stroke:#550f6d; stroke-width:4; stroke-opacity:1; fill:none\" points=\"\n",
       "  152.27,95.0458 171.085,97.6162 171.874,97.7252 191.479,100.376 211.084,102.97 225.323,104.812 230.689,105.514 250.294,108.022 269.899,110.472 282.486,112.008 \n",
       "  289.504,112.874 309.108,115.235 328.713,117.539 343.259,119.204 348.318,119.79 367.923,122.001 387.528,124.154 407.133,126.248 408.605,126.4 426.738,128.303 \n",
       "  446.343,130.302 465.947,132.24 480.099,133.596 485.552,134.125 505.157,135.965 524.762,137.745 544.367,139.464 560.071,140.792 563.972,141.126 583.577,142.743 \n",
       "  603.181,144.298 622.786,145.792 642.391,147.225 653.302,147.988 661.996,148.604 681.601,149.929 701.206,151.192 720.811,152.393 740.415,153.532 760.02,154.608 \n",
       "  771.156,155.184 779.625,155.628 799.23,156.591 818.835,157.491 838.44,158.327 858.045,159.101 877.65,159.811 897.254,160.458 916.859,161.041 936.464,161.561 \n",
       "  956.069,162.017 974.173,162.38 975.674,162.411 995.279,162.744 1014.88,163.013 1034.49,163.218 1054.09,163.358 1073.7,163.434 1093.3,163.445 1112.91,163.391 \n",
       "  1132.51,163.273 1152.12,163.09 1171.72,162.842 1191.33,162.53 1199.08,162.38 1210.93,162.155 1230.54,161.718 1250.14,161.217 1269.75,160.651 1289.35,160.021 \n",
       "  1308.96,159.327 1328.56,158.569 1348.17,157.746 1367.77,156.859 1387.38,155.907 1401.32,155.184 1406.98,154.894 1426.59,153.826 1446.19,152.694 1465.8,151.497 \n",
       "  1485.4,150.237 1505.01,148.913 1518.07,147.988 1524.61,147.53 1544.21,146.095 1563.82,144.596 1583.42,143.034 1603.03,141.408 1610.17,140.792 1622.63,139.731 \n",
       "  1642.24,137.998 1661.84,136.202 1681.45,134.343 1689.07,133.596 1701.05,132.435 1720.66,130.473 1740.26,128.448 1759.5,126.4 1759.87,126.361 1779.47,124.236 \n",
       "  1799.08,122.049 1818.68,119.8 1823.74,119.204 1838.29,117.509 1857.89,115.163 1877.5,112.755 1883.43,112.008 1897.1,110.306 1916.71,107.803 1936.31,105.241 \n",
       "  1939.51,104.812 1955.92,102.641 1975.52,99.986 1992.63,97.6162 1995.13,97.2746 2014.73,94.5292 2034.34,91.7243 2043.26,90.4202 2053.94,88.8765 2073.55,85.9836 \n",
       "  2091.87,83.2242 2093.15,83.0338 2112.76,80.0547 \n",
       "  \"/>\n",
       "<polyline clip-path=\"url(#clip832)\" style=\"stroke:#3b0964; stroke-width:4; stroke-opacity:1; fill:none\" points=\"\n",
       "  2112.76,52.3149 2098.21,54.4401 2093.15,55.1864 2073.55,58.0231 2053.94,60.8033 2047.95,61.6361 2034.34,63.5466 2014.73,66.2414 1995.48,68.8322 1995.13,68.8796 \n",
       "  1975.52,71.4873 1955.92,74.0375 1940.26,76.0282 1936.31,76.5354 1916.71,78.9963 1897.1,81.3991 1881.84,83.2242 1877.5,83.7493 1857.89,86.0605 1838.29,88.313 \n",
       "  1819.46,90.4202 1818.68,90.5079 1799.08,92.6663 1779.47,94.7657 1759.87,96.8059 1751.85,97.6162 1740.26,98.7999 1720.66,100.743 1701.05,102.627 1681.45,104.451 \n",
       "  1677.43,104.812 1661.84,106.23 1642.24,107.954 1622.63,109.618 1603.03,111.221 1593.03,112.008 1583.42,112.773 1563.82,114.273 1544.21,115.712 1524.61,117.091 \n",
       "  1505.01,118.409 1492.62,119.204 1485.4,119.672 1465.8,120.883 1446.19,122.033 1426.59,123.121 1406.98,124.149 1387.38,125.115 1367.77,126.021 1358.97,126.4 \n",
       "  1348.17,126.871 1328.56,127.664 1308.96,128.395 1289.35,129.065 1269.75,129.674 1250.14,130.221 1230.54,130.707 1210.93,131.131 1191.33,131.495 1171.72,131.797 \n",
       "  1152.12,132.038 1132.51,132.218 1112.91,132.337 1093.3,132.395 1073.7,132.391 1054.09,132.327 1034.49,132.203 1014.88,132.017 995.279,131.77 975.674,131.463 \n",
       "  956.069,131.095 936.464,130.666 916.859,130.177 897.254,129.627 877.65,129.017 858.045,128.346 838.44,127.614 818.835,126.823 809.12,126.4 799.23,125.975 \n",
       "  779.625,125.073 760.02,124.111 740.415,123.089 720.811,122.008 701.206,120.868 681.601,119.668 674.385,119.204 661.996,118.417 642.391,117.113 622.786,115.75 \n",
       "  603.181,114.328 583.577,112.848 572.878,112.008 563.972,111.317 544.367,109.737 524.762,108.099 505.157,106.403 487.366,104.812 485.552,104.652 465.947,102.86 \n",
       "  446.343,101.011 426.738,99.1053 411.865,97.6162 407.133,97.1475 387.528,95.1491 367.923,93.0943 348.318,90.9832 343.227,90.4202 328.713,88.8327 309.108,86.6324 \n",
       "  289.504,84.3765 279.731,83.2242 269.899,82.0771 250.294,79.7346 230.689,77.3372 220.225,76.0282 211.084,74.8966 191.479,72.4152 171.874,69.8794 163.948,68.8322 \n",
       "  152.27,67.3051 \n",
       "  \"/>\n",
       "<polyline clip-path=\"url(#clip832)\" style=\"stroke:#1f0c47; stroke-width:4; stroke-opacity:1; fill:none\" points=\"\n",
       "  205.659,47.2441 211.084,47.9088 230.689,50.2579 250.294,52.5542 266.775,54.4401 269.899,54.8013 289.504,57.014 309.108,59.1733 328.713,61.2793 332.123,61.6361 \n",
       "  348.318,63.349 367.923,65.3683 387.528,67.3336 402.9,68.8322 407.133,69.2491 426.738,71.1252 446.343,72.9467 465.947,74.7134 481.004,76.0282 485.552,76.4295 \n",
       "  505.157,78.1039 524.762,79.7229 544.367,81.2864 563.972,82.7944 569.773,83.2242 583.577,84.2577 603.181,85.6694 622.786,87.0249 642.391,88.3242 661.996,89.5673 \n",
       "  676.087,90.4202 681.601,90.7576 701.206,91.9001 720.811,92.9857 740.415,94.0142 760.02,94.9858 779.625,95.9003 799.23,96.7577 818.835,97.5579 820.374,97.6162 \n",
       "  838.44,98.3084 858.045,99.0016 877.65,99.637 897.254,100.215 916.859,100.734 936.464,101.196 956.069,101.599 975.674,101.945 995.279,102.232 1014.88,102.461 \n",
       "  1034.49,102.632 1054.09,102.745 1073.7,102.8 1093.3,102.796 1112.91,102.734 1132.51,102.614 1152.12,102.435 1171.72,102.198 1191.33,101.902 1210.93,101.548 \n",
       "  1230.54,101.135 1250.14,100.663 1269.75,100.133 1289.35,99.5443 1308.96,98.8968 1328.56,98.1904 1343.28,97.6162 1348.17,97.4274 1367.77,96.6122 1387.38,95.7388 \n",
       "  1406.98,94.8071 1426.59,93.8171 1446.19,92.7687 1465.8,91.6619 1485.4,90.4967 1486.63,90.4202 1505.01,89.2851 1524.61,88.0165 1544.21,86.6899 1563.82,85.3054 \n",
       "  1583.42,83.8628 1591.77,83.2242 1603.03,82.3712 1622.63,80.8289 1642.24,79.2291 1661.84,77.5718 1679.49,76.0282 1681.45,75.8586 1701.05,74.1045 1720.66,72.2933 \n",
       "  1740.26,70.4251 1756.48,68.8322 1759.87,68.5032 1779.47,66.5411 1799.08,64.5224 1818.68,62.4471 1826.14,61.6361 1838.29,60.3287 1857.89,58.1624 1877.5,55.9399 \n",
       "  1890.4,54.4401 1897.1,53.6692 1916.71,51.358 1936.31,48.991 1950.45,47.2441 \n",
       "  \"/>\n",
       "<polyline clip-path=\"url(#clip832)\" style=\"stroke:#090621; stroke-width:4; stroke-opacity:1; fill:none\" points=\"\n",
       "  1694.9,47.2441 1681.45,48.4153 1661.84,50.0667 1642.24,51.6628 1622.63,53.2038 1606.32,54.4401 1603.03,54.6921 1583.42,56.1374 1563.82,57.527 1544.21,58.861 \n",
       "  1524.61,60.1394 1505.01,61.3622 1500.41,61.6361 1485.4,62.5387 1465.8,63.662 1446.19,64.7292 1426.59,65.7405 1406.98,66.6958 1387.38,67.5952 1367.77,68.4387 \n",
       "  1357.98,68.8322 1348.17,69.2304 1328.56,69.9699 1308.96,70.6529 1289.35,71.2797 1269.75,71.8502 1250.14,72.3644 1230.54,72.8225 1210.93,73.2243 1191.33,73.57 \n",
       "  1171.72,73.8597 1152.12,74.0932 1132.51,74.2707 1112.91,74.3923 1093.3,74.4578 1073.7,74.4675 1054.09,74.4213 1034.49,74.3192 1014.88,74.1613 995.279,73.9476 \n",
       "  975.674,73.6782 956.069,73.3531 936.464,72.9723 916.859,72.5359 897.254,72.0439 877.65,71.4964 858.045,70.8933 838.44,70.2347 818.835,69.5207 801.291,68.8322 \n",
       "  799.23,68.7521 779.625,67.9357 760.02,67.0645 740.415,66.1386 720.811,65.158 701.206,64.1227 681.601,63.0327 661.996,61.8882 657.876,61.6361 642.391,60.6986 \n",
       "  622.786,59.4576 603.181,58.1626 583.577,56.8137 563.972,55.4109 550.907,54.4401 544.367,53.9591 524.762,52.4637 505.157,50.9151 485.552,49.3132 465.947,47.6581 \n",
       "  461.196,47.2441 \n",
       "  \"/>\n",
       "<polyline clip-path=\"url(#clip832)\" style=\"stroke:#f8c931; stroke-width:4; stroke-opacity:1; fill:none\" points=\"\n",
       "  152.27,497.04 162.533,500.593 171.874,503.916 182.99,507.789 191.479,510.831 203.318,514.985 211.084,517.789 223.511,522.181 230.689,524.794 243.557,529.377 \n",
       "  250.294,531.85 263.449,536.573 269.899,538.962 283.175,543.769 289.504,546.135 302.724,550.965 309.108,553.376 322.082,558.161 328.713,560.692 341.237,565.357 \n",
       "  348.318,568.09 360.172,572.553 367.923,575.581 378.872,579.749 387.528,583.174 397.316,586.946 407.133,590.882 415.484,594.142 426.738,598.719 433.353,601.338 \n",
       "  446.343,606.704 450.898,608.534 465.947,614.855 468.09,615.73 484.916,622.926 485.552,623.212 501.401,630.122 505.157,631.846 517.445,637.318 524.762,640.759 \n",
       "  533.005,644.514 544.367,649.998 548.031,651.71 562.521,658.906 563.972,659.675 576.515,666.102 583.577,669.982 589.827,673.298 602.41,680.494 603.181,680.972 \n",
       "  614.418,687.69 622.786,693.155 625.539,694.886 635.932,702.082 642.391,707.059 645.386,709.278 654.008,716.474 661.537,723.67 661.996,724.182 668.232,730.866 \n",
       "  673.812,738.062 678.264,745.258 681.589,752.454 681.601,752.492 683.891,759.65 685.026,766.846 684.997,774.042 683.81,781.238 681.601,788.026 681.474,788.434 \n",
       "  678.13,795.63 673.688,802.826 668.151,810.022 661.996,816.706 661.544,817.218 654.143,824.414 645.703,831.61 642.391,834.123 636.465,838.806 626.363,846.002 \n",
       "  622.786,848.321 615.551,853.198 603.921,860.394 603.181,860.817 591.768,867.59 583.577,872.109 578.897,874.786 565.43,881.982 563.972,882.713 551.517,889.178 \n",
       "  544.367,892.674 537.05,896.374 524.762,902.248 522.084,903.57 506.712,910.766 505.157,911.458 490.993,917.962 485.552,920.343 474.88,925.158 465.947,929.008 \n",
       "  458.408,932.354 446.343,937.48 441.607,939.55 426.738,945.784 424.505,946.746 407.133,953.939 407.126,953.942 389.543,961.138 387.528,961.933 371.715,968.335 \n",
       "  367.923,969.815 353.662,975.531 348.318,977.599 335.4,982.727 328.713,985.293 316.944,989.923 309.108,992.906 298.308,997.119 289.504,1000.45 279.505,1004.31 \n",
       "  269.899,1007.92 260.546,1011.51 250.294,1015.33 241.441,1018.71 230.689,1022.69 222.199,1025.9 211.084,1029.99 202.83,1033.1 191.479,1037.25 183.342,1040.29 \n",
       "  171.874,1044.47 163.741,1047.49 152.27,1051.64 \n",
       "  \"/>\n",
       "<polyline clip-path=\"url(#clip832)\" style=\"stroke:#f1e864; stroke-width:4; stroke-opacity:1; fill:none\" points=\"\n",
       "  152.27,970.413 156.394,968.335 170.159,961.138 171.874,960.207 183.654,953.942 191.479,949.615 196.776,946.746 209.532,939.55 211.084,938.637 221.987,932.354 \n",
       "  230.689,927.112 234.005,925.158 245.659,917.962 250.294,914.956 256.902,910.766 267.682,903.57 269.899,902.008 278.077,896.374 287.94,889.178 289.504,887.965 \n",
       "  297.401,881.982 306.301,874.786 309.108,872.352 314.734,867.59 322.622,860.394 328.713,854.366 329.924,853.198 336.744,846.002 342.933,838.806 348.318,831.831 \n",
       "  348.493,831.61 353.538,824.414 357.932,817.218 361.673,810.022 364.76,802.826 367.191,795.63 367.923,792.66 368.992,788.434 370.137,781.238 370.605,774.042 \n",
       "  370.395,766.846 369.505,759.65 367.934,752.454 367.923,752.42 365.737,745.258 362.873,738.062 359.342,730.866 355.14,723.67 350.268,716.474 348.318,713.942 \n",
       "  344.813,709.278 338.749,702.082 332.027,694.886 328.713,691.654 324.744,687.69 316.897,680.494 309.108,673.895 308.42,673.298 299.497,666.102 289.94,658.906 \n",
       "  289.504,658.597 279.976,651.71 269.899,644.852 269.413,644.514 258.472,637.318 250.294,632.221 246.997,630.122 235.109,622.926 230.689,620.377 222.799,615.73 \n",
       "  211.084,609.142 210.024,608.534 196.927,601.338 191.479,598.469 183.427,594.142 171.874,588.181 169.528,586.946 155.315,579.749 152.27,578.265 \n",
       "  \"/>\n",
       "<polyline clip-path=\"url(#clip832)\" style=\"stroke:#f1e864; stroke-width:4; stroke-opacity:1; fill:none\" points=\"\n",
       "  2112.76,955.427 2109.71,953.942 2095.5,946.746 2093.15,945.511 2081.6,939.55 2073.55,935.223 2068.1,932.354 2055,925.158 2053.94,924.55 2042.23,917.962 \n",
       "  2034.34,913.315 2029.92,910.766 2018.03,903.57 2014.73,901.471 2006.55,896.374 1995.61,889.178 1995.13,888.84 1985.05,881.982 1975.52,875.095 1975.09,874.786 \n",
       "  1965.53,867.59 1956.61,860.394 1955.92,859.797 1948.13,853.198 1940.28,846.002 1936.31,842.038 1933,838.806 1926.28,831.61 1920.21,824.414 1916.71,819.75 \n",
       "  1914.76,817.218 1909.89,810.022 1905.68,802.826 1902.15,795.63 1899.29,788.434 1897.1,781.272 1897.09,781.238 1895.52,774.042 1894.63,766.846 1894.42,759.65 \n",
       "  1894.89,752.454 1896.03,745.258 1897.1,741.032 1897.83,738.062 1900.27,730.866 1903.35,723.67 1907.09,716.474 1911.49,709.278 1916.53,702.082 1916.71,701.861 \n",
       "  1922.09,694.886 1928.28,687.69 1935.1,680.494 1936.31,679.326 1942.4,673.298 1950.29,666.102 1955.92,661.34 1958.72,658.906 1967.62,651.71 1975.52,645.727 \n",
       "  1977.09,644.514 1986.95,637.318 1995.13,631.684 1997.34,630.122 2008.12,622.926 2014.73,618.736 2019.37,615.73 2031.02,608.534 2034.34,606.58 2043.04,601.338 \n",
       "  2053.94,595.055 2055.49,594.142 2068.25,586.946 2073.55,584.077 2081.37,579.749 2093.15,573.485 2094.87,572.553 2108.63,565.357 2112.76,563.279 \n",
       "  \"/>\n",
       "<polyline clip-path=\"url(#clip832)\" style=\"stroke:#550f6d; stroke-width:4; stroke-opacity:1; fill:none\" points=\"\n",
       "  2112.76,1438.65 2093.94,1436.08 2093.15,1435.97 2073.55,1433.32 2053.94,1430.72 2039.7,1428.88 2034.34,1428.18 2014.73,1425.67 1995.13,1423.22 1982.54,1421.68 \n",
       "  1975.52,1420.82 1955.92,1418.46 1936.31,1416.15 1921.77,1414.49 1916.71,1413.9 1897.1,1411.69 1877.5,1409.54 1857.89,1407.44 1856.42,1407.29 1838.29,1405.39 \n",
       "  1818.68,1403.39 1799.08,1401.45 1784.93,1400.1 1779.47,1399.57 1759.87,1397.73 1740.26,1395.95 1720.66,1394.23 1704.95,1392.9 1701.05,1392.57 1681.45,1390.95 \n",
       "  1661.84,1389.39 1642.24,1387.9 1622.63,1386.47 1611.72,1385.7 1603.03,1385.09 1583.42,1383.76 1563.82,1382.5 1544.21,1381.3 1524.61,1380.16 1505.01,1379.08 \n",
       "  1493.87,1378.51 1485.4,1378.06 1465.8,1377.1 1446.19,1376.2 1426.59,1375.36 1406.98,1374.59 1387.38,1373.88 1367.77,1373.23 1348.17,1372.65 1328.56,1372.13 \n",
       "  1308.96,1371.67 1290.85,1371.31 1289.35,1371.28 1269.75,1370.95 1250.14,1370.68 1230.54,1370.47 1210.93,1370.33 1191.33,1370.26 1171.72,1370.25 1152.12,1370.3 \n",
       "  1132.51,1370.42 1112.91,1370.6 1093.3,1370.85 1073.7,1371.16 1065.95,1371.31 1054.09,1371.54 1034.49,1371.97 1014.88,1372.48 995.279,1373.04 975.674,1373.67 \n",
       "  956.069,1374.36 936.464,1375.12 916.859,1375.95 897.254,1376.83 877.65,1377.78 863.71,1378.51 858.045,1378.8 838.44,1379.87 818.835,1381 799.23,1382.19 \n",
       "  779.625,1383.45 760.02,1384.78 746.959,1385.7 740.415,1386.16 720.811,1387.6 701.206,1389.1 681.601,1390.66 661.996,1392.28 654.854,1392.9 642.391,1393.96 \n",
       "  622.786,1395.69 603.181,1397.49 583.577,1399.35 575.956,1400.1 563.972,1401.26 544.367,1403.22 524.762,1405.24 505.526,1407.29 505.157,1407.33 485.552,1409.46 \n",
       "  465.947,1411.64 446.343,1413.89 441.284,1414.49 426.738,1416.18 407.133,1418.53 387.528,1420.94 381.595,1421.68 367.923,1423.39 348.318,1425.89 328.713,1428.45 \n",
       "  325.512,1428.88 309.108,1431.05 289.504,1433.71 272.392,1436.08 269.899,1436.42 250.294,1439.16 230.689,1441.97 221.763,1443.27 211.084,1444.82 191.479,1447.71 \n",
       "  173.152,1450.47 171.874,1450.66 152.27,1453.64 \n",
       "  \"/>\n",
       "<polyline clip-path=\"url(#clip832)\" style=\"stroke:#090621; stroke-width:4; stroke-opacity:1; fill:none\" points=\"\n",
       "  570.122,1486.45 583.577,1485.28 603.181,1483.63 622.786,1482.03 642.391,1480.49 658.704,1479.25 661.996,1479 681.601,1477.55 701.206,1476.16 720.811,1474.83 \n",
       "  740.415,1473.55 760.02,1472.33 764.62,1472.06 779.625,1471.15 799.23,1470.03 818.835,1468.96 838.44,1467.95 858.045,1467 877.65,1466.1 897.254,1465.25 \n",
       "  907.047,1464.86 916.859,1464.46 936.464,1463.72 956.069,1463.04 975.674,1462.41 995.279,1461.84 1014.88,1461.33 1034.49,1460.87 1054.09,1460.47 1073.7,1460.12 \n",
       "  1093.3,1459.83 1112.91,1459.6 1132.51,1459.42 1152.12,1459.3 1171.72,1459.23 1191.33,1459.22 1210.93,1459.27 1230.54,1459.37 1250.14,1459.53 1269.75,1459.74 \n",
       "  1289.35,1460.01 1308.96,1460.34 1328.56,1460.72 1348.17,1461.16 1367.77,1461.65 1387.38,1462.2 1406.98,1462.8 1426.59,1463.46 1446.19,1464.17 1463.73,1464.86 \n",
       "  1465.8,1464.94 1485.4,1465.76 1505.01,1466.63 1524.61,1467.55 1544.21,1468.53 1563.82,1469.57 1583.42,1470.66 1603.03,1471.8 1607.15,1472.06 1622.63,1472.99 \n",
       "  1642.24,1474.23 1661.84,1475.53 1681.45,1476.88 1701.05,1478.28 1714.12,1479.25 1720.66,1479.73 1740.26,1481.23 1759.87,1482.78 1779.47,1484.38 1799.08,1486.03 \n",
       "  1803.83,1486.45 \n",
       "  \"/>\n",
       "<defs>\n",
       "  <clipPath id=\"clip833\">\n",
       "    <rect x=\"2160\" y=\"47\" width=\"73\" height=\"1440\"/>\n",
       "  </clipPath>\n",
       "</defs>\n",
       "<polyline clip-path=\"url(#clip833)\" style=\"stroke:#0a0723; stroke-width:4; stroke-opacity:1; fill:none\" points=\"\n",
       "  2160.76,1396.5 2232.76,1396.5 \n",
       "  \"/>\n",
       "<polyline clip-path=\"url(#clip833)\" style=\"stroke:#200c4a; stroke-width:4; stroke-opacity:1; fill:none\" points=\"\n",
       "  2160.76,1306.55 2232.76,1306.55 \n",
       "  \"/>\n",
       "<polyline clip-path=\"url(#clip833)\" style=\"stroke:#3c0965; stroke-width:4; stroke-opacity:1; fill:none\" points=\"\n",
       "  2160.76,1216.6 2232.76,1216.6 \n",
       "  \"/>\n",
       "<polyline clip-path=\"url(#clip833)\" style=\"stroke:#570f6d; stroke-width:4; stroke-opacity:1; fill:none\" points=\"\n",
       "  2160.76,1126.65 2232.76,1126.65 \n",
       "  \"/>\n",
       "<polyline clip-path=\"url(#clip833)\" style=\"stroke:#70196e; stroke-width:4; stroke-opacity:1; fill:none\" points=\"\n",
       "  2160.76,1036.7 2232.76,1036.7 \n",
       "  \"/>\n",
       "<polyline clip-path=\"url(#clip833)\" style=\"stroke:#892269; stroke-width:4; stroke-opacity:1; fill:none\" points=\"\n",
       "  2160.76,946.746 2232.76,946.746 \n",
       "  \"/>\n",
       "<polyline clip-path=\"url(#clip833)\" style=\"stroke:#a32b61; stroke-width:4; stroke-opacity:1; fill:none\" points=\"\n",
       "  2160.76,856.796 2232.76,856.796 \n",
       "  \"/>\n",
       "<polyline clip-path=\"url(#clip833)\" style=\"stroke:#bb3754; stroke-width:4; stroke-opacity:1; fill:none\" points=\"\n",
       "  2160.76,766.846 2232.76,766.846 \n",
       "  \"/>\n",
       "<polyline clip-path=\"url(#clip833)\" style=\"stroke:#d04544; stroke-width:4; stroke-opacity:1; fill:none\" points=\"\n",
       "  2160.76,676.896 2232.76,676.896 \n",
       "  \"/>\n",
       "<polyline clip-path=\"url(#clip833)\" style=\"stroke:#e35832; stroke-width:4; stroke-opacity:1; fill:none\" points=\"\n",
       "  2160.76,586.946 2232.76,586.946 \n",
       "  \"/>\n",
       "<polyline clip-path=\"url(#clip833)\" style=\"stroke:#f0701e; stroke-width:4; stroke-opacity:1; fill:none\" points=\"\n",
       "  2160.76,496.995 2232.76,496.995 \n",
       "  \"/>\n",
       "<polyline clip-path=\"url(#clip833)\" style=\"stroke:#f98c09; stroke-width:4; stroke-opacity:1; fill:none\" points=\"\n",
       "  2160.76,407.045 2232.76,407.045 \n",
       "  \"/>\n",
       "<polyline clip-path=\"url(#clip833)\" style=\"stroke:#fbaa0e; stroke-width:4; stroke-opacity:1; fill:none\" points=\"\n",
       "  2160.76,317.095 2232.76,317.095 \n",
       "  \"/>\n",
       "<polyline clip-path=\"url(#clip833)\" style=\"stroke:#f8c931; stroke-width:4; stroke-opacity:1; fill:none\" points=\"\n",
       "  2160.76,227.145 2232.76,227.145 \n",
       "  \"/>\n",
       "<polyline clip-path=\"url(#clip833)\" style=\"stroke:#f1e864; stroke-width:4; stroke-opacity:1; fill:none\" points=\"\n",
       "  2160.76,137.194 2232.76,137.194 \n",
       "  \"/>\n",
       "<path clip-path=\"url(#clip830)\" d=\"M 0 0 M2268.76 1482.57 L2298.43 1482.57 L2298.43 1486.51 L2268.76 1486.51 L2268.76 1482.57 Z\" fill=\"#000000\" fill-rule=\"evenodd\" fill-opacity=\"1\" /><path clip-path=\"url(#clip830)\" d=\"M 0 0 M2316.35 1468.92 L2304.54 1487.37 L2316.35 1487.37 L2316.35 1468.92 M2315.12 1464.84 L2321 1464.84 L2321 1487.37 L2325.93 1487.37 L2325.93 1491.25 L2321 1491.25 L2321 1499.4 L2316.35 1499.4 L2316.35 1491.25 L2300.75 1491.25 L2300.75 1486.74 L2315.12 1464.84 Z\" fill=\"#000000\" fill-rule=\"evenodd\" fill-opacity=\"1\" /><path clip-path=\"url(#clip830)\" d=\"M 0 0 M2341 1467.92 Q2337.39 1467.92 2335.56 1471.49 Q2333.76 1475.03 2333.76 1482.16 Q2333.76 1489.26 2335.56 1492.83 Q2337.39 1496.37 2341 1496.37 Q2344.64 1496.37 2346.44 1492.83 Q2348.27 1489.26 2348.27 1482.16 Q2348.27 1475.03 2346.44 1471.49 Q2344.64 1467.92 2341 1467.92 M2341 1464.22 Q2346.81 1464.22 2349.87 1468.82 Q2352.95 1473.41 2352.95 1482.16 Q2352.95 1490.88 2349.87 1495.49 Q2346.81 1500.07 2341 1500.07 Q2335.19 1500.07 2332.11 1495.49 Q2329.06 1490.88 2329.06 1482.16 Q2329.06 1473.41 2332.11 1468.82 Q2335.19 1464.22 2341 1464.22 Z\" fill=\"#000000\" fill-rule=\"evenodd\" fill-opacity=\"1\" /><path clip-path=\"url(#clip830)\" d=\"M 0 0 M2368.01 1467.92 Q2364.4 1467.92 2362.57 1471.49 Q2360.77 1475.03 2360.77 1482.16 Q2360.77 1489.26 2362.57 1492.83 Q2364.4 1496.37 2368.01 1496.37 Q2371.65 1496.37 2373.45 1492.83 Q2375.28 1489.26 2375.28 1482.16 Q2375.28 1475.03 2373.45 1471.49 Q2371.65 1467.92 2368.01 1467.92 M2368.01 1464.22 Q2373.82 1464.22 2376.88 1468.82 Q2379.96 1473.41 2379.96 1482.16 Q2379.96 1490.88 2376.88 1495.49 Q2373.82 1500.07 2368.01 1500.07 Q2362.2 1500.07 2359.13 1495.49 Q2356.07 1490.88 2356.07 1482.16 Q2356.07 1473.41 2359.13 1468.82 Q2362.2 1464.22 2368.01 1464.22 Z\" fill=\"#000000\" fill-rule=\"evenodd\" fill-opacity=\"1\" /><path clip-path=\"url(#clip830)\" d=\"M 0 0 M2268.76 1331.17 L2298.43 1331.17 L2298.43 1335.1 L2268.76 1335.1 L2268.76 1331.17 Z\" fill=\"#000000\" fill-rule=\"evenodd\" fill-opacity=\"1\" /><path clip-path=\"url(#clip830)\" d=\"M 0 0 M2317.67 1329.36 Q2321.02 1330.08 2322.9 1332.35 Q2324.8 1334.62 2324.8 1337.95 Q2324.8 1343.06 2321.28 1345.86 Q2317.76 1348.67 2311.28 1348.67 Q2309.1 1348.67 2306.79 1348.23 Q2304.5 1347.81 2302.04 1346.95 L2302.04 1342.44 Q2303.99 1343.57 2306.3 1344.15 Q2308.62 1344.73 2311.14 1344.73 Q2315.54 1344.73 2317.83 1342.99 Q2320.14 1341.26 2320.14 1337.95 Q2320.14 1334.89 2317.99 1333.18 Q2315.86 1331.44 2312.04 1331.44 L2308.01 1331.44 L2308.01 1327.6 L2312.23 1327.6 Q2315.68 1327.6 2317.51 1326.24 Q2319.33 1324.85 2319.33 1322.25 Q2319.33 1319.59 2317.44 1318.18 Q2315.56 1316.74 2312.04 1316.74 Q2310.12 1316.74 2307.92 1317.16 Q2305.72 1317.58 2303.08 1318.46 L2303.08 1314.29 Q2305.75 1313.55 2308.06 1313.18 Q2310.4 1312.81 2312.46 1312.81 Q2317.78 1312.81 2320.89 1315.24 Q2323.99 1317.65 2323.99 1321.77 Q2323.99 1324.64 2322.34 1326.63 Q2320.7 1328.6 2317.67 1329.36 Z\" fill=\"#000000\" fill-rule=\"evenodd\" fill-opacity=\"1\" /><path clip-path=\"url(#clip830)\" d=\"M 0 0 M2329.91 1313.43 L2348.27 1313.43 L2348.27 1317.37 L2334.2 1317.37 L2334.2 1325.84 Q2335.21 1325.49 2336.23 1325.33 Q2337.25 1325.15 2338.27 1325.15 Q2344.06 1325.15 2347.44 1328.32 Q2350.82 1331.49 2350.82 1336.91 Q2350.82 1342.49 2347.34 1345.59 Q2343.87 1348.67 2337.55 1348.67 Q2335.38 1348.67 2333.11 1348.3 Q2330.86 1347.93 2328.45 1347.18 L2328.45 1342.49 Q2330.54 1343.62 2332.76 1344.18 Q2334.98 1344.73 2337.46 1344.73 Q2341.46 1344.73 2343.8 1342.62 Q2346.14 1340.52 2346.14 1336.91 Q2346.14 1333.3 2343.8 1331.19 Q2341.46 1329.08 2337.46 1329.08 Q2335.58 1329.08 2333.71 1329.5 Q2331.86 1329.92 2329.91 1330.8 L2329.91 1313.43 Z\" fill=\"#000000\" fill-rule=\"evenodd\" fill-opacity=\"1\" /><path clip-path=\"url(#clip830)\" d=\"M 0 0 M2365.89 1316.51 Q2362.27 1316.51 2360.45 1320.08 Q2358.64 1323.62 2358.64 1330.75 Q2358.64 1337.86 2360.45 1341.42 Q2362.27 1344.96 2365.89 1344.96 Q2369.52 1344.96 2371.32 1341.42 Q2373.15 1337.86 2373.15 1330.75 Q2373.15 1323.62 2371.32 1320.08 Q2369.52 1316.51 2365.89 1316.51 M2365.89 1312.81 Q2371.7 1312.81 2374.75 1317.42 Q2377.83 1322 2377.83 1330.75 Q2377.83 1339.48 2374.75 1344.08 Q2371.7 1348.67 2365.89 1348.67 Q2360.07 1348.67 2357 1344.08 Q2353.94 1339.48 2353.94 1330.75 Q2353.94 1322 2357 1317.42 Q2360.07 1312.81 2365.89 1312.81 Z\" fill=\"#000000\" fill-rule=\"evenodd\" fill-opacity=\"1\" /><path clip-path=\"url(#clip830)\" d=\"M 0 0 M2268.76 1179.76 L2298.43 1179.76 L2298.43 1183.69 L2268.76 1183.69 L2268.76 1179.76 Z\" fill=\"#000000\" fill-rule=\"evenodd\" fill-opacity=\"1\" /><path clip-path=\"url(#clip830)\" d=\"M 0 0 M2317.67 1177.95 Q2321.02 1178.67 2322.9 1180.94 Q2324.8 1183.21 2324.8 1186.54 Q2324.8 1191.66 2321.28 1194.46 Q2317.76 1197.26 2311.28 1197.26 Q2309.1 1197.26 2306.79 1196.82 Q2304.5 1196.4 2302.04 1195.54 L2302.04 1191.03 Q2303.99 1192.17 2306.3 1192.74 Q2308.62 1193.32 2311.14 1193.32 Q2315.54 1193.32 2317.83 1191.59 Q2320.14 1189.85 2320.14 1186.54 Q2320.14 1183.48 2317.99 1181.77 Q2315.86 1180.04 2312.04 1180.04 L2308.01 1180.04 L2308.01 1176.19 L2312.23 1176.19 Q2315.68 1176.19 2317.51 1174.83 Q2319.33 1173.44 2319.33 1170.85 Q2319.33 1168.18 2317.44 1166.77 Q2315.56 1165.34 2312.04 1165.34 Q2310.12 1165.34 2307.92 1165.75 Q2305.72 1166.17 2303.08 1167.05 L2303.08 1162.88 Q2305.75 1162.14 2308.06 1161.77 Q2310.4 1161.4 2312.46 1161.4 Q2317.78 1161.4 2320.89 1163.83 Q2323.99 1166.24 2323.99 1170.36 Q2323.99 1173.23 2322.34 1175.22 Q2320.7 1177.19 2317.67 1177.95 Z\" fill=\"#000000\" fill-rule=\"evenodd\" fill-opacity=\"1\" /><path clip-path=\"url(#clip830)\" d=\"M 0 0 M2339.87 1165.11 Q2336.26 1165.11 2334.43 1168.67 Q2332.62 1172.21 2332.62 1179.34 Q2332.62 1186.45 2334.43 1190.01 Q2336.26 1193.55 2339.87 1193.55 Q2343.5 1193.55 2345.31 1190.01 Q2347.14 1186.45 2347.14 1179.34 Q2347.14 1172.21 2345.31 1168.67 Q2343.5 1165.11 2339.87 1165.11 M2339.87 1161.4 Q2345.68 1161.4 2348.73 1166.01 Q2351.81 1170.59 2351.81 1179.34 Q2351.81 1188.07 2348.73 1192.67 Q2345.68 1197.26 2339.87 1197.26 Q2334.06 1197.26 2330.98 1192.67 Q2327.92 1188.07 2327.92 1179.34 Q2327.92 1170.59 2330.98 1166.01 Q2334.06 1161.4 2339.87 1161.4 Z\" fill=\"#000000\" fill-rule=\"evenodd\" fill-opacity=\"1\" /><path clip-path=\"url(#clip830)\" d=\"M 0 0 M2366.88 1165.11 Q2363.27 1165.11 2361.44 1168.67 Q2359.64 1172.21 2359.64 1179.34 Q2359.64 1186.45 2361.44 1190.01 Q2363.27 1193.55 2366.88 1193.55 Q2370.51 1193.55 2372.32 1190.01 Q2374.15 1186.45 2374.15 1179.34 Q2374.15 1172.21 2372.32 1168.67 Q2370.51 1165.11 2366.88 1165.11 M2366.88 1161.4 Q2372.69 1161.4 2375.75 1166.01 Q2378.82 1170.59 2378.82 1179.34 Q2378.82 1188.07 2375.75 1192.67 Q2372.69 1197.26 2366.88 1197.26 Q2361.07 1197.26 2357.99 1192.67 Q2354.94 1188.07 2354.94 1179.34 Q2354.94 1170.59 2357.99 1166.01 Q2361.07 1161.4 2366.88 1161.4 Z\" fill=\"#000000\" fill-rule=\"evenodd\" fill-opacity=\"1\" /><path clip-path=\"url(#clip830)\" d=\"M 0 0 M2268.76 1028.35 L2298.43 1028.35 L2298.43 1032.29 L2268.76 1032.29 L2268.76 1028.35 Z\" fill=\"#000000\" fill-rule=\"evenodd\" fill-opacity=\"1\" /><path clip-path=\"url(#clip830)\" d=\"M 0 0 M2307.53 1041.24 L2323.85 1041.24 L2323.85 1045.18 L2301.9 1045.18 L2301.9 1041.24 Q2304.57 1038.49 2309.15 1033.86 Q2313.76 1029.21 2314.94 1027.86 Q2317.18 1025.34 2318.06 1023.6 Q2318.96 1021.85 2318.96 1020.16 Q2318.96 1017.4 2317.02 1015.66 Q2315.1 1013.93 2312 1013.93 Q2309.8 1013.93 2307.34 1014.69 Q2304.91 1015.46 2302.14 1017.01 L2302.14 1012.29 Q2304.96 1011.15 2307.41 1010.57 Q2309.87 1009.99 2311.9 1009.99 Q2317.27 1009.99 2320.47 1012.68 Q2323.66 1015.36 2323.66 1019.85 Q2323.66 1021.98 2322.85 1023.91 Q2322.07 1025.8 2319.96 1028.4 Q2319.38 1029.07 2316.28 1032.29 Q2313.18 1035.48 2307.53 1041.24 Z\" fill=\"#000000\" fill-rule=\"evenodd\" fill-opacity=\"1\" /><path clip-path=\"url(#clip830)\" d=\"M 0 0 M2328.96 1010.62 L2347.32 1010.62 L2347.32 1014.55 L2333.25 1014.55 L2333.25 1023.03 Q2334.26 1022.68 2335.28 1022.52 Q2336.3 1022.33 2337.32 1022.33 Q2343.11 1022.33 2346.49 1025.5 Q2349.87 1028.67 2349.87 1034.09 Q2349.87 1039.67 2346.39 1042.77 Q2342.92 1045.85 2336.6 1045.85 Q2334.43 1045.85 2332.16 1045.48 Q2329.91 1045.11 2327.51 1044.37 L2327.51 1039.67 Q2329.59 1040.8 2331.81 1041.36 Q2334.03 1041.91 2336.51 1041.91 Q2340.51 1041.91 2342.85 1039.81 Q2345.19 1037.7 2345.19 1034.09 Q2345.19 1030.48 2342.85 1028.37 Q2340.51 1026.27 2336.51 1026.27 Q2334.64 1026.27 2332.76 1026.68 Q2330.91 1027.1 2328.96 1027.98 L2328.96 1010.62 Z\" fill=\"#000000\" fill-rule=\"evenodd\" fill-opacity=\"1\" /><path clip-path=\"url(#clip830)\" d=\"M 0 0 M2364.94 1013.7 Q2361.32 1013.7 2359.5 1017.26 Q2357.69 1020.8 2357.69 1027.93 Q2357.69 1035.04 2359.5 1038.6 Q2361.32 1042.15 2364.94 1042.15 Q2368.57 1042.15 2370.38 1038.6 Q2372.2 1035.04 2372.2 1027.93 Q2372.2 1020.8 2370.38 1017.26 Q2368.57 1013.7 2364.94 1013.7 M2364.94 1009.99 Q2370.75 1009.99 2373.8 1014.6 Q2376.88 1019.18 2376.88 1027.93 Q2376.88 1036.66 2373.8 1041.27 Q2370.75 1045.85 2364.94 1045.85 Q2359.13 1045.85 2356.05 1041.27 Q2352.99 1036.66 2352.99 1027.93 Q2352.99 1019.18 2356.05 1014.6 Q2359.13 1009.99 2364.94 1009.99 Z\" fill=\"#000000\" fill-rule=\"evenodd\" fill-opacity=\"1\" /><path clip-path=\"url(#clip830)\" d=\"M 0 0 M2268.76 876.942 L2298.43 876.942 L2298.43 880.877 L2268.76 880.877 L2268.76 876.942 Z\" fill=\"#000000\" fill-rule=\"evenodd\" fill-opacity=\"1\" /><path clip-path=\"url(#clip830)\" d=\"M 0 0 M2307.53 889.835 L2323.85 889.835 L2323.85 893.771 L2301.9 893.771 L2301.9 889.835 Q2304.57 887.081 2309.15 882.451 Q2313.76 877.798 2314.94 876.456 Q2317.18 873.933 2318.06 872.197 Q2318.96 870.437 2318.96 868.748 Q2318.96 865.993 2317.02 864.257 Q2315.1 862.521 2312 862.521 Q2309.8 862.521 2307.34 863.285 Q2304.91 864.048 2302.14 865.599 L2302.14 860.877 Q2304.96 859.743 2307.41 859.164 Q2309.87 858.586 2311.9 858.586 Q2317.27 858.586 2320.47 861.271 Q2323.66 863.956 2323.66 868.447 Q2323.66 870.576 2322.85 872.498 Q2322.07 874.396 2319.96 876.988 Q2319.38 877.66 2316.28 880.877 Q2313.18 884.072 2307.53 889.835 Z\" fill=\"#000000\" fill-rule=\"evenodd\" fill-opacity=\"1\" /><path clip-path=\"url(#clip830)\" d=\"M 0 0 M2338.92 862.289 Q2335.31 862.289 2333.48 865.854 Q2331.67 869.396 2331.67 876.525 Q2331.67 883.632 2333.48 887.197 Q2335.31 890.738 2338.92 890.738 Q2342.55 890.738 2344.36 887.197 Q2346.19 883.632 2346.19 876.525 Q2346.19 869.396 2344.36 865.854 Q2342.55 862.289 2338.92 862.289 M2338.92 858.586 Q2344.73 858.586 2347.78 863.192 Q2350.86 867.775 2350.86 876.525 Q2350.86 885.252 2347.78 889.859 Q2344.73 894.442 2338.92 894.442 Q2333.11 894.442 2330.03 889.859 Q2326.97 885.252 2326.97 876.525 Q2326.97 867.775 2330.03 863.192 Q2333.11 858.586 2338.92 858.586 Z\" fill=\"#000000\" fill-rule=\"evenodd\" fill-opacity=\"1\" /><path clip-path=\"url(#clip830)\" d=\"M 0 0 M2365.93 862.289 Q2362.32 862.289 2360.49 865.854 Q2358.69 869.396 2358.69 876.525 Q2358.69 883.632 2360.49 887.197 Q2362.32 890.738 2365.93 890.738 Q2369.57 890.738 2371.37 887.197 Q2373.2 883.632 2373.2 876.525 Q2373.2 869.396 2371.37 865.854 Q2369.57 862.289 2365.93 862.289 M2365.93 858.586 Q2371.74 858.586 2374.8 863.192 Q2377.88 867.775 2377.88 876.525 Q2377.88 885.252 2374.8 889.859 Q2371.74 894.442 2365.93 894.442 Q2360.12 894.442 2357.04 889.859 Q2353.99 885.252 2353.99 876.525 Q2353.99 867.775 2357.04 863.192 Q2360.12 858.586 2365.93 858.586 Z\" fill=\"#000000\" fill-rule=\"evenodd\" fill-opacity=\"1\" /><path clip-path=\"url(#clip830)\" d=\"M 0 0 M2268.76 725.534 L2298.43 725.534 L2298.43 729.469 L2268.76 729.469 L2268.76 725.534 Z\" fill=\"#000000\" fill-rule=\"evenodd\" fill-opacity=\"1\" /><path clip-path=\"url(#clip830)\" d=\"M 0 0 M2304.31 738.427 L2311.95 738.427 L2311.95 712.062 L2303.64 713.728 L2303.64 709.469 L2311.9 707.803 L2316.58 707.803 L2316.58 738.427 L2324.22 738.427 L2324.22 742.363 L2304.31 742.363 L2304.31 738.427 Z\" fill=\"#000000\" fill-rule=\"evenodd\" fill-opacity=\"1\" /><path clip-path=\"url(#clip830)\" d=\"M 0 0 M2329.33 707.803 L2347.69 707.803 L2347.69 711.738 L2333.62 711.738 L2333.62 720.21 Q2334.64 719.863 2335.65 719.701 Q2336.67 719.515 2337.69 719.515 Q2343.48 719.515 2346.86 722.687 Q2350.24 725.858 2350.24 731.275 Q2350.24 736.853 2346.76 739.955 Q2343.29 743.034 2336.97 743.034 Q2334.8 743.034 2332.53 742.663 Q2330.28 742.293 2327.88 741.552 L2327.88 736.853 Q2329.96 737.988 2332.18 738.543 Q2334.4 739.099 2336.88 739.099 Q2340.89 739.099 2343.22 736.992 Q2345.56 734.886 2345.56 731.275 Q2345.56 727.664 2343.22 725.557 Q2340.89 723.451 2336.88 723.451 Q2335.01 723.451 2333.13 723.867 Q2331.28 724.284 2329.33 725.164 L2329.33 707.803 Z\" fill=\"#000000\" fill-rule=\"evenodd\" fill-opacity=\"1\" /><path clip-path=\"url(#clip830)\" d=\"M 0 0 M2365.31 710.881 Q2361.7 710.881 2359.87 714.446 Q2358.06 717.988 2358.06 725.117 Q2358.06 732.224 2359.87 735.789 Q2361.7 739.33 2365.31 739.33 Q2368.94 739.33 2370.75 735.789 Q2372.57 732.224 2372.57 725.117 Q2372.57 717.988 2370.75 714.446 Q2368.94 710.881 2365.31 710.881 M2365.31 707.178 Q2371.12 707.178 2374.17 711.784 Q2377.25 716.367 2377.25 725.117 Q2377.25 733.844 2374.17 738.451 Q2371.12 743.034 2365.31 743.034 Q2359.5 743.034 2356.42 738.451 Q2353.36 733.844 2353.36 725.117 Q2353.36 716.367 2356.42 711.784 Q2359.5 707.178 2365.31 707.178 Z\" fill=\"#000000\" fill-rule=\"evenodd\" fill-opacity=\"1\" /><path clip-path=\"url(#clip830)\" d=\"M 0 0 M2268.76 574.126 L2298.43 574.126 L2298.43 578.061 L2268.76 578.061 L2268.76 574.126 Z\" fill=\"#000000\" fill-rule=\"evenodd\" fill-opacity=\"1\" /><path clip-path=\"url(#clip830)\" d=\"M 0 0 M2304.31 587.019 L2311.95 587.019 L2311.95 560.654 L2303.64 562.32 L2303.64 558.061 L2311.9 556.395 L2316.58 556.395 L2316.58 587.019 L2324.22 587.019 L2324.22 590.955 L2304.31 590.955 L2304.31 587.019 Z\" fill=\"#000000\" fill-rule=\"evenodd\" fill-opacity=\"1\" /><path clip-path=\"url(#clip830)\" d=\"M 0 0 M2339.29 559.473 Q2335.68 559.473 2333.85 563.038 Q2332.04 566.58 2332.04 573.709 Q2332.04 580.816 2333.85 584.381 Q2335.68 587.922 2339.29 587.922 Q2342.92 587.922 2344.73 584.381 Q2346.56 580.816 2346.56 573.709 Q2346.56 566.58 2344.73 563.038 Q2342.92 559.473 2339.29 559.473 M2339.29 555.77 Q2345.1 555.77 2348.15 560.376 Q2351.23 564.959 2351.23 573.709 Q2351.23 582.436 2348.15 587.043 Q2345.1 591.626 2339.29 591.626 Q2333.48 591.626 2330.4 587.043 Q2327.34 582.436 2327.34 573.709 Q2327.34 564.959 2330.4 560.376 Q2333.48 555.77 2339.29 555.77 Z\" fill=\"#000000\" fill-rule=\"evenodd\" fill-opacity=\"1\" /><path clip-path=\"url(#clip830)\" d=\"M 0 0 M2366.3 559.473 Q2362.69 559.473 2360.86 563.038 Q2359.06 566.58 2359.06 573.709 Q2359.06 580.816 2360.86 584.381 Q2362.69 587.922 2366.3 587.922 Q2369.94 587.922 2371.74 584.381 Q2373.57 580.816 2373.57 573.709 Q2373.57 566.58 2371.74 563.038 Q2369.94 559.473 2366.3 559.473 M2366.3 555.77 Q2372.11 555.77 2375.17 560.376 Q2378.25 564.959 2378.25 573.709 Q2378.25 582.436 2375.17 587.043 Q2372.11 591.626 2366.3 591.626 Q2360.49 591.626 2357.41 587.043 Q2354.36 582.436 2354.36 573.709 Q2354.36 564.959 2357.41 560.376 Q2360.49 555.77 2366.3 555.77 Z\" fill=\"#000000\" fill-rule=\"evenodd\" fill-opacity=\"1\" /><path clip-path=\"url(#clip830)\" d=\"M 0 0 M2268.76 422.718 L2298.43 422.718 L2298.43 426.653 L2268.76 426.653 L2268.76 422.718 Z\" fill=\"#000000\" fill-rule=\"evenodd\" fill-opacity=\"1\" /><path clip-path=\"url(#clip830)\" d=\"M 0 0 M2303.55 404.987 L2321.9 404.987 L2321.9 408.922 L2307.83 408.922 L2307.83 417.394 Q2308.85 417.047 2309.87 416.885 Q2310.89 416.699 2311.9 416.699 Q2317.69 416.699 2321.07 419.871 Q2324.45 423.042 2324.45 428.459 Q2324.45 434.037 2320.98 437.139 Q2317.51 440.218 2311.19 440.218 Q2309.01 440.218 2306.74 439.847 Q2304.5 439.477 2302.09 438.736 L2302.09 434.037 Q2304.17 435.172 2306.39 435.727 Q2308.62 436.283 2311.09 436.283 Q2315.1 436.283 2317.44 434.176 Q2319.77 432.07 2319.77 428.459 Q2319.77 424.848 2317.44 422.741 Q2315.1 420.635 2311.09 420.635 Q2309.22 420.635 2307.34 421.051 Q2305.49 421.468 2303.55 422.348 L2303.55 404.987 Z\" fill=\"#000000\" fill-rule=\"evenodd\" fill-opacity=\"1\" /><path clip-path=\"url(#clip830)\" d=\"M 0 0 M2339.52 408.065 Q2335.91 408.065 2334.08 411.63 Q2332.27 415.172 2332.27 422.301 Q2332.27 429.408 2334.08 432.972 Q2335.91 436.514 2339.52 436.514 Q2343.15 436.514 2344.96 432.972 Q2346.79 429.408 2346.79 422.301 Q2346.79 415.172 2344.96 411.63 Q2343.15 408.065 2339.52 408.065 M2339.52 404.362 Q2345.33 404.362 2348.39 408.968 Q2351.46 413.551 2351.46 422.301 Q2351.46 431.028 2348.39 435.635 Q2345.33 440.218 2339.52 440.218 Q2333.71 440.218 2330.63 435.635 Q2327.58 431.028 2327.58 422.301 Q2327.58 413.551 2330.63 408.968 Q2333.71 404.362 2339.52 404.362 Z\" fill=\"#000000\" fill-rule=\"evenodd\" fill-opacity=\"1\" /><path clip-path=\"url(#clip830)\" d=\"M 0 0 M2280.7 256.657 Q2277.09 256.657 2275.26 260.222 Q2273.45 263.764 2273.45 270.893 Q2273.45 278 2275.26 281.564 Q2277.09 285.106 2280.7 285.106 Q2284.33 285.106 2286.14 281.564 Q2287.97 278 2287.97 270.893 Q2287.97 263.764 2286.14 260.222 Q2284.33 256.657 2280.7 256.657 M2280.7 252.954 Q2286.51 252.954 2289.57 257.56 Q2292.64 262.143 2292.64 270.893 Q2292.64 279.62 2289.57 284.227 Q2286.51 288.81 2280.7 288.81 Q2274.89 288.81 2271.81 284.227 Q2268.76 279.62 2268.76 270.893 Q2268.76 262.143 2271.81 257.56 Q2274.89 252.954 2280.7 252.954 Z\" fill=\"#000000\" fill-rule=\"evenodd\" fill-opacity=\"1\" /><path clip-path=\"url(#clip830)\" d=\"M 0 0 M2270.21 102.171 L2288.57 102.171 L2288.57 106.106 L2274.5 106.106 L2274.5 114.578 Q2275.52 114.231 2276.53 114.069 Q2277.55 113.883 2278.57 113.883 Q2284.36 113.883 2287.74 117.055 Q2291.12 120.226 2291.12 125.643 Q2291.12 131.221 2287.64 134.323 Q2284.17 137.402 2277.85 137.402 Q2275.68 137.402 2273.41 137.031 Q2271.16 136.661 2268.76 135.92 L2268.76 131.221 Q2270.84 132.356 2273.06 132.911 Q2275.28 133.467 2277.76 133.467 Q2281.77 133.467 2284.1 131.36 Q2286.44 129.254 2286.44 125.643 Q2286.44 122.032 2284.1 119.925 Q2281.77 117.819 2277.76 117.819 Q2275.89 117.819 2274.01 118.235 Q2272.16 118.652 2270.21 119.532 L2270.21 102.171 Z\" fill=\"#000000\" fill-rule=\"evenodd\" fill-opacity=\"1\" /><path clip-path=\"url(#clip830)\" d=\"M 0 0 M2306.19 105.249 Q2302.58 105.249 2300.75 108.814 Q2298.94 112.356 2298.94 119.485 Q2298.94 126.592 2300.75 130.156 Q2302.58 133.698 2306.19 133.698 Q2309.82 133.698 2311.63 130.156 Q2313.45 126.592 2313.45 119.485 Q2313.45 112.356 2311.63 108.814 Q2309.82 105.249 2306.19 105.249 M2306.19 101.546 Q2312 101.546 2315.05 106.152 Q2318.13 110.735 2318.13 119.485 Q2318.13 128.212 2315.05 132.819 Q2312 137.402 2306.19 137.402 Q2300.38 137.402 2297.3 132.819 Q2294.24 128.212 2294.24 119.485 Q2294.24 110.735 2297.3 106.152 Q2300.38 101.546 2306.19 101.546 Z\" fill=\"#000000\" fill-rule=\"evenodd\" fill-opacity=\"1\" /><polyline clip-path=\"url(#clip830)\" style=\"stroke:#000000; stroke-width:4; stroke-opacity:1; fill:none\" points=\"\n",
       "  2232.76,1486.45 2232.76,1485.75 2256.76,1485.75 2232.76,1485.75 2232.76,1334.34 2256.76,1334.34 2232.76,1334.34 2232.76,1182.94 2256.76,1182.94 2232.76,1182.94 \n",
       "  2232.76,1031.53 2256.76,1031.53 2232.76,1031.53 2232.76,880.119 2256.76,880.119 2232.76,880.119 2232.76,728.711 2256.76,728.711 2232.76,728.711 2232.76,577.303 \n",
       "  2256.76,577.303 2232.76,577.303 2232.76,425.895 2256.76,425.895 2232.76,425.895 2232.76,274.487 2256.76,274.487 2232.76,274.487 2232.76,123.079 2256.76,123.079 \n",
       "  2232.76,123.079 2232.76,47.2441 \n",
       "  \"/>\n",
       "</svg>\n"
      ]
     },
     "execution_count": 178,
     "metadata": {},
     "output_type": "execute_result"
    }
   ],
   "source": [
    "contour(-5:0.1:5, -10:0.1:10, (x, y) -> 3x^2-4y^2 + x*y/6)   # contour plot , using function \"contour\""
   ]
  },
  {
   "cell_type": "markdown",
   "metadata": {},
   "source": [
    "# Exercises\n",
    "\n",
    "## 1\n",
    "\n",
    "Write a function named `rightjustify` that takes a string named `s` as a parameter and prints the string with enough leading spaces so that the last letter of the string is in column 70 of the display.\n",
    "\n",
    "Use string concatenation and repetition. Also, Julia provides a built-in function called `length`. Check what it does!"
   ]
  },
  {
   "cell_type": "code",
   "execution_count": 183,
   "metadata": {},
   "outputs": [
    {
     "data": {
      "text/plain": [
       "rightjustify (generic function with 1 method)"
      ]
     },
     "execution_count": 183,
     "metadata": {},
     "output_type": "execute_result"
    }
   ],
   "source": [
    "function rightjustify(s::String)\n",
    "    return (\" \"^(70 - length(s)) * s)    \n",
    "end"
   ]
  },
  {
   "cell_type": "code",
   "execution_count": 186,
   "metadata": {},
   "outputs": [
    {
     "name": "stdout",
     "output_type": "stream",
     "text": [
      "                                                       snfidfijgofvogb"
     ]
    },
    {
     "data": {
      "text/plain": [
       "70"
      ]
     },
     "execution_count": 186,
     "metadata": {},
     "output_type": "execute_result"
    }
   ],
   "source": [
    "print(rightjustify(\"snfidfijgofvogb\"))\n",
    "length(rightjustify(\"snfidfijgofvogb\"))"
   ]
  },
  {
   "cell_type": "markdown",
   "metadata": {},
   "source": [
    "## 2\n",
    "\n",
    "1. Write a function `printgrid` that draws a grid like the following:"
   ]
  },
  {
   "cell_type": "code",
   "execution_count": 188,
   "metadata": {},
   "outputs": [
    {
     "ename": "MethodError",
     "evalue": "MethodError: no method matching -(::typeof(+))\nClosest candidates are:\n  -(!Matched::Float64, !Matched::Float64) at float.jl:403\n  -(!Matched::Float64) at float.jl:393\n  -(!Matched::Bool, !Matched::Complex{Bool}) at complex.jl:288\n  ...",
     "output_type": "error",
     "traceback": [
      "MethodError: no method matching -(::typeof(+))\nClosest candidates are:\n  -(!Matched::Float64, !Matched::Float64) at float.jl:403\n  -(!Matched::Float64) at float.jl:393\n  -(!Matched::Bool, !Matched::Complex{Bool}) at complex.jl:288\n  ...",
      "",
      "Stacktrace:",
      " [1] top-level scope at In[188]:1"
     ]
    }
   ],
   "source": [
    "+ - - - - + - - - - +\n",
    "|         |         |\n",
    "|         |         |\n",
    "|         |         |\n",
    "|         |         |\n",
    "+ - - - - + - - - - +\n",
    "|         |         |\n",
    "|         |         |\n",
    "|         |         |\n",
    "|         |         |\n",
    "+ - - - - + - - - - +"
   ]
  },
  {
   "cell_type": "markdown",
   "metadata": {},
   "source": [
    "2. Write a function that draws a similar grid with four rows and four columns.\n",
    "\n",
    "Tips:\n",
    "\n",
    "To print more than one value on a line, you can print a comma-separated sequence of values:\n",
    "\n",
    "`println(\"+\", \"-\")`\n",
    "\n",
    "The function `print` does not advance to the next line."
   ]
  },
  {
   "cell_type": "code",
   "execution_count": null,
   "metadata": {},
   "outputs": [],
   "source": [
    "function printgrid()\n",
    "end"
   ]
  },
  {
   "cell_type": "markdown",
   "metadata": {},
   "source": [
    "## 3\n",
    "\n",
    "The function `time` returns the current Greenwich Mean Time in seconds since \"the epoch\", which is an arbitrary time used as a reference point. On UNIX systems, the epoch is 1 January 1970.\n",
    "Write a script that reads the current time and converts it to a time of day in hours, minutes, and seconds, plus the number of days since the epoch."
   ]
  },
  {
   "cell_type": "code",
   "execution_count": null,
   "metadata": {},
   "outputs": [],
   "source": []
  },
  {
   "cell_type": "markdown",
   "metadata": {},
   "source": [
    "## 4\n",
    "\n",
    "Fermat’s Last Theorem says that there are no positive integers $a$, $b$, and $c$ such that\n",
    "\n",
    "$a^n + b^n = c^n$\n",
    "\n",
    "for any value of $n$ greater than 2.\n",
    "\n",
    "1. Write a function named `checkfermat` that takes four parameters ($a$, $b$, $c$ and $n$) and checks to see if Fermat’s theorem holds. If $n$ is greater than 2 and $a^n + b^n == c^n$ the program should print, \"Holy smokes, Fermat was wrong!\" Otherwise the program should print, \"No, that doesn’t work.\"\n",
    "\n",
    "2. Write a function that prompts the user to input values for $a$, $b$, $c$ and $n$, converts them to integers, and uses checkfermat to check whether they violate Fermat’s theorem. Tip: check the functions `readline` and `parse`\n",
    "\n",
    "3. Can you write the code so that the functions in 4.1 and 4.2 have the same name?"
   ]
  },
  {
   "cell_type": "code",
   "execution_count": null,
   "metadata": {},
   "outputs": [],
   "source": []
  }
 ],
 "metadata": {
  "kernelspec": {
   "display_name": "Julia 1.5.1",
   "language": "julia",
   "name": "julia-1.5"
  },
  "language_info": {
   "file_extension": ".jl",
   "mimetype": "application/julia",
   "name": "julia",
   "version": "1.5.2"
  }
 },
 "nbformat": 4,
 "nbformat_minor": 4
}
