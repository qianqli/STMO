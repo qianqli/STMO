{
 "cells": [
  {
   "cell_type": "markdown",
   "metadata": {},
   "source": [
    "# Collections\n",
    "### Michiel Stock, Bram De Jaegher, Daan Van Hauwermeiren\n",
    "### 2019-2020\n",
    "# Arrays\n",
    "Let us start with `Array`s. It is very similar to lists in Python, though it can have more than one dimension. An `Array` is defined as follows,"
   ]
  },
  {
   "cell_type": "code",
   "execution_count": 1,
   "metadata": {},
   "outputs": [
    {
     "data": {
      "text/plain": [
       "Any[]"
      ]
     },
     "execution_count": 1,
     "metadata": {},
     "output_type": "execute_result"
    }
   ],
   "source": [
    "A = []            # empty array"
   ]
  },
  {
   "cell_type": "code",
   "execution_count": 2,
   "metadata": {},
   "outputs": [
    {
     "data": {
      "text/plain": [
       "4-element Array{Int64,1}:\n",
       "  1\n",
       "  3\n",
       " -5\n",
       "  7"
      ]
     },
     "execution_count": 2,
     "metadata": {},
     "output_type": "execute_result"
    }
   ],
   "source": [
    "X = [1, 3, -5, 7] # array of integers"
   ]
  },
  {
   "cell_type": "code",
   "execution_count": 3,
   "metadata": {},
   "outputs": [
    {
     "data": {
      "text/plain": [
       "3-element Array{Any,1}:\n",
       " 1\n",
       "  \"2\"\n",
       "  [1, 2, 3]"
      ]
     },
     "execution_count": 3,
     "metadata": {},
     "output_type": "execute_result"
    }
   ],
   "source": [
    "y = [1, \"2\", [1, 2, 3]]   # the element can be different"
   ]
  },
  {
   "cell_type": "markdown",
   "metadata": {},
   "source": [
    "## Indexing and slicing\n",
    "Let's start by eating the frog. Julia uses 1-based indexing..."
   ]
  },
  {
   "cell_type": "code",
   "execution_count": 4,
   "metadata": {},
   "outputs": [
    {
     "data": {
      "text/plain": [
       "6-element Array{String,1}:\n",
       " \"Arthur\"\n",
       " \"Ford\"\n",
       " \"Zaphod\"\n",
       " \"Marvin\"\n",
       " \"Trillian\"\n",
       " \"Eddie\""
      ]
     },
     "execution_count": 4,
     "metadata": {},
     "output_type": "execute_result"
    }
   ],
   "source": [
    "names = [\"Arthur\", \"Ford\", \"Zaphod\", \"Marvin\", \"Trillian\", \"Eddie\"]"
   ]
  },
  {
   "cell_type": "code",
   "execution_count": 5,
   "metadata": {},
   "outputs": [
    {
     "ename": "LoadError",
     "evalue": "BoundsError: attempt to access 6-element Array{String,1} at index [0]",
     "output_type": "error",
     "traceback": [
      "BoundsError: attempt to access 6-element Array{String,1} at index [0]",
      "",
      "Stacktrace:",
      " [1] getindex(::Array{String,1}, ::Int64) at ./array.jl:809",
      " [2] top-level scope at In[5]:1",
      " [3] include_string(::Function, ::Module, ::String, ::String) at ./loading.jl:1091"
     ]
    }
   ],
   "source": [
    "names[0]        # this does not work, sorry Python is OK, for julia from 1"
   ]
  },
  {
   "cell_type": "code",
   "execution_count": 6,
   "metadata": {},
   "outputs": [
    {
     "data": {
      "text/plain": [
       "\"Arthur\""
      ]
     },
     "execution_count": 6,
     "metadata": {},
     "output_type": "execute_result"
    }
   ],
   "source": [
    "names[1]        # hell yeah!"
   ]
  },
  {
   "cell_type": "code",
   "execution_count": 7,
   "metadata": {},
   "outputs": [
    {
     "data": {
      "text/plain": [
       "\"Eddie\""
      ]
     },
     "execution_count": 7,
     "metadata": {},
     "output_type": "execute_result"
    }
   ],
   "source": [
    "names[end]      # last element"
   ]
  },
  {
   "cell_type": "code",
   "execution_count": 8,
   "metadata": {},
   "outputs": [
    {
     "data": {
      "text/plain": [
       "\"Trillian\""
      ]
     },
     "execution_count": 8,
     "metadata": {},
     "output_type": "execute_result"
    }
   ],
   "source": [
    "names[end-1]    # second to last element"
   ]
  },
  {
   "cell_type": "markdown",
   "metadata": {},
   "source": [
    "Slicing arrays is intuitive,"
   ]
  },
  {
   "cell_type": "code",
   "execution_count": 9,
   "metadata": {},
   "outputs": [
    {
     "data": {
      "text/plain": [
       "4-element Array{String,1}:\n",
       " \"Zaphod\"\n",
       " \"Marvin\"\n",
       " \"Trillian\"\n",
       " \"Eddie\""
      ]
     },
     "execution_count": 9,
     "metadata": {},
     "output_type": "execute_result"
    }
   ],
   "source": [
    "names[3:6]    # index using slides"
   ]
  },
  {
   "cell_type": "markdown",
   "metadata": {},
   "source": [
    "and slicing with assignment too."
   ]
  },
  {
   "cell_type": "code",
   "execution_count": 10,
   "metadata": {},
   "outputs": [
    {
     "data": {
      "text/plain": [
       "2-element Array{String,1}:\n",
       " \"Slartibartfast\"\n",
       " \"The Whale and the Bowl of Petunias\""
      ]
     },
     "execution_count": 10,
     "metadata": {},
     "output_type": "execute_result"
    }
   ],
   "source": [
    "names[end-1:end] = [\"Slartibartfast\",\"The Whale and the Bowl of Petunias\"]    # assign a value, mutable"
   ]
  },
  {
   "cell_type": "code",
   "execution_count": 11,
   "metadata": {},
   "outputs": [
    {
     "data": {
      "text/plain": [
       "6-element Array{String,1}:\n",
       " \"Arthur\"\n",
       " \"Ford\"\n",
       " \"Zaphod\"\n",
       " \"Marvin\"\n",
       " \"Slartibartfast\"\n",
       " \"The Whale and the Bowl of Petunias\""
      ]
     },
     "execution_count": 11,
     "metadata": {},
     "output_type": "execute_result"
    }
   ],
   "source": [
    "names"
   ]
  },
  {
   "cell_type": "markdown",
   "metadata": {},
   "source": [
    "## Types\n",
    "Julia arrays can be of mixed type."
   ]
  },
  {
   "cell_type": "code",
   "execution_count": 12,
   "metadata": {},
   "outputs": [
    {
     "data": {
      "text/plain": [
       "3-element Array{Any,1}:\n",
       " 42\n",
       "   \"Universe\"\n",
       "   Any[]"
      ]
     },
     "execution_count": 12,
     "metadata": {},
     "output_type": "execute_result"
    }
   ],
   "source": [
    "Y = [42, \"Universe\", []]"
   ]
  },
  {
   "cell_type": "markdown",
   "metadata": {},
   "source": [
    "The type of the array changes depending on the elements that make up the array."
   ]
  },
  {
   "cell_type": "code",
   "execution_count": 13,
   "metadata": {},
   "outputs": [
    {
     "data": {
      "text/plain": [
       "Array{Any,1}"
      ]
     },
     "execution_count": 13,
     "metadata": {},
     "output_type": "execute_result"
    }
   ],
   "source": [
    "typeof(A)"
   ]
  },
  {
   "cell_type": "code",
   "execution_count": 14,
   "metadata": {},
   "outputs": [
    {
     "data": {
      "text/plain": [
       "Array{Int64,1}"
      ]
     },
     "execution_count": 14,
     "metadata": {},
     "output_type": "execute_result"
    }
   ],
   "source": [
    "typeof(X)"
   ]
  },
  {
   "cell_type": "code",
   "execution_count": 15,
   "metadata": {},
   "outputs": [
    {
     "data": {
      "text/plain": [
       "Array{Any,1}"
      ]
     },
     "execution_count": 15,
     "metadata": {},
     "output_type": "execute_result"
    }
   ],
   "source": [
    "typeof(Y)"
   ]
  },
  {
   "cell_type": "markdown",
   "metadata": {},
   "source": [
    "When the elements of the arrays are mixed, the type is promoted to the closest common ancestor. For `Y` this is `Any`.  But an array of an integer and a float becomes an..."
   ]
  },
  {
   "cell_type": "code",
   "execution_count": 16,
   "metadata": {},
   "outputs": [
    {
     "data": {
      "text/plain": [
       "Array{Float64,1}"
      ]
     },
     "execution_count": 16,
     "metadata": {},
     "output_type": "execute_result"
    }
   ],
   "source": [
    "B = [1.1, 1]   # the type of the array\n",
    "typeof(B)     # type of array"
   ]
  },
  {
   "cell_type": "code",
   "execution_count": 18,
   "metadata": {},
   "outputs": [
    {
     "data": {
      "text/plain": [
       "Float64"
      ]
     },
     "execution_count": 18,
     "metadata": {},
     "output_type": "execute_result"
    }
   ],
   "source": [
    "eltype(B)   # gives the type of the elements"
   ]
  },
  {
   "cell_type": "markdown",
   "metadata": {},
   "source": [
    "... array of floats.\n",
    "\n",
    "Julia allows the flexibility of having mixed types, though this will hinder performance, as the compiler can no longer optimize for the type. If you process an array of `Any`s, your code will be as slow as Python.\n",
    "\n",
    "To create an array of a particular type, just use `Type[]`."
   ]
  },
  {
   "cell_type": "code",
   "execution_count": 19,
   "metadata": {},
   "outputs": [
    {
     "data": {
      "text/plain": [
       "3-element Array{Float64,1}:\n",
       " 1.0\n",
       " 2.0\n",
       " 3.0"
      ]
     },
     "execution_count": 19,
     "metadata": {},
     "output_type": "execute_result"
    }
   ],
   "source": [
    "Float64[1, 2, 3]    # float too change the type of the element"
   ]
  },
  {
   "cell_type": "code",
   "execution_count": 21,
   "metadata": {},
   "outputs": [
    {
     "data": {
      "text/plain": [
       "4-element Array{Float64,1}:\n",
       "  1.0\n",
       "  2.0\n",
       "  3.0\n",
       " 97.0"
      ]
     },
     "execution_count": 21,
     "metadata": {},
     "output_type": "execute_result"
    }
   ],
   "source": [
    "Float64[1, 2, 3, 'a']     # char changed to number"
   ]
  },
  {
   "cell_type": "code",
   "execution_count": 22,
   "metadata": {},
   "outputs": [
    {
     "ename": "LoadError",
     "evalue": "MethodError: Cannot `convert` an object of type String to an object of type Float64\nClosest candidates are:\n  convert(::Type{T}, !Matched::T) where T<:Number at number.jl:6\n  convert(::Type{T}, !Matched::Number) where T<:Number at number.jl:7\n  convert(::Type{T}, !Matched::Base.TwicePrecision) where T<:Number at twiceprecision.jl:250\n  ...",
     "output_type": "error",
     "traceback": [
      "MethodError: Cannot `convert` an object of type String to an object of type Float64\nClosest candidates are:\n  convert(::Type{T}, !Matched::T) where T<:Number at number.jl:6\n  convert(::Type{T}, !Matched::Number) where T<:Number at number.jl:7\n  convert(::Type{T}, !Matched::Base.TwicePrecision) where T<:Number at twiceprecision.jl:250\n  ...",
      "",
      "Stacktrace:",
      " [1] setindex!(::Array{Float64,1}, ::String, ::Int64) at ./array.jl:847",
      " [2] getindex(::Type{Float64}, ::Int64, ::Int64, ::Int64, ::String) at ./array.jl:408",
      " [3] top-level scope at In[22]:1",
      " [4] include_string(::Function, ::Module, ::String, ::String) at ./loading.jl:1091"
     ]
    }
   ],
   "source": [
    "Float(Float64[1, 2, 3, \"A\"])    # error"
   ]
  },
  {
   "cell_type": "markdown",
   "metadata": {},
   "source": [
    "## Initialisation\n",
    "Arrays can be initialized in all the classic, very Pythonesque ways."
   ]
  },
  {
   "cell_type": "code",
   "execution_count": 23,
   "metadata": {},
   "outputs": [
    {
     "data": {
      "text/plain": [
       "5-element Array{Float64,1}:\n",
       " 0.0\n",
       " 0.0\n",
       " 0.0\n",
       " 0.0\n",
       " 0.0"
      ]
     },
     "execution_count": 23,
     "metadata": {},
     "output_type": "execute_result"
    }
   ],
   "source": [
    "C = []  # empty\n",
    "\n",
    "zeros(5)      # row vector of 5 zeroes, give the initialized of the array, one elenet is array, 1-Dim"
   ]
  },
  {
   "cell_type": "code",
   "execution_count": 24,
   "metadata": {},
   "outputs": [
    {
     "data": {
      "text/plain": [
       "3×3 Array{Float64,2}:\n",
       " 1.0  1.0  1.0\n",
       " 1.0  1.0  1.0\n",
       " 1.0  1.0  1.0"
      ]
     },
     "execution_count": 24,
     "metadata": {},
     "output_type": "execute_result"
    }
   ],
   "source": [
    "ones(3,3)     # 3X3 matrix of 1's, will be discussed later on, 2-Dim"
   ]
  },
  {
   "cell_type": "code",
   "execution_count": 26,
   "metadata": {},
   "outputs": [
    {
     "data": {
      "text/plain": [
       "3×3×3 Array{Float64,3}:\n",
       "[:, :, 1] =\n",
       " 1.0  1.0  1.0\n",
       " 1.0  1.0  1.0\n",
       " 1.0  1.0  1.0\n",
       "\n",
       "[:, :, 2] =\n",
       " 1.0  1.0  1.0\n",
       " 1.0  1.0  1.0\n",
       " 1.0  1.0  1.0\n",
       "\n",
       "[:, :, 3] =\n",
       " 1.0  1.0  1.0\n",
       " 1.0  1.0  1.0\n",
       " 1.0  1.0  1.0"
      ]
     },
     "execution_count": 26,
     "metadata": {},
     "output_type": "execute_result"
    }
   ],
   "source": [
    "ones(3, 3, 3)"
   ]
  },
  {
   "cell_type": "code",
   "execution_count": 25,
   "metadata": {},
   "outputs": [
    {
     "data": {
      "text/plain": [
       "10-element Array{Float64,1}:\n",
       " 0.5\n",
       " 0.5\n",
       " 0.5\n",
       " 0.5\n",
       " 0.5\n",
       " 0.5\n",
       " 0.5\n",
       " 0.5\n",
       " 0.5\n",
       " 0.5"
      ]
     },
     "execution_count": 25,
     "metadata": {},
     "output_type": "execute_result"
    }
   ],
   "source": [
    "fill(0.5, 10) # in case you want to fill a matrix with a specific value --- function fill "
   ]
  },
  {
   "cell_type": "code",
   "execution_count": 28,
   "metadata": {},
   "outputs": [
    {
     "data": {
      "text/plain": [
       "2×3 Array{Int64,2}:\n",
       " 1  1  1\n",
       " 1  1  1"
      ]
     },
     "execution_count": 28,
     "metadata": {},
     "output_type": "execute_result"
    }
   ],
   "source": [
    "fill(1, (2, 3))   # this is also works"
   ]
  },
  {
   "cell_type": "code",
   "execution_count": 27,
   "metadata": {},
   "outputs": [
    {
     "name": "stdout",
     "output_type": "stream",
     "text": [
      "search: \u001b[0m\u001b[1mf\u001b[22m\u001b[0m\u001b[1mi\u001b[22m\u001b[0m\u001b[1ml\u001b[22m\u001b[0m\u001b[1ml\u001b[22m \u001b[0m\u001b[1mf\u001b[22m\u001b[0m\u001b[1mi\u001b[22m\u001b[0m\u001b[1ml\u001b[22m\u001b[0m\u001b[1ml\u001b[22m! \u001b[0m\u001b[1mf\u001b[22m\u001b[0m\u001b[1mi\u001b[22mna\u001b[0m\u001b[1ml\u001b[22m\u001b[0m\u001b[1ml\u001b[22my \u001b[0m\u001b[1mf\u001b[22m\u001b[0m\u001b[1mi\u001b[22mnda\u001b[0m\u001b[1ml\u001b[22m\u001b[0m\u001b[1ml\u001b[22m \u001b[0m\u001b[1mf\u001b[22m\u001b[0m\u001b[1mi\u001b[22m\u001b[0m\u001b[1ml\u001b[22mter \u001b[0m\u001b[1mf\u001b[22m\u001b[0m\u001b[1mi\u001b[22m\u001b[0m\u001b[1ml\u001b[22mter! \u001b[0m\u001b[1mf\u001b[22m\u001b[0m\u001b[1mi\u001b[22m\u001b[0m\u001b[1ml\u001b[22mesize \u001b[0m\u001b[1mf\u001b[22m\u001b[0m\u001b[1mi\u001b[22m\u001b[0m\u001b[1ml\u001b[22memode is\u001b[0m\u001b[1mf\u001b[22m\u001b[0m\u001b[1mi\u001b[22m\u001b[0m\u001b[1ml\u001b[22me\n",
      "\n"
     ]
    },
    {
     "data": {
      "text/latex": [
       "\\begin{verbatim}\n",
       "fill(x, dims::Tuple)\n",
       "fill(x, dims...)\n",
       "\\end{verbatim}\n",
       "Create an array filled with the value \\texttt{x}. For example, \\texttt{fill(1.0, (5,5))} returns a 5×5 array of floats, with each element initialized to \\texttt{1.0}.\n",
       "\n",
       "\\texttt{dims} may be specified as either a tuple or a sequence of arguments. For example, the common idiom \\texttt{fill(x)} creates a zero-dimensional array containing the single value \\texttt{x}.\n",
       "\n",
       "\\section{Examples}\n",
       "\\begin{verbatim}\n",
       "julia> fill(1.0, (2,3))\n",
       "2×3 Array{Float64,2}:\n",
       " 1.0  1.0  1.0\n",
       " 1.0  1.0  1.0\n",
       "\n",
       "julia> fill(42)\n",
       "0-dimensional Array{Int64,0}:\n",
       "42\n",
       "\\end{verbatim}\n",
       "If \\texttt{x} is an object reference, all elements will refer to the same object:\n",
       "\n",
       "\\begin{verbatim}\n",
       "julia> A = fill(zeros(2), 2);\n",
       "\n",
       "julia> A[1][1] = 42; # modifies both A[1][1] and A[2][1]\n",
       "\n",
       "julia> A\n",
       "2-element Array{Array{Float64,1},1}:\n",
       " [42.0, 0.0]\n",
       " [42.0, 0.0]\n",
       "\\end{verbatim}\n"
      ],
      "text/markdown": [
       "```\n",
       "fill(x, dims::Tuple)\n",
       "fill(x, dims...)\n",
       "```\n",
       "\n",
       "Create an array filled with the value `x`. For example, `fill(1.0, (5,5))` returns a 5×5 array of floats, with each element initialized to `1.0`.\n",
       "\n",
       "`dims` may be specified as either a tuple or a sequence of arguments. For example, the common idiom `fill(x)` creates a zero-dimensional array containing the single value `x`.\n",
       "\n",
       "# Examples\n",
       "\n",
       "```jldoctest\n",
       "julia> fill(1.0, (2,3))\n",
       "2×3 Array{Float64,2}:\n",
       " 1.0  1.0  1.0\n",
       " 1.0  1.0  1.0\n",
       "\n",
       "julia> fill(42)\n",
       "0-dimensional Array{Int64,0}:\n",
       "42\n",
       "```\n",
       "\n",
       "If `x` is an object reference, all elements will refer to the same object:\n",
       "\n",
       "```jldoctest\n",
       "julia> A = fill(zeros(2), 2);\n",
       "\n",
       "julia> A[1][1] = 42; # modifies both A[1][1] and A[2][1]\n",
       "\n",
       "julia> A\n",
       "2-element Array{Array{Float64,1},1}:\n",
       " [42.0, 0.0]\n",
       " [42.0, 0.0]\n",
       "```\n"
      ],
      "text/plain": [
       "\u001b[36m  fill(x, dims::Tuple)\u001b[39m\n",
       "\u001b[36m  fill(x, dims...)\u001b[39m\n",
       "\n",
       "  Create an array filled with the value \u001b[36mx\u001b[39m. For example, \u001b[36mfill(1.0, (5,5))\u001b[39m\n",
       "  returns a 5×5 array of floats, with each element initialized to \u001b[36m1.0\u001b[39m.\n",
       "\n",
       "  \u001b[36mdims\u001b[39m may be specified as either a tuple or a sequence of arguments. For\n",
       "  example, the common idiom \u001b[36mfill(x)\u001b[39m creates a zero-dimensional array\n",
       "  containing the single value \u001b[36mx\u001b[39m.\n",
       "\n",
       "\u001b[1m  Examples\u001b[22m\n",
       "\u001b[1m  ≡≡≡≡≡≡≡≡≡≡\u001b[22m\n",
       "\n",
       "\u001b[36m  julia> fill(1.0, (2,3))\u001b[39m\n",
       "\u001b[36m  2×3 Array{Float64,2}:\u001b[39m\n",
       "\u001b[36m   1.0  1.0  1.0\u001b[39m\n",
       "\u001b[36m   1.0  1.0  1.0\u001b[39m\n",
       "\u001b[36m  \u001b[39m\n",
       "\u001b[36m  julia> fill(42)\u001b[39m\n",
       "\u001b[36m  0-dimensional Array{Int64,0}:\u001b[39m\n",
       "\u001b[36m  42\u001b[39m\n",
       "\n",
       "  If \u001b[36mx\u001b[39m is an object reference, all elements will refer to the same object:\n",
       "\n",
       "\u001b[36m  julia> A = fill(zeros(2), 2);\u001b[39m\n",
       "\u001b[36m  \u001b[39m\n",
       "\u001b[36m  julia> A[1][1] = 42; # modifies both A[1][1] and A[2][1]\u001b[39m\n",
       "\u001b[36m  \u001b[39m\n",
       "\u001b[36m  julia> A\u001b[39m\n",
       "\u001b[36m  2-element Array{Array{Float64,1},1}:\u001b[39m\n",
       "\u001b[36m   [42.0, 0.0]\u001b[39m\n",
       "\u001b[36m   [42.0, 0.0]\u001b[39m"
      ]
     },
     "execution_count": 27,
     "metadata": {},
     "output_type": "execute_result"
    }
   ],
   "source": [
    "?fill"
   ]
  },
  {
   "cell_type": "code",
   "execution_count": 29,
   "metadata": {},
   "outputs": [
    {
     "data": {
      "text/plain": [
       "2-element Array{Float64,1}:\n",
       " 0.863172660589494\n",
       " 0.6062212129590732"
      ]
     },
     "execution_count": 29,
     "metadata": {},
     "output_type": "execute_result"
    }
   ],
   "source": [
    "rand(2)    # row vector of 2 random floats [0,1], "
   ]
  },
  {
   "cell_type": "code",
   "execution_count": 30,
   "metadata": {},
   "outputs": [
    {
     "data": {
      "text/plain": [
       "2-element Array{Float64,1}:\n",
       "  0.9914085257256149\n",
       " -0.2008523719193169"
      ]
     },
     "execution_count": 30,
     "metadata": {},
     "output_type": "execute_result"
    }
   ],
   "source": [
    "randn(2)   # same but normally-distributed random numbers"
   ]
  },
  {
   "cell_type": "markdown",
   "metadata": {},
   "source": [
    "Sometimes it is better to provide a specific type for initialization. `Float64` is often the default."
   ]
  },
  {
   "cell_type": "code",
   "execution_count": 31,
   "metadata": {},
   "outputs": [
    {
     "data": {
      "text/plain": [
       "5-element Array{Int8,1}:\n",
       " 0\n",
       " 0\n",
       " 0\n",
       " 0\n",
       " 0"
      ]
     },
     "execution_count": 31,
     "metadata": {},
     "output_type": "execute_result"
    }
   ],
   "source": [
    "zeros(Int8, 5)"
   ]
  },
  {
   "cell_type": "markdown",
   "metadata": {},
   "source": [
    "## Comprehensions and list-like operations\n",
    "\n",
    "Comprehensions are a concise and powerful way to construct arrays and are very loved by the Python community."
   ]
  },
  {
   "cell_type": "code",
   "execution_count": 33,
   "metadata": {},
   "outputs": [
    {
     "data": {
      "text/plain": [
       "13-element Array{Int64,1}:\n",
       "  0\n",
       "  0\n",
       "  0\n",
       "  0\n",
       "  1\n",
       " -1\n",
       " -2\n",
       " -1\n",
       "  1\n",
       "  0\n",
       "  0\n",
       "  0\n",
       "  0"
      ]
     },
     "execution_count": 33,
     "metadata": {},
     "output_type": "execute_result"
    }
   ],
   "source": [
    "Y = [1, 2, 3, 4, 5, 6, 8, 9, 8, 6, 5, 4, 3, 2, 1]\n",
    "t = 0.1\n",
    "dY = [Y[i-1] - 2*Y[i] + Y[i+1] for i=2:length(Y)-1]         # central difference"
   ]
  },
  {
   "cell_type": "markdown",
   "metadata": {},
   "source": [
    "General $N$-dimensional arrays can be constructed using the following syntax:\n",
    "\n",
    "```\n",
    "[ F(x,y,...) for x=rx, y=ry, ... ]\n",
    "```\n",
    "\n",
    "Note that this is similar to using set notation. For example:"
   ]
  },
  {
   "cell_type": "code",
   "execution_count": 34,
   "metadata": {},
   "outputs": [
    {
     "data": {
      "text/plain": [
       "4×5 Array{Int64,2}:\n",
       " 1  2   3   4   5\n",
       " 2  4   6   8  10\n",
       " 3  6   9  12  15\n",
       " 4  8  12  16  20"
      ]
     },
     "execution_count": 34,
     "metadata": {},
     "output_type": "execute_result"
    }
   ],
   "source": [
    "[i * j for i in 1:4, j in 1:5]   # notice the usage here-- comprehension "
   ]
  },
  {
   "cell_type": "markdown",
   "metadata": {},
   "source": [
    "## Pushing, appending and popping\n",
    "\n",
    "Arrays behave like a stack. Elements can be added to the back of the array,"
   ]
  },
  {
   "cell_type": "code",
   "execution_count": 35,
   "metadata": {},
   "outputs": [
    {
     "data": {
      "text/plain": [
       "7-element Array{String,1}:\n",
       " \"Arthur\"\n",
       " \"Ford\"\n",
       " \"Zaphod\"\n",
       " \"Marvin\"\n",
       " \"Slartibartfast\"\n",
       " \"The Whale and the Bowl of Petunias\"\n",
       " \"Eddie\""
      ]
     },
     "execution_count": 35,
     "metadata": {},
     "output_type": "execute_result"
    }
   ],
   "source": [
    "push!(names, \"Eddie\") # add a single element, liist first, only one element"
   ]
  },
  {
   "cell_type": "code",
   "execution_count": 36,
   "metadata": {},
   "outputs": [
    {
     "data": {
      "text/plain": [
       "9-element Array{String,1}:\n",
       " \"Arthur\"\n",
       " \"Ford\"\n",
       " \"Zaphod\"\n",
       " \"Marvin\"\n",
       " \"Slartibartfast\"\n",
       " \"The Whale and the Bowl of Petunias\"\n",
       " \"Eddie\"\n",
       " \"Sam\"\n",
       " \"Gerard\""
      ]
     },
     "execution_count": 36,
     "metadata": {},
     "output_type": "execute_result"
    }
   ],
   "source": [
    "append!(names, [\"Sam\", \"Gerard\"]) # add an array , can be a list also one element"
   ]
  },
  {
   "cell_type": "markdown",
   "metadata": {},
   "source": [
    "\"Eddie\" was appended as the final element of the Array along with \"Sam\" and \"Gerard\". Remember, a \"!\" is used to indicate an in-place function. `pop()` is used to return and remove the final element of an array"
   ]
  },
  {
   "cell_type": "code",
   "execution_count": 37,
   "metadata": {},
   "outputs": [
    {
     "data": {
      "text/plain": [
       "\"Gerard\""
      ]
     },
     "execution_count": 37,
     "metadata": {},
     "output_type": "execute_result"
    }
   ],
   "source": [
    "pop!(names)    # pop the last elements"
   ]
  },
  {
   "cell_type": "code",
   "execution_count": 43,
   "metadata": {},
   "outputs": [
    {
     "name": "stdout",
     "output_type": "stream",
     "text": [
      "search: \u001b[0m\u001b[1mp\u001b[22m\u001b[0m\u001b[1mo\u001b[22m\u001b[0m\u001b[1mp\u001b[22m\u001b[0m\u001b[1m!\u001b[22m \u001b[0m\u001b[1mp\u001b[22m\u001b[0m\u001b[1mo\u001b[22m\u001b[0m\u001b[1mp\u001b[22mat\u001b[0m\u001b[1m!\u001b[22m \u001b[0m\u001b[1mp\u001b[22m\u001b[0m\u001b[1mo\u001b[22m\u001b[0m\u001b[1mp\u001b[22mfirst\u001b[0m\u001b[1m!\u001b[22m set\u001b[0m\u001b[1mp\u001b[22mr\u001b[0m\u001b[1mo\u001b[22m\u001b[0m\u001b[1mp\u001b[22merty\u001b[0m\u001b[1m!\u001b[22m \u001b[0m\u001b[1mp\u001b[22martials\u001b[0m\u001b[1mo\u001b[22mrt\u001b[0m\u001b[1mp\u001b[22merm\u001b[0m\u001b[1m!\u001b[22m \u001b[0m\u001b[1mp\u001b[22m\u001b[0m\u001b[1mo\u001b[22m\u001b[0m\u001b[1mp\u001b[22mdisplay\n",
      "\n"
     ]
    },
    {
     "data": {
      "text/latex": [
       "\\begin{verbatim}\n",
       "pop!(collection) -> item\n",
       "\\end{verbatim}\n",
       "Remove an item in \\texttt{collection} and return it. If \\texttt{collection} is an ordered container, the last item is returned.\n",
       "\n",
       "\\section{Examples}\n",
       "\\begin{verbatim}\n",
       "julia> A=[1, 2, 3]\n",
       "3-element Array{Int64,1}:\n",
       " 1\n",
       " 2\n",
       " 3\n",
       "\n",
       "julia> pop!(A)\n",
       "3\n",
       "\n",
       "julia> A\n",
       "2-element Array{Int64,1}:\n",
       " 1\n",
       " 2\n",
       "\n",
       "julia> S = Set([1, 2])\n",
       "Set{Int64} with 2 elements:\n",
       "  2\n",
       "  1\n",
       "\n",
       "julia> pop!(S)\n",
       "2\n",
       "\n",
       "julia> S\n",
       "Set{Int64} with 1 element:\n",
       "  1\n",
       "\n",
       "julia> pop!(Dict(1=>2))\n",
       "1 => 2\n",
       "\\end{verbatim}\n",
       "\\rule{\\textwidth}{1pt}\n",
       "\\begin{verbatim}\n",
       "pop!(collection, key[, default])\n",
       "\\end{verbatim}\n",
       "Delete and return the mapping for \\texttt{key} if it exists in \\texttt{collection}, otherwise return \\texttt{default}, or throw an error if \\texttt{default} is not specified.\n",
       "\n",
       "\\section{Examples}\n",
       "\\begin{verbatim}\n",
       "julia> d = Dict(\"a\"=>1, \"b\"=>2, \"c\"=>3);\n",
       "\n",
       "julia> pop!(d, \"a\")\n",
       "1\n",
       "\n",
       "julia> pop!(d, \"d\")\n",
       "ERROR: KeyError: key \"d\" not found\n",
       "Stacktrace:\n",
       "[...]\n",
       "\n",
       "julia> pop!(d, \"e\", 4)\n",
       "4\n",
       "\\end{verbatim}\n"
      ],
      "text/markdown": [
       "```\n",
       "pop!(collection) -> item\n",
       "```\n",
       "\n",
       "Remove an item in `collection` and return it. If `collection` is an ordered container, the last item is returned.\n",
       "\n",
       "# Examples\n",
       "\n",
       "```jldoctest\n",
       "julia> A=[1, 2, 3]\n",
       "3-element Array{Int64,1}:\n",
       " 1\n",
       " 2\n",
       " 3\n",
       "\n",
       "julia> pop!(A)\n",
       "3\n",
       "\n",
       "julia> A\n",
       "2-element Array{Int64,1}:\n",
       " 1\n",
       " 2\n",
       "\n",
       "julia> S = Set([1, 2])\n",
       "Set{Int64} with 2 elements:\n",
       "  2\n",
       "  1\n",
       "\n",
       "julia> pop!(S)\n",
       "2\n",
       "\n",
       "julia> S\n",
       "Set{Int64} with 1 element:\n",
       "  1\n",
       "\n",
       "julia> pop!(Dict(1=>2))\n",
       "1 => 2\n",
       "```\n",
       "\n",
       "---\n",
       "\n",
       "```\n",
       "pop!(collection, key[, default])\n",
       "```\n",
       "\n",
       "Delete and return the mapping for `key` if it exists in `collection`, otherwise return `default`, or throw an error if `default` is not specified.\n",
       "\n",
       "# Examples\n",
       "\n",
       "```jldoctest\n",
       "julia> d = Dict(\"a\"=>1, \"b\"=>2, \"c\"=>3);\n",
       "\n",
       "julia> pop!(d, \"a\")\n",
       "1\n",
       "\n",
       "julia> pop!(d, \"d\")\n",
       "ERROR: KeyError: key \"d\" not found\n",
       "Stacktrace:\n",
       "[...]\n",
       "\n",
       "julia> pop!(d, \"e\", 4)\n",
       "4\n",
       "```\n"
      ],
      "text/plain": [
       "\u001b[36m  pop!(collection) -> item\u001b[39m\n",
       "\n",
       "  Remove an item in \u001b[36mcollection\u001b[39m and return it. If \u001b[36mcollection\u001b[39m is an ordered\n",
       "  container, the last item is returned.\n",
       "\n",
       "\u001b[1m  Examples\u001b[22m\n",
       "\u001b[1m  ≡≡≡≡≡≡≡≡≡≡\u001b[22m\n",
       "\n",
       "\u001b[36m  julia> A=[1, 2, 3]\u001b[39m\n",
       "\u001b[36m  3-element Array{Int64,1}:\u001b[39m\n",
       "\u001b[36m   1\u001b[39m\n",
       "\u001b[36m   2\u001b[39m\n",
       "\u001b[36m   3\u001b[39m\n",
       "\u001b[36m  \u001b[39m\n",
       "\u001b[36m  julia> pop!(A)\u001b[39m\n",
       "\u001b[36m  3\u001b[39m\n",
       "\u001b[36m  \u001b[39m\n",
       "\u001b[36m  julia> A\u001b[39m\n",
       "\u001b[36m  2-element Array{Int64,1}:\u001b[39m\n",
       "\u001b[36m   1\u001b[39m\n",
       "\u001b[36m   2\u001b[39m\n",
       "\u001b[36m  \u001b[39m\n",
       "\u001b[36m  julia> S = Set([1, 2])\u001b[39m\n",
       "\u001b[36m  Set{Int64} with 2 elements:\u001b[39m\n",
       "\u001b[36m    2\u001b[39m\n",
       "\u001b[36m    1\u001b[39m\n",
       "\u001b[36m  \u001b[39m\n",
       "\u001b[36m  julia> pop!(S)\u001b[39m\n",
       "\u001b[36m  2\u001b[39m\n",
       "\u001b[36m  \u001b[39m\n",
       "\u001b[36m  julia> S\u001b[39m\n",
       "\u001b[36m  Set{Int64} with 1 element:\u001b[39m\n",
       "\u001b[36m    1\u001b[39m\n",
       "\u001b[36m  \u001b[39m\n",
       "\u001b[36m  julia> pop!(Dict(1=>2))\u001b[39m\n",
       "\u001b[36m  1 => 2\u001b[39m\n",
       "\n",
       "  ────────────────────────────────────────────────────────────────────────────\n",
       "\n",
       "\u001b[36m  pop!(collection, key[, default])\u001b[39m\n",
       "\n",
       "  Delete and return the mapping for \u001b[36mkey\u001b[39m if it exists in \u001b[36mcollection\u001b[39m, otherwise\n",
       "  return \u001b[36mdefault\u001b[39m, or throw an error if \u001b[36mdefault\u001b[39m is not specified.\n",
       "\n",
       "\u001b[1m  Examples\u001b[22m\n",
       "\u001b[1m  ≡≡≡≡≡≡≡≡≡≡\u001b[22m\n",
       "\n",
       "\u001b[36m  julia> d = Dict(\"a\"=>1, \"b\"=>2, \"c\"=>3);\u001b[39m\n",
       "\u001b[36m  \u001b[39m\n",
       "\u001b[36m  julia> pop!(d, \"a\")\u001b[39m\n",
       "\u001b[36m  1\u001b[39m\n",
       "\u001b[36m  \u001b[39m\n",
       "\u001b[36m  julia> pop!(d, \"d\")\u001b[39m\n",
       "\u001b[36m  ERROR: KeyError: key \"d\" not found\u001b[39m\n",
       "\u001b[36m  Stacktrace:\u001b[39m\n",
       "\u001b[36m  [...]\u001b[39m\n",
       "\u001b[36m  \u001b[39m\n",
       "\u001b[36m  julia> pop!(d, \"e\", 4)\u001b[39m\n",
       "\u001b[36m  4\u001b[39m"
      ]
     },
     "execution_count": 43,
     "metadata": {},
     "output_type": "execute_result"
    }
   ],
   "source": [
    "? pop!"
   ]
  },
  {
   "cell_type": "markdown",
   "metadata": {},
   "source": [
    "# Matrices\n",
    "\n",
    "Let's add a dimension and go to 2D Arrays, matrices. It is all quite straightforward,"
   ]
  },
  {
   "cell_type": "code",
   "execution_count": 44,
   "metadata": {},
   "outputs": [
    {
     "data": {
      "text/plain": [
       "4×3 Array{Int64,2}:\n",
       "  0   1   1\n",
       "  2   3   5\n",
       "  8  13  21\n",
       " 34  55  89"
      ]
     },
     "execution_count": 44,
     "metadata": {},
     "output_type": "execute_result"
    }
   ],
   "source": [
    "Z = [0 1 1; 2 3 5; 8 13 21; 34 55 89]     # the element in one row has no , or sth"
   ]
  },
  {
   "cell_type": "code",
   "execution_count": 46,
   "metadata": {},
   "outputs": [
    {
     "data": {
      "text/plain": [
       "13"
      ]
     },
     "execution_count": 46,
     "metadata": {},
     "output_type": "execute_result"
    }
   ],
   "source": [
    "Z[3,2]  # indexing, row, col"
   ]
  },
  {
   "cell_type": "code",
   "execution_count": 47,
   "metadata": {},
   "outputs": [
    {
     "data": {
      "text/plain": [
       "3-element Array{Int64,1}:\n",
       " 0\n",
       " 1\n",
       " 1"
      ]
     },
     "execution_count": 47,
     "metadata": {},
     "output_type": "execute_result"
    }
   ],
   "source": [
    "Z[1,:]  # slicing"
   ]
  },
  {
   "cell_type": "markdown",
   "metadata": {},
   "source": [
    "It is important to know that arrays and other collections are copied by reference."
   ]
  },
  {
   "cell_type": "code",
   "execution_count": 48,
   "metadata": {},
   "outputs": [
    {
     "data": {
      "text/plain": [
       "4×3 Array{Int64,2}:\n",
       "  0   1   1\n",
       "  2   3   5\n",
       "  8  13  21\n",
       " 34  55  89"
      ]
     },
     "execution_count": 48,
     "metadata": {},
     "output_type": "execute_result"
    }
   ],
   "source": [
    "R = Z"
   ]
  },
  {
   "cell_type": "code",
   "execution_count": 49,
   "metadata": {},
   "outputs": [
    {
     "data": {
      "text/plain": [
       "4×3 Array{Int64,2}:\n",
       "  0   1   1\n",
       "  2   3   5\n",
       "  8  13  21\n",
       " 34  55  89"
      ]
     },
     "execution_count": 49,
     "metadata": {},
     "output_type": "execute_result"
    }
   ],
   "source": [
    "Z"
   ]
  },
  {
   "cell_type": "code",
   "execution_count": 50,
   "metadata": {},
   "outputs": [
    {
     "data": {
      "text/plain": [
       "4×3 Array{Int64,2}:\n",
       "  0   1   1\n",
       "  2   3   5\n",
       "  8  13  21\n",
       " 34  55  89"
      ]
     },
     "execution_count": 50,
     "metadata": {},
     "output_type": "execute_result"
    }
   ],
   "source": [
    "R"
   ]
  },
  {
   "cell_type": "code",
   "execution_count": 51,
   "metadata": {},
   "outputs": [
    {
     "data": {
      "text/plain": [
       "42"
      ]
     },
     "execution_count": 51,
     "metadata": {},
     "output_type": "execute_result"
    }
   ],
   "source": [
    "R[1,1] = 42    # matrix are mutable"
   ]
  },
  {
   "cell_type": "code",
   "execution_count": 52,
   "metadata": {},
   "outputs": [
    {
     "data": {
      "text/plain": [
       "4×3 Array{Int64,2}:\n",
       " 42   1   1\n",
       "  2   3   5\n",
       "  8  13  21\n",
       " 34  55  89"
      ]
     },
     "execution_count": 52,
     "metadata": {},
     "output_type": "execute_result"
    }
   ],
   "source": [
    "Z"
   ]
  },
  {
   "cell_type": "markdown",
   "metadata": {},
   "source": [
    "`deepcopy()` can be used to make a wholly dereferenced object.\n",
    "\n",
    "## Concatenation -- matrix\n",
    "Arrays can be constructed and also concatenated using the following functions,"
   ]
  },
  {
   "cell_type": "code",
   "execution_count": 54,
   "metadata": {},
   "outputs": [
    {
     "data": {
      "text/plain": [
       "4×3 Array{Float64,2}:\n",
       " 0.317012  0.306939  0.147653\n",
       " 0.458407  0.423985  0.146204\n",
       " 0.642066  0.859671  0.295426\n",
       " 0.379009  0.561802  0.0644774"
      ]
     },
     "execution_count": 54,
     "metadata": {},
     "output_type": "execute_result"
    }
   ],
   "source": [
    "Z = [0 1 1; 2 3 5; 8 13 21; 34 55 89]\n",
    "Y = rand(4,3)"
   ]
  },
  {
   "cell_type": "code",
   "execution_count": 55,
   "metadata": {},
   "outputs": [
    {
     "data": {
      "text/plain": [
       "4×6 Array{Float64,2}:\n",
       "  0.0   1.0   1.0  0.317012  0.306939  0.147653\n",
       "  2.0   3.0   5.0  0.458407  0.423985  0.146204\n",
       "  8.0  13.0  21.0  0.642066  0.859671  0.295426\n",
       " 34.0  55.0  89.0  0.379009  0.561802  0.0644774"
      ]
     },
     "execution_count": 55,
     "metadata": {},
     "output_type": "execute_result"
    }
   ],
   "source": [
    "cat(Z, Y, dims=2)                # concatenation along a specified dimension"
   ]
  },
  {
   "cell_type": "code",
   "execution_count": 56,
   "metadata": {},
   "outputs": [
    {
     "data": {
      "text/plain": [
       "true"
      ]
     },
     "execution_count": 56,
     "metadata": {},
     "output_type": "execute_result"
    }
   ],
   "source": [
    "cat(Z, Y, dims=1) == vcat(Z,Y) == [Z;Y]   # vertical concatenation"
   ]
  },
  {
   "cell_type": "code",
   "execution_count": 57,
   "metadata": {},
   "outputs": [
    {
     "data": {
      "text/plain": [
       "true"
      ]
     },
     "execution_count": 57,
     "metadata": {},
     "output_type": "execute_result"
    }
   ],
   "source": [
    "cat(Z,Y,dims=2) == hcat(Z,Y) == [Z Y]   # horizontal concatenation"
   ]
  },
  {
   "cell_type": "markdown",
   "metadata": {},
   "source": [
    "Note that `;` is an operator to use `vcat`, e.g."
   ]
  },
  {
   "cell_type": "code",
   "execution_count": 58,
   "metadata": {},
   "outputs": [
    {
     "data": {
      "text/plain": [
       "3×3 Array{Float64,2}:\n",
       " 0.0  0.0  1.0\n",
       " 0.0  0.0  1.0\n",
       " 1.0  1.0  1.0"
      ]
     },
     "execution_count": 58,
     "metadata": {},
     "output_type": "execute_result"
    }
   ],
   "source": [
    "[zeros(2, 2) ones(2, 1); ones(1, 3)]   # be familiar with the application"
   ]
  },
  {
   "cell_type": "markdown",
   "metadata": {},
   "source": [
    "This simplified syntax can lead to strange behaviour. Explain the following difference."
   ]
  },
  {
   "cell_type": "code",
   "execution_count": 59,
   "metadata": {},
   "outputs": [
    {
     "data": {
      "text/plain": [
       "1×2 Array{Int64,2}:\n",
       " 1  -1"
      ]
     },
     "execution_count": 59,
     "metadata": {},
     "output_type": "execute_result"
    }
   ],
   "source": [
    "[1  2-3]"
   ]
  },
  {
   "cell_type": "code",
   "execution_count": 60,
   "metadata": {},
   "outputs": [
    {
     "data": {
      "text/plain": [
       "1×3 Array{Int64,2}:\n",
       " 1  2  -3"
      ]
     },
     "execution_count": 60,
     "metadata": {},
     "output_type": "execute_result"
    }
   ],
   "source": [
    "[1 2 -3]"
   ]
  },
  {
   "cell_type": "markdown",
   "metadata": {},
   "source": [
    "Sometimes, `vcat` and `hcat` are better used to make the code unambiguous.\n",
    "\n",
    "## Vector operations\n",
    "\n",
    "By default, the `*` operator is used for matrix-matrix multiplication"
   ]
  },
  {
   "cell_type": "code",
   "execution_count": 61,
   "metadata": {},
   "outputs": [
    {
     "data": {
      "text/plain": [
       "2×2 Array{Int64,2}:\n",
       " 43  27\n",
       " 48  36"
      ]
     },
     "execution_count": 61,
     "metadata": {},
     "output_type": "execute_result"
    }
   ],
   "source": [
    "A = [2 4 3; 3 1 5]  # * for matrix multiplication\n",
    "B = [ 3 10; 4 1 ;7 1]\n",
    "\n",
    "A * B"
   ]
  },
  {
   "cell_type": "markdown",
   "metadata": {},
   "source": [
    "This is the Julia way since functions act on the objects, and element-wise operatios are done with \"dot\" operations. For every function or binary operation like `^` there is a \"dot\" operation `.^` to perform element-by-element exponentiation on arrays."
   ]
  },
  {
   "cell_type": "code",
   "execution_count": 62,
   "metadata": {},
   "outputs": [
    {
     "data": {
      "text/plain": [
       "2×3 Array{Int64,2}:\n",
       " 100  100  100\n",
       " 400  400  400"
      ]
     },
     "execution_count": 62,
     "metadata": {},
     "output_type": "execute_result"
    }
   ],
   "source": [
    "Y = [10 10 10; 20 20 20]\n",
    "Y.^2"
   ]
  },
  {
   "cell_type": "markdown",
   "metadata": {},
   "source": [
    "Under the hood, Julia is looping over the elements of `Y`. So a sequence of dot-operations is fused into a single loop."
   ]
  },
  {
   "cell_type": "code",
   "execution_count": 63,
   "metadata": {},
   "outputs": [
    {
     "data": {
      "text/plain": [
       "2×3 Array{Float64,2}:\n",
       "  99.1609   99.1609   99.1609\n",
       " 400.408   400.408   400.408"
      ]
     },
     "execution_count": 63,
     "metadata": {},
     "output_type": "execute_result"
    }
   ],
   "source": [
    "Y.^2 .+ cos.(Y)"
   ]
  },
  {
   "cell_type": "markdown",
   "metadata": {},
   "source": [
    "Did you notice that dot-operations are also applicable to functions, even user-defined functions? As programmers, we are by lazy by definition and all these dots are a lot of work. The `@.` macro does this for us."
   ]
  },
  {
   "cell_type": "code",
   "execution_count": 64,
   "metadata": {},
   "outputs": [
    {
     "data": {
      "text/plain": [
       "true"
      ]
     },
     "execution_count": 64,
     "metadata": {},
     "output_type": "execute_result"
    }
   ],
   "source": [
    "Y.^2 .+ cos.(Y) == @. Y^2 + cos(Y)   # if both the operator has ̇ operator ---- "
   ]
  },
  {
   "cell_type": "markdown",
   "metadata": {},
   "source": [
    "### notice @\\dot operator"
   ]
  },
  {
   "cell_type": "markdown",
   "metadata": {},
   "source": [
    "# Higher dimensional arrays\n",
    "\n",
    "Matrices can be generalized to multiple dimensions."
   ]
  },
  {
   "cell_type": "code",
   "execution_count": 65,
   "metadata": {},
   "outputs": [
    {
     "data": {
      "text/plain": [
       "3×3×3 Array{Float64,3}:\n",
       "[:, :, 1] =\n",
       " 0.773593  0.616138  0.586154\n",
       " 0.941792  0.504142  0.611366\n",
       " 0.387747  0.809517  0.284013\n",
       "\n",
       "[:, :, 2] =\n",
       " 0.814807  0.243749  0.874876\n",
       " 0.632562  0.312171  0.592685\n",
       " 0.677111  0.429598  0.377468\n",
       "\n",
       "[:, :, 3] =\n",
       " 0.299212  0.0436128  0.0366284\n",
       " 0.879391  0.5611     0.405849\n",
       " 0.374575  0.607182   0.664727"
      ]
     },
     "execution_count": 65,
     "metadata": {},
     "output_type": "execute_result"
    }
   ],
   "source": [
    "X = rand(3, 3, 3)"
   ]
  },
  {
   "cell_type": "markdown",
   "metadata": {},
   "source": [
    "# Ranges\n",
    "\n",
    "The colon operator `:` can be used to construct unit ranges, e.g., from 1 to 20:"
   ]
  },
  {
   "cell_type": "code",
   "execution_count": 66,
   "metadata": {},
   "outputs": [
    {
     "data": {
      "text/plain": [
       "1:20"
      ]
     },
     "execution_count": 66,
     "metadata": {},
     "output_type": "execute_result"
    }
   ],
   "source": [
    "ur = 1:20"
   ]
  },
  {
   "cell_type": "markdown",
   "metadata": {},
   "source": [
    "Or by increasing in steps:"
   ]
  },
  {
   "cell_type": "code",
   "execution_count": 68,
   "metadata": {},
   "outputs": [
    {
     "data": {
      "text/plain": [
       "1:3:19"
      ]
     },
     "execution_count": 68,
     "metadata": {},
     "output_type": "execute_result"
    }
   ],
   "source": [
    "str = 1:3:20   # 3 is the steps"
   ]
  },
  {
   "cell_type": "markdown",
   "metadata": {},
   "source": [
    "Similar to the `range` function in Python, the object that is created is not an array, but an iterator. This is actually the term used in Python. Julia has many different types and structs, which behave a particular way. Types of `UnitRange` only store the beginning and end value (and stepsize in the case of `StepRange`). But functions are overloaded such that it acts as arrays."
   ]
  },
  {
   "cell_type": "code",
   "execution_count": 73,
   "metadata": {},
   "outputs": [
    {
     "name": "stdout",
     "output_type": "stream",
     "text": [
      "1\n",
      "2\n",
      "3\n",
      "4\n",
      "5\n",
      "6\n",
      "7\n",
      "8\n",
      "9\n",
      "10\n",
      "11\n",
      "12\n",
      "13\n",
      "14\n",
      "15\n",
      "16\n",
      "17\n",
      "18\n",
      "19\n",
      "20\n"
     ]
    },
    {
     "data": {
      "text/plain": [
       "7"
      ]
     },
     "execution_count": 73,
     "metadata": {},
     "output_type": "execute_result"
    }
   ],
   "source": [
    "for i in ur    # give all the value from 1 to 20\n",
    "  println(i)\n",
    "end\n",
    "\n",
    "str[3]         # is 7, as step is 3\n",
    "\n",
    "length(str)      # is 7"
   ]
  },
  {
   "cell_type": "markdown",
   "metadata": {},
   "source": [
    "All values can be obtained using `collect`:"
   ]
  },
  {
   "cell_type": "code",
   "execution_count": 74,
   "metadata": {},
   "outputs": [
    {
     "data": {
      "text/plain": [
       "7-element Array{Int64,1}:\n",
       "  1\n",
       "  4\n",
       "  7\n",
       " 10\n",
       " 13\n",
       " 16\n",
       " 19"
      ]
     },
     "execution_count": 74,
     "metadata": {},
     "output_type": "execute_result"
    }
   ],
   "source": [
    "collect(str)           # "
   ]
  },
  {
   "cell_type": "code",
   "execution_count": 75,
   "metadata": {},
   "outputs": [
    {
     "name": "stdout",
     "output_type": "stream",
     "text": [
      "search: \u001b[0m\u001b[1mc\u001b[22m\u001b[0m\u001b[1mo\u001b[22m\u001b[0m\u001b[1ml\u001b[22m\u001b[0m\u001b[1ml\u001b[22m\u001b[0m\u001b[1me\u001b[22m\u001b[0m\u001b[1mc\u001b[22m\u001b[0m\u001b[1mt\u001b[22m\n",
      "\n"
     ]
    },
    {
     "data": {
      "text/latex": [
       "\\begin{verbatim}\n",
       "collect(element_type, collection)\n",
       "\\end{verbatim}\n",
       "Return an \\texttt{Array} with the given element type of all items in a collection or iterable. The result has the same shape and number of dimensions as \\texttt{collection}.\n",
       "\n",
       "\\section{Examples}\n",
       "\\begin{verbatim}\n",
       "julia> collect(Float64, 1:2:5)\n",
       "3-element Array{Float64,1}:\n",
       " 1.0\n",
       " 3.0\n",
       " 5.0\n",
       "\\end{verbatim}\n",
       "\\rule{\\textwidth}{1pt}\n",
       "\\begin{verbatim}\n",
       "collect(collection)\n",
       "\\end{verbatim}\n",
       "Return an \\texttt{Array} of all items in a collection or iterator. For dictionaries, returns \\texttt{Pair\\{KeyType, ValType\\}}. If the argument is array-like or is an iterator with the \\href{@ref IteratorSize}{\\texttt{HasShape}} trait, the result will have the same shape and number of dimensions as the argument.\n",
       "\n",
       "\\section{Examples}\n",
       "\\begin{verbatim}\n",
       "julia> collect(1:2:13)\n",
       "7-element Array{Int64,1}:\n",
       "  1\n",
       "  3\n",
       "  5\n",
       "  7\n",
       "  9\n",
       " 11\n",
       " 13\n",
       "\\end{verbatim}\n"
      ],
      "text/markdown": [
       "```\n",
       "collect(element_type, collection)\n",
       "```\n",
       "\n",
       "Return an `Array` with the given element type of all items in a collection or iterable. The result has the same shape and number of dimensions as `collection`.\n",
       "\n",
       "# Examples\n",
       "\n",
       "```jldoctest\n",
       "julia> collect(Float64, 1:2:5)\n",
       "3-element Array{Float64,1}:\n",
       " 1.0\n",
       " 3.0\n",
       " 5.0\n",
       "```\n",
       "\n",
       "---\n",
       "\n",
       "```\n",
       "collect(collection)\n",
       "```\n",
       "\n",
       "Return an `Array` of all items in a collection or iterator. For dictionaries, returns `Pair{KeyType, ValType}`. If the argument is array-like or is an iterator with the [`HasShape`](@ref IteratorSize) trait, the result will have the same shape and number of dimensions as the argument.\n",
       "\n",
       "# Examples\n",
       "\n",
       "```jldoctest\n",
       "julia> collect(1:2:13)\n",
       "7-element Array{Int64,1}:\n",
       "  1\n",
       "  3\n",
       "  5\n",
       "  7\n",
       "  9\n",
       " 11\n",
       " 13\n",
       "```\n"
      ],
      "text/plain": [
       "\u001b[36m  collect(element_type, collection)\u001b[39m\n",
       "\n",
       "  Return an \u001b[36mArray\u001b[39m with the given element type of all items in a collection or\n",
       "  iterable. The result has the same shape and number of dimensions as\n",
       "  \u001b[36mcollection\u001b[39m.\n",
       "\n",
       "\u001b[1m  Examples\u001b[22m\n",
       "\u001b[1m  ≡≡≡≡≡≡≡≡≡≡\u001b[22m\n",
       "\n",
       "\u001b[36m  julia> collect(Float64, 1:2:5)\u001b[39m\n",
       "\u001b[36m  3-element Array{Float64,1}:\u001b[39m\n",
       "\u001b[36m   1.0\u001b[39m\n",
       "\u001b[36m   3.0\u001b[39m\n",
       "\u001b[36m   5.0\u001b[39m\n",
       "\n",
       "  ────────────────────────────────────────────────────────────────────────────\n",
       "\n",
       "\u001b[36m  collect(collection)\u001b[39m\n",
       "\n",
       "  Return an \u001b[36mArray\u001b[39m of all items in a collection or iterator. For dictionaries,\n",
       "  returns \u001b[36mPair{KeyType, ValType}\u001b[39m. If the argument is array-like or is an\n",
       "  iterator with the \u001b[36mHasShape\u001b[39m trait, the result will have the same shape and\n",
       "  number of dimensions as the argument.\n",
       "\n",
       "\u001b[1m  Examples\u001b[22m\n",
       "\u001b[1m  ≡≡≡≡≡≡≡≡≡≡\u001b[22m\n",
       "\n",
       "\u001b[36m  julia> collect(1:2:13)\u001b[39m\n",
       "\u001b[36m  7-element Array{Int64,1}:\u001b[39m\n",
       "\u001b[36m    1\u001b[39m\n",
       "\u001b[36m    3\u001b[39m\n",
       "\u001b[36m    5\u001b[39m\n",
       "\u001b[36m    7\u001b[39m\n",
       "\u001b[36m    9\u001b[39m\n",
       "\u001b[36m   11\u001b[39m\n",
       "\u001b[36m   13\u001b[39m"
      ]
     },
     "execution_count": 75,
     "metadata": {},
     "output_type": "execute_result"
    }
   ],
   "source": [
    "?collect   # give all items in a collectioons or iterators\n"
   ]
  },
  {
   "cell_type": "markdown",
   "metadata": {},
   "source": [
    "Such implicit objects can be processed much smarter than naive structures. Compare!"
   ]
  },
  {
   "cell_type": "code",
   "execution_count": 76,
   "metadata": {},
   "outputs": [
    {
     "name": "stdout",
     "output_type": "stream",
     "text": [
      "  0.000000 seconds\n"
     ]
    },
    {
     "data": {
      "text/plain": [
       "5000000050000000"
      ]
     },
     "execution_count": 76,
     "metadata": {},
     "output_type": "execute_result"
    }
   ],
   "source": [
    "@time sum((i for i in 1:100_000_000))"
   ]
  },
  {
   "cell_type": "code",
   "execution_count": 77,
   "metadata": {},
   "outputs": [
    {
     "name": "stdout",
     "output_type": "stream",
     "text": [
      "  0.000000 seconds\n"
     ]
    },
    {
     "data": {
      "text/plain": [
       "5000000050000000"
      ]
     },
     "execution_count": 77,
     "metadata": {},
     "output_type": "execute_result"
    }
   ],
   "source": [
    "@time sum(1:100_000_000)"
   ]
  },
  {
   "cell_type": "markdown",
   "metadata": {},
   "source": [
    "`StepRange` and `UnitRange` also work with floats."
   ]
  },
  {
   "cell_type": "code",
   "execution_count": 78,
   "metadata": {},
   "outputs": [
    {
     "data": {
      "text/plain": [
       "0.0:0.1:10.0"
      ]
     },
     "execution_count": 78,
     "metadata": {},
     "output_type": "execute_result"
    }
   ],
   "source": [
    "0:0.1:10"
   ]
  },
  {
   "cell_type": "markdown",
   "metadata": {},
   "source": [
    "# Other collections\n",
    "\n",
    "Some of the other collections include tuples, dictionaries, and others."
   ]
  },
  {
   "cell_type": "code",
   "execution_count": 79,
   "metadata": {},
   "outputs": [
    {
     "data": {
      "text/plain": [
       "(\"tuple\", \"ware\")"
      ]
     },
     "execution_count": 79,
     "metadata": {},
     "output_type": "execute_result"
    }
   ],
   "source": [
    "tupleware = (\"tuple\", \"ware\") # tuples"
   ]
  },
  {
   "cell_type": "code",
   "execution_count": 80,
   "metadata": {},
   "outputs": [
    {
     "data": {
      "text/plain": [
       "Dict{String,Int64} with 2 entries:\n",
       "  \"humans\" => 2\n",
       "  \"vogons\" => 1"
      ]
     },
     "execution_count": 80,
     "metadata": {},
     "output_type": "execute_result"
    }
   ],
   "source": [
    "scores = Dict(\"humans\" => 2, \"vogons\" => 1) # dictionaries"
   ]
  },
  {
   "cell_type": "code",
   "execution_count": 81,
   "metadata": {},
   "outputs": [
    {
     "data": {
      "text/plain": [
       "2"
      ]
     },
     "execution_count": 81,
     "metadata": {},
     "output_type": "execute_result"
    }
   ],
   "source": [
    "scores[\"humans\"]"
   ]
  },
  {
   "cell_type": "markdown",
   "metadata": {},
   "source": [
    "# Exercises\n",
    "\n",
    "## Vandermonde matrix\n",
    "\n",
    "Write a function to generate an $n \\times m$ [Vandermonde matrix](https://en.wikipedia.org/wiki/Vandermonde_matrix) for a given vector $\\alpha=[\\alpha_1,\\alpha_2,\\ldots,\\alpha_m]^T$. This matrix is defined as follows\n",
    "\n",
    "$$\n",
    "{\\displaystyle V={\\begin{bmatrix}1&\\alpha _{1}&\\alpha _{1}^{2}&\\dots &\\alpha _{1}^{n-1}\\\\1&\\alpha _{2}&\\alpha _{2}^{2}&\\dots &\\alpha _{2}^{n-1}\\\\1&\\alpha _{3}&\\alpha _{3}^{2}&\\dots &\\alpha _{3}^{n-1}\\\\\\vdots &\\vdots &\\vdots &\\ddots &\\vdots \\\\1&\\alpha _{m}&\\alpha _{m}^{2}&\\dots &\\alpha _{m}^{n-1}\\end{bmatrix}},}\n",
    "$$\n",
    "\n",
    "or\n",
    "\n",
    "$$\n",
    "V = [\\alpha_i^{j-1}] .\n",
    "$$\n",
    "\n",
    "Write a one-liner function `vandermonde` to generate this matrix. This function takes as a vector `α` and `m`, the number of powers to compute."
   ]
  },
  {
   "cell_type": "code",
   "execution_count": null,
   "metadata": {},
   "outputs": [],
   "source": [
    "vandermonde(α, m) = ..."
   ]
  },
  {
   "cell_type": "markdown",
   "metadata": {},
   "source": [
    "## Determinant\n",
    "\n",
    "Write a function `mydet` to compute the determinant of a square matrix. Remember, for a $2 \\times 2$ matrix, the determinant is computed as\n",
    "\n",
    "$$\n",
    "{\\displaystyle|A|={\\begin{vmatrix}a&b\\\\c&d\\end{vmatrix}}=ad-bc.}\n",
    "$$\n",
    "\n",
    "\n",
    "For larger matrices, there is a recursive way of computing the determinant based on the minors, i.e. the determinants of the submatrices. See [http://mathworld.wolfram.com/Determinant.html](http://mathworld.wolfram.com/Determinant.html).\n",
    "\n",
    "Write a function to compute the determinant of a general square matrix."
   ]
  },
  {
   "cell_type": "code",
   "execution_count": null,
   "metadata": {},
   "outputs": [],
   "source": [
    "function mydet(A)\n",
    "  size(A,1) != size(A,2) && throw(DimensionMismatch)\n",
    "  ...\n",
    "end"
   ]
  },
  {
   "cell_type": "markdown",
   "metadata": {},
   "source": [
    "## Ridge regression\n",
    "\n",
    "Ridge regression can be seen as an extension of ordinary least squares regression,\n",
    "\n",
    "$$\\beta X =b\\, ,$$\n",
    "\n",
    "where a matrix $\\beta$ is sought which minimizes the sum of squared residuals between the model and the observations,\n",
    "\n",
    "$$SSE(\\beta) = (y - \\beta X)^T (y - \\beta X)$$\n",
    "\n",
    "In some cases it is adviceable to add a regularisation term to this objective function,\n",
    "\n",
    "$$SSE(\\beta) = (y - \\beta X)^T (y - \\beta X) + \\lambda \\left\\lVert X \\right\\rVert^2_2 \\, , $$\n",
    "\n",
    "this is known as ridge regression. The matrix $\\beta$ that minimises the objective function can be computed analytically.\n",
    "\n",
    "$$\\beta = \\left(X^T X + \\lambda I \\right)^{-1}X^T y$$\n",
    "\n",
    "Let us look at an example. We found some data on the evolution of human and dolphin intelligence."
   ]
  },
  {
   "cell_type": "code",
   "execution_count": null,
   "metadata": {},
   "outputs": [],
   "source": [
    "using Plots\n",
    "\n",
    "blue = \"#8DC0FF\"\n",
    "red = \"#FFAEA6\"\n",
    "\n",
    "t = collect(0:10:3040)\n",
    "ϵ₁ = randn(length(t))*15     # noise on Dolphin IQ\n",
    "ϵ₂ = randn(length(t))*20     # noise on Human IQ\n",
    "\n",
    "Y₁ = dolphinsIQ = t/12 + ϵ₁\n",
    "Y₂ = humanIQ = t/20 + ϵ₂\n",
    "\n",
    "scatter(t,Y₁; label=\"Dolphins\", color=blue,\n",
    "  ylabel=\"IQ (-)\", xlabel =\"Time (year BC)\", legend=:topleft)\n",
    "scatter!(t,Y₂; label=\"Humans\", color=red)"
   ]
  },
  {
   "cell_type": "markdown",
   "metadata": {},
   "source": [
    "> \"For instance, on the planet Earth, man had always assumed that he was more intelligent than dolphins because he had achieved so much - the wheel, New York, wars and so on - whilst all the dolphins had ever  done was muck about in the water having a good time. But conversely, the dolphins had always believed that they were far more intelligent than man - for precisely the same reasons.\"\n",
    ">\n",
    "> *Hitchhikers guide to the galaxy*\n",
    "\n",
    "**Assignment:** Plot the trend of human vs. dolphin intelligence by implementing the analytical solution for ridge regression. For this, you need the uniform scaling operator `I`, found in the `LinearAlgebra` package. Use $\\lambda=0.01$."
   ]
  },
  {
   "cell_type": "code",
   "execution_count": null,
   "metadata": {},
   "outputs": [],
   "source": [
    "using LinearAlgebra\n",
    "\n",
    "β₁ = #...\n",
    "β₂ = #...\n",
    "\n",
    "Y₁ = β₁*t\n",
    "Y₂ = β₂*t"
   ]
  },
  {
   "cell_type": "markdown",
   "metadata": {},
   "source": [
    "# References\n",
    "- [Julia Documentation](https://juliadocs.github.io/Julia-Cheat-Sheet/)\n",
    "- [Introduction to Julia UCI data science initiative](http://ucidatascienceinitiative.github.io/IntroToJulia/)\n",
    "- [Month of Julia](https://github.com/DataWookie/MonthOfJulia)\n",
    "- [Why I love Julia, Next Journal](https://nextjournal.com/kolia/why-i-love-julia)"
   ]
  }
 ],
 "metadata": {
  "kernelspec": {
   "display_name": "Julia 1.5.1",
   "language": "julia",
   "name": "julia-1.5"
  },
  "language_info": {
   "file_extension": ".jl",
   "mimetype": "application/julia",
   "name": "julia",
   "version": "1.5.1"
  }
 },
 "nbformat": 4,
 "nbformat_minor": 4
}
