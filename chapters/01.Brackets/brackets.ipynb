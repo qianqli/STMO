{
 "cells": [
  {
   "cell_type": "code",
   "execution_count": null,
   "metadata": {},
   "outputs": [],
   "source": [
    "using Plots\n",
    "using STMO: myred, myblue, mygreen, myyellow, myorange,myblack"
   ]
  },
  {
   "cell_type": "markdown",
   "metadata": {},
   "source": [
    "As a first introduction to mathematical optimization, we will study two *bracketing methods*. Bracketing methods can be used to minimize scalar function with a single input variable. These algorithms identify an interval $[a, b]$ containing the desired minimum. We will assume that the functions are *unimodal* they contain a single minimum.\n",
    "\n",
    "# Finding an initial bracket\n",
    "\n",
    "The following function will generate from an initial $x$ an interval containing a local minimum. It works by moving one of the limits of the interval until the function value at that limit starts to decrease."
   ]
  },
  {
   "cell_type": "code",
   "execution_count": null,
   "metadata": {},
   "outputs": [],
   "source": [
    "function bracket_minimum(f, x=0.0; s=1e-2, k=2.0)\n",
    "  a, ya = x, f(x)  # lower limit of the interval\n",
    "  b, yb = x, f(x + s)  #  upper limit of the interval\n",
    "  if yb > ya  # default assumes f is decreasing in a, flip if not the case\n",
    "    a, b = b, a\n",
    "    ya, yb = yb, ya\n",
    "    s = -s  # go to the left instead of right\n",
    "  end\n",
    "  while true\n",
    "    c, yc = b + s, f(b + s)\n",
    "    if yc > yb\n",
    "      return a < c ? (a, c) : (c, a)\n",
    "    end\n",
    "    a, ya = b, yb\n",
    "    b, yb = c, yc\n",
    "    s *= k\n",
    "  end\n",
    "end"
   ]
  },
  {
   "cell_type": "code",
   "execution_count": null,
   "metadata": {},
   "outputs": [],
   "source": [
    "f(x) = 0.003x^4 + 8x^3 - 3x - 8\n",
    "\n",
    "(a, b) = bracket_minimum(f, k=1.2)"
   ]
  },
  {
   "cell_type": "code",
   "execution_count": null,
   "metadata": {},
   "outputs": [],
   "source": [
    "plot(f, -0.5:0.01:0.5, xlabel=\"x\", label=\"f(x)\", color=myblue, lw=2)\n",
    "vline!([a, b], label=\"\", color=myorange, lw=2)\n",
    "vline!([0], label=\"\", color=mygreen, lw=2)\n",
    "xticks!([a, b, 0], [\"a\", \"b\", \"x\"])\n",
    "yticks!(:none)"
   ]
  },
  {
   "cell_type": "markdown",
   "metadata": {},
   "source": [
    "# Bisection method\n",
    "\n",
    "The bisection method is technically not a minimization algorithm, but a *root finding method*, i.e., it can be used to find an $x$ for a given function $g: \\mathbb{R}\\rightarrow \\mathbb{R}$ such that\n",
    "\n",
    "$$\n",
    "g(x) = 0\\,.\n",
    "$$\n",
    "\n",
    "We can use the bisection method to find a minimum of a function $f(x)$ by finding points where the first derivative $f'(x)$ is equal to 0.\n",
    "\n",
    "> **Question**: in addition to the first derivative being equal to zero, which other criteria should hold for $x^\\star$ to be a minimizer?\n",
    "\n",
    "The bisection method departs from an initial bracket $[a, b]$, where $g(a)$ and $g(b)$ have opposing signs. If $g(x)$ is a continious function, the *intermediate value theorem* states that there is at least one $x\\in[a,b]$ such that $g(x)$.\n",
    "\n",
    "In every step of the bisection method, the interval it cut into half. The midpoint $x = (a+b)/2$ is computed, and a new bracket is formed from the midpoint and the side that contains zero."
   ]
  },
  {
   "cell_type": "code",
   "execution_count": null,
   "metadata": {},
   "outputs": [],
   "source": [
    "g(x) = tanh(sin(x))\n",
    "\n",
    "a, b = -0.75, 1.2\n",
    "\n",
    "plot(g, -pi/2:0.1:pi/2, label=\"g(x)\", lw=2, color=myblue, xlabel=\"x\", legend=:left)\n",
    "scatter!([a], [g(a)], color=myorange, label=:a)\n",
    "scatter!([b], [g(b)], color=mygreen, label=:b)\n",
    "vline!([(b+a)/2], color=myred, label=\"x = (b-a)/2\", lw=2)\n",
    "hline!([0], label=\"\", color=myblack, ls=:dash)\n",
    "title!(\"Illustration of the bisection method\")"
   ]
  },
  {
   "cell_type": "markdown",
   "metadata": {},
   "source": [
    "The bisection procedure is repeated until the length of the interval is smaller than a small $\\epsilon > 0$. This $\\epsilon$ is called a *convergence parameter*, because it determines when the algorithm will halt. The pseudocode of the bisection method is given below.\n",
    "\n",
    "> **given** $g(x)$, the derivative of a function, initial interval $[a, b]$, tolerance $\\epsilon$.\n",
    ">\n",
    "> **while** $b - a > \\epsilon$\n",
    ">> 1. *Determine midpoint*. $x:=(a+b)/2$\n",
    ">> 2. *Update*.\n",
    ">>> **if $g(x)=0$**: $a:=x$, $b:=x$\n",
    ">>>\n",
    ">>> **else if $\\text{sign}(g(x)) = \\text{sign}(g(a))$**: $a:=x$\n",
    ">>>\n",
    ">>> **else**: $b:=x$\n",
    ">\n",
    "> **Output**: $[a, b]$\n",
    "\n",
    "Since every step shrinks the interval with a factor two, it is easy to show that this procedure stops within\n",
    "\n",
    "$$\n",
    "\\log_2\\left(\\frac{b-a}{\\epsilon}\\right)\n",
    "$$\n",
    "\n",
    "iterations.\n",
    "\n",
    "**Assignment 1** Complete the code for the bisection method. Use it to find the minimum of\n",
    "\n",
    "$$\n",
    "f(x) = \\log(e^{8x-3}+2e^{0.2x^2-x+1})\n",
    "$$\n",
    "\n",
    "Check your results graphically."
   ]
  },
  {
   "cell_type": "code",
   "execution_count": null,
   "metadata": {},
   "outputs": [],
   "source": [
    "function bisection(g, a, b; ϵ=1e-3)\n",
    "  @assert a < b \"a should be smaller than b\"\n",
    "\n",
    "  # a is minizer?\n",
    "  g(a) == 0 && return a, a\n",
    "  # b is minizer?\n",
    "  g(b) == 0 && return b, b\n",
    "\n",
    "  while ...\n",
    "    ...\n",
    "  end\n",
    "  return a, b\n",
    "end"
   ]
  },
  {
   "cell_type": "code",
   "execution_count": null,
   "metadata": {},
   "outputs": [],
   "source": [
    "f(x) = log(exp(8x-3)+2exp(0.2x^2-x+1))"
   ]
  },
  {
   "cell_type": "markdown",
   "metadata": {},
   "source": [
    "> To type `f′` just type `f\\prime<tab>`. Whenever you are unsure how to type a unicode character you can call it using the help, e.g. `?ϵ`."
   ]
  },
  {
   "cell_type": "code",
   "execution_count": null,
   "metadata": {},
   "outputs": [],
   "source": [
    "f′(x) = ..."
   ]
  },
  {
   "cell_type": "code",
   "execution_count": null,
   "metadata": {},
   "outputs": [],
   "source": []
  },
  {
   "cell_type": "markdown",
   "metadata": {},
   "source": [
    "# Quadratic fit search\n",
    "\n",
    "As we will see in the next lecture, finding the minimum of quadratic functions of the form\n",
    "\n",
    "$$\n",
    "q(x) = p_1 + p_2 x + p_3 x^2\n",
    "$$\n",
    "\n",
    "is trivial. The *quadratic fit search method* will approximate a function by a quadratic function and computes the minimizer of that function.\n",
    "\n",
    "Given three bracketing points $a<b<c$ and their respective evaluations $y_a=f(a), y_b=f(b)$ and $y_c=f(c)$, we can fit a quadratic curve by solving the following system of equations for the coefficients:\n",
    "\n",
    "$$\n",
    "\\begin{bmatrix}y_a\\\\ y_b \\\\ y_c\\end{bmatrix} = \\begin{bmatrix}1 & a & a^2 \\\\ 1 & b & b^2 \\\\ 1 & c & c^2 \\end{bmatrix} \\begin{bmatrix}p_1\\\\ p_2 \\\\ p_3\\end{bmatrix}\\,.\n",
    "$$\n",
    "\n",
    "For example, in Julia, we have:"
   ]
  },
  {
   "cell_type": "code",
   "execution_count": null,
   "metadata": {},
   "outputs": [],
   "source": [
    "a, b, c = -2, -1, 3\n",
    "ya, yb, yc = f.([a, b, c])\n",
    "\n",
    "p1, p2, p3 = [1 a a^2; 1 b b^2; 1 c c^2] \\ [ya, yb, yc]"
   ]
  },
  {
   "cell_type": "markdown",
   "metadata": {},
   "source": [
    "We can even dispense solving the system and use a closed-form fit based on three points:\n",
    "\n",
    "$$\n",
    "q(x) = y_a\\frac{(x-b)(x-c)}{(a-b)(a-c)} +  y_b\\frac{(x-a)(x-c)}{(b-a)(b-c)}+ y_c\\frac{(x-a)(x-b)}{(c-a)(c-b)}\\,.\n",
    "$$\n",
    "\n",
    "The unique minimum of this quadratic curve is computed by:\n",
    "\n",
    "$$\n",
    "x^\\star = \\frac{1}{2} \\frac{y_a(b^2-c^2) + y_b(c^2-a^2)+ y_c(a^2-b^2)}{y_a(b-c) + y_b(c-a)+ y_c(a-b)}\\,.\n",
    "$$\n",
    "\n",
    "We have implemented these two formulas in `quadratic_fit` and `quadratic_fit_min`. See below for an illustration."
   ]
  },
  {
   "cell_type": "code",
   "execution_count": null,
   "metadata": {},
   "outputs": [],
   "source": [
    "function quadratic_fit(a, b, c, ya, yb, yc)\n",
    "  @assert a != b != c\n",
    "  return x -> ya * (x-b) * (x-c) / ((a-b) * (a-c)) +\n",
    "              yb * (x-a) * (x-c) / ((b-a) * (b-c)) +\n",
    "              yc * (x-a) * (x-b) / ((c-a) * (c-b))\n",
    "end\n",
    "\n",
    "function quadratic_fit_min(a, b, c, ya, yb, yc)\n",
    "  return 0.5 * (ya * (b^2 - c^2) + yb * (c^2 - a^2) + yc * (a^2 - b^2)) /\n",
    "        (ya * (b-c) + yb * (c-a) + yc * (a-b))\n",
    "end"
   ]
  },
  {
   "cell_type": "code",
   "execution_count": null,
   "metadata": {},
   "outputs": [],
   "source": [
    "x = quadratic_fit_min(a, b, c, ya, yb, yc)"
   ]
  },
  {
   "cell_type": "code",
   "execution_count": null,
   "metadata": {},
   "outputs": [],
   "source": [
    "plot(f, -3:0.1:5, label=\"f(x)\", lw=2, xlabel=\"x\", color=myblue)\n",
    "scatter!([a, b, c], [ya, yb, yc], label=\"a, b, c\", color=myorange)\n",
    "plot!(quadratic_fit(a, b, c, ya, yb, yc), -3:0.1:5, label=\" q(x) \", lw=2, color=mygreen)\n",
    "vline!([x], label=\"x\", lw=2, color=myred)"
   ]
  },
  {
   "cell_type": "markdown",
   "metadata": {},
   "source": [
    "Given the minimizer $x^\\star$ of the quadratic approximation, we can update the interval closer to this value. The quadratic fit search repeats this approach $n$ times. The pseudocode is given below.\n",
    "\n",
    "> **given** $f(x)$, the function to be minimized, three increasing values $a, b, c$ with $f(a) > f(b)$ and $f(c) > f(b)$, the number of steps $n$.\n",
    ">\n",
    "> **repeat** $n$ times\n",
    ">> 1. *Fit quadratic*\n",
    ">> 2. *Determine minimizer of $q(x)$*\n",
    ">> 3. *Update bracket*:\n",
    ">>> **if $x\\in [a,b]$**: $a, b, c := a, x, b$\n",
    ">>> **else**: $a, b, c := b, x, c$\n",
    ">\n",
    "> **Output**: $a, b, c$\n",
    "\n",
    "**Assignment 2** Complete the code for the quadratic fit search method. Use it again to find the minimizer of the provided $f(x)$."
   ]
  },
  {
   "cell_type": "code",
   "execution_count": null,
   "metadata": {},
   "outputs": [],
   "source": [
    "function quadratic_fit_search(f, a, b, c, n)\n",
    "  @assert a < b < c \"a, b, c not consecutive \"\n",
    "  @assert f(a) > f(b) && f(c) > f(b) \"f(b) should be less than f(a) and f(c)\"\n",
    "\n",
    "  for i in 1:n\n",
    "    ...\n",
    "    ...\n",
    "  end\n",
    "  return a, b, c\n",
    "end"
   ]
  },
  {
   "cell_type": "code",
   "execution_count": null,
   "metadata": {},
   "outputs": [],
   "source": []
  },
  {
   "cell_type": "code",
   "execution_count": null,
   "metadata": {},
   "outputs": [],
   "source": []
  },
  {
   "cell_type": "markdown",
   "metadata": {},
   "source": [
    "The coming chapters will discuss the minimization of quadratic functions in much greater detail.\n",
    "\n",
    "# Exercises\n",
    "\n",
    "1. Find the maximum of $\\sqrt[\\leftroot{-2}\\uproot{2}x]{x}$.\n",
    "2. Given a chemical system for which a chemical with concentration is degraded by enzymic conversion and chemical decay. The rate of removal is given by\n",
    "$$\n",
    "r(x) = 0.02 + 1.2\\frac{x}{10+x}\\,.\n",
    "$$\n",
    "The system receives a constant input with a concentration of 0.3. What is the steady-state concentration?"
   ]
  },
  {
   "cell_type": "code",
   "execution_count": null,
   "metadata": {},
   "outputs": [],
   "source": []
  },
  {
   "cell_type": "code",
   "execution_count": null,
   "metadata": {},
   "outputs": [],
   "source": []
  },
  {
   "cell_type": "code",
   "execution_count": null,
   "metadata": {},
   "outputs": [],
   "source": []
  },
  {
   "cell_type": "markdown",
   "metadata": {},
   "source": [
    "# References\n",
    "\n",
    "- Kochenderfer, M. J. and Wheeler, T., '*Algorithms for Optimization*'. MIT Press (2019)"
   ]
  }
 ],
 "metadata": {
  "kernelspec": {
   "display_name": "Julia 1.5.1",
   "language": "julia",
   "name": "julia-1.5"
  },
  "language_info": {
   "file_extension": ".jl",
   "mimetype": "application/julia",
   "name": "julia",
   "version": "1.5.2"
  }
 },
 "nbformat": 4,
 "nbformat_minor": 4
}
